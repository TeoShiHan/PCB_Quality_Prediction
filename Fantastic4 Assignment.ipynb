{
 "cells": [
  {
   "cell_type": "markdown",
   "id": "c857c383",
   "metadata": {},
   "source": [
    "## The Start"
   ]
  },
  {
   "cell_type": "code",
   "execution_count": 2,
   "id": "5405ea62",
   "metadata": {},
   "outputs": [],
   "source": [
    "%matplotlib inline\n",
    "import matplotlib.pyplot as plt\n",
    "import seaborn as sns\n",
    "import pandas as pd\n",
    "import numpy as np\n",
    "from sklearn.model_selection import GridSearchCV\n"
   ]
  },
  {
   "cell_type": "markdown",
   "id": "2e4c3c49",
   "metadata": {},
   "source": [
    "## Importing Datasets"
   ]
  },
  {
   "cell_type": "code",
   "execution_count": 3,
   "id": "886ba6d5",
   "metadata": {},
   "outputs": [],
   "source": [
    "#Importing MC1(Machine 2 Oct 2020) and MC2(Machine 2 Aug 2020) datasets\n",
    "\n",
    "MC1csv = pd.read_csv(\"MC2Oct2020_csv.csv\")\n",
    "\n",
    "MC2csv = pd.read_csv(\"MC2Aug2020_csv.csv\")\n"
   ]
  },
  {
   "cell_type": "markdown",
   "id": "c2d9a93e",
   "metadata": {},
   "source": [
    "## Understanding Dataset MC1"
   ]
  },
  {
   "cell_type": "code",
   "execution_count": 3,
   "id": "dc5fbcd5",
   "metadata": {},
   "outputs": [
    {
     "data": {
      "text/html": [
       "<div>\n",
       "<style scoped>\n",
       "    .dataframe tbody tr th:only-of-type {\n",
       "        vertical-align: middle;\n",
       "    }\n",
       "\n",
       "    .dataframe tbody tr th {\n",
       "        vertical-align: top;\n",
       "    }\n",
       "\n",
       "    .dataframe thead th {\n",
       "        text-align: right;\n",
       "    }\n",
       "</style>\n",
       "<table border=\"1\" class=\"dataframe\">\n",
       "  <thead>\n",
       "    <tr style=\"text-align: right;\">\n",
       "      <th></th>\n",
       "      <th>Part</th>\n",
       "      <th>IC 2D</th>\n",
       "      <th>Lot</th>\n",
       "      <th>Date</th>\n",
       "      <th>Time</th>\n",
       "      <th>Machine</th>\n",
       "      <th>Server Result</th>\n",
       "      <th>Machine Result</th>\n",
       "      <th>(um)Point1</th>\n",
       "      <th>(um)Point2</th>\n",
       "      <th>(um)Point3</th>\n",
       "      <th>(um)Point4</th>\n",
       "      <th>(um)Point5</th>\n",
       "    </tr>\n",
       "  </thead>\n",
       "  <tbody>\n",
       "    <tr>\n",
       "      <th>0</th>\n",
       "      <td>791-00529</td>\n",
       "      <td>24193</td>\n",
       "      <td>P 8 7</td>\n",
       "      <td>1/10/2020</td>\n",
       "      <td>0:47:15</td>\n",
       "      <td>PA05-1901</td>\n",
       "      <td>OK</td>\n",
       "      <td>OK</td>\n",
       "      <td>-1978.5</td>\n",
       "      <td>-1959.5</td>\n",
       "      <td>-1697.5</td>\n",
       "      <td>-1632.0</td>\n",
       "      <td>NaN</td>\n",
       "    </tr>\n",
       "    <tr>\n",
       "      <th>1</th>\n",
       "      <td>791-00529</td>\n",
       "      <td>24194</td>\n",
       "      <td>P 8 7</td>\n",
       "      <td>1/10/2020</td>\n",
       "      <td>0:47:15</td>\n",
       "      <td>PA05-1901</td>\n",
       "      <td>OK</td>\n",
       "      <td>OK</td>\n",
       "      <td>-1870.0</td>\n",
       "      <td>-1940.6</td>\n",
       "      <td>-1720.1</td>\n",
       "      <td>-1622.5</td>\n",
       "      <td>NaN</td>\n",
       "    </tr>\n",
       "    <tr>\n",
       "      <th>2</th>\n",
       "      <td>791-00529</td>\n",
       "      <td>24195</td>\n",
       "      <td>P 8 7</td>\n",
       "      <td>1/10/2020</td>\n",
       "      <td>0:47:15</td>\n",
       "      <td>PA05-1901</td>\n",
       "      <td>OK</td>\n",
       "      <td>OK</td>\n",
       "      <td>-1858.8</td>\n",
       "      <td>-1823.7</td>\n",
       "      <td>-1656.3</td>\n",
       "      <td>-1635.4</td>\n",
       "      <td>NaN</td>\n",
       "    </tr>\n",
       "    <tr>\n",
       "      <th>3</th>\n",
       "      <td>791-00529</td>\n",
       "      <td>24196</td>\n",
       "      <td>P 8 7</td>\n",
       "      <td>1/10/2020</td>\n",
       "      <td>0:47:15</td>\n",
       "      <td>PA05-1901</td>\n",
       "      <td>OK</td>\n",
       "      <td>OK</td>\n",
       "      <td>-2199.4</td>\n",
       "      <td>-1955.0</td>\n",
       "      <td>-1658.9</td>\n",
       "      <td>-1694.4</td>\n",
       "      <td>NaN</td>\n",
       "    </tr>\n",
       "    <tr>\n",
       "      <th>4</th>\n",
       "      <td>791-00529</td>\n",
       "      <td>24197</td>\n",
       "      <td>P 8 7</td>\n",
       "      <td>1/10/2020</td>\n",
       "      <td>0:47:15</td>\n",
       "      <td>PA05-1901</td>\n",
       "      <td>OK</td>\n",
       "      <td>OK</td>\n",
       "      <td>-1875.9</td>\n",
       "      <td>-1765.4</td>\n",
       "      <td>-1654.6</td>\n",
       "      <td>-1665.2</td>\n",
       "      <td>NaN</td>\n",
       "    </tr>\n",
       "    <tr>\n",
       "      <th>5</th>\n",
       "      <td>791-00529</td>\n",
       "      <td>24198</td>\n",
       "      <td>P 8 7</td>\n",
       "      <td>1/10/2020</td>\n",
       "      <td>0:47:15</td>\n",
       "      <td>PA05-1901</td>\n",
       "      <td>OK</td>\n",
       "      <td>OK</td>\n",
       "      <td>-1900.0</td>\n",
       "      <td>-1778.2</td>\n",
       "      <td>-1657.6</td>\n",
       "      <td>-1646.0</td>\n",
       "      <td>NaN</td>\n",
       "    </tr>\n",
       "    <tr>\n",
       "      <th>6</th>\n",
       "      <td>791-00529</td>\n",
       "      <td>24199</td>\n",
       "      <td>P 8 7</td>\n",
       "      <td>1/10/2020</td>\n",
       "      <td>0:47:15</td>\n",
       "      <td>PA05-1901</td>\n",
       "      <td>OK</td>\n",
       "      <td>OK</td>\n",
       "      <td>-2096.2</td>\n",
       "      <td>-1900.6</td>\n",
       "      <td>-1694.3</td>\n",
       "      <td>-1679.6</td>\n",
       "      <td>NaN</td>\n",
       "    </tr>\n",
       "    <tr>\n",
       "      <th>7</th>\n",
       "      <td>791-00529</td>\n",
       "      <td>24200</td>\n",
       "      <td>P 8 7</td>\n",
       "      <td>1/10/2020</td>\n",
       "      <td>0:47:15</td>\n",
       "      <td>PA05-1901</td>\n",
       "      <td>OK</td>\n",
       "      <td>OK</td>\n",
       "      <td>-1844.3</td>\n",
       "      <td>-1730.2</td>\n",
       "      <td>-1714.6</td>\n",
       "      <td>-1685.3</td>\n",
       "      <td>NaN</td>\n",
       "    </tr>\n",
       "    <tr>\n",
       "      <th>8</th>\n",
       "      <td>791-00529</td>\n",
       "      <td>24201</td>\n",
       "      <td>P 8 7</td>\n",
       "      <td>1/10/2020</td>\n",
       "      <td>0:47:15</td>\n",
       "      <td>PA05-1901</td>\n",
       "      <td>OK</td>\n",
       "      <td>OK</td>\n",
       "      <td>-1764.6</td>\n",
       "      <td>-1692.9</td>\n",
       "      <td>-1755.7</td>\n",
       "      <td>-1777.8</td>\n",
       "      <td>NaN</td>\n",
       "    </tr>\n",
       "    <tr>\n",
       "      <th>9</th>\n",
       "      <td>791-00529</td>\n",
       "      <td>24202</td>\n",
       "      <td>P 8 7</td>\n",
       "      <td>1/10/2020</td>\n",
       "      <td>0:47:15</td>\n",
       "      <td>PA05-1901</td>\n",
       "      <td>OK</td>\n",
       "      <td>OK</td>\n",
       "      <td>-2073.1</td>\n",
       "      <td>-2207.3</td>\n",
       "      <td>-1674.6</td>\n",
       "      <td>-1666.3</td>\n",
       "      <td>NaN</td>\n",
       "    </tr>\n",
       "  </tbody>\n",
       "</table>\n",
       "</div>"
      ],
      "text/plain": [
       "        Part  IC 2D    Lot       Date     Time    Machine Server Result  \\\n",
       "0  791-00529  24193  P 8 7  1/10/2020  0:47:15  PA05-1901            OK   \n",
       "1  791-00529  24194  P 8 7  1/10/2020  0:47:15  PA05-1901            OK   \n",
       "2  791-00529  24195  P 8 7  1/10/2020  0:47:15  PA05-1901            OK   \n",
       "3  791-00529  24196  P 8 7  1/10/2020  0:47:15  PA05-1901            OK   \n",
       "4  791-00529  24197  P 8 7  1/10/2020  0:47:15  PA05-1901            OK   \n",
       "5  791-00529  24198  P 8 7  1/10/2020  0:47:15  PA05-1901            OK   \n",
       "6  791-00529  24199  P 8 7  1/10/2020  0:47:15  PA05-1901            OK   \n",
       "7  791-00529  24200  P 8 7  1/10/2020  0:47:15  PA05-1901            OK   \n",
       "8  791-00529  24201  P 8 7  1/10/2020  0:47:15  PA05-1901            OK   \n",
       "9  791-00529  24202  P 8 7  1/10/2020  0:47:15  PA05-1901            OK   \n",
       "\n",
       "  Machine Result  (um)Point1  (um)Point2  (um)Point3  (um)Point4  (um)Point5  \n",
       "0             OK     -1978.5     -1959.5     -1697.5     -1632.0         NaN  \n",
       "1             OK     -1870.0     -1940.6     -1720.1     -1622.5         NaN  \n",
       "2             OK     -1858.8     -1823.7     -1656.3     -1635.4         NaN  \n",
       "3             OK     -2199.4     -1955.0     -1658.9     -1694.4         NaN  \n",
       "4             OK     -1875.9     -1765.4     -1654.6     -1665.2         NaN  \n",
       "5             OK     -1900.0     -1778.2     -1657.6     -1646.0         NaN  \n",
       "6             OK     -2096.2     -1900.6     -1694.3     -1679.6         NaN  \n",
       "7             OK     -1844.3     -1730.2     -1714.6     -1685.3         NaN  \n",
       "8             OK     -1764.6     -1692.9     -1755.7     -1777.8         NaN  \n",
       "9             OK     -2073.1     -2207.3     -1674.6     -1666.3         NaN  "
      ]
     },
     "execution_count": 3,
     "metadata": {},
     "output_type": "execute_result"
    }
   ],
   "source": [
    "MC1csv.head(10)"
   ]
  },
  {
   "cell_type": "code",
   "execution_count": 4,
   "id": "45352a25",
   "metadata": {},
   "outputs": [
    {
     "data": {
      "text/plain": [
       "(312389, 13)"
      ]
     },
     "execution_count": 4,
     "metadata": {},
     "output_type": "execute_result"
    }
   ],
   "source": [
    "#shape of the dataset\n",
    "MC1csv.shape"
   ]
  },
  {
   "cell_type": "code",
   "execution_count": 12,
   "id": "b8c60bc0",
   "metadata": {},
   "outputs": [
    {
     "data": {
      "text/plain": [
       "Date        Machine Result\n",
       "1/10/2020   OK                16608\n",
       "            NG                    6\n",
       "10/10/2020  OK                11912\n",
       "            NG                   59\n",
       "12/10/2020  OK                 5285\n",
       "            NG                   18\n",
       "14/10/2020  OK                10359\n",
       "            NG                  421\n",
       "15/10/2020  OK                11346\n",
       "            NG                  442\n",
       "16/10/2020  OK                11477\n",
       "            NG                  303\n",
       "17/10/2020  OK                13612\n",
       "            NG                  486\n",
       "18/10/2020  OK                 2596\n",
       "            NG                   45\n",
       "19/10/2020  OK                 8016\n",
       "            NG                   12\n",
       "2/10/2020   OK                 8978\n",
       "            NG                    4\n",
       "20/10/2020  OK                 9558\n",
       "            NG                  547\n",
       "21/10/2020  OK                 9490\n",
       "            NG                 1164\n",
       "22/10/2020  OK                11012\n",
       "            NG                 1017\n",
       "23/10/2020  OK                11027\n",
       "            NG                   97\n",
       "24/10/2020  OK                13513\n",
       "            NG                  113\n",
       "25/10/2020  OK                 1336\n",
       "            NG                  229\n",
       "26/10/2020  OK                 9336\n",
       "            NG                  699\n",
       "27/10/2020  OK                13522\n",
       "            NG                  424\n",
       "28/10/2020  OK                13545\n",
       "            NG                   99\n",
       "29/10/2020  OK                15587\n",
       "            NG                  109\n",
       "3/10/2020   OK                12199\n",
       "            NG                  173\n",
       "30/10/2020  OK                14130\n",
       "            NG                  165\n",
       "31/10/2020  OK                10915\n",
       "            NG                  280\n",
       "4/10/2020   OK                 3891\n",
       "            NG                  443\n",
       "5/10/2020   OK                11892\n",
       "            NG                  223\n",
       "6/10/2020   OK                10595\n",
       "            NG                  548\n",
       "7/10/2020   OK                 8653\n",
       "            NG                  402\n",
       "8/10/2020   OK                10341\n",
       "            NG                  165\n",
       "9/10/2020   OK                12750\n",
       "            NG                  215\n",
       "Name: Machine Result, dtype: int64"
      ]
     },
     "execution_count": 12,
     "metadata": {},
     "output_type": "execute_result"
    }
   ],
   "source": [
    "#showing that Machine Results is 'OK' and 'NG'\n",
    "MC1csv.groupby(['Date'])['Machine Result'].value_counts()"
   ]
  },
  {
   "cell_type": "code",
   "execution_count": 13,
   "id": "10eb1c19",
   "metadata": {},
   "outputs": [
    {
     "data": {
      "text/plain": [
       "<AxesSubplot:title={'center':'MC2Oct2020'}, xlabel='Date'>"
      ]
     },
     "execution_count": 13,
     "metadata": {},
     "output_type": "execute_result"
    },
    {
     "data": {
      "image/png": "[encoded data removed]",
      "text/plain": [
       "<Figure size 1080x720 with 1 Axes>"
      ]
     },
     "metadata": {
      "needs_background": "light"
     },
     "output_type": "display_data"
    }
   ],
   "source": [
    "MC1csv.groupby(['Date'])['Machine Result'].value_counts().unstack().plot.bar(figsize=(15,10), fontsize = 12, width = 0.75, title='MC2Oct2020')"
   ]
  },
  {
   "cell_type": "code",
   "execution_count": 5,
   "id": "0524768d",
   "metadata": {
    "scrolled": true
   },
   "outputs": [
    {
     "data": {
      "text/plain": [
       "<AxesSubplot:>"
      ]
     },
     "execution_count": 5,
     "metadata": {},
     "output_type": "execute_result"
    },
    {
     "data": {
      "image/png": "[encoded data removed]",
      "text/plain": [
       "<Figure size 432x288 with 2 Axes>"
      ]
     },
     "metadata": {
      "needs_background": "light"
     },
     "output_type": "display_data"
    }
   ],
   "source": [
    "#showing missing values\n",
    "sns.heatmap(data=MC1csv.notnull())"
   ]
  },
  {
   "cell_type": "code",
   "execution_count": 11,
   "id": "ed73a9b2",
   "metadata": {},
   "outputs": [
    {
     "data": {
      "text/plain": [
       "Part                   0\n",
       "IC 2D                  0\n",
       "Lot                    0\n",
       "Date                   0\n",
       "Time                   0\n",
       "Machine                0\n",
       "Server Result          0\n",
       "Machine Result         0\n",
       "(um)Point1             0\n",
       "(um)Point2          8886\n",
       "(um)Point3         56736\n",
       "(um)Point4         56736\n",
       "(um)Point5        243872\n",
       "dtype: int64"
      ]
     },
     "execution_count": 11,
     "metadata": {},
     "output_type": "execute_result"
    }
   ],
   "source": [
    "MC1csv.isnull().sum()"
   ]
  },
  {
   "cell_type": "code",
   "execution_count": 14,
   "id": "f42c619a",
   "metadata": {
    "scrolled": true
   },
   "outputs": [
    {
     "data": {
      "image/png": "[encoded data removed]",
      "text/plain": [
       "<Figure size 432x288 with 1 Axes>"
      ]
     },
     "metadata": {
      "needs_background": "light"
     },
     "output_type": "display_data"
    }
   ],
   "source": [
    "#Checking for outliers in the columns to be used \n",
    "MC1plot = pd.DataFrame(data = MC1csv, columns=[\"Machine Result\",\"(um)Point1\",\"(um)Point2\",\"(um)Point3\",\"(um)Point4\",\"(um)Point5\"])\n",
    "sns.boxplot(data=MC1plot)\n",
    "plt.show()\n"
   ]
  },
  {
   "cell_type": "code",
   "execution_count": 7,
   "id": "4b9e478e",
   "metadata": {},
   "outputs": [
    {
     "data": {
      "text/html": [
       "<div>\n",
       "<style scoped>\n",
       "    .dataframe tbody tr th:only-of-type {\n",
       "        vertical-align: middle;\n",
       "    }\n",
       "\n",
       "    .dataframe tbody tr th {\n",
       "        vertical-align: top;\n",
       "    }\n",
       "\n",
       "    .dataframe thead th {\n",
       "        text-align: right;\n",
       "    }\n",
       "</style>\n",
       "<table border=\"1\" class=\"dataframe\">\n",
       "  <thead>\n",
       "    <tr style=\"text-align: right;\">\n",
       "      <th></th>\n",
       "      <th>(um)Point1</th>\n",
       "      <th>(um)Point2</th>\n",
       "      <th>(um)Point3</th>\n",
       "      <th>(um)Point4</th>\n",
       "      <th>(um)Point5</th>\n",
       "    </tr>\n",
       "  </thead>\n",
       "  <tbody>\n",
       "    <tr>\n",
       "      <th>count</th>\n",
       "      <td>312389.000000</td>\n",
       "      <td>303503.000000</td>\n",
       "      <td>255653.000000</td>\n",
       "      <td>255653.000000</td>\n",
       "      <td>68517.000000</td>\n",
       "    </tr>\n",
       "    <tr>\n",
       "      <th>mean</th>\n",
       "      <td>-1228.575127</td>\n",
       "      <td>-1224.976949</td>\n",
       "      <td>-1162.087512</td>\n",
       "      <td>-1157.855023</td>\n",
       "      <td>44.164985</td>\n",
       "    </tr>\n",
       "    <tr>\n",
       "      <th>std</th>\n",
       "      <td>841.065236</td>\n",
       "      <td>776.101944</td>\n",
       "      <td>827.437903</td>\n",
       "      <td>830.375651</td>\n",
       "      <td>68.203225</td>\n",
       "    </tr>\n",
       "    <tr>\n",
       "      <th>min</th>\n",
       "      <td>-4030.300000</td>\n",
       "      <td>-4008.600000</td>\n",
       "      <td>-4715.200000</td>\n",
       "      <td>-4043.500000</td>\n",
       "      <td>-1368.900000</td>\n",
       "    </tr>\n",
       "    <tr>\n",
       "      <th>25%</th>\n",
       "      <td>-1782.400000</td>\n",
       "      <td>-1744.700000</td>\n",
       "      <td>-1734.400000</td>\n",
       "      <td>-1731.800000</td>\n",
       "      <td>11.400000</td>\n",
       "    </tr>\n",
       "    <tr>\n",
       "      <th>50%</th>\n",
       "      <td>-1674.400000</td>\n",
       "      <td>-1601.900000</td>\n",
       "      <td>-1650.100000</td>\n",
       "      <td>-1655.500000</td>\n",
       "      <td>49.200000</td>\n",
       "    </tr>\n",
       "    <tr>\n",
       "      <th>75%</th>\n",
       "      <td>-6.900000</td>\n",
       "      <td>-3.100000</td>\n",
       "      <td>-2.600000</td>\n",
       "      <td>-1.200000</td>\n",
       "      <td>80.600000</td>\n",
       "    </tr>\n",
       "    <tr>\n",
       "      <th>max</th>\n",
       "      <td>2879.700000</td>\n",
       "      <td>3877.300000</td>\n",
       "      <td>4421.200000</td>\n",
       "      <td>3361.100000</td>\n",
       "      <td>1540.300000</td>\n",
       "    </tr>\n",
       "  </tbody>\n",
       "</table>\n",
       "</div>"
      ],
      "text/plain": [
       "          (um)Point1     (um)Point2     (um)Point3     (um)Point4  \\\n",
       "count  312389.000000  303503.000000  255653.000000  255653.000000   \n",
       "mean    -1228.575127   -1224.976949   -1162.087512   -1157.855023   \n",
       "std       841.065236     776.101944     827.437903     830.375651   \n",
       "min     -4030.300000   -4008.600000   -4715.200000   -4043.500000   \n",
       "25%     -1782.400000   -1744.700000   -1734.400000   -1731.800000   \n",
       "50%     -1674.400000   -1601.900000   -1650.100000   -1655.500000   \n",
       "75%        -6.900000      -3.100000      -2.600000      -1.200000   \n",
       "max      2879.700000    3877.300000    4421.200000    3361.100000   \n",
       "\n",
       "         (um)Point5  \n",
       "count  68517.000000  \n",
       "mean      44.164985  \n",
       "std       68.203225  \n",
       "min    -1368.900000  \n",
       "25%       11.400000  \n",
       "50%       49.200000  \n",
       "75%       80.600000  \n",
       "max     1540.300000  "
      ]
     },
     "execution_count": 7,
     "metadata": {},
     "output_type": "execute_result"
    }
   ],
   "source": [
    "#numeralize the datasets in a way that can be understood\n",
    "MC1plot.describe()"
   ]
  },
  {
   "cell_type": "code",
   "execution_count": 15,
   "id": "89128e00",
   "metadata": {},
   "outputs": [
    {
     "data": {
      "text/html": [
       "<div>\n",
       "<style scoped>\n",
       "    .dataframe tbody tr th:only-of-type {\n",
       "        vertical-align: middle;\n",
       "    }\n",
       "\n",
       "    .dataframe tbody tr th {\n",
       "        vertical-align: top;\n",
       "    }\n",
       "\n",
       "    .dataframe thead th {\n",
       "        text-align: right;\n",
       "    }\n",
       "</style>\n",
       "<table border=\"1\" class=\"dataframe\">\n",
       "  <thead>\n",
       "    <tr style=\"text-align: right;\">\n",
       "      <th></th>\n",
       "      <th>(um)Point1</th>\n",
       "      <th>(um)Point2</th>\n",
       "      <th>(um)Point3</th>\n",
       "      <th>(um)Point4</th>\n",
       "      <th>(um)Point5</th>\n",
       "    </tr>\n",
       "  </thead>\n",
       "  <tbody>\n",
       "    <tr>\n",
       "      <th>(um)Point1</th>\n",
       "      <td>1.000000</td>\n",
       "      <td>0.954770</td>\n",
       "      <td>0.943452</td>\n",
       "      <td>0.942839</td>\n",
       "      <td>-0.042108</td>\n",
       "    </tr>\n",
       "    <tr>\n",
       "      <th>(um)Point2</th>\n",
       "      <td>0.954770</td>\n",
       "      <td>1.000000</td>\n",
       "      <td>0.968513</td>\n",
       "      <td>0.973653</td>\n",
       "      <td>-0.085128</td>\n",
       "    </tr>\n",
       "    <tr>\n",
       "      <th>(um)Point3</th>\n",
       "      <td>0.943452</td>\n",
       "      <td>0.968513</td>\n",
       "      <td>1.000000</td>\n",
       "      <td>0.982353</td>\n",
       "      <td>0.002315</td>\n",
       "    </tr>\n",
       "    <tr>\n",
       "      <th>(um)Point4</th>\n",
       "      <td>0.942839</td>\n",
       "      <td>0.973653</td>\n",
       "      <td>0.982353</td>\n",
       "      <td>1.000000</td>\n",
       "      <td>0.426310</td>\n",
       "    </tr>\n",
       "    <tr>\n",
       "      <th>(um)Point5</th>\n",
       "      <td>-0.042108</td>\n",
       "      <td>-0.085128</td>\n",
       "      <td>0.002315</td>\n",
       "      <td>0.426310</td>\n",
       "      <td>1.000000</td>\n",
       "    </tr>\n",
       "  </tbody>\n",
       "</table>\n",
       "</div>"
      ],
      "text/plain": [
       "            (um)Point1  (um)Point2  (um)Point3  (um)Point4  (um)Point5\n",
       "(um)Point1    1.000000    0.954770    0.943452    0.942839   -0.042108\n",
       "(um)Point2    0.954770    1.000000    0.968513    0.973653   -0.085128\n",
       "(um)Point3    0.943452    0.968513    1.000000    0.982353    0.002315\n",
       "(um)Point4    0.942839    0.973653    0.982353    1.000000    0.426310\n",
       "(um)Point5   -0.042108   -0.085128    0.002315    0.426310    1.000000"
      ]
     },
     "execution_count": 15,
     "metadata": {},
     "output_type": "execute_result"
    }
   ],
   "source": [
    "#Checking for correlations between dataset features\n",
    "#Point5 has the least correlation, so it will be experimentally dropped \n",
    "MC1plot.corr()"
   ]
  },
  {
   "cell_type": "markdown",
   "id": "ca9e4e93",
   "metadata": {},
   "source": [
    "## Understanding Dataset MC2"
   ]
  },
  {
   "cell_type": "code",
   "execution_count": 4,
   "id": "da91534b",
   "metadata": {},
   "outputs": [
    {
     "data": {
      "text/html": [
       "<div>\n",
       "<style scoped>\n",
       "    .dataframe tbody tr th:only-of-type {\n",
       "        vertical-align: middle;\n",
       "    }\n",
       "\n",
       "    .dataframe tbody tr th {\n",
       "        vertical-align: top;\n",
       "    }\n",
       "\n",
       "    .dataframe thead th {\n",
       "        text-align: right;\n",
       "    }\n",
       "</style>\n",
       "<table border=\"1\" class=\"dataframe\">\n",
       "  <thead>\n",
       "    <tr style=\"text-align: right;\">\n",
       "      <th></th>\n",
       "      <th>Part</th>\n",
       "      <th>IC 2D</th>\n",
       "      <th>Lot</th>\n",
       "      <th>Date</th>\n",
       "      <th>Time</th>\n",
       "      <th>Machine</th>\n",
       "      <th>Server Result</th>\n",
       "      <th>Machine Result</th>\n",
       "      <th>(um)Point1</th>\n",
       "      <th>(um)Point2</th>\n",
       "      <th>(um)Point3</th>\n",
       "      <th>(um)Point4</th>\n",
       "      <th>(um)Point5</th>\n",
       "    </tr>\n",
       "  </thead>\n",
       "  <tbody>\n",
       "    <tr>\n",
       "      <th>0</th>\n",
       "      <td>791-00529</td>\n",
       "      <td>1</td>\n",
       "      <td>P 8 7</td>\n",
       "      <td>1/8/2020</td>\n",
       "      <td>8:38:33</td>\n",
       "      <td>PA05-1901</td>\n",
       "      <td>OK</td>\n",
       "      <td>OK</td>\n",
       "      <td>14.7</td>\n",
       "      <td>9.9</td>\n",
       "      <td>118.7</td>\n",
       "      <td>66.3</td>\n",
       "      <td>88.1</td>\n",
       "    </tr>\n",
       "    <tr>\n",
       "      <th>1</th>\n",
       "      <td>791-00529</td>\n",
       "      <td>1</td>\n",
       "      <td>P 8 7</td>\n",
       "      <td>1/8/2020</td>\n",
       "      <td>8:43:21</td>\n",
       "      <td>PA05-1901</td>\n",
       "      <td>OK</td>\n",
       "      <td>NG</td>\n",
       "      <td>12.4</td>\n",
       "      <td>5.9</td>\n",
       "      <td>14.2</td>\n",
       "      <td>279.9</td>\n",
       "      <td>288.6</td>\n",
       "    </tr>\n",
       "    <tr>\n",
       "      <th>2</th>\n",
       "      <td>791-00529</td>\n",
       "      <td>1</td>\n",
       "      <td>P 8 7</td>\n",
       "      <td>1/8/2020</td>\n",
       "      <td>8:46:05</td>\n",
       "      <td>PA05-1901</td>\n",
       "      <td>OK</td>\n",
       "      <td>OK</td>\n",
       "      <td>36.4</td>\n",
       "      <td>16.5</td>\n",
       "      <td>-39.5</td>\n",
       "      <td>40.3</td>\n",
       "      <td>74.8</td>\n",
       "    </tr>\n",
       "    <tr>\n",
       "      <th>3</th>\n",
       "      <td>791-00529</td>\n",
       "      <td>1</td>\n",
       "      <td>P 8 7</td>\n",
       "      <td>1/8/2020</td>\n",
       "      <td>12:43:41</td>\n",
       "      <td>PA05-1901</td>\n",
       "      <td>OK</td>\n",
       "      <td>OK</td>\n",
       "      <td>7.9</td>\n",
       "      <td>2.9</td>\n",
       "      <td>51.0</td>\n",
       "      <td>27.9</td>\n",
       "      <td>-15.5</td>\n",
       "    </tr>\n",
       "    <tr>\n",
       "      <th>4</th>\n",
       "      <td>791-00529</td>\n",
       "      <td>10</td>\n",
       "      <td>P 8 7</td>\n",
       "      <td>1/8/2020</td>\n",
       "      <td>8:46:34</td>\n",
       "      <td>PA05-1901</td>\n",
       "      <td>OK</td>\n",
       "      <td>NG</td>\n",
       "      <td>-3.8</td>\n",
       "      <td>-0.2</td>\n",
       "      <td>30.0</td>\n",
       "      <td>200.7</td>\n",
       "      <td>203.3</td>\n",
       "    </tr>\n",
       "    <tr>\n",
       "      <th>5</th>\n",
       "      <td>791-00529</td>\n",
       "      <td>10</td>\n",
       "      <td>P 8 7</td>\n",
       "      <td>1/8/2020</td>\n",
       "      <td>12:54:49</td>\n",
       "      <td>PA05-1901</td>\n",
       "      <td>OK</td>\n",
       "      <td>OK</td>\n",
       "      <td>23.9</td>\n",
       "      <td>26.3</td>\n",
       "      <td>45.2</td>\n",
       "      <td>49.5</td>\n",
       "      <td>-20.5</td>\n",
       "    </tr>\n",
       "    <tr>\n",
       "      <th>6</th>\n",
       "      <td>791-00529</td>\n",
       "      <td>100</td>\n",
       "      <td>P 8 7</td>\n",
       "      <td>1/8/2020</td>\n",
       "      <td>8:53:09</td>\n",
       "      <td>PA05-1901</td>\n",
       "      <td>OK</td>\n",
       "      <td>OK</td>\n",
       "      <td>2.5</td>\n",
       "      <td>11.3</td>\n",
       "      <td>25.2</td>\n",
       "      <td>32.4</td>\n",
       "      <td>68.3</td>\n",
       "    </tr>\n",
       "    <tr>\n",
       "      <th>7</th>\n",
       "      <td>791-00529</td>\n",
       "      <td>100</td>\n",
       "      <td>P 8 7</td>\n",
       "      <td>1/8/2020</td>\n",
       "      <td>13:07:01</td>\n",
       "      <td>PA05-1901</td>\n",
       "      <td>OK</td>\n",
       "      <td>OK</td>\n",
       "      <td>6.8</td>\n",
       "      <td>4.0</td>\n",
       "      <td>13.7</td>\n",
       "      <td>-12.3</td>\n",
       "      <td>-7.7</td>\n",
       "    </tr>\n",
       "    <tr>\n",
       "      <th>8</th>\n",
       "      <td>791-00529</td>\n",
       "      <td>1000</td>\n",
       "      <td>P 8 7</td>\n",
       "      <td>1/8/2020</td>\n",
       "      <td>10:00:55</td>\n",
       "      <td>PA05-1901</td>\n",
       "      <td>OK</td>\n",
       "      <td>NG</td>\n",
       "      <td>0.0</td>\n",
       "      <td>10.0</td>\n",
       "      <td>11.0</td>\n",
       "      <td>33.4</td>\n",
       "      <td>87.3</td>\n",
       "    </tr>\n",
       "    <tr>\n",
       "      <th>9</th>\n",
       "      <td>791-00529</td>\n",
       "      <td>1000</td>\n",
       "      <td>P 8 7</td>\n",
       "      <td>1/8/2020</td>\n",
       "      <td>16:11:21</td>\n",
       "      <td>PA05-1901</td>\n",
       "      <td>OK</td>\n",
       "      <td>OK</td>\n",
       "      <td>41.0</td>\n",
       "      <td>38.8</td>\n",
       "      <td>87.4</td>\n",
       "      <td>107.6</td>\n",
       "      <td>-15.8</td>\n",
       "    </tr>\n",
       "  </tbody>\n",
       "</table>\n",
       "</div>"
      ],
      "text/plain": [
       "        Part  IC 2D    Lot      Date      Time    Machine Server Result  \\\n",
       "0  791-00529      1  P 8 7  1/8/2020   8:38:33  PA05-1901            OK   \n",
       "1  791-00529      1  P 8 7  1/8/2020   8:43:21  PA05-1901            OK   \n",
       "2  791-00529      1  P 8 7  1/8/2020   8:46:05  PA05-1901            OK   \n",
       "3  791-00529      1  P 8 7  1/8/2020  12:43:41  PA05-1901            OK   \n",
       "4  791-00529     10  P 8 7  1/8/2020   8:46:34  PA05-1901            OK   \n",
       "5  791-00529     10  P 8 7  1/8/2020  12:54:49  PA05-1901            OK   \n",
       "6  791-00529    100  P 8 7  1/8/2020   8:53:09  PA05-1901            OK   \n",
       "7  791-00529    100  P 8 7  1/8/2020  13:07:01  PA05-1901            OK   \n",
       "8  791-00529   1000  P 8 7  1/8/2020  10:00:55  PA05-1901            OK   \n",
       "9  791-00529   1000  P 8 7  1/8/2020  16:11:21  PA05-1901            OK   \n",
       "\n",
       "  Machine Result  (um)Point1  (um)Point2  (um)Point3  (um)Point4  (um)Point5  \n",
       "0             OK        14.7         9.9       118.7        66.3        88.1  \n",
       "1             NG        12.4         5.9        14.2       279.9       288.6  \n",
       "2             OK        36.4        16.5       -39.5        40.3        74.8  \n",
       "3             OK         7.9         2.9        51.0        27.9       -15.5  \n",
       "4             NG        -3.8        -0.2        30.0       200.7       203.3  \n",
       "5             OK        23.9        26.3        45.2        49.5       -20.5  \n",
       "6             OK         2.5        11.3        25.2        32.4        68.3  \n",
       "7             OK         6.8         4.0        13.7       -12.3        -7.7  \n",
       "8             NG         0.0        10.0        11.0        33.4        87.3  \n",
       "9             OK        41.0        38.8        87.4       107.6       -15.8  "
      ]
     },
     "execution_count": 4,
     "metadata": {},
     "output_type": "execute_result"
    }
   ],
   "source": [
    "MC2csv.head(10)"
   ]
  },
  {
   "cell_type": "code",
   "execution_count": 5,
   "id": "e0a704b4",
   "metadata": {},
   "outputs": [
    {
     "data": {
      "text/plain": [
       "(313338, 13)"
      ]
     },
     "execution_count": 5,
     "metadata": {},
     "output_type": "execute_result"
    }
   ],
   "source": [
    "#shape of the dataset\n",
    "MC2csv.shape"
   ]
  },
  {
   "cell_type": "code",
   "execution_count": 14,
   "id": "557db716",
   "metadata": {},
   "outputs": [
    {
     "data": {
      "text/plain": [
       "Date       Machine Result\n",
       "1/8/2020   OK                 5628\n",
       "           NG                 1141\n",
       "10/8/2020  OK                 6173\n",
       "           NG                  145\n",
       "11/8/2020  OK                15130\n",
       "           NG                   44\n",
       "12/8/2020  OK                15620\n",
       "           NG                   94\n",
       "13/8/2020  OK                16426\n",
       "           NG                   44\n",
       "14/8/2020  OK                10699\n",
       "           NG                  777\n",
       "15/8/2020  OK                 9300\n",
       "           NG                  276\n",
       "16/8/2020  OK                 2267\n",
       "           NG                    1\n",
       "17/8/2020  OK                11074\n",
       "           NG                  105\n",
       "18/8/2020  OK                15548\n",
       "           NG                  130\n",
       "19/8/2020  OK                11197\n",
       "           NG                  107\n",
       "2/8/2020   OK                 3141\n",
       "           NG                  730\n",
       "20/8/2020  OK                 8239\n",
       "           NG                  215\n",
       "21/8/2020  OK                10137\n",
       "           NG                 1539\n",
       "22/8/2020  OK                13234\n",
       "           NG                  111\n",
       "23/8/2020  OK                 5474\n",
       "           NG                   16\n",
       "24/8/2020  OK                 8349\n",
       "           NG                   75\n",
       "25/8/2020  OK                15918\n",
       "           NG                  210\n",
       "26/8/2020  OK                21052\n",
       "           NG                  260\n",
       "27/8/2020  OK                19622\n",
       "           NG                  160\n",
       "28/8/2020  OK                16034\n",
       "           NG                   40\n",
       "29/8/2020  OK                 1134\n",
       "3/8/2020   OK                 8001\n",
       "           NG                  240\n",
       "30/8/2020  OK                 1662\n",
       "           NG                   30\n",
       "4/8/2020   OK                11357\n",
       "           NG                 1458\n",
       "5/8/2020   OK                 9262\n",
       "           NG                 2242\n",
       "6/8/2020   OK                 6111\n",
       "           NG                 1009\n",
       "7/8/2020   OK                 7203\n",
       "           NG                  808\n",
       "8/8/2020   OK                10657\n",
       "           NG                 2316\n",
       "9/8/2020   OK                 3214\n",
       "           NG                  152\n",
       "Name: Machine Result, dtype: int64"
      ]
     },
     "execution_count": 14,
     "metadata": {},
     "output_type": "execute_result"
    }
   ],
   "source": [
    "#showing that Machine Results is 'OK' and 'NG'\n",
    "MC2csv.groupby(['Date'])['Machine Result'].value_counts()\n"
   ]
  },
  {
   "cell_type": "code",
   "execution_count": 9,
   "id": "f1e34bed",
   "metadata": {},
   "outputs": [
    {
     "data": {
      "text/plain": [
       "<AxesSubplot:title={'center':'MC2Aug2020'}, xlabel='Date'>"
      ]
     },
     "execution_count": 9,
     "metadata": {},
     "output_type": "execute_result"
    },
    {
     "data": {
      "image/png": "[encoded data removed]",
      "text/plain": [
       "<Figure size 1080x720 with 1 Axes>"
      ]
     },
     "metadata": {
      "needs_background": "light"
     },
     "output_type": "display_data"
    }
   ],
   "source": [
    "MC2csv.groupby(['Date'])['Machine Result'].value_counts().unstack().plot.bar(figsize=(15,10), fontsize = 12, width = 0.75,title='MC2Aug2020')"
   ]
  },
  {
   "cell_type": "code",
   "execution_count": 8,
   "id": "4be8205b",
   "metadata": {},
   "outputs": [
    {
     "data": {
      "text/plain": [
       "<AxesSubplot:>"
      ]
     },
     "execution_count": 8,
     "metadata": {},
     "output_type": "execute_result"
    },
    {
     "data": {
      "image/png": "[encoded data removed]",
      "text/plain": [
       "<Figure size 432x288 with 2 Axes>"
      ]
     },
     "metadata": {
      "needs_background": "light"
     },
     "output_type": "display_data"
    }
   ],
   "source": [
    "#showing missing values\n",
    "sns.heatmap(data=MC2csv.notnull())"
   ]
  },
  {
   "cell_type": "code",
   "execution_count": 9,
   "id": "0c3dd47a",
   "metadata": {},
   "outputs": [
    {
     "data": {
      "text/plain": [
       "Part                   0\n",
       "IC 2D                  0\n",
       "Lot                    0\n",
       "Date                   0\n",
       "Time                   0\n",
       "Machine                0\n",
       "Server Result          0\n",
       "Machine Result         0\n",
       "(um)Point1             0\n",
       "(um)Point2         21847\n",
       "(um)Point3         46331\n",
       "(um)Point4         46331\n",
       "(um)Point5        265549\n",
       "dtype: int64"
      ]
     },
     "execution_count": 9,
     "metadata": {},
     "output_type": "execute_result"
    }
   ],
   "source": [
    "MC2csv.isnull().sum()"
   ]
  },
  {
   "cell_type": "code",
   "execution_count": 17,
   "id": "2026f895",
   "metadata": {},
   "outputs": [
    {
     "data": {
      "image/png": "[encoded data removed]",
      "text/plain": [
       "<Figure size 432x288 with 1 Axes>"
      ]
     },
     "metadata": {
      "needs_background": "light"
     },
     "output_type": "display_data"
    }
   ],
   "source": [
    "#Checking for outliers in the columns to be used \n",
    "MC2plot = pd.DataFrame(data = MC2csv, columns=[\"Machine Result\",\"(um)Point1\",\"(um)Point2\",\"(um)Point3\",\"(um)Point4\",\"(um)Point5\"])\n",
    "sns.boxplot(data=MC2plot)\n",
    "plt.show()"
   ]
  },
  {
   "cell_type": "code",
   "execution_count": 8,
   "id": "c8fb487f",
   "metadata": {},
   "outputs": [
    {
     "data": {
      "text/html": [
       "<div>\n",
       "<style scoped>\n",
       "    .dataframe tbody tr th:only-of-type {\n",
       "        vertical-align: middle;\n",
       "    }\n",
       "\n",
       "    .dataframe tbody tr th {\n",
       "        vertical-align: top;\n",
       "    }\n",
       "\n",
       "    .dataframe thead th {\n",
       "        text-align: right;\n",
       "    }\n",
       "</style>\n",
       "<table border=\"1\" class=\"dataframe\">\n",
       "  <thead>\n",
       "    <tr style=\"text-align: right;\">\n",
       "      <th></th>\n",
       "      <th>(um)Point1</th>\n",
       "      <th>(um)Point2</th>\n",
       "      <th>(um)Point3</th>\n",
       "      <th>(um)Point4</th>\n",
       "      <th>(um)Point5</th>\n",
       "    </tr>\n",
       "  </thead>\n",
       "  <tbody>\n",
       "    <tr>\n",
       "      <th>count</th>\n",
       "      <td>313338.000000</td>\n",
       "      <td>291491.000000</td>\n",
       "      <td>267007.00000</td>\n",
       "      <td>267007.000000</td>\n",
       "      <td>47789.000000</td>\n",
       "    </tr>\n",
       "    <tr>\n",
       "      <th>mean</th>\n",
       "      <td>-1425.178895</td>\n",
       "      <td>-1409.301335</td>\n",
       "      <td>-1383.61513</td>\n",
       "      <td>-1368.365508</td>\n",
       "      <td>41.703254</td>\n",
       "    </tr>\n",
       "    <tr>\n",
       "      <th>std</th>\n",
       "      <td>714.450455</td>\n",
       "      <td>696.767710</td>\n",
       "      <td>708.27223</td>\n",
       "      <td>719.184741</td>\n",
       "      <td>76.035265</td>\n",
       "    </tr>\n",
       "    <tr>\n",
       "      <th>min</th>\n",
       "      <td>-4539.700000</td>\n",
       "      <td>-4184.300000</td>\n",
       "      <td>-4809.00000</td>\n",
       "      <td>-4123.200000</td>\n",
       "      <td>-2274.800000</td>\n",
       "    </tr>\n",
       "    <tr>\n",
       "      <th>25%</th>\n",
       "      <td>-1775.700000</td>\n",
       "      <td>-1768.600000</td>\n",
       "      <td>-1745.35000</td>\n",
       "      <td>-1744.900000</td>\n",
       "      <td>-8.300000</td>\n",
       "    </tr>\n",
       "    <tr>\n",
       "      <th>50%</th>\n",
       "      <td>-1688.700000</td>\n",
       "      <td>-1669.200000</td>\n",
       "      <td>-1679.30000</td>\n",
       "      <td>-1680.100000</td>\n",
       "      <td>37.700000</td>\n",
       "    </tr>\n",
       "    <tr>\n",
       "      <th>75%</th>\n",
       "      <td>-1535.900000</td>\n",
       "      <td>-1474.300000</td>\n",
       "      <td>-1574.30000</td>\n",
       "      <td>-1584.400000</td>\n",
       "      <td>86.600000</td>\n",
       "    </tr>\n",
       "    <tr>\n",
       "      <th>max</th>\n",
       "      <td>2891.200000</td>\n",
       "      <td>2972.500000</td>\n",
       "      <td>3064.20000</td>\n",
       "      <td>2940.300000</td>\n",
       "      <td>1625.600000</td>\n",
       "    </tr>\n",
       "  </tbody>\n",
       "</table>\n",
       "</div>"
      ],
      "text/plain": [
       "          (um)Point1     (um)Point2    (um)Point3     (um)Point4    (um)Point5\n",
       "count  313338.000000  291491.000000  267007.00000  267007.000000  47789.000000\n",
       "mean    -1425.178895   -1409.301335   -1383.61513   -1368.365508     41.703254\n",
       "std       714.450455     696.767710     708.27223     719.184741     76.035265\n",
       "min     -4539.700000   -4184.300000   -4809.00000   -4123.200000  -2274.800000\n",
       "25%     -1775.700000   -1768.600000   -1745.35000   -1744.900000     -8.300000\n",
       "50%     -1688.700000   -1669.200000   -1679.30000   -1680.100000     37.700000\n",
       "75%     -1535.900000   -1474.300000   -1574.30000   -1584.400000     86.600000\n",
       "max      2891.200000    2972.500000    3064.20000    2940.300000   1625.600000"
      ]
     },
     "execution_count": 8,
     "metadata": {},
     "output_type": "execute_result"
    }
   ],
   "source": [
    "#numeralize the datasets in a way that can be understood\n",
    "MC2plot.describe()"
   ]
  },
  {
   "cell_type": "code",
   "execution_count": 18,
   "id": "8a93f0cf",
   "metadata": {
    "scrolled": true
   },
   "outputs": [
    {
     "data": {
      "text/html": [
       "<div>\n",
       "<style scoped>\n",
       "    .dataframe tbody tr th:only-of-type {\n",
       "        vertical-align: middle;\n",
       "    }\n",
       "\n",
       "    .dataframe tbody tr th {\n",
       "        vertical-align: top;\n",
       "    }\n",
       "\n",
       "    .dataframe thead th {\n",
       "        text-align: right;\n",
       "    }\n",
       "</style>\n",
       "<table border=\"1\" class=\"dataframe\">\n",
       "  <thead>\n",
       "    <tr style=\"text-align: right;\">\n",
       "      <th></th>\n",
       "      <th>(um)Point1</th>\n",
       "      <th>(um)Point2</th>\n",
       "      <th>(um)Point3</th>\n",
       "      <th>(um)Point4</th>\n",
       "      <th>(um)Point5</th>\n",
       "    </tr>\n",
       "  </thead>\n",
       "  <tbody>\n",
       "    <tr>\n",
       "      <th>(um)Point1</th>\n",
       "      <td>1.000000</td>\n",
       "      <td>0.950796</td>\n",
       "      <td>0.927812</td>\n",
       "      <td>0.897565</td>\n",
       "      <td>0.077741</td>\n",
       "    </tr>\n",
       "    <tr>\n",
       "      <th>(um)Point2</th>\n",
       "      <td>0.950796</td>\n",
       "      <td>1.000000</td>\n",
       "      <td>0.913608</td>\n",
       "      <td>0.898278</td>\n",
       "      <td>0.015676</td>\n",
       "    </tr>\n",
       "    <tr>\n",
       "      <th>(um)Point3</th>\n",
       "      <td>0.927812</td>\n",
       "      <td>0.913608</td>\n",
       "      <td>1.000000</td>\n",
       "      <td>0.949675</td>\n",
       "      <td>-0.248482</td>\n",
       "    </tr>\n",
       "    <tr>\n",
       "      <th>(um)Point4</th>\n",
       "      <td>0.897565</td>\n",
       "      <td>0.898278</td>\n",
       "      <td>0.949675</td>\n",
       "      <td>1.000000</td>\n",
       "      <td>0.193515</td>\n",
       "    </tr>\n",
       "    <tr>\n",
       "      <th>(um)Point5</th>\n",
       "      <td>0.077741</td>\n",
       "      <td>0.015676</td>\n",
       "      <td>-0.248482</td>\n",
       "      <td>0.193515</td>\n",
       "      <td>1.000000</td>\n",
       "    </tr>\n",
       "  </tbody>\n",
       "</table>\n",
       "</div>"
      ],
      "text/plain": [
       "            (um)Point1  (um)Point2  (um)Point3  (um)Point4  (um)Point5\n",
       "(um)Point1    1.000000    0.950796    0.927812    0.897565    0.077741\n",
       "(um)Point2    0.950796    1.000000    0.913608    0.898278    0.015676\n",
       "(um)Point3    0.927812    0.913608    1.000000    0.949675   -0.248482\n",
       "(um)Point4    0.897565    0.898278    0.949675    1.000000    0.193515\n",
       "(um)Point5    0.077741    0.015676   -0.248482    0.193515    1.000000"
      ]
     },
     "execution_count": 18,
     "metadata": {},
     "output_type": "execute_result"
    }
   ],
   "source": [
    "#Checking for correlations between dataset features\n",
    "MC2plot.corr()"
   ]
  },
  {
   "cell_type": "markdown",
   "id": "e3003375",
   "metadata": {},
   "source": [
    "## Main Dataset MC1"
   ]
  },
  {
   "cell_type": "markdown",
   "id": "994e5739",
   "metadata": {},
   "source": [
    "## For MC1 without POINT 5"
   ]
  },
  {
   "cell_type": "code",
   "execution_count": 3,
   "id": "50f28c94",
   "metadata": {},
   "outputs": [],
   "source": [
    "#dropping unwanted columns\n",
    "MC1 = MC1csv.drop(columns=['Part', 'IC 2D','Lot','Date','Time','Machine','Server Result'], axis=1)\n",
    "\n",
    "#label encoding 'OK' and 'NG'\n",
    "from sklearn.preprocessing import LabelEncoder\n",
    "le = LabelEncoder()\n",
    "MC1['Machine Result']=le.fit_transform(MC1['Machine Result'])\n"
   ]
  },
  {
   "cell_type": "code",
   "execution_count": 4,
   "id": "491e2924",
   "metadata": {},
   "outputs": [
    {
     "data": {
      "text/html": [
       "<div>\n",
       "<style scoped>\n",
       "    .dataframe tbody tr th:only-of-type {\n",
       "        vertical-align: middle;\n",
       "    }\n",
       "\n",
       "    .dataframe tbody tr th {\n",
       "        vertical-align: top;\n",
       "    }\n",
       "\n",
       "    .dataframe thead th {\n",
       "        text-align: right;\n",
       "    }\n",
       "</style>\n",
       "<table border=\"1\" class=\"dataframe\">\n",
       "  <thead>\n",
       "    <tr style=\"text-align: right;\">\n",
       "      <th></th>\n",
       "      <th>Machine Result</th>\n",
       "      <th>(um)Point1</th>\n",
       "      <th>(um)Point2</th>\n",
       "      <th>(um)Point3</th>\n",
       "      <th>(um)Point4</th>\n",
       "    </tr>\n",
       "  </thead>\n",
       "  <tbody>\n",
       "    <tr>\n",
       "      <th>0</th>\n",
       "      <td>1</td>\n",
       "      <td>-1978.5</td>\n",
       "      <td>-1959.5</td>\n",
       "      <td>-1697.5</td>\n",
       "      <td>-1632.0</td>\n",
       "    </tr>\n",
       "    <tr>\n",
       "      <th>1</th>\n",
       "      <td>1</td>\n",
       "      <td>-1870.0</td>\n",
       "      <td>-1940.6</td>\n",
       "      <td>-1720.1</td>\n",
       "      <td>-1622.5</td>\n",
       "    </tr>\n",
       "    <tr>\n",
       "      <th>2</th>\n",
       "      <td>1</td>\n",
       "      <td>-1858.8</td>\n",
       "      <td>-1823.7</td>\n",
       "      <td>-1656.3</td>\n",
       "      <td>-1635.4</td>\n",
       "    </tr>\n",
       "    <tr>\n",
       "      <th>3</th>\n",
       "      <td>1</td>\n",
       "      <td>-2199.4</td>\n",
       "      <td>-1955.0</td>\n",
       "      <td>-1658.9</td>\n",
       "      <td>-1694.4</td>\n",
       "    </tr>\n",
       "    <tr>\n",
       "      <th>4</th>\n",
       "      <td>1</td>\n",
       "      <td>-1875.9</td>\n",
       "      <td>-1765.4</td>\n",
       "      <td>-1654.6</td>\n",
       "      <td>-1665.2</td>\n",
       "    </tr>\n",
       "  </tbody>\n",
       "</table>\n",
       "</div>"
      ],
      "text/plain": [
       "   Machine Result  (um)Point1  (um)Point2  (um)Point3  (um)Point4\n",
       "0               1     -1978.5     -1959.5     -1697.5     -1632.0\n",
       "1               1     -1870.0     -1940.6     -1720.1     -1622.5\n",
       "2               1     -1858.8     -1823.7     -1656.3     -1635.4\n",
       "3               1     -2199.4     -1955.0     -1658.9     -1694.4\n",
       "4               1     -1875.9     -1765.4     -1654.6     -1665.2"
      ]
     },
     "execution_count": 4,
     "metadata": {},
     "output_type": "execute_result"
    }
   ],
   "source": [
    "#dropping Point5\n",
    "MC1DropP5 = MC1.drop('(um)Point5', axis=1)\n",
    "MC1DropP5.head()\n"
   ]
  },
  {
   "cell_type": "code",
   "execution_count": 5,
   "id": "86f29945",
   "metadata": {
    "scrolled": true
   },
   "outputs": [
    {
     "name": "stderr",
     "output_type": "stream",
     "text": [
      "<ipython-input-5-a53e437176ea>:9: FutureWarning: Automatic reindexing on DataFrame vs Series comparisons is deprecated and will raise ValueError in a future version.  Do `left, right = left.align(right, axis=1, copy=False)` before e.g. `left == right`\n",
      "  MC1DropP5[(MC1DropP5<(Q1MC1 - 1.5 * IQR1))|(MC1DropP5>(Q3MC1 + 1.5 * IQR1))]=np.nan\n",
      "<ipython-input-5-a53e437176ea>:9: FutureWarning: Automatic reindexing on DataFrame vs Series comparisons is deprecated and will raise ValueError in a future version.  Do `left, right = left.align(right, axis=1, copy=False)` before e.g. `left == right`\n",
      "  MC1DropP5[(MC1DropP5<(Q1MC1 - 1.5 * IQR1))|(MC1DropP5>(Q3MC1 + 1.5 * IQR1))]=np.nan\n"
     ]
    }
   ],
   "source": [
    "#detecting outliers\n",
    "#filling up missing values with -mean, -median, -zero\n",
    "Q1MC1 = MC1.quantile(0.25)\n",
    "Q3MC1 = MC1.quantile(0.75)\n",
    "IQR1 = Q3MC1-Q1MC1\n",
    "\n",
    "MC1mean = MC1.mean()\n",
    "MC1median = MC1.median()\n",
    "\n",
    "MC1DropP5[(MC1DropP5<(Q1MC1 - 1.5 * IQR1))|(MC1DropP5>(Q3MC1 + 1.5 * IQR1))]=np.nan\n",
    "\n",
    "MC1DropP5Mean = MC1DropP5.fillna(MC1mean) \n",
    "MC1DropP5Median = MC1DropP5.fillna(MC1median)\n",
    "MC1DropP5Zero = MC1DropP5.fillna(0)\n",
    "\n"
   ]
  },
  {
   "cell_type": "code",
   "execution_count": 15,
   "id": "f3dd2df9",
   "metadata": {},
   "outputs": [
    {
     "data": {
      "image/png": "[encoded data removed]",
      "text/plain": [
       "<Figure size 432x288 with 1 Axes>"
      ]
     },
     "metadata": {
      "needs_background": "light"
     },
     "output_type": "display_data"
    }
   ],
   "source": [
    "sns.boxplot(data=MC1DropP5Mean)\n",
    "plt.show()"
   ]
  },
  {
   "cell_type": "code",
   "execution_count": 16,
   "id": "655c81be",
   "metadata": {},
   "outputs": [
    {
     "data": {
      "image/png": "[encoded data removed]",
      "text/plain": [
       "<Figure size 432x288 with 1 Axes>"
      ]
     },
     "metadata": {
      "needs_background": "light"
     },
     "output_type": "display_data"
    }
   ],
   "source": [
    "sns.boxplot(data=MC1DropP5Median)\n",
    "plt.show()"
   ]
  },
  {
   "cell_type": "code",
   "execution_count": 31,
   "id": "d36480d7",
   "metadata": {
    "scrolled": true
   },
   "outputs": [
    {
     "data": {
      "image/png": "[encoded data removed]",
      "text/plain": [
       "<Figure size 432x288 with 1 Axes>"
      ]
     },
     "metadata": {
      "needs_background": "light"
     },
     "output_type": "display_data"
    }
   ],
   "source": [
    "sns.boxplot(data=MC1DropP5Zero)\n",
    "plt.show()"
   ]
  },
  {
   "cell_type": "markdown",
   "id": "22783306",
   "metadata": {},
   "source": [
    "## Splitting and Normalizing MC1DropP5Mean"
   ]
  },
  {
   "cell_type": "code",
   "execution_count": 6,
   "id": "721f95df",
   "metadata": {},
   "outputs": [],
   "source": [
    "from sklearn.preprocessing import LabelEncoder\n",
    "le = LabelEncoder()\n",
    "X = MC1DropP5Mean.drop('Machine Result', axis=1)\n",
    "y = le.fit_transform(MC1DropP5Mean['Machine Result'])"
   ]
  },
  {
   "cell_type": "code",
   "execution_count": 7,
   "id": "7085b369",
   "metadata": {},
   "outputs": [],
   "source": [
    "#train test split\n",
    "from sklearn.model_selection import train_test_split\n",
    "Xtrain, Xtest, ytrain, ytest = train_test_split(X, y,random_state=1)\n",
    "\n",
    "#normalizing\n",
    "from sklearn.preprocessing import MinMaxScaler\n",
    "scaler = MinMaxScaler()\n",
    "Xtrain = scaler.fit_transform(Xtrain)\n",
    "Xtest = scaler.transform(Xtest)\n"
   ]
  },
  {
   "cell_type": "markdown",
   "id": "284c19e3",
   "metadata": {},
   "source": [
    "## KNN MC1DropP5Mean"
   ]
  },
  {
   "cell_type": "code",
   "execution_count": 49,
   "id": "4f81d613",
   "metadata": {},
   "outputs": [
    {
     "name": "stdout",
     "output_type": "stream",
     "text": [
      "Before tuning KNN\n",
      "Mean squared error: 0.012036159696791211\n",
      "Accuracy score: 0.9879638403032088\n",
      "Precision score:  0.9892352457626012\n",
      "Recall score:  0.9984854271753876\n",
      "F1 score:  0.9938388128572178\n",
      "              precision    recall  f1-score   support\n",
      "\n",
      "           0       0.92      0.62      0.74      2169\n",
      "           1       0.99      1.00      0.99     75929\n",
      "\n",
      "    accuracy                           0.99     78098\n",
      "   macro avg       0.96      0.81      0.87     78098\n",
      "weighted avg       0.99      0.99      0.99     78098\n",
      "\n"
     ]
    }
   ],
   "source": [
    "from sklearn.neighbors import KNeighborsClassifier\n",
    "from sklearn.metrics import mean_squared_error, precision_score, recall_score, f1_score, accuracy_score, classification_report\n",
    "knn = KNeighborsClassifier()\n",
    "knn.fit(Xtrain, ytrain)\n",
    "\n",
    "ypred = knn.predict(Xtest)\n",
    "print(\"Before tuning KNN\")\n",
    "print(\"Mean squared error:\", mean_squared_error(ytest, ypred))\n",
    "print(\"Accuracy score:\", accuracy_score(ytest, ypred))\n",
    "print(\"Precision score: \", precision_score(ytest, ypred))\n",
    "print(\"Recall score: \", recall_score(ytest, ypred)) #balance between precision and recall\n",
    "print(\"F1 score: \", f1_score(ytest, ypred))\n",
    "\n",
    "print(classification_report(ytest, ypred))\n",
    "\n"
   ]
  },
  {
   "cell_type": "code",
   "execution_count": 26,
   "id": "a72a29db",
   "metadata": {},
   "outputs": [
    {
     "data": {
      "text/plain": [
       "dict_keys(['algorithm', 'leaf_size', 'metric', 'metric_params', 'n_jobs', 'n_neighbors', 'p', 'weights'])"
      ]
     },
     "execution_count": 26,
     "metadata": {},
     "output_type": "execute_result"
    }
   ],
   "source": [
    "knn.get_params().keys()"
   ]
  },
  {
   "cell_type": "code",
   "execution_count": 14,
   "id": "6c2493b8",
   "metadata": {},
   "outputs": [
    {
     "name": "stdout",
     "output_type": "stream",
     "text": [
      "KNeighborsClassifier(n_neighbors=16, weights='distance')\n"
     ]
    }
   ],
   "source": [
    "parameters = [{'weights': ['uniform', 'distance'],'n_neighbors': list(np.arange(1, 100, 1))}] \n",
    "\n",
    "grid = GridSearchCV(knn, parameters)\n",
    "grid.fit(Xtrain, ytrain)\n",
    " \n",
    "print(grid.best_estimator_) #print how the model looks after hyper parameter tuning \n"
   ]
  },
  {
   "cell_type": "code",
   "execution_count": 63,
   "id": "593e1ad1",
   "metadata": {},
   "outputs": [
    {
     "name": "stdout",
     "output_type": "stream",
     "text": [
      "After tuning KNN\n",
      "Mean squared error: 0.011780071192604165\n",
      "Accuracy score: 0.9882199288073958\n",
      "Precision score:  0.988995658239566\n",
      "Recall score:  0.9989990649159083\n",
      "F1 score:  0.9939721934663819\n",
      "              precision    recall  f1-score   support\n",
      "\n",
      "           0       0.95      0.61      0.74      2169\n",
      "           1       0.99      1.00      0.99     75929\n",
      "\n",
      "    accuracy                           0.99     78098\n",
      "   macro avg       0.97      0.80      0.87     78098\n",
      "weighted avg       0.99      0.99      0.99     78098\n",
      "\n"
     ]
    }
   ],
   "source": [
    "from sklearn.neighbors import KNeighborsClassifier\n",
    "from sklearn.metrics import mean_squared_error, precision_score, recall_score, f1_score, accuracy_score, classification_report\n",
    "knn = KNeighborsClassifier(n_neighbors=16, weights='distance')\n",
    "knn.fit(Xtrain, ytrain)\n",
    "\n",
    "ypred = knn.predict(Xtest)\n",
    "print(\"After tuning KNN\")\n",
    "KNNmse=mean_squared_error(ytest, ypred)\n",
    "print(\"Mean squared error:\", KNNmse)\n",
    "KNNacc=accuracy_score(ytest, ypred)\n",
    "print(\"Accuracy score:\", KNNacc)\n",
    "KNNpre=precision_score(ytest, ypred)\n",
    "print(\"Precision score: \", KNNpre)\n",
    "KNNrec=recall_score(ytest, ypred)\n",
    "print(\"Recall score: \", KNNrec) #balance between precision and recall\n",
    "KNNF1=f1_score(ytest, ypred)\n",
    "print(\"F1 score: \", KNNF1)\n",
    "\n",
    "print( classification_report(ytest, ypred))\n"
   ]
  },
  {
   "cell_type": "markdown",
   "id": "3438a465",
   "metadata": {},
   "source": [
    "## SVM MC1DropP5Mean (not worth it, took 5 hours and more)"
   ]
  },
  {
   "cell_type": "code",
   "execution_count": 8,
   "id": "0cd38704",
   "metadata": {},
   "outputs": [
    {
     "name": "stdout",
     "output_type": "stream",
     "text": [
      "Mean squared error: 0.017670106788906247\n",
      "Accuracy score: 0.9823298932110938\n",
      "              precision    recall  f1-score   support\n",
      "\n",
      "           0       0.98      0.37      0.54      2169\n",
      "           1       0.98      1.00      0.99     75929\n",
      "\n",
      "    accuracy                           0.98     78098\n",
      "   macro avg       0.98      0.69      0.77     78098\n",
      "weighted avg       0.98      0.98      0.98     78098\n",
      "\n"
     ]
    }
   ],
   "source": [
    "from sklearn.svm import SVC #SVM library from sklearn\n",
    "from sklearn.metrics import mean_squared_error, precision_score, recall_score, f1_score, accuracy_score, classification_report\n",
    "\n",
    "svm = SVC()\n",
    "svm.fit(Xtrain, ytrain)\n",
    "\n",
    "ypred = svm.predict(Xtest)\n",
    "print(\"Mean squared error:\", mean_squared_error(ytest, ypred))\n",
    "print(\"Accuracy score:\", accuracy_score(ytest, ypred))\n",
    "\n",
    "print( classification_report(ytest, ypred))"
   ]
  },
  {
   "cell_type": "code",
   "execution_count": 23,
   "id": "854c2652",
   "metadata": {},
   "outputs": [
    {
     "data": {
      "text/plain": [
       "dict_keys(['C', 'break_ties', 'cache_size', 'class_weight', 'coef0', 'decision_function_shape', 'degree', 'gamma', 'kernel', 'max_iter', 'probability', 'random_state', 'shrinking', 'tol', 'verbose'])"
      ]
     },
     "execution_count": 23,
     "metadata": {},
     "output_type": "execute_result"
    }
   ],
   "source": [
    "svm.get_params().keys()"
   ]
  },
  {
   "cell_type": "code",
   "execution_count": null,
   "id": "d91d841f",
   "metadata": {},
   "outputs": [],
   "source": [
    "parameters = [{'C': [1, 10, 100, 1000], \n",
    "               'gamma': [ 0.1, 0.01, 0.001, 0.0001],\n",
    "               'kernel': ['linear','rbf'] \n",
    "              }] \n",
    "\n",
    "grid = GridSearchCV(svm, parameters)\n",
    "grid.fit(Xtrain, ytrain)\n",
    " \n",
    "print(grid.best_estimator_) #print how the model looks after hyper parameter tuning "
   ]
  },
  {
   "cell_type": "code",
   "execution_count": 20,
   "id": "c237550c",
   "metadata": {},
   "outputs": [
    {
     "name": "stdout",
     "output_type": "stream",
     "text": [
      "Mean squared error: 0.017670106788906247\n",
      "Accuracy score: 0.9823298932110938\n",
      "              precision    recall  f1-score   support\n",
      "\n",
      "           0       0.98      0.37      0.54      2169\n",
      "           1       0.98      1.00      0.99     75929\n",
      "\n",
      "    accuracy                           0.98     78098\n",
      "   macro avg       0.98      0.69      0.77     78098\n",
      "weighted avg       0.98      0.98      0.98     78098\n",
      "\n"
     ]
    }
   ],
   "source": [
    "from sklearn.svm import SVC #SVM library from sklearn\n",
    "from sklearn.metrics import mean_squared_error, precision_score, recall_score, f1_score, accuracy_score, classification_report\n",
    "\n",
    "svm = SVC() #put gridsearch parameters into here\n",
    "svm.fit(Xtrain, ytrain)\n",
    "\n",
    "ypred = svm.predict(Xtest)\n",
    "print(\"Mean squared error:\", mean_squared_error(ytest, ypred))\n",
    "print(\"Accuracy score:\", accuracy_score(ytest, ypred))\n",
    "\n",
    "print( classification_report(ytest, ypred))"
   ]
  },
  {
   "cell_type": "markdown",
   "id": "7a6c51e1",
   "metadata": {},
   "source": [
    "## GaussianNB MC1DropP5Mean"
   ]
  },
  {
   "cell_type": "code",
   "execution_count": 51,
   "id": "e8f9efb0",
   "metadata": {},
   "outputs": [
    {
     "name": "stdout",
     "output_type": "stream",
     "text": [
      "Before tuning GaussianNB\n",
      "Mean squared error: 0.2565878767702118\n",
      "Accuracy score: 0.7434121232297882\n",
      "Precision score:  0.983527701837561\n",
      "Recall score:  0.7486204217097552\n",
      "F1 score:  0.8501454499226012\n",
      "              precision    recall  f1-score   support\n",
      "\n",
      "           0       0.06      0.56      0.11      2169\n",
      "           1       0.98      0.75      0.85     75929\n",
      "\n",
      "    accuracy                           0.74     78098\n",
      "   macro avg       0.52      0.65      0.48     78098\n",
      "weighted avg       0.96      0.74      0.83     78098\n",
      "\n"
     ]
    }
   ],
   "source": [
    "from sklearn.naive_bayes import GaussianNB \n",
    "from sklearn.metrics import mean_squared_error, precision_score, recall_score, f1_score, accuracy_score, classification_report\n",
    "\n",
    "gnb = GaussianNB()\n",
    "gnb.fit(Xtrain, ytrain)\n",
    "\n",
    "ypred = gnb.predict(Xtest)\n",
    "print(\"Before tuning GaussianNB\")\n",
    "print(\"Mean squared error:\", mean_squared_error(ytest, ypred))\n",
    "print(\"Accuracy score:\", accuracy_score(ytest, ypred))\n",
    "print(\"Precision score: \", precision_score(ytest, ypred))\n",
    "print(\"Recall score: \", recall_score(ytest, ypred)) #balance between precision and recall\n",
    "print(\"F1 score: \", f1_score(ytest, ypred))\n",
    "\n",
    "print(classification_report(ytest, ypred))"
   ]
  },
  {
   "cell_type": "code",
   "execution_count": 36,
   "id": "cf965ad8",
   "metadata": {},
   "outputs": [
    {
     "data": {
      "text/plain": [
       "dict_keys(['priors', 'var_smoothing'])"
      ]
     },
     "execution_count": 36,
     "metadata": {},
     "output_type": "execute_result"
    }
   ],
   "source": [
    "gnb.get_params().keys()"
   ]
  },
  {
   "cell_type": "code",
   "execution_count": 37,
   "id": "fd753777",
   "metadata": {},
   "outputs": [
    {
     "name": "stdout",
     "output_type": "stream",
     "text": [
      "GaussianNB(var_smoothing=0.3511191734215131)\n"
     ]
    }
   ],
   "source": [
    "parameters = [{'var_smoothing': np.logspace(0,-9, num=100) \n",
    "              }] \n",
    "\n",
    "grid = GridSearchCV(gnb, parameters)\n",
    "grid.fit(Xtrain, ytrain)\n",
    " \n",
    "print(grid.best_estimator_) #print how the model looks after hyper parameter tuning "
   ]
  },
  {
   "cell_type": "code",
   "execution_count": 8,
   "id": "f9cac834",
   "metadata": {},
   "outputs": [
    {
     "name": "stdout",
     "output_type": "stream",
     "text": [
      "After tuning GaussianNB\n",
      "Mean squared error: 0.023649773361673794\n",
      "Accuracy score: 0.9763502266383262\n",
      "Precision score:  0.9762523143386135\n",
      "Recall score:  1.0\n",
      "F1 score:  0.9879834748381641\n",
      "              precision    recall  f1-score   support\n",
      "\n",
      "           0       1.00      0.15      0.26      2169\n",
      "           1       0.98      1.00      0.99     75929\n",
      "\n",
      "    accuracy                           0.98     78098\n",
      "   macro avg       0.99      0.57      0.62     78098\n",
      "weighted avg       0.98      0.98      0.97     78098\n",
      "\n"
     ]
    }
   ],
   "source": [
    "from sklearn.naive_bayes import GaussianNB \n",
    "from sklearn.metrics import mean_squared_error, precision_score, recall_score, f1_score, accuracy_score, classification_report\n",
    "\n",
    "gnb = GaussianNB(var_smoothing=0.3511191734215131)\n",
    "gnb.fit(Xtrain, ytrain)\n",
    "\n",
    "ypred = gnb.predict(Xtest)\n",
    "print(\"After tuning GaussianNB\")\n",
    "GNBmse=mean_squared_error(ytest, ypred)\n",
    "print(\"Mean squared error:\", GNBmse)\n",
    "GNBacc=accuracy_score(ytest, ypred)\n",
    "print(\"Accuracy score:\", GNBacc)\n",
    "GNBpre=precision_score(ytest, ypred)\n",
    "print(\"Precision score: \", GNBpre)\n",
    "GNBrec=recall_score(ytest, ypred)\n",
    "print(\"Recall score: \", GNBrec) #balance between precision and recall\n",
    "GNBF1=f1_score(ytest, ypred)\n",
    "print(\"F1 score: \", GNBF1)\n",
    "\n",
    "print( classification_report(ytest, ypred))"
   ]
  },
  {
   "cell_type": "markdown",
   "id": "1f555eae",
   "metadata": {},
   "source": [
    "## RandomForestClassifier MC1DropP5Mean"
   ]
  },
  {
   "cell_type": "code",
   "execution_count": 53,
   "id": "c389b3b7",
   "metadata": {},
   "outputs": [
    {
     "name": "stdout",
     "output_type": "stream",
     "text": [
      "Before tuning RandomForestClassifier\n",
      "Mean squared error: 0.012151399523675383\n",
      "Accuracy score: 0.9878486004763246\n",
      "Precision score:  0.989425587467363\n",
      "Recall score:  0.9981693424119902\n",
      "F1 score:  0.9937782323361459\n",
      "              precision    recall  f1-score   support\n",
      "\n",
      "           0       0.91      0.63      0.74      2169\n",
      "           1       0.99      1.00      0.99     75929\n",
      "\n",
      "    accuracy                           0.99     78098\n",
      "   macro avg       0.95      0.81      0.87     78098\n",
      "weighted avg       0.99      0.99      0.99     78098\n",
      "\n"
     ]
    }
   ],
   "source": [
    "from sklearn.ensemble import RandomForestClassifier\n",
    "from sklearn.metrics import mean_squared_error, precision_score, recall_score, f1_score, accuracy_score, classification_report\n",
    "\n",
    "\n",
    "rfc=RandomForestClassifier()\n",
    "rfc.fit(Xtrain, ytrain)\n",
    "\n",
    "\n",
    "ypred = rfc.predict(Xtest)\n",
    "print(\"Before tuning RandomForestClassifier\")\n",
    "print(\"Mean squared error:\", mean_squared_error(ytest, ypred))\n",
    "print(\"Accuracy score:\", accuracy_score(ytest, ypred))\n",
    "print(\"Precision score: \", precision_score(ytest, ypred))\n",
    "print(\"Recall score: \", recall_score(ytest, ypred)) #balance between precision and recall\n",
    "print(\"F1 score: \", f1_score(ytest, ypred))\n",
    "\n",
    "print(classification_report(ytest, ypred))"
   ]
  },
  {
   "cell_type": "code",
   "execution_count": 11,
   "id": "4f0209d9",
   "metadata": {},
   "outputs": [
    {
     "data": {
      "text/plain": [
       "dict_keys(['bootstrap', 'ccp_alpha', 'class_weight', 'criterion', 'max_depth', 'max_features', 'max_leaf_nodes', 'max_samples', 'min_impurity_decrease', 'min_impurity_split', 'min_samples_leaf', 'min_samples_split', 'min_weight_fraction_leaf', 'n_estimators', 'n_jobs', 'oob_score', 'random_state', 'verbose', 'warm_start'])"
      ]
     },
     "execution_count": 11,
     "metadata": {},
     "output_type": "execute_result"
    }
   ],
   "source": [
    "rfc.get_params().keys()"
   ]
  },
  {
   "cell_type": "code",
   "execution_count": 12,
   "id": "dd9c2b23",
   "metadata": {},
   "outputs": [
    {
     "name": "stdout",
     "output_type": "stream",
     "text": [
      "RandomForestClassifier(n_estimators=75)\n"
     ]
    }
   ],
   "source": [
    "parameters = [{'n_estimators':list(np.arange(1, 100, 1))\n",
    "              }] \n",
    "\n",
    "grid = GridSearchCV(rfc, parameters)\n",
    "grid.fit(Xtrain, ytrain)\n",
    " \n",
    "print(grid.best_estimator_) #print how the model looks after hyper parameter tuning "
   ]
  },
  {
   "cell_type": "code",
   "execution_count": 65,
   "id": "b5f1bfa4",
   "metadata": {},
   "outputs": [
    {
     "name": "stdout",
     "output_type": "stream",
     "text": [
      "After tuning RandomForestClassifier\n",
      "Mean squared error: 0.012010550846372507\n",
      "Accuracy score: 0.9879894491536275\n",
      "Precision score:  0.989388777947453\n",
      "Recall score:  0.9983537251906386\n",
      "F1 score:  0.9938510350976099\n",
      "              precision    recall  f1-score   support\n",
      "\n",
      "           0       0.92      0.63      0.74      2169\n",
      "           1       0.99      1.00      0.99     75929\n",
      "\n",
      "    accuracy                           0.99     78098\n",
      "   macro avg       0.95      0.81      0.87     78098\n",
      "weighted avg       0.99      0.99      0.99     78098\n",
      "\n"
     ]
    }
   ],
   "source": [
    "from sklearn.ensemble import RandomForestClassifier\n",
    "from sklearn.metrics import mean_squared_error, precision_score, recall_score, f1_score, accuracy_score, classification_report\n",
    "\n",
    "\n",
    "rfc=RandomForestClassifier(n_estimators=75)\n",
    "rfc.fit(Xtrain, ytrain)\n",
    "\n",
    "\n",
    "ypred = rfc.predict(Xtest)\n",
    "print(\"After tuning RandomForestClassifier\")\n",
    "RFCmse=mean_squared_error(ytest, ypred)\n",
    "print(\"Mean squared error:\", RFCmse)\n",
    "RFCacc=accuracy_score(ytest, ypred)\n",
    "print(\"Accuracy score:\", RFCacc)\n",
    "RFCpre=precision_score(ytest, ypred)\n",
    "print(\"Precision score: \", RFCpre)\n",
    "RFCrec=recall_score(ytest, ypred)\n",
    "print(\"Recall score: \", RFCrec) #balance between precision and recall\n",
    "RFCF1=f1_score(ytest, ypred)\n",
    "print(\"F1 score: \", RFCF1)\n",
    "\n",
    "print( classification_report(ytest, ypred))"
   ]
  },
  {
   "cell_type": "markdown",
   "id": "b022a65e",
   "metadata": {},
   "source": [
    "## Logistic Regression MC1DropP5Mean (not worth it as well)"
   ]
  },
  {
   "cell_type": "code",
   "execution_count": 13,
   "id": "fe8c5448",
   "metadata": {},
   "outputs": [
    {
     "name": "stdout",
     "output_type": "stream",
     "text": [
      "Mean squared error: 0.027772798279085253\n",
      "Accuracy score: 0.9722272017209147\n",
      "              precision    recall  f1-score   support\n",
      "\n",
      "           0       0.00      0.00      0.00      2169\n",
      "           1       0.97      1.00      0.99     75929\n",
      "\n",
      "    accuracy                           0.97     78098\n",
      "   macro avg       0.49      0.50      0.49     78098\n",
      "weighted avg       0.95      0.97      0.96     78098\n",
      "\n"
     ]
    },
    {
     "name": "stderr",
     "output_type": "stream",
     "text": [
      "C:\\Users\\Nathan Ting\\anaconda3\\lib\\site-packages\\sklearn\\metrics\\_classification.py:1245: UndefinedMetricWarning: Precision and F-score are ill-defined and being set to 0.0 in labels with no predicted samples. Use `zero_division` parameter to control this behavior.\n",
      "  _warn_prf(average, modifier, msg_start, len(result))\n",
      "C:\\Users\\Nathan Ting\\anaconda3\\lib\\site-packages\\sklearn\\metrics\\_classification.py:1245: UndefinedMetricWarning: Precision and F-score are ill-defined and being set to 0.0 in labels with no predicted samples. Use `zero_division` parameter to control this behavior.\n",
      "  _warn_prf(average, modifier, msg_start, len(result))\n",
      "C:\\Users\\Nathan Ting\\anaconda3\\lib\\site-packages\\sklearn\\metrics\\_classification.py:1245: UndefinedMetricWarning: Precision and F-score are ill-defined and being set to 0.0 in labels with no predicted samples. Use `zero_division` parameter to control this behavior.\n",
      "  _warn_prf(average, modifier, msg_start, len(result))\n"
     ]
    }
   ],
   "source": [
    "from sklearn.linear_model import LogisticRegression\n",
    "from sklearn.metrics import mean_squared_error, precision_score, recall_score, f1_score, accuracy_score, classification_report\n",
    "\n",
    "lr = LogisticRegression()\n",
    "lr.fit(Xtrain, ytrain)\n",
    "\n",
    "ypred = lr.predict(Xtest)\n",
    "print(\"Mean squared error:\", mean_squared_error(ytest, ypred))\n",
    "print(\"Accuracy score:\", accuracy_score(ytest, ypred))\n",
    "#print(\"Precision score: \", precision_score(ytest, ypred))\n",
    "#print(\"Recall score: \", recall_score(ytest, ypred)) #balance between precision and recall\n",
    "#print(\"F1 score: \", f1_score(ytest, ypred))\n",
    "\n",
    "print(classification_report(ytest, ypred))"
   ]
  },
  {
   "cell_type": "code",
   "execution_count": 30,
   "id": "a796d375",
   "metadata": {},
   "outputs": [
    {
     "data": {
      "text/plain": [
       "dict_keys(['C', 'class_weight', 'dual', 'fit_intercept', 'intercept_scaling', 'l1_ratio', 'max_iter', 'multi_class', 'n_jobs', 'penalty', 'random_state', 'solver', 'tol', 'verbose', 'warm_start'])"
      ]
     },
     "execution_count": 30,
     "metadata": {},
     "output_type": "execute_result"
    }
   ],
   "source": [
    "lr.get_params().keys()"
   ]
  },
  {
   "cell_type": "code",
   "execution_count": 14,
   "id": "d9040978",
   "metadata": {
    "scrolled": true
   },
   "outputs": [
    {
     "name": "stderr",
     "output_type": "stream",
     "text": [
      "C:\\Users\\Nathan Ting\\anaconda3\\lib\\site-packages\\scipy\\optimize\\linesearch.py:437: LineSearchWarning: Rounding errors prevent the line search from converging\n",
      "  warn(msg, LineSearchWarning)\n",
      "C:\\Users\\Nathan Ting\\anaconda3\\lib\\site-packages\\scipy\\optimize\\linesearch.py:327: LineSearchWarning: The line search algorithm did not converge\n",
      "  warn('The line search algorithm did not converge', LineSearchWarning)\n",
      "C:\\Users\\Nathan Ting\\anaconda3\\lib\\site-packages\\sklearn\\utils\\optimize.py:195: UserWarning: Line Search failed\n",
      "  warnings.warn('Line Search failed')\n",
      "C:\\Users\\Nathan Ting\\anaconda3\\lib\\site-packages\\scipy\\optimize\\linesearch.py:437: LineSearchWarning: Rounding errors prevent the line search from converging\n",
      "  warn(msg, LineSearchWarning)\n",
      "C:\\Users\\Nathan Ting\\anaconda3\\lib\\site-packages\\scipy\\optimize\\linesearch.py:327: LineSearchWarning: The line search algorithm did not converge\n",
      "  warn('The line search algorithm did not converge', LineSearchWarning)\n",
      "C:\\Users\\Nathan Ting\\anaconda3\\lib\\site-packages\\sklearn\\utils\\optimize.py:195: UserWarning: Line Search failed\n",
      "  warnings.warn('Line Search failed')\n",
      "C:\\Users\\Nathan Ting\\anaconda3\\lib\\site-packages\\scipy\\optimize\\linesearch.py:437: LineSearchWarning: Rounding errors prevent the line search from converging\n",
      "  warn(msg, LineSearchWarning)\n",
      "C:\\Users\\Nathan Ting\\anaconda3\\lib\\site-packages\\scipy\\optimize\\linesearch.py:327: LineSearchWarning: The line search algorithm did not converge\n",
      "  warn('The line search algorithm did not converge', LineSearchWarning)\n",
      "C:\\Users\\Nathan Ting\\anaconda3\\lib\\site-packages\\sklearn\\utils\\optimize.py:195: UserWarning: Line Search failed\n",
      "  warnings.warn('Line Search failed')\n",
      "C:\\Users\\Nathan Ting\\anaconda3\\lib\\site-packages\\scipy\\optimize\\linesearch.py:437: LineSearchWarning: Rounding errors prevent the line search from converging\n",
      "  warn(msg, LineSearchWarning)\n",
      "C:\\Users\\Nathan Ting\\anaconda3\\lib\\site-packages\\scipy\\optimize\\linesearch.py:327: LineSearchWarning: The line search algorithm did not converge\n",
      "  warn('The line search algorithm did not converge', LineSearchWarning)\n",
      "C:\\Users\\Nathan Ting\\anaconda3\\lib\\site-packages\\sklearn\\utils\\optimize.py:195: UserWarning: Line Search failed\n",
      "  warnings.warn('Line Search failed')\n",
      "C:\\Users\\Nathan Ting\\anaconda3\\lib\\site-packages\\scipy\\optimize\\linesearch.py:437: LineSearchWarning: Rounding errors prevent the line search from converging\n",
      "  warn(msg, LineSearchWarning)\n",
      "C:\\Users\\Nathan Ting\\anaconda3\\lib\\site-packages\\scipy\\optimize\\linesearch.py:327: LineSearchWarning: The line search algorithm did not converge\n",
      "  warn('The line search algorithm did not converge', LineSearchWarning)\n",
      "C:\\Users\\Nathan Ting\\anaconda3\\lib\\site-packages\\sklearn\\utils\\optimize.py:195: UserWarning: Line Search failed\n",
      "  warnings.warn('Line Search failed')\n",
      "C:\\Users\\Nathan Ting\\anaconda3\\lib\\site-packages\\scipy\\optimize\\linesearch.py:437: LineSearchWarning: Rounding errors prevent the line search from converging\n",
      "  warn(msg, LineSearchWarning)\n",
      "C:\\Users\\Nathan Ting\\anaconda3\\lib\\site-packages\\scipy\\optimize\\linesearch.py:327: LineSearchWarning: The line search algorithm did not converge\n",
      "  warn('The line search algorithm did not converge', LineSearchWarning)\n",
      "C:\\Users\\Nathan Ting\\anaconda3\\lib\\site-packages\\sklearn\\utils\\optimize.py:195: UserWarning: Line Search failed\n",
      "  warnings.warn('Line Search failed')\n",
      "C:\\Users\\Nathan Ting\\anaconda3\\lib\\site-packages\\scipy\\optimize\\linesearch.py:437: LineSearchWarning: Rounding errors prevent the line search from converging\n",
      "  warn(msg, LineSearchWarning)\n",
      "C:\\Users\\Nathan Ting\\anaconda3\\lib\\site-packages\\scipy\\optimize\\linesearch.py:327: LineSearchWarning: The line search algorithm did not converge\n",
      "  warn('The line search algorithm did not converge', LineSearchWarning)\n",
      "C:\\Users\\Nathan Ting\\anaconda3\\lib\\site-packages\\sklearn\\utils\\optimize.py:195: UserWarning: Line Search failed\n",
      "  warnings.warn('Line Search failed')\n",
      "C:\\Users\\Nathan Ting\\anaconda3\\lib\\site-packages\\scipy\\optimize\\linesearch.py:437: LineSearchWarning: Rounding errors prevent the line search from converging\n",
      "  warn(msg, LineSearchWarning)\n",
      "C:\\Users\\Nathan Ting\\anaconda3\\lib\\site-packages\\scipy\\optimize\\linesearch.py:327: LineSearchWarning: The line search algorithm did not converge\n",
      "  warn('The line search algorithm did not converge', LineSearchWarning)\n",
      "C:\\Users\\Nathan Ting\\anaconda3\\lib\\site-packages\\sklearn\\utils\\optimize.py:195: UserWarning: Line Search failed\n",
      "  warnings.warn('Line Search failed')\n",
      "C:\\Users\\Nathan Ting\\anaconda3\\lib\\site-packages\\scipy\\optimize\\linesearch.py:437: LineSearchWarning: Rounding errors prevent the line search from converging\n",
      "  warn(msg, LineSearchWarning)\n",
      "C:\\Users\\Nathan Ting\\anaconda3\\lib\\site-packages\\scipy\\optimize\\linesearch.py:327: LineSearchWarning: The line search algorithm did not converge\n",
      "  warn('The line search algorithm did not converge', LineSearchWarning)\n",
      "C:\\Users\\Nathan Ting\\anaconda3\\lib\\site-packages\\sklearn\\utils\\optimize.py:195: UserWarning: Line Search failed\n",
      "  warnings.warn('Line Search failed')\n",
      "C:\\Users\\Nathan Ting\\anaconda3\\lib\\site-packages\\scipy\\optimize\\linesearch.py:327: LineSearchWarning: The line search algorithm did not converge\n",
      "  warn('The line search algorithm did not converge', LineSearchWarning)\n",
      "C:\\Users\\Nathan Ting\\anaconda3\\lib\\site-packages\\sklearn\\utils\\optimize.py:195: UserWarning: Line Search failed\n",
      "  warnings.warn('Line Search failed')\n",
      "C:\\Users\\Nathan Ting\\anaconda3\\lib\\site-packages\\scipy\\optimize\\linesearch.py:327: LineSearchWarning: The line search algorithm did not converge\n",
      "  warn('The line search algorithm did not converge', LineSearchWarning)\n",
      "C:\\Users\\Nathan Ting\\anaconda3\\lib\\site-packages\\sklearn\\utils\\optimize.py:195: UserWarning: Line Search failed\n",
      "  warnings.warn('Line Search failed')\n",
      "C:\\Users\\Nathan Ting\\anaconda3\\lib\\site-packages\\scipy\\optimize\\linesearch.py:327: LineSearchWarning: The line search algorithm did not converge\n",
      "  warn('The line search algorithm did not converge', LineSearchWarning)\n",
      "C:\\Users\\Nathan Ting\\anaconda3\\lib\\site-packages\\sklearn\\utils\\optimize.py:195: UserWarning: Line Search failed\n",
      "  warnings.warn('Line Search failed')\n",
      "C:\\Users\\Nathan Ting\\anaconda3\\lib\\site-packages\\scipy\\optimize\\linesearch.py:327: LineSearchWarning: The line search algorithm did not converge\n",
      "  warn('The line search algorithm did not converge', LineSearchWarning)\n",
      "C:\\Users\\Nathan Ting\\anaconda3\\lib\\site-packages\\sklearn\\utils\\optimize.py:195: UserWarning: Line Search failed\n",
      "  warnings.warn('Line Search failed')\n",
      "C:\\Users\\Nathan Ting\\anaconda3\\lib\\site-packages\\scipy\\optimize\\linesearch.py:327: LineSearchWarning: The line search algorithm did not converge\n",
      "  warn('The line search algorithm did not converge', LineSearchWarning)\n",
      "C:\\Users\\Nathan Ting\\anaconda3\\lib\\site-packages\\sklearn\\utils\\optimize.py:195: UserWarning: Line Search failed\n",
      "  warnings.warn('Line Search failed')\n",
      "C:\\Users\\Nathan Ting\\anaconda3\\lib\\site-packages\\scipy\\optimize\\linesearch.py:327: LineSearchWarning: The line search algorithm did not converge\n",
      "  warn('The line search algorithm did not converge', LineSearchWarning)\n",
      "C:\\Users\\Nathan Ting\\anaconda3\\lib\\site-packages\\sklearn\\utils\\optimize.py:195: UserWarning: Line Search failed\n",
      "  warnings.warn('Line Search failed')\n",
      "C:\\Users\\Nathan Ting\\anaconda3\\lib\\site-packages\\scipy\\optimize\\linesearch.py:327: LineSearchWarning: The line search algorithm did not converge\n",
      "  warn('The line search algorithm did not converge', LineSearchWarning)\n",
      "C:\\Users\\Nathan Ting\\anaconda3\\lib\\site-packages\\sklearn\\utils\\optimize.py:195: UserWarning: Line Search failed\n",
      "  warnings.warn('Line Search failed')\n",
      "C:\\Users\\Nathan Ting\\anaconda3\\lib\\site-packages\\scipy\\optimize\\linesearch.py:327: LineSearchWarning: The line search algorithm did not converge\n",
      "  warn('The line search algorithm did not converge', LineSearchWarning)\n",
      "C:\\Users\\Nathan Ting\\anaconda3\\lib\\site-packages\\sklearn\\utils\\optimize.py:195: UserWarning: Line Search failed\n",
      "  warnings.warn('Line Search failed')\n",
      "C:\\Users\\Nathan Ting\\anaconda3\\lib\\site-packages\\scipy\\optimize\\linesearch.py:327: LineSearchWarning: The line search algorithm did not converge\n",
      "  warn('The line search algorithm did not converge', LineSearchWarning)\n",
      "C:\\Users\\Nathan Ting\\anaconda3\\lib\\site-packages\\sklearn\\utils\\optimize.py:195: UserWarning: Line Search failed\n",
      "  warnings.warn('Line Search failed')\n"
     ]
    },
    {
     "name": "stderr",
     "output_type": "stream",
     "text": [
      "C:\\Users\\Nathan Ting\\anaconda3\\lib\\site-packages\\scipy\\optimize\\linesearch.py:327: LineSearchWarning: The line search algorithm did not converge\n",
      "  warn('The line search algorithm did not converge', LineSearchWarning)\n",
      "C:\\Users\\Nathan Ting\\anaconda3\\lib\\site-packages\\sklearn\\utils\\optimize.py:195: UserWarning: Line Search failed\n",
      "  warnings.warn('Line Search failed')\n",
      "C:\\Users\\Nathan Ting\\anaconda3\\lib\\site-packages\\scipy\\optimize\\linesearch.py:327: LineSearchWarning: The line search algorithm did not converge\n",
      "  warn('The line search algorithm did not converge', LineSearchWarning)\n",
      "C:\\Users\\Nathan Ting\\anaconda3\\lib\\site-packages\\sklearn\\utils\\optimize.py:195: UserWarning: Line Search failed\n",
      "  warnings.warn('Line Search failed')\n",
      "C:\\Users\\Nathan Ting\\anaconda3\\lib\\site-packages\\scipy\\optimize\\linesearch.py:327: LineSearchWarning: The line search algorithm did not converge\n",
      "  warn('The line search algorithm did not converge', LineSearchWarning)\n",
      "C:\\Users\\Nathan Ting\\anaconda3\\lib\\site-packages\\sklearn\\utils\\optimize.py:195: UserWarning: Line Search failed\n",
      "  warnings.warn('Line Search failed')\n",
      "C:\\Users\\Nathan Ting\\anaconda3\\lib\\site-packages\\scipy\\optimize\\linesearch.py:327: LineSearchWarning: The line search algorithm did not converge\n",
      "  warn('The line search algorithm did not converge', LineSearchWarning)\n",
      "C:\\Users\\Nathan Ting\\anaconda3\\lib\\site-packages\\sklearn\\utils\\optimize.py:195: UserWarning: Line Search failed\n",
      "  warnings.warn('Line Search failed')\n",
      "C:\\Users\\Nathan Ting\\anaconda3\\lib\\site-packages\\scipy\\optimize\\linesearch.py:327: LineSearchWarning: The line search algorithm did not converge\n",
      "  warn('The line search algorithm did not converge', LineSearchWarning)\n",
      "C:\\Users\\Nathan Ting\\anaconda3\\lib\\site-packages\\sklearn\\utils\\optimize.py:195: UserWarning: Line Search failed\n",
      "  warnings.warn('Line Search failed')\n",
      "C:\\Users\\Nathan Ting\\anaconda3\\lib\\site-packages\\scipy\\optimize\\linesearch.py:327: LineSearchWarning: The line search algorithm did not converge\n",
      "  warn('The line search algorithm did not converge', LineSearchWarning)\n",
      "C:\\Users\\Nathan Ting\\anaconda3\\lib\\site-packages\\sklearn\\utils\\optimize.py:195: UserWarning: Line Search failed\n",
      "  warnings.warn('Line Search failed')\n",
      "C:\\Users\\Nathan Ting\\anaconda3\\lib\\site-packages\\scipy\\optimize\\linesearch.py:327: LineSearchWarning: The line search algorithm did not converge\n",
      "  warn('The line search algorithm did not converge', LineSearchWarning)\n",
      "C:\\Users\\Nathan Ting\\anaconda3\\lib\\site-packages\\sklearn\\utils\\optimize.py:195: UserWarning: Line Search failed\n",
      "  warnings.warn('Line Search failed')\n",
      "C:\\Users\\Nathan Ting\\anaconda3\\lib\\site-packages\\scipy\\optimize\\linesearch.py:327: LineSearchWarning: The line search algorithm did not converge\n",
      "  warn('The line search algorithm did not converge', LineSearchWarning)\n",
      "C:\\Users\\Nathan Ting\\anaconda3\\lib\\site-packages\\sklearn\\utils\\optimize.py:195: UserWarning: Line Search failed\n",
      "  warnings.warn('Line Search failed')\n",
      "C:\\Users\\Nathan Ting\\anaconda3\\lib\\site-packages\\scipy\\optimize\\linesearch.py:327: LineSearchWarning: The line search algorithm did not converge\n",
      "  warn('The line search algorithm did not converge', LineSearchWarning)\n",
      "C:\\Users\\Nathan Ting\\anaconda3\\lib\\site-packages\\sklearn\\utils\\optimize.py:195: UserWarning: Line Search failed\n",
      "  warnings.warn('Line Search failed')\n",
      "C:\\Users\\Nathan Ting\\anaconda3\\lib\\site-packages\\scipy\\optimize\\linesearch.py:327: LineSearchWarning: The line search algorithm did not converge\n",
      "  warn('The line search algorithm did not converge', LineSearchWarning)\n",
      "C:\\Users\\Nathan Ting\\anaconda3\\lib\\site-packages\\sklearn\\utils\\optimize.py:195: UserWarning: Line Search failed\n",
      "  warnings.warn('Line Search failed')\n",
      "C:\\Users\\Nathan Ting\\anaconda3\\lib\\site-packages\\scipy\\optimize\\linesearch.py:327: LineSearchWarning: The line search algorithm did not converge\n",
      "  warn('The line search algorithm did not converge', LineSearchWarning)\n",
      "C:\\Users\\Nathan Ting\\anaconda3\\lib\\site-packages\\sklearn\\utils\\optimize.py:195: UserWarning: Line Search failed\n",
      "  warnings.warn('Line Search failed')\n",
      "C:\\Users\\Nathan Ting\\anaconda3\\lib\\site-packages\\scipy\\optimize\\linesearch.py:327: LineSearchWarning: The line search algorithm did not converge\n",
      "  warn('The line search algorithm did not converge', LineSearchWarning)\n",
      "C:\\Users\\Nathan Ting\\anaconda3\\lib\\site-packages\\sklearn\\utils\\optimize.py:195: UserWarning: Line Search failed\n",
      "  warnings.warn('Line Search failed')\n",
      "C:\\Users\\Nathan Ting\\anaconda3\\lib\\site-packages\\scipy\\optimize\\linesearch.py:327: LineSearchWarning: The line search algorithm did not converge\n",
      "  warn('The line search algorithm did not converge', LineSearchWarning)\n",
      "C:\\Users\\Nathan Ting\\anaconda3\\lib\\site-packages\\sklearn\\utils\\optimize.py:195: UserWarning: Line Search failed\n",
      "  warnings.warn('Line Search failed')\n",
      "C:\\Users\\Nathan Ting\\anaconda3\\lib\\site-packages\\scipy\\optimize\\linesearch.py:327: LineSearchWarning: The line search algorithm did not converge\n",
      "  warn('The line search algorithm did not converge', LineSearchWarning)\n",
      "C:\\Users\\Nathan Ting\\anaconda3\\lib\\site-packages\\sklearn\\utils\\optimize.py:195: UserWarning: Line Search failed\n",
      "  warnings.warn('Line Search failed')\n",
      "C:\\Users\\Nathan Ting\\anaconda3\\lib\\site-packages\\scipy\\optimize\\linesearch.py:327: LineSearchWarning: The line search algorithm did not converge\n",
      "  warn('The line search algorithm did not converge', LineSearchWarning)\n",
      "C:\\Users\\Nathan Ting\\anaconda3\\lib\\site-packages\\sklearn\\utils\\optimize.py:195: UserWarning: Line Search failed\n",
      "  warnings.warn('Line Search failed')\n",
      "C:\\Users\\Nathan Ting\\anaconda3\\lib\\site-packages\\scipy\\optimize\\linesearch.py:327: LineSearchWarning: The line search algorithm did not converge\n",
      "  warn('The line search algorithm did not converge', LineSearchWarning)\n",
      "C:\\Users\\Nathan Ting\\anaconda3\\lib\\site-packages\\sklearn\\utils\\optimize.py:195: UserWarning: Line Search failed\n",
      "  warnings.warn('Line Search failed')\n",
      "C:\\Users\\Nathan Ting\\anaconda3\\lib\\site-packages\\scipy\\optimize\\linesearch.py:327: LineSearchWarning: The line search algorithm did not converge\n",
      "  warn('The line search algorithm did not converge', LineSearchWarning)\n",
      "C:\\Users\\Nathan Ting\\anaconda3\\lib\\site-packages\\sklearn\\utils\\optimize.py:195: UserWarning: Line Search failed\n",
      "  warnings.warn('Line Search failed')\n",
      "C:\\Users\\Nathan Ting\\anaconda3\\lib\\site-packages\\scipy\\optimize\\linesearch.py:327: LineSearchWarning: The line search algorithm did not converge\n",
      "  warn('The line search algorithm did not converge', LineSearchWarning)\n",
      "C:\\Users\\Nathan Ting\\anaconda3\\lib\\site-packages\\sklearn\\utils\\optimize.py:195: UserWarning: Line Search failed\n",
      "  warnings.warn('Line Search failed')\n",
      "C:\\Users\\Nathan Ting\\anaconda3\\lib\\site-packages\\scipy\\optimize\\linesearch.py:327: LineSearchWarning: The line search algorithm did not converge\n",
      "  warn('The line search algorithm did not converge', LineSearchWarning)\n",
      "C:\\Users\\Nathan Ting\\anaconda3\\lib\\site-packages\\sklearn\\utils\\optimize.py:195: UserWarning: Line Search failed\n",
      "  warnings.warn('Line Search failed')\n",
      "C:\\Users\\Nathan Ting\\anaconda3\\lib\\site-packages\\scipy\\optimize\\linesearch.py:327: LineSearchWarning: The line search algorithm did not converge\n",
      "  warn('The line search algorithm did not converge', LineSearchWarning)\n",
      "C:\\Users\\Nathan Ting\\anaconda3\\lib\\site-packages\\sklearn\\utils\\optimize.py:195: UserWarning: Line Search failed\n",
      "  warnings.warn('Line Search failed')\n",
      "C:\\Users\\Nathan Ting\\anaconda3\\lib\\site-packages\\scipy\\optimize\\linesearch.py:327: LineSearchWarning: The line search algorithm did not converge\n",
      "  warn('The line search algorithm did not converge', LineSearchWarning)\n",
      "C:\\Users\\Nathan Ting\\anaconda3\\lib\\site-packages\\sklearn\\utils\\optimize.py:195: UserWarning: Line Search failed\n",
      "  warnings.warn('Line Search failed')\n",
      "C:\\Users\\Nathan Ting\\anaconda3\\lib\\site-packages\\scipy\\optimize\\linesearch.py:327: LineSearchWarning: The line search algorithm did not converge\n",
      "  warn('The line search algorithm did not converge', LineSearchWarning)\n",
      "C:\\Users\\Nathan Ting\\anaconda3\\lib\\site-packages\\sklearn\\utils\\optimize.py:195: UserWarning: Line Search failed\n",
      "  warnings.warn('Line Search failed')\n",
      "C:\\Users\\Nathan Ting\\anaconda3\\lib\\site-packages\\scipy\\optimize\\linesearch.py:327: LineSearchWarning: The line search algorithm did not converge\n",
      "  warn('The line search algorithm did not converge', LineSearchWarning)\n",
      "C:\\Users\\Nathan Ting\\anaconda3\\lib\\site-packages\\sklearn\\utils\\optimize.py:195: UserWarning: Line Search failed\n",
      "  warnings.warn('Line Search failed')\n"
     ]
    },
    {
     "name": "stderr",
     "output_type": "stream",
     "text": [
      "C:\\Users\\Nathan Ting\\anaconda3\\lib\\site-packages\\scipy\\optimize\\linesearch.py:327: LineSearchWarning: The line search algorithm did not converge\n",
      "  warn('The line search algorithm did not converge', LineSearchWarning)\n",
      "C:\\Users\\Nathan Ting\\anaconda3\\lib\\site-packages\\sklearn\\utils\\optimize.py:195: UserWarning: Line Search failed\n",
      "  warnings.warn('Line Search failed')\n",
      "C:\\Users\\Nathan Ting\\anaconda3\\lib\\site-packages\\scipy\\optimize\\linesearch.py:327: LineSearchWarning: The line search algorithm did not converge\n",
      "  warn('The line search algorithm did not converge', LineSearchWarning)\n",
      "C:\\Users\\Nathan Ting\\anaconda3\\lib\\site-packages\\sklearn\\utils\\optimize.py:195: UserWarning: Line Search failed\n",
      "  warnings.warn('Line Search failed')\n",
      "C:\\Users\\Nathan Ting\\anaconda3\\lib\\site-packages\\scipy\\optimize\\linesearch.py:327: LineSearchWarning: The line search algorithm did not converge\n",
      "  warn('The line search algorithm did not converge', LineSearchWarning)\n",
      "C:\\Users\\Nathan Ting\\anaconda3\\lib\\site-packages\\sklearn\\utils\\optimize.py:195: UserWarning: Line Search failed\n",
      "  warnings.warn('Line Search failed')\n",
      "C:\\Users\\Nathan Ting\\anaconda3\\lib\\site-packages\\scipy\\optimize\\linesearch.py:327: LineSearchWarning: The line search algorithm did not converge\n",
      "  warn('The line search algorithm did not converge', LineSearchWarning)\n",
      "C:\\Users\\Nathan Ting\\anaconda3\\lib\\site-packages\\sklearn\\utils\\optimize.py:195: UserWarning: Line Search failed\n",
      "  warnings.warn('Line Search failed')\n",
      "C:\\Users\\Nathan Ting\\anaconda3\\lib\\site-packages\\scipy\\optimize\\linesearch.py:327: LineSearchWarning: The line search algorithm did not converge\n",
      "  warn('The line search algorithm did not converge', LineSearchWarning)\n",
      "C:\\Users\\Nathan Ting\\anaconda3\\lib\\site-packages\\sklearn\\utils\\optimize.py:195: UserWarning: Line Search failed\n",
      "  warnings.warn('Line Search failed')\n",
      "C:\\Users\\Nathan Ting\\anaconda3\\lib\\site-packages\\scipy\\optimize\\linesearch.py:327: LineSearchWarning: The line search algorithm did not converge\n",
      "  warn('The line search algorithm did not converge', LineSearchWarning)\n",
      "C:\\Users\\Nathan Ting\\anaconda3\\lib\\site-packages\\sklearn\\utils\\optimize.py:195: UserWarning: Line Search failed\n",
      "  warnings.warn('Line Search failed')\n",
      "C:\\Users\\Nathan Ting\\anaconda3\\lib\\site-packages\\scipy\\optimize\\linesearch.py:327: LineSearchWarning: The line search algorithm did not converge\n",
      "  warn('The line search algorithm did not converge', LineSearchWarning)\n",
      "C:\\Users\\Nathan Ting\\anaconda3\\lib\\site-packages\\sklearn\\utils\\optimize.py:195: UserWarning: Line Search failed\n",
      "  warnings.warn('Line Search failed')\n",
      "C:\\Users\\Nathan Ting\\anaconda3\\lib\\site-packages\\scipy\\optimize\\linesearch.py:327: LineSearchWarning: The line search algorithm did not converge\n",
      "  warn('The line search algorithm did not converge', LineSearchWarning)\n",
      "C:\\Users\\Nathan Ting\\anaconda3\\lib\\site-packages\\sklearn\\utils\\optimize.py:195: UserWarning: Line Search failed\n",
      "  warnings.warn('Line Search failed')\n",
      "C:\\Users\\Nathan Ting\\anaconda3\\lib\\site-packages\\scipy\\optimize\\linesearch.py:327: LineSearchWarning: The line search algorithm did not converge\n",
      "  warn('The line search algorithm did not converge', LineSearchWarning)\n",
      "C:\\Users\\Nathan Ting\\anaconda3\\lib\\site-packages\\sklearn\\utils\\optimize.py:195: UserWarning: Line Search failed\n",
      "  warnings.warn('Line Search failed')\n",
      "C:\\Users\\Nathan Ting\\anaconda3\\lib\\site-packages\\scipy\\optimize\\linesearch.py:327: LineSearchWarning: The line search algorithm did not converge\n",
      "  warn('The line search algorithm did not converge', LineSearchWarning)\n",
      "C:\\Users\\Nathan Ting\\anaconda3\\lib\\site-packages\\sklearn\\utils\\optimize.py:195: UserWarning: Line Search failed\n",
      "  warnings.warn('Line Search failed')\n",
      "C:\\Users\\Nathan Ting\\anaconda3\\lib\\site-packages\\scipy\\optimize\\linesearch.py:327: LineSearchWarning: The line search algorithm did not converge\n",
      "  warn('The line search algorithm did not converge', LineSearchWarning)\n",
      "C:\\Users\\Nathan Ting\\anaconda3\\lib\\site-packages\\sklearn\\utils\\optimize.py:195: UserWarning: Line Search failed\n",
      "  warnings.warn('Line Search failed')\n",
      "C:\\Users\\Nathan Ting\\anaconda3\\lib\\site-packages\\scipy\\optimize\\linesearch.py:327: LineSearchWarning: The line search algorithm did not converge\n",
      "  warn('The line search algorithm did not converge', LineSearchWarning)\n",
      "C:\\Users\\Nathan Ting\\anaconda3\\lib\\site-packages\\sklearn\\utils\\optimize.py:195: UserWarning: Line Search failed\n",
      "  warnings.warn('Line Search failed')\n",
      "C:\\Users\\Nathan Ting\\anaconda3\\lib\\site-packages\\scipy\\optimize\\linesearch.py:327: LineSearchWarning: The line search algorithm did not converge\n",
      "  warn('The line search algorithm did not converge', LineSearchWarning)\n",
      "C:\\Users\\Nathan Ting\\anaconda3\\lib\\site-packages\\sklearn\\utils\\optimize.py:195: UserWarning: Line Search failed\n",
      "  warnings.warn('Line Search failed')\n",
      "C:\\Users\\Nathan Ting\\anaconda3\\lib\\site-packages\\scipy\\optimize\\linesearch.py:327: LineSearchWarning: The line search algorithm did not converge\n",
      "  warn('The line search algorithm did not converge', LineSearchWarning)\n",
      "C:\\Users\\Nathan Ting\\anaconda3\\lib\\site-packages\\sklearn\\utils\\optimize.py:195: UserWarning: Line Search failed\n",
      "  warnings.warn('Line Search failed')\n",
      "C:\\Users\\Nathan Ting\\anaconda3\\lib\\site-packages\\scipy\\optimize\\linesearch.py:437: LineSearchWarning: Rounding errors prevent the line search from converging\n",
      "  warn(msg, LineSearchWarning)\n",
      "C:\\Users\\Nathan Ting\\anaconda3\\lib\\site-packages\\scipy\\optimize\\linesearch.py:327: LineSearchWarning: The line search algorithm did not converge\n",
      "  warn('The line search algorithm did not converge', LineSearchWarning)\n",
      "C:\\Users\\Nathan Ting\\anaconda3\\lib\\site-packages\\sklearn\\utils\\optimize.py:195: UserWarning: Line Search failed\n",
      "  warnings.warn('Line Search failed')\n",
      "C:\\Users\\Nathan Ting\\anaconda3\\lib\\site-packages\\scipy\\optimize\\linesearch.py:327: LineSearchWarning: The line search algorithm did not converge\n",
      "  warn('The line search algorithm did not converge', LineSearchWarning)\n",
      "C:\\Users\\Nathan Ting\\anaconda3\\lib\\site-packages\\sklearn\\utils\\optimize.py:195: UserWarning: Line Search failed\n",
      "  warnings.warn('Line Search failed')\n",
      "C:\\Users\\Nathan Ting\\anaconda3\\lib\\site-packages\\scipy\\optimize\\linesearch.py:437: LineSearchWarning: Rounding errors prevent the line search from converging\n",
      "  warn(msg, LineSearchWarning)\n",
      "C:\\Users\\Nathan Ting\\anaconda3\\lib\\site-packages\\scipy\\optimize\\linesearch.py:327: LineSearchWarning: The line search algorithm did not converge\n",
      "  warn('The line search algorithm did not converge', LineSearchWarning)\n",
      "C:\\Users\\Nathan Ting\\anaconda3\\lib\\site-packages\\sklearn\\utils\\optimize.py:195: UserWarning: Line Search failed\n",
      "  warnings.warn('Line Search failed')\n",
      "C:\\Users\\Nathan Ting\\anaconda3\\lib\\site-packages\\scipy\\optimize\\linesearch.py:327: LineSearchWarning: The line search algorithm did not converge\n",
      "  warn('The line search algorithm did not converge', LineSearchWarning)\n",
      "C:\\Users\\Nathan Ting\\anaconda3\\lib\\site-packages\\sklearn\\utils\\optimize.py:195: UserWarning: Line Search failed\n",
      "  warnings.warn('Line Search failed')\n",
      "C:\\Users\\Nathan Ting\\anaconda3\\lib\\site-packages\\scipy\\optimize\\linesearch.py:437: LineSearchWarning: Rounding errors prevent the line search from converging\n",
      "  warn(msg, LineSearchWarning)\n",
      "C:\\Users\\Nathan Ting\\anaconda3\\lib\\site-packages\\scipy\\optimize\\linesearch.py:327: LineSearchWarning: The line search algorithm did not converge\n",
      "  warn('The line search algorithm did not converge', LineSearchWarning)\n",
      "C:\\Users\\Nathan Ting\\anaconda3\\lib\\site-packages\\sklearn\\utils\\optimize.py:195: UserWarning: Line Search failed\n",
      "  warnings.warn('Line Search failed')\n",
      "C:\\Users\\Nathan Ting\\anaconda3\\lib\\site-packages\\scipy\\optimize\\linesearch.py:327: LineSearchWarning: The line search algorithm did not converge\n",
      "  warn('The line search algorithm did not converge', LineSearchWarning)\n",
      "C:\\Users\\Nathan Ting\\anaconda3\\lib\\site-packages\\sklearn\\utils\\optimize.py:195: UserWarning: Line Search failed\n",
      "  warnings.warn('Line Search failed')\n",
      "C:\\Users\\Nathan Ting\\anaconda3\\lib\\site-packages\\scipy\\optimize\\linesearch.py:437: LineSearchWarning: Rounding errors prevent the line search from converging\n",
      "  warn(msg, LineSearchWarning)\n",
      "C:\\Users\\Nathan Ting\\anaconda3\\lib\\site-packages\\scipy\\optimize\\linesearch.py:327: LineSearchWarning: The line search algorithm did not converge\n",
      "  warn('The line search algorithm did not converge', LineSearchWarning)\n",
      "C:\\Users\\Nathan Ting\\anaconda3\\lib\\site-packages\\sklearn\\utils\\optimize.py:195: UserWarning: Line Search failed\n",
      "  warnings.warn('Line Search failed')\n"
     ]
    },
    {
     "name": "stderr",
     "output_type": "stream",
     "text": [
      "C:\\Users\\Nathan Ting\\anaconda3\\lib\\site-packages\\scipy\\optimize\\linesearch.py:327: LineSearchWarning: The line search algorithm did not converge\n",
      "  warn('The line search algorithm did not converge', LineSearchWarning)\n",
      "C:\\Users\\Nathan Ting\\anaconda3\\lib\\site-packages\\sklearn\\utils\\optimize.py:195: UserWarning: Line Search failed\n",
      "  warnings.warn('Line Search failed')\n",
      "C:\\Users\\Nathan Ting\\anaconda3\\lib\\site-packages\\scipy\\optimize\\linesearch.py:437: LineSearchWarning: Rounding errors prevent the line search from converging\n",
      "  warn(msg, LineSearchWarning)\n",
      "C:\\Users\\Nathan Ting\\anaconda3\\lib\\site-packages\\scipy\\optimize\\linesearch.py:327: LineSearchWarning: The line search algorithm did not converge\n",
      "  warn('The line search algorithm did not converge', LineSearchWarning)\n",
      "C:\\Users\\Nathan Ting\\anaconda3\\lib\\site-packages\\sklearn\\utils\\optimize.py:195: UserWarning: Line Search failed\n",
      "  warnings.warn('Line Search failed')\n",
      "C:\\Users\\Nathan Ting\\anaconda3\\lib\\site-packages\\scipy\\optimize\\linesearch.py:327: LineSearchWarning: The line search algorithm did not converge\n",
      "  warn('The line search algorithm did not converge', LineSearchWarning)\n",
      "C:\\Users\\Nathan Ting\\anaconda3\\lib\\site-packages\\sklearn\\utils\\optimize.py:195: UserWarning: Line Search failed\n",
      "  warnings.warn('Line Search failed')\n",
      "C:\\Users\\Nathan Ting\\anaconda3\\lib\\site-packages\\scipy\\optimize\\linesearch.py:437: LineSearchWarning: Rounding errors prevent the line search from converging\n",
      "  warn(msg, LineSearchWarning)\n",
      "C:\\Users\\Nathan Ting\\anaconda3\\lib\\site-packages\\scipy\\optimize\\linesearch.py:327: LineSearchWarning: The line search algorithm did not converge\n",
      "  warn('The line search algorithm did not converge', LineSearchWarning)\n",
      "C:\\Users\\Nathan Ting\\anaconda3\\lib\\site-packages\\sklearn\\utils\\optimize.py:195: UserWarning: Line Search failed\n",
      "  warnings.warn('Line Search failed')\n",
      "C:\\Users\\Nathan Ting\\anaconda3\\lib\\site-packages\\scipy\\optimize\\linesearch.py:327: LineSearchWarning: The line search algorithm did not converge\n",
      "  warn('The line search algorithm did not converge', LineSearchWarning)\n",
      "C:\\Users\\Nathan Ting\\anaconda3\\lib\\site-packages\\sklearn\\utils\\optimize.py:195: UserWarning: Line Search failed\n",
      "  warnings.warn('Line Search failed')\n",
      "C:\\Users\\Nathan Ting\\anaconda3\\lib\\site-packages\\scipy\\optimize\\linesearch.py:437: LineSearchWarning: Rounding errors prevent the line search from converging\n",
      "  warn(msg, LineSearchWarning)\n",
      "C:\\Users\\Nathan Ting\\anaconda3\\lib\\site-packages\\scipy\\optimize\\linesearch.py:327: LineSearchWarning: The line search algorithm did not converge\n",
      "  warn('The line search algorithm did not converge', LineSearchWarning)\n",
      "C:\\Users\\Nathan Ting\\anaconda3\\lib\\site-packages\\sklearn\\utils\\optimize.py:195: UserWarning: Line Search failed\n",
      "  warnings.warn('Line Search failed')\n",
      "C:\\Users\\Nathan Ting\\anaconda3\\lib\\site-packages\\scipy\\optimize\\linesearch.py:327: LineSearchWarning: The line search algorithm did not converge\n",
      "  warn('The line search algorithm did not converge', LineSearchWarning)\n",
      "C:\\Users\\Nathan Ting\\anaconda3\\lib\\site-packages\\sklearn\\utils\\optimize.py:195: UserWarning: Line Search failed\n",
      "  warnings.warn('Line Search failed')\n",
      "C:\\Users\\Nathan Ting\\anaconda3\\lib\\site-packages\\scipy\\optimize\\linesearch.py:437: LineSearchWarning: Rounding errors prevent the line search from converging\n",
      "  warn(msg, LineSearchWarning)\n",
      "C:\\Users\\Nathan Ting\\anaconda3\\lib\\site-packages\\scipy\\optimize\\linesearch.py:327: LineSearchWarning: The line search algorithm did not converge\n",
      "  warn('The line search algorithm did not converge', LineSearchWarning)\n",
      "C:\\Users\\Nathan Ting\\anaconda3\\lib\\site-packages\\sklearn\\utils\\optimize.py:195: UserWarning: Line Search failed\n",
      "  warnings.warn('Line Search failed')\n",
      "C:\\Users\\Nathan Ting\\anaconda3\\lib\\site-packages\\scipy\\optimize\\linesearch.py:327: LineSearchWarning: The line search algorithm did not converge\n",
      "  warn('The line search algorithm did not converge', LineSearchWarning)\n",
      "C:\\Users\\Nathan Ting\\anaconda3\\lib\\site-packages\\sklearn\\utils\\optimize.py:195: UserWarning: Line Search failed\n",
      "  warnings.warn('Line Search failed')\n",
      "C:\\Users\\Nathan Ting\\anaconda3\\lib\\site-packages\\scipy\\optimize\\linesearch.py:437: LineSearchWarning: Rounding errors prevent the line search from converging\n",
      "  warn(msg, LineSearchWarning)\n",
      "C:\\Users\\Nathan Ting\\anaconda3\\lib\\site-packages\\scipy\\optimize\\linesearch.py:327: LineSearchWarning: The line search algorithm did not converge\n",
      "  warn('The line search algorithm did not converge', LineSearchWarning)\n",
      "C:\\Users\\Nathan Ting\\anaconda3\\lib\\site-packages\\sklearn\\utils\\optimize.py:195: UserWarning: Line Search failed\n",
      "  warnings.warn('Line Search failed')\n",
      "C:\\Users\\Nathan Ting\\anaconda3\\lib\\site-packages\\scipy\\optimize\\linesearch.py:327: LineSearchWarning: The line search algorithm did not converge\n",
      "  warn('The line search algorithm did not converge', LineSearchWarning)\n",
      "C:\\Users\\Nathan Ting\\anaconda3\\lib\\site-packages\\sklearn\\utils\\optimize.py:195: UserWarning: Line Search failed\n",
      "  warnings.warn('Line Search failed')\n",
      "C:\\Users\\Nathan Ting\\anaconda3\\lib\\site-packages\\scipy\\optimize\\linesearch.py:327: LineSearchWarning: The line search algorithm did not converge\n",
      "  warn('The line search algorithm did not converge', LineSearchWarning)\n",
      "C:\\Users\\Nathan Ting\\anaconda3\\lib\\site-packages\\sklearn\\utils\\optimize.py:195: UserWarning: Line Search failed\n",
      "  warnings.warn('Line Search failed')\n",
      "C:\\Users\\Nathan Ting\\anaconda3\\lib\\site-packages\\scipy\\optimize\\linesearch.py:327: LineSearchWarning: The line search algorithm did not converge\n",
      "  warn('The line search algorithm did not converge', LineSearchWarning)\n",
      "C:\\Users\\Nathan Ting\\anaconda3\\lib\\site-packages\\sklearn\\utils\\optimize.py:195: UserWarning: Line Search failed\n",
      "  warnings.warn('Line Search failed')\n",
      "C:\\Users\\Nathan Ting\\anaconda3\\lib\\site-packages\\scipy\\optimize\\linesearch.py:327: LineSearchWarning: The line search algorithm did not converge\n",
      "  warn('The line search algorithm did not converge', LineSearchWarning)\n",
      "C:\\Users\\Nathan Ting\\anaconda3\\lib\\site-packages\\sklearn\\utils\\optimize.py:195: UserWarning: Line Search failed\n",
      "  warnings.warn('Line Search failed')\n",
      "C:\\Users\\Nathan Ting\\anaconda3\\lib\\site-packages\\scipy\\optimize\\linesearch.py:327: LineSearchWarning: The line search algorithm did not converge\n",
      "  warn('The line search algorithm did not converge', LineSearchWarning)\n",
      "C:\\Users\\Nathan Ting\\anaconda3\\lib\\site-packages\\sklearn\\utils\\optimize.py:195: UserWarning: Line Search failed\n",
      "  warnings.warn('Line Search failed')\n",
      "C:\\Users\\Nathan Ting\\anaconda3\\lib\\site-packages\\scipy\\optimize\\linesearch.py:327: LineSearchWarning: The line search algorithm did not converge\n",
      "  warn('The line search algorithm did not converge', LineSearchWarning)\n",
      "C:\\Users\\Nathan Ting\\anaconda3\\lib\\site-packages\\sklearn\\utils\\optimize.py:195: UserWarning: Line Search failed\n",
      "  warnings.warn('Line Search failed')\n",
      "C:\\Users\\Nathan Ting\\anaconda3\\lib\\site-packages\\scipy\\optimize\\linesearch.py:327: LineSearchWarning: The line search algorithm did not converge\n",
      "  warn('The line search algorithm did not converge', LineSearchWarning)\n",
      "C:\\Users\\Nathan Ting\\anaconda3\\lib\\site-packages\\sklearn\\utils\\optimize.py:195: UserWarning: Line Search failed\n",
      "  warnings.warn('Line Search failed')\n",
      "C:\\Users\\Nathan Ting\\anaconda3\\lib\\site-packages\\scipy\\optimize\\linesearch.py:327: LineSearchWarning: The line search algorithm did not converge\n",
      "  warn('The line search algorithm did not converge', LineSearchWarning)\n",
      "C:\\Users\\Nathan Ting\\anaconda3\\lib\\site-packages\\sklearn\\utils\\optimize.py:195: UserWarning: Line Search failed\n",
      "  warnings.warn('Line Search failed')\n",
      "C:\\Users\\Nathan Ting\\anaconda3\\lib\\site-packages\\scipy\\optimize\\linesearch.py:327: LineSearchWarning: The line search algorithm did not converge\n",
      "  warn('The line search algorithm did not converge', LineSearchWarning)\n",
      "C:\\Users\\Nathan Ting\\anaconda3\\lib\\site-packages\\sklearn\\utils\\optimize.py:195: UserWarning: Line Search failed\n",
      "  warnings.warn('Line Search failed')\n",
      "C:\\Users\\Nathan Ting\\anaconda3\\lib\\site-packages\\scipy\\optimize\\linesearch.py:327: LineSearchWarning: The line search algorithm did not converge\n",
      "  warn('The line search algorithm did not converge', LineSearchWarning)\n",
      "C:\\Users\\Nathan Ting\\anaconda3\\lib\\site-packages\\sklearn\\utils\\optimize.py:195: UserWarning: Line Search failed\n",
      "  warnings.warn('Line Search failed')\n"
     ]
    },
    {
     "name": "stderr",
     "output_type": "stream",
     "text": [
      "C:\\Users\\Nathan Ting\\anaconda3\\lib\\site-packages\\scipy\\optimize\\linesearch.py:327: LineSearchWarning: The line search algorithm did not converge\n",
      "  warn('The line search algorithm did not converge', LineSearchWarning)\n",
      "C:\\Users\\Nathan Ting\\anaconda3\\lib\\site-packages\\sklearn\\utils\\optimize.py:195: UserWarning: Line Search failed\n",
      "  warnings.warn('Line Search failed')\n",
      "C:\\Users\\Nathan Ting\\anaconda3\\lib\\site-packages\\scipy\\optimize\\linesearch.py:327: LineSearchWarning: The line search algorithm did not converge\n",
      "  warn('The line search algorithm did not converge', LineSearchWarning)\n",
      "C:\\Users\\Nathan Ting\\anaconda3\\lib\\site-packages\\sklearn\\utils\\optimize.py:195: UserWarning: Line Search failed\n",
      "  warnings.warn('Line Search failed')\n",
      "C:\\Users\\Nathan Ting\\anaconda3\\lib\\site-packages\\scipy\\optimize\\linesearch.py:327: LineSearchWarning: The line search algorithm did not converge\n",
      "  warn('The line search algorithm did not converge', LineSearchWarning)\n",
      "C:\\Users\\Nathan Ting\\anaconda3\\lib\\site-packages\\sklearn\\utils\\optimize.py:195: UserWarning: Line Search failed\n",
      "  warnings.warn('Line Search failed')\n",
      "C:\\Users\\Nathan Ting\\anaconda3\\lib\\site-packages\\scipy\\optimize\\linesearch.py:327: LineSearchWarning: The line search algorithm did not converge\n",
      "  warn('The line search algorithm did not converge', LineSearchWarning)\n",
      "C:\\Users\\Nathan Ting\\anaconda3\\lib\\site-packages\\sklearn\\utils\\optimize.py:195: UserWarning: Line Search failed\n",
      "  warnings.warn('Line Search failed')\n",
      "C:\\Users\\Nathan Ting\\anaconda3\\lib\\site-packages\\scipy\\optimize\\linesearch.py:327: LineSearchWarning: The line search algorithm did not converge\n",
      "  warn('The line search algorithm did not converge', LineSearchWarning)\n",
      "C:\\Users\\Nathan Ting\\anaconda3\\lib\\site-packages\\sklearn\\utils\\optimize.py:195: UserWarning: Line Search failed\n",
      "  warnings.warn('Line Search failed')\n",
      "C:\\Users\\Nathan Ting\\anaconda3\\lib\\site-packages\\scipy\\optimize\\linesearch.py:327: LineSearchWarning: The line search algorithm did not converge\n",
      "  warn('The line search algorithm did not converge', LineSearchWarning)\n",
      "C:\\Users\\Nathan Ting\\anaconda3\\lib\\site-packages\\sklearn\\utils\\optimize.py:195: UserWarning: Line Search failed\n",
      "  warnings.warn('Line Search failed')\n",
      "C:\\Users\\Nathan Ting\\anaconda3\\lib\\site-packages\\scipy\\optimize\\linesearch.py:327: LineSearchWarning: The line search algorithm did not converge\n",
      "  warn('The line search algorithm did not converge', LineSearchWarning)\n",
      "C:\\Users\\Nathan Ting\\anaconda3\\lib\\site-packages\\sklearn\\utils\\optimize.py:195: UserWarning: Line Search failed\n",
      "  warnings.warn('Line Search failed')\n",
      "C:\\Users\\Nathan Ting\\anaconda3\\lib\\site-packages\\scipy\\optimize\\linesearch.py:327: LineSearchWarning: The line search algorithm did not converge\n",
      "  warn('The line search algorithm did not converge', LineSearchWarning)\n",
      "C:\\Users\\Nathan Ting\\anaconda3\\lib\\site-packages\\sklearn\\utils\\optimize.py:195: UserWarning: Line Search failed\n",
      "  warnings.warn('Line Search failed')\n",
      "C:\\Users\\Nathan Ting\\anaconda3\\lib\\site-packages\\scipy\\optimize\\linesearch.py:327: LineSearchWarning: The line search algorithm did not converge\n",
      "  warn('The line search algorithm did not converge', LineSearchWarning)\n",
      "C:\\Users\\Nathan Ting\\anaconda3\\lib\\site-packages\\sklearn\\utils\\optimize.py:195: UserWarning: Line Search failed\n",
      "  warnings.warn('Line Search failed')\n",
      "C:\\Users\\Nathan Ting\\anaconda3\\lib\\site-packages\\scipy\\optimize\\linesearch.py:327: LineSearchWarning: The line search algorithm did not converge\n",
      "  warn('The line search algorithm did not converge', LineSearchWarning)\n",
      "C:\\Users\\Nathan Ting\\anaconda3\\lib\\site-packages\\sklearn\\utils\\optimize.py:195: UserWarning: Line Search failed\n",
      "  warnings.warn('Line Search failed')\n",
      "C:\\Users\\Nathan Ting\\anaconda3\\lib\\site-packages\\scipy\\optimize\\linesearch.py:327: LineSearchWarning: The line search algorithm did not converge\n",
      "  warn('The line search algorithm did not converge', LineSearchWarning)\n",
      "C:\\Users\\Nathan Ting\\anaconda3\\lib\\site-packages\\sklearn\\utils\\optimize.py:195: UserWarning: Line Search failed\n",
      "  warnings.warn('Line Search failed')\n",
      "C:\\Users\\Nathan Ting\\anaconda3\\lib\\site-packages\\scipy\\optimize\\linesearch.py:327: LineSearchWarning: The line search algorithm did not converge\n",
      "  warn('The line search algorithm did not converge', LineSearchWarning)\n",
      "C:\\Users\\Nathan Ting\\anaconda3\\lib\\site-packages\\sklearn\\utils\\optimize.py:195: UserWarning: Line Search failed\n",
      "  warnings.warn('Line Search failed')\n",
      "C:\\Users\\Nathan Ting\\anaconda3\\lib\\site-packages\\scipy\\optimize\\linesearch.py:327: LineSearchWarning: The line search algorithm did not converge\n",
      "  warn('The line search algorithm did not converge', LineSearchWarning)\n",
      "C:\\Users\\Nathan Ting\\anaconda3\\lib\\site-packages\\sklearn\\utils\\optimize.py:195: UserWarning: Line Search failed\n",
      "  warnings.warn('Line Search failed')\n",
      "C:\\Users\\Nathan Ting\\anaconda3\\lib\\site-packages\\scipy\\optimize\\linesearch.py:327: LineSearchWarning: The line search algorithm did not converge\n",
      "  warn('The line search algorithm did not converge', LineSearchWarning)\n",
      "C:\\Users\\Nathan Ting\\anaconda3\\lib\\site-packages\\sklearn\\utils\\optimize.py:195: UserWarning: Line Search failed\n",
      "  warnings.warn('Line Search failed')\n",
      "C:\\Users\\Nathan Ting\\anaconda3\\lib\\site-packages\\scipy\\optimize\\linesearch.py:327: LineSearchWarning: The line search algorithm did not converge\n",
      "  warn('The line search algorithm did not converge', LineSearchWarning)\n",
      "C:\\Users\\Nathan Ting\\anaconda3\\lib\\site-packages\\sklearn\\utils\\optimize.py:195: UserWarning: Line Search failed\n",
      "  warnings.warn('Line Search failed')\n",
      "C:\\Users\\Nathan Ting\\anaconda3\\lib\\site-packages\\scipy\\optimize\\linesearch.py:327: LineSearchWarning: The line search algorithm did not converge\n",
      "  warn('The line search algorithm did not converge', LineSearchWarning)\n",
      "C:\\Users\\Nathan Ting\\anaconda3\\lib\\site-packages\\sklearn\\utils\\optimize.py:195: UserWarning: Line Search failed\n",
      "  warnings.warn('Line Search failed')\n",
      "C:\\Users\\Nathan Ting\\anaconda3\\lib\\site-packages\\scipy\\optimize\\linesearch.py:327: LineSearchWarning: The line search algorithm did not converge\n",
      "  warn('The line search algorithm did not converge', LineSearchWarning)\n",
      "C:\\Users\\Nathan Ting\\anaconda3\\lib\\site-packages\\sklearn\\utils\\optimize.py:195: UserWarning: Line Search failed\n",
      "  warnings.warn('Line Search failed')\n",
      "C:\\Users\\Nathan Ting\\anaconda3\\lib\\site-packages\\scipy\\optimize\\linesearch.py:437: LineSearchWarning: Rounding errors prevent the line search from converging\n",
      "  warn(msg, LineSearchWarning)\n",
      "C:\\Users\\Nathan Ting\\anaconda3\\lib\\site-packages\\scipy\\optimize\\linesearch.py:327: LineSearchWarning: The line search algorithm did not converge\n",
      "  warn('The line search algorithm did not converge', LineSearchWarning)\n",
      "C:\\Users\\Nathan Ting\\anaconda3\\lib\\site-packages\\sklearn\\utils\\optimize.py:195: UserWarning: Line Search failed\n",
      "  warnings.warn('Line Search failed')\n",
      "C:\\Users\\Nathan Ting\\anaconda3\\lib\\site-packages\\scipy\\optimize\\linesearch.py:437: LineSearchWarning: Rounding errors prevent the line search from converging\n",
      "  warn(msg, LineSearchWarning)\n",
      "C:\\Users\\Nathan Ting\\anaconda3\\lib\\site-packages\\scipy\\optimize\\linesearch.py:327: LineSearchWarning: The line search algorithm did not converge\n",
      "  warn('The line search algorithm did not converge', LineSearchWarning)\n",
      "C:\\Users\\Nathan Ting\\anaconda3\\lib\\site-packages\\sklearn\\utils\\optimize.py:195: UserWarning: Line Search failed\n",
      "  warnings.warn('Line Search failed')\n",
      "C:\\Users\\Nathan Ting\\anaconda3\\lib\\site-packages\\scipy\\optimize\\linesearch.py:437: LineSearchWarning: Rounding errors prevent the line search from converging\n",
      "  warn(msg, LineSearchWarning)\n",
      "C:\\Users\\Nathan Ting\\anaconda3\\lib\\site-packages\\scipy\\optimize\\linesearch.py:327: LineSearchWarning: The line search algorithm did not converge\n",
      "  warn('The line search algorithm did not converge', LineSearchWarning)\n",
      "C:\\Users\\Nathan Ting\\anaconda3\\lib\\site-packages\\sklearn\\utils\\optimize.py:195: UserWarning: Line Search failed\n",
      "  warnings.warn('Line Search failed')\n",
      "C:\\Users\\Nathan Ting\\anaconda3\\lib\\site-packages\\scipy\\optimize\\linesearch.py:437: LineSearchWarning: Rounding errors prevent the line search from converging\n",
      "  warn(msg, LineSearchWarning)\n",
      "C:\\Users\\Nathan Ting\\anaconda3\\lib\\site-packages\\scipy\\optimize\\linesearch.py:327: LineSearchWarning: The line search algorithm did not converge\n",
      "  warn('The line search algorithm did not converge', LineSearchWarning)\n",
      "C:\\Users\\Nathan Ting\\anaconda3\\lib\\site-packages\\sklearn\\utils\\optimize.py:195: UserWarning: Line Search failed\n",
      "  warnings.warn('Line Search failed')\n"
     ]
    },
    {
     "name": "stderr",
     "output_type": "stream",
     "text": [
      "C:\\Users\\Nathan Ting\\anaconda3\\lib\\site-packages\\scipy\\optimize\\linesearch.py:437: LineSearchWarning: Rounding errors prevent the line search from converging\n",
      "  warn(msg, LineSearchWarning)\n",
      "C:\\Users\\Nathan Ting\\anaconda3\\lib\\site-packages\\scipy\\optimize\\linesearch.py:327: LineSearchWarning: The line search algorithm did not converge\n",
      "  warn('The line search algorithm did not converge', LineSearchWarning)\n",
      "C:\\Users\\Nathan Ting\\anaconda3\\lib\\site-packages\\sklearn\\utils\\optimize.py:195: UserWarning: Line Search failed\n",
      "  warnings.warn('Line Search failed')\n",
      "C:\\Users\\Nathan Ting\\anaconda3\\lib\\site-packages\\scipy\\optimize\\linesearch.py:437: LineSearchWarning: Rounding errors prevent the line search from converging\n",
      "  warn(msg, LineSearchWarning)\n",
      "C:\\Users\\Nathan Ting\\anaconda3\\lib\\site-packages\\scipy\\optimize\\linesearch.py:327: LineSearchWarning: The line search algorithm did not converge\n",
      "  warn('The line search algorithm did not converge', LineSearchWarning)\n",
      "C:\\Users\\Nathan Ting\\anaconda3\\lib\\site-packages\\sklearn\\utils\\optimize.py:195: UserWarning: Line Search failed\n",
      "  warnings.warn('Line Search failed')\n",
      "C:\\Users\\Nathan Ting\\anaconda3\\lib\\site-packages\\scipy\\optimize\\linesearch.py:437: LineSearchWarning: Rounding errors prevent the line search from converging\n",
      "  warn(msg, LineSearchWarning)\n",
      "C:\\Users\\Nathan Ting\\anaconda3\\lib\\site-packages\\scipy\\optimize\\linesearch.py:327: LineSearchWarning: The line search algorithm did not converge\n",
      "  warn('The line search algorithm did not converge', LineSearchWarning)\n",
      "C:\\Users\\Nathan Ting\\anaconda3\\lib\\site-packages\\sklearn\\utils\\optimize.py:195: UserWarning: Line Search failed\n",
      "  warnings.warn('Line Search failed')\n",
      "C:\\Users\\Nathan Ting\\anaconda3\\lib\\site-packages\\scipy\\optimize\\linesearch.py:437: LineSearchWarning: Rounding errors prevent the line search from converging\n",
      "  warn(msg, LineSearchWarning)\n",
      "C:\\Users\\Nathan Ting\\anaconda3\\lib\\site-packages\\scipy\\optimize\\linesearch.py:327: LineSearchWarning: The line search algorithm did not converge\n",
      "  warn('The line search algorithm did not converge', LineSearchWarning)\n",
      "C:\\Users\\Nathan Ting\\anaconda3\\lib\\site-packages\\sklearn\\utils\\optimize.py:195: UserWarning: Line Search failed\n",
      "  warnings.warn('Line Search failed')\n",
      "C:\\Users\\Nathan Ting\\anaconda3\\lib\\site-packages\\scipy\\optimize\\linesearch.py:437: LineSearchWarning: Rounding errors prevent the line search from converging\n",
      "  warn(msg, LineSearchWarning)\n",
      "C:\\Users\\Nathan Ting\\anaconda3\\lib\\site-packages\\scipy\\optimize\\linesearch.py:327: LineSearchWarning: The line search algorithm did not converge\n",
      "  warn('The line search algorithm did not converge', LineSearchWarning)\n",
      "C:\\Users\\Nathan Ting\\anaconda3\\lib\\site-packages\\sklearn\\utils\\optimize.py:195: UserWarning: Line Search failed\n",
      "  warnings.warn('Line Search failed')\n",
      "C:\\Users\\Nathan Ting\\anaconda3\\lib\\site-packages\\scipy\\optimize\\linesearch.py:437: LineSearchWarning: Rounding errors prevent the line search from converging\n",
      "  warn(msg, LineSearchWarning)\n",
      "C:\\Users\\Nathan Ting\\anaconda3\\lib\\site-packages\\scipy\\optimize\\linesearch.py:327: LineSearchWarning: The line search algorithm did not converge\n",
      "  warn('The line search algorithm did not converge', LineSearchWarning)\n",
      "C:\\Users\\Nathan Ting\\anaconda3\\lib\\site-packages\\sklearn\\utils\\optimize.py:195: UserWarning: Line Search failed\n",
      "  warnings.warn('Line Search failed')\n",
      "C:\\Users\\Nathan Ting\\anaconda3\\lib\\site-packages\\scipy\\optimize\\linesearch.py:437: LineSearchWarning: Rounding errors prevent the line search from converging\n",
      "  warn(msg, LineSearchWarning)\n",
      "C:\\Users\\Nathan Ting\\anaconda3\\lib\\site-packages\\scipy\\optimize\\linesearch.py:327: LineSearchWarning: The line search algorithm did not converge\n",
      "  warn('The line search algorithm did not converge', LineSearchWarning)\n",
      "C:\\Users\\Nathan Ting\\anaconda3\\lib\\site-packages\\sklearn\\utils\\optimize.py:195: UserWarning: Line Search failed\n",
      "  warnings.warn('Line Search failed')\n",
      "C:\\Users\\Nathan Ting\\anaconda3\\lib\\site-packages\\scipy\\optimize\\linesearch.py:437: LineSearchWarning: Rounding errors prevent the line search from converging\n",
      "  warn(msg, LineSearchWarning)\n",
      "C:\\Users\\Nathan Ting\\anaconda3\\lib\\site-packages\\scipy\\optimize\\linesearch.py:327: LineSearchWarning: The line search algorithm did not converge\n",
      "  warn('The line search algorithm did not converge', LineSearchWarning)\n",
      "C:\\Users\\Nathan Ting\\anaconda3\\lib\\site-packages\\sklearn\\utils\\optimize.py:195: UserWarning: Line Search failed\n",
      "  warnings.warn('Line Search failed')\n",
      "C:\\Users\\Nathan Ting\\anaconda3\\lib\\site-packages\\scipy\\optimize\\linesearch.py:437: LineSearchWarning: Rounding errors prevent the line search from converging\n",
      "  warn(msg, LineSearchWarning)\n",
      "C:\\Users\\Nathan Ting\\anaconda3\\lib\\site-packages\\scipy\\optimize\\linesearch.py:327: LineSearchWarning: The line search algorithm did not converge\n",
      "  warn('The line search algorithm did not converge', LineSearchWarning)\n",
      "C:\\Users\\Nathan Ting\\anaconda3\\lib\\site-packages\\sklearn\\utils\\optimize.py:195: UserWarning: Line Search failed\n",
      "  warnings.warn('Line Search failed')\n",
      "C:\\Users\\Nathan Ting\\anaconda3\\lib\\site-packages\\scipy\\optimize\\linesearch.py:437: LineSearchWarning: Rounding errors prevent the line search from converging\n",
      "  warn(msg, LineSearchWarning)\n",
      "C:\\Users\\Nathan Ting\\anaconda3\\lib\\site-packages\\scipy\\optimize\\linesearch.py:327: LineSearchWarning: The line search algorithm did not converge\n",
      "  warn('The line search algorithm did not converge', LineSearchWarning)\n",
      "C:\\Users\\Nathan Ting\\anaconda3\\lib\\site-packages\\sklearn\\utils\\optimize.py:195: UserWarning: Line Search failed\n",
      "  warnings.warn('Line Search failed')\n",
      "C:\\Users\\Nathan Ting\\anaconda3\\lib\\site-packages\\scipy\\optimize\\linesearch.py:437: LineSearchWarning: Rounding errors prevent the line search from converging\n",
      "  warn(msg, LineSearchWarning)\n",
      "C:\\Users\\Nathan Ting\\anaconda3\\lib\\site-packages\\scipy\\optimize\\linesearch.py:327: LineSearchWarning: The line search algorithm did not converge\n",
      "  warn('The line search algorithm did not converge', LineSearchWarning)\n",
      "C:\\Users\\Nathan Ting\\anaconda3\\lib\\site-packages\\sklearn\\utils\\optimize.py:195: UserWarning: Line Search failed\n",
      "  warnings.warn('Line Search failed')\n",
      "C:\\Users\\Nathan Ting\\anaconda3\\lib\\site-packages\\scipy\\optimize\\linesearch.py:437: LineSearchWarning: Rounding errors prevent the line search from converging\n",
      "  warn(msg, LineSearchWarning)\n",
      "C:\\Users\\Nathan Ting\\anaconda3\\lib\\site-packages\\scipy\\optimize\\linesearch.py:327: LineSearchWarning: The line search algorithm did not converge\n",
      "  warn('The line search algorithm did not converge', LineSearchWarning)\n",
      "C:\\Users\\Nathan Ting\\anaconda3\\lib\\site-packages\\sklearn\\utils\\optimize.py:195: UserWarning: Line Search failed\n",
      "  warnings.warn('Line Search failed')\n",
      "C:\\Users\\Nathan Ting\\anaconda3\\lib\\site-packages\\scipy\\optimize\\linesearch.py:437: LineSearchWarning: Rounding errors prevent the line search from converging\n",
      "  warn(msg, LineSearchWarning)\n",
      "C:\\Users\\Nathan Ting\\anaconda3\\lib\\site-packages\\scipy\\optimize\\linesearch.py:327: LineSearchWarning: The line search algorithm did not converge\n",
      "  warn('The line search algorithm did not converge', LineSearchWarning)\n",
      "C:\\Users\\Nathan Ting\\anaconda3\\lib\\site-packages\\sklearn\\utils\\optimize.py:195: UserWarning: Line Search failed\n",
      "  warnings.warn('Line Search failed')\n",
      "C:\\Users\\Nathan Ting\\anaconda3\\lib\\site-packages\\scipy\\optimize\\linesearch.py:437: LineSearchWarning: Rounding errors prevent the line search from converging\n",
      "  warn(msg, LineSearchWarning)\n",
      "C:\\Users\\Nathan Ting\\anaconda3\\lib\\site-packages\\scipy\\optimize\\linesearch.py:327: LineSearchWarning: The line search algorithm did not converge\n",
      "  warn('The line search algorithm did not converge', LineSearchWarning)\n",
      "C:\\Users\\Nathan Ting\\anaconda3\\lib\\site-packages\\sklearn\\utils\\optimize.py:195: UserWarning: Line Search failed\n",
      "  warnings.warn('Line Search failed')\n",
      "C:\\Users\\Nathan Ting\\anaconda3\\lib\\site-packages\\scipy\\optimize\\linesearch.py:327: LineSearchWarning: The line search algorithm did not converge\n",
      "  warn('The line search algorithm did not converge', LineSearchWarning)\n",
      "C:\\Users\\Nathan Ting\\anaconda3\\lib\\site-packages\\sklearn\\utils\\optimize.py:195: UserWarning: Line Search failed\n",
      "  warnings.warn('Line Search failed')\n",
      "C:\\Users\\Nathan Ting\\anaconda3\\lib\\site-packages\\scipy\\optimize\\linesearch.py:327: LineSearchWarning: The line search algorithm did not converge\n",
      "  warn('The line search algorithm did not converge', LineSearchWarning)\n",
      "C:\\Users\\Nathan Ting\\anaconda3\\lib\\site-packages\\sklearn\\utils\\optimize.py:195: UserWarning: Line Search failed\n",
      "  warnings.warn('Line Search failed')\n"
     ]
    },
    {
     "name": "stderr",
     "output_type": "stream",
     "text": [
      "C:\\Users\\Nathan Ting\\anaconda3\\lib\\site-packages\\scipy\\optimize\\linesearch.py:327: LineSearchWarning: The line search algorithm did not converge\n",
      "  warn('The line search algorithm did not converge', LineSearchWarning)\n",
      "C:\\Users\\Nathan Ting\\anaconda3\\lib\\site-packages\\sklearn\\utils\\optimize.py:195: UserWarning: Line Search failed\n",
      "  warnings.warn('Line Search failed')\n",
      "C:\\Users\\Nathan Ting\\anaconda3\\lib\\site-packages\\scipy\\optimize\\linesearch.py:327: LineSearchWarning: The line search algorithm did not converge\n",
      "  warn('The line search algorithm did not converge', LineSearchWarning)\n",
      "C:\\Users\\Nathan Ting\\anaconda3\\lib\\site-packages\\sklearn\\utils\\optimize.py:195: UserWarning: Line Search failed\n",
      "  warnings.warn('Line Search failed')\n",
      "C:\\Users\\Nathan Ting\\anaconda3\\lib\\site-packages\\scipy\\optimize\\linesearch.py:327: LineSearchWarning: The line search algorithm did not converge\n",
      "  warn('The line search algorithm did not converge', LineSearchWarning)\n",
      "C:\\Users\\Nathan Ting\\anaconda3\\lib\\site-packages\\sklearn\\utils\\optimize.py:195: UserWarning: Line Search failed\n",
      "  warnings.warn('Line Search failed')\n",
      "C:\\Users\\Nathan Ting\\anaconda3\\lib\\site-packages\\scipy\\optimize\\linesearch.py:327: LineSearchWarning: The line search algorithm did not converge\n",
      "  warn('The line search algorithm did not converge', LineSearchWarning)\n",
      "C:\\Users\\Nathan Ting\\anaconda3\\lib\\site-packages\\sklearn\\utils\\optimize.py:195: UserWarning: Line Search failed\n",
      "  warnings.warn('Line Search failed')\n",
      "C:\\Users\\Nathan Ting\\anaconda3\\lib\\site-packages\\scipy\\optimize\\linesearch.py:327: LineSearchWarning: The line search algorithm did not converge\n",
      "  warn('The line search algorithm did not converge', LineSearchWarning)\n",
      "C:\\Users\\Nathan Ting\\anaconda3\\lib\\site-packages\\sklearn\\utils\\optimize.py:195: UserWarning: Line Search failed\n",
      "  warnings.warn('Line Search failed')\n",
      "C:\\Users\\Nathan Ting\\anaconda3\\lib\\site-packages\\scipy\\optimize\\linesearch.py:327: LineSearchWarning: The line search algorithm did not converge\n",
      "  warn('The line search algorithm did not converge', LineSearchWarning)\n",
      "C:\\Users\\Nathan Ting\\anaconda3\\lib\\site-packages\\sklearn\\utils\\optimize.py:195: UserWarning: Line Search failed\n",
      "  warnings.warn('Line Search failed')\n",
      "C:\\Users\\Nathan Ting\\anaconda3\\lib\\site-packages\\scipy\\optimize\\linesearch.py:327: LineSearchWarning: The line search algorithm did not converge\n",
      "  warn('The line search algorithm did not converge', LineSearchWarning)\n",
      "C:\\Users\\Nathan Ting\\anaconda3\\lib\\site-packages\\sklearn\\utils\\optimize.py:195: UserWarning: Line Search failed\n",
      "  warnings.warn('Line Search failed')\n",
      "C:\\Users\\Nathan Ting\\anaconda3\\lib\\site-packages\\scipy\\optimize\\linesearch.py:437: LineSearchWarning: Rounding errors prevent the line search from converging\n",
      "  warn(msg, LineSearchWarning)\n",
      "C:\\Users\\Nathan Ting\\anaconda3\\lib\\site-packages\\scipy\\optimize\\linesearch.py:327: LineSearchWarning: The line search algorithm did not converge\n",
      "  warn('The line search algorithm did not converge', LineSearchWarning)\n",
      "C:\\Users\\Nathan Ting\\anaconda3\\lib\\site-packages\\sklearn\\utils\\optimize.py:195: UserWarning: Line Search failed\n",
      "  warnings.warn('Line Search failed')\n",
      "C:\\Users\\Nathan Ting\\anaconda3\\lib\\site-packages\\scipy\\optimize\\linesearch.py:437: LineSearchWarning: Rounding errors prevent the line search from converging\n",
      "  warn(msg, LineSearchWarning)\n",
      "C:\\Users\\Nathan Ting\\anaconda3\\lib\\site-packages\\scipy\\optimize\\linesearch.py:327: LineSearchWarning: The line search algorithm did not converge\n",
      "  warn('The line search algorithm did not converge', LineSearchWarning)\n",
      "C:\\Users\\Nathan Ting\\anaconda3\\lib\\site-packages\\sklearn\\utils\\optimize.py:195: UserWarning: Line Search failed\n",
      "  warnings.warn('Line Search failed')\n",
      "C:\\Users\\Nathan Ting\\anaconda3\\lib\\site-packages\\scipy\\optimize\\linesearch.py:437: LineSearchWarning: Rounding errors prevent the line search from converging\n",
      "  warn(msg, LineSearchWarning)\n",
      "C:\\Users\\Nathan Ting\\anaconda3\\lib\\site-packages\\scipy\\optimize\\linesearch.py:327: LineSearchWarning: The line search algorithm did not converge\n",
      "  warn('The line search algorithm did not converge', LineSearchWarning)\n",
      "C:\\Users\\Nathan Ting\\anaconda3\\lib\\site-packages\\sklearn\\utils\\optimize.py:195: UserWarning: Line Search failed\n",
      "  warnings.warn('Line Search failed')\n",
      "C:\\Users\\Nathan Ting\\anaconda3\\lib\\site-packages\\scipy\\optimize\\linesearch.py:437: LineSearchWarning: Rounding errors prevent the line search from converging\n",
      "  warn(msg, LineSearchWarning)\n",
      "C:\\Users\\Nathan Ting\\anaconda3\\lib\\site-packages\\scipy\\optimize\\linesearch.py:327: LineSearchWarning: The line search algorithm did not converge\n",
      "  warn('The line search algorithm did not converge', LineSearchWarning)\n",
      "C:\\Users\\Nathan Ting\\anaconda3\\lib\\site-packages\\sklearn\\utils\\optimize.py:195: UserWarning: Line Search failed\n",
      "  warnings.warn('Line Search failed')\n",
      "C:\\Users\\Nathan Ting\\anaconda3\\lib\\site-packages\\scipy\\optimize\\linesearch.py:437: LineSearchWarning: Rounding errors prevent the line search from converging\n",
      "  warn(msg, LineSearchWarning)\n",
      "C:\\Users\\Nathan Ting\\anaconda3\\lib\\site-packages\\scipy\\optimize\\linesearch.py:327: LineSearchWarning: The line search algorithm did not converge\n",
      "  warn('The line search algorithm did not converge', LineSearchWarning)\n",
      "C:\\Users\\Nathan Ting\\anaconda3\\lib\\site-packages\\sklearn\\utils\\optimize.py:195: UserWarning: Line Search failed\n",
      "  warnings.warn('Line Search failed')\n",
      "C:\\Users\\Nathan Ting\\anaconda3\\lib\\site-packages\\scipy\\optimize\\linesearch.py:437: LineSearchWarning: Rounding errors prevent the line search from converging\n",
      "  warn(msg, LineSearchWarning)\n",
      "C:\\Users\\Nathan Ting\\anaconda3\\lib\\site-packages\\scipy\\optimize\\linesearch.py:327: LineSearchWarning: The line search algorithm did not converge\n",
      "  warn('The line search algorithm did not converge', LineSearchWarning)\n",
      "C:\\Users\\Nathan Ting\\anaconda3\\lib\\site-packages\\sklearn\\utils\\optimize.py:195: UserWarning: Line Search failed\n",
      "  warnings.warn('Line Search failed')\n",
      "C:\\Users\\Nathan Ting\\anaconda3\\lib\\site-packages\\scipy\\optimize\\linesearch.py:437: LineSearchWarning: Rounding errors prevent the line search from converging\n",
      "  warn(msg, LineSearchWarning)\n",
      "C:\\Users\\Nathan Ting\\anaconda3\\lib\\site-packages\\scipy\\optimize\\linesearch.py:327: LineSearchWarning: The line search algorithm did not converge\n",
      "  warn('The line search algorithm did not converge', LineSearchWarning)\n",
      "C:\\Users\\Nathan Ting\\anaconda3\\lib\\site-packages\\sklearn\\utils\\optimize.py:195: UserWarning: Line Search failed\n",
      "  warnings.warn('Line Search failed')\n",
      "C:\\Users\\Nathan Ting\\anaconda3\\lib\\site-packages\\scipy\\optimize\\linesearch.py:437: LineSearchWarning: Rounding errors prevent the line search from converging\n",
      "  warn(msg, LineSearchWarning)\n",
      "C:\\Users\\Nathan Ting\\anaconda3\\lib\\site-packages\\scipy\\optimize\\linesearch.py:327: LineSearchWarning: The line search algorithm did not converge\n",
      "  warn('The line search algorithm did not converge', LineSearchWarning)\n",
      "C:\\Users\\Nathan Ting\\anaconda3\\lib\\site-packages\\sklearn\\utils\\optimize.py:195: UserWarning: Line Search failed\n",
      "  warnings.warn('Line Search failed')\n",
      "C:\\Users\\Nathan Ting\\anaconda3\\lib\\site-packages\\scipy\\optimize\\linesearch.py:437: LineSearchWarning: Rounding errors prevent the line search from converging\n",
      "  warn(msg, LineSearchWarning)\n",
      "C:\\Users\\Nathan Ting\\anaconda3\\lib\\site-packages\\scipy\\optimize\\linesearch.py:327: LineSearchWarning: The line search algorithm did not converge\n",
      "  warn('The line search algorithm did not converge', LineSearchWarning)\n",
      "C:\\Users\\Nathan Ting\\anaconda3\\lib\\site-packages\\sklearn\\utils\\optimize.py:195: UserWarning: Line Search failed\n",
      "  warnings.warn('Line Search failed')\n",
      "C:\\Users\\Nathan Ting\\anaconda3\\lib\\site-packages\\scipy\\optimize\\linesearch.py:437: LineSearchWarning: Rounding errors prevent the line search from converging\n",
      "  warn(msg, LineSearchWarning)\n",
      "C:\\Users\\Nathan Ting\\anaconda3\\lib\\site-packages\\scipy\\optimize\\linesearch.py:327: LineSearchWarning: The line search algorithm did not converge\n",
      "  warn('The line search algorithm did not converge', LineSearchWarning)\n",
      "C:\\Users\\Nathan Ting\\anaconda3\\lib\\site-packages\\sklearn\\utils\\optimize.py:195: UserWarning: Line Search failed\n",
      "  warnings.warn('Line Search failed')\n",
      "C:\\Users\\Nathan Ting\\anaconda3\\lib\\site-packages\\scipy\\optimize\\linesearch.py:437: LineSearchWarning: Rounding errors prevent the line search from converging\n",
      "  warn(msg, LineSearchWarning)\n",
      "C:\\Users\\Nathan Ting\\anaconda3\\lib\\site-packages\\scipy\\optimize\\linesearch.py:327: LineSearchWarning: The line search algorithm did not converge\n",
      "  warn('The line search algorithm did not converge', LineSearchWarning)\n",
      "C:\\Users\\Nathan Ting\\anaconda3\\lib\\site-packages\\sklearn\\utils\\optimize.py:195: UserWarning: Line Search failed\n",
      "  warnings.warn('Line Search failed')\n"
     ]
    },
    {
     "name": "stderr",
     "output_type": "stream",
     "text": [
      "C:\\Users\\Nathan Ting\\anaconda3\\lib\\site-packages\\scipy\\optimize\\linesearch.py:437: LineSearchWarning: Rounding errors prevent the line search from converging\n",
      "  warn(msg, LineSearchWarning)\n",
      "C:\\Users\\Nathan Ting\\anaconda3\\lib\\site-packages\\scipy\\optimize\\linesearch.py:327: LineSearchWarning: The line search algorithm did not converge\n",
      "  warn('The line search algorithm did not converge', LineSearchWarning)\n",
      "C:\\Users\\Nathan Ting\\anaconda3\\lib\\site-packages\\sklearn\\utils\\optimize.py:195: UserWarning: Line Search failed\n",
      "  warnings.warn('Line Search failed')\n",
      "C:\\Users\\Nathan Ting\\anaconda3\\lib\\site-packages\\scipy\\optimize\\linesearch.py:437: LineSearchWarning: Rounding errors prevent the line search from converging\n",
      "  warn(msg, LineSearchWarning)\n",
      "C:\\Users\\Nathan Ting\\anaconda3\\lib\\site-packages\\scipy\\optimize\\linesearch.py:327: LineSearchWarning: The line search algorithm did not converge\n",
      "  warn('The line search algorithm did not converge', LineSearchWarning)\n",
      "C:\\Users\\Nathan Ting\\anaconda3\\lib\\site-packages\\sklearn\\utils\\optimize.py:195: UserWarning: Line Search failed\n",
      "  warnings.warn('Line Search failed')\n",
      "C:\\Users\\Nathan Ting\\anaconda3\\lib\\site-packages\\scipy\\optimize\\linesearch.py:437: LineSearchWarning: Rounding errors prevent the line search from converging\n",
      "  warn(msg, LineSearchWarning)\n",
      "C:\\Users\\Nathan Ting\\anaconda3\\lib\\site-packages\\scipy\\optimize\\linesearch.py:327: LineSearchWarning: The line search algorithm did not converge\n",
      "  warn('The line search algorithm did not converge', LineSearchWarning)\n",
      "C:\\Users\\Nathan Ting\\anaconda3\\lib\\site-packages\\sklearn\\utils\\optimize.py:195: UserWarning: Line Search failed\n",
      "  warnings.warn('Line Search failed')\n",
      "C:\\Users\\Nathan Ting\\anaconda3\\lib\\site-packages\\scipy\\optimize\\linesearch.py:437: LineSearchWarning: Rounding errors prevent the line search from converging\n",
      "  warn(msg, LineSearchWarning)\n",
      "C:\\Users\\Nathan Ting\\anaconda3\\lib\\site-packages\\scipy\\optimize\\linesearch.py:327: LineSearchWarning: The line search algorithm did not converge\n",
      "  warn('The line search algorithm did not converge', LineSearchWarning)\n",
      "C:\\Users\\Nathan Ting\\anaconda3\\lib\\site-packages\\sklearn\\utils\\optimize.py:195: UserWarning: Line Search failed\n",
      "  warnings.warn('Line Search failed')\n",
      "C:\\Users\\Nathan Ting\\anaconda3\\lib\\site-packages\\scipy\\optimize\\linesearch.py:437: LineSearchWarning: Rounding errors prevent the line search from converging\n",
      "  warn(msg, LineSearchWarning)\n",
      "C:\\Users\\Nathan Ting\\anaconda3\\lib\\site-packages\\scipy\\optimize\\linesearch.py:327: LineSearchWarning: The line search algorithm did not converge\n",
      "  warn('The line search algorithm did not converge', LineSearchWarning)\n",
      "C:\\Users\\Nathan Ting\\anaconda3\\lib\\site-packages\\sklearn\\utils\\optimize.py:195: UserWarning: Line Search failed\n",
      "  warnings.warn('Line Search failed')\n",
      "C:\\Users\\Nathan Ting\\anaconda3\\lib\\site-packages\\scipy\\optimize\\linesearch.py:437: LineSearchWarning: Rounding errors prevent the line search from converging\n",
      "  warn(msg, LineSearchWarning)\n",
      "C:\\Users\\Nathan Ting\\anaconda3\\lib\\site-packages\\scipy\\optimize\\linesearch.py:327: LineSearchWarning: The line search algorithm did not converge\n",
      "  warn('The line search algorithm did not converge', LineSearchWarning)\n",
      "C:\\Users\\Nathan Ting\\anaconda3\\lib\\site-packages\\sklearn\\utils\\optimize.py:195: UserWarning: Line Search failed\n",
      "  warnings.warn('Line Search failed')\n",
      "C:\\Users\\Nathan Ting\\anaconda3\\lib\\site-packages\\scipy\\optimize\\linesearch.py:437: LineSearchWarning: Rounding errors prevent the line search from converging\n",
      "  warn(msg, LineSearchWarning)\n",
      "C:\\Users\\Nathan Ting\\anaconda3\\lib\\site-packages\\scipy\\optimize\\linesearch.py:327: LineSearchWarning: The line search algorithm did not converge\n",
      "  warn('The line search algorithm did not converge', LineSearchWarning)\n",
      "C:\\Users\\Nathan Ting\\anaconda3\\lib\\site-packages\\sklearn\\utils\\optimize.py:195: UserWarning: Line Search failed\n",
      "  warnings.warn('Line Search failed')\n",
      "C:\\Users\\Nathan Ting\\anaconda3\\lib\\site-packages\\scipy\\optimize\\linesearch.py:327: LineSearchWarning: The line search algorithm did not converge\n",
      "  warn('The line search algorithm did not converge', LineSearchWarning)\n",
      "C:\\Users\\Nathan Ting\\anaconda3\\lib\\site-packages\\sklearn\\utils\\optimize.py:195: UserWarning: Line Search failed\n",
      "  warnings.warn('Line Search failed')\n",
      "C:\\Users\\Nathan Ting\\anaconda3\\lib\\site-packages\\scipy\\optimize\\linesearch.py:327: LineSearchWarning: The line search algorithm did not converge\n",
      "  warn('The line search algorithm did not converge', LineSearchWarning)\n",
      "C:\\Users\\Nathan Ting\\anaconda3\\lib\\site-packages\\sklearn\\utils\\optimize.py:195: UserWarning: Line Search failed\n",
      "  warnings.warn('Line Search failed')\n",
      "C:\\Users\\Nathan Ting\\anaconda3\\lib\\site-packages\\scipy\\optimize\\linesearch.py:327: LineSearchWarning: The line search algorithm did not converge\n",
      "  warn('The line search algorithm did not converge', LineSearchWarning)\n",
      "C:\\Users\\Nathan Ting\\anaconda3\\lib\\site-packages\\sklearn\\utils\\optimize.py:195: UserWarning: Line Search failed\n",
      "  warnings.warn('Line Search failed')\n",
      "C:\\Users\\Nathan Ting\\anaconda3\\lib\\site-packages\\scipy\\optimize\\linesearch.py:327: LineSearchWarning: The line search algorithm did not converge\n",
      "  warn('The line search algorithm did not converge', LineSearchWarning)\n",
      "C:\\Users\\Nathan Ting\\anaconda3\\lib\\site-packages\\sklearn\\utils\\optimize.py:195: UserWarning: Line Search failed\n",
      "  warnings.warn('Line Search failed')\n",
      "C:\\Users\\Nathan Ting\\anaconda3\\lib\\site-packages\\scipy\\optimize\\linesearch.py:327: LineSearchWarning: The line search algorithm did not converge\n",
      "  warn('The line search algorithm did not converge', LineSearchWarning)\n",
      "C:\\Users\\Nathan Ting\\anaconda3\\lib\\site-packages\\sklearn\\utils\\optimize.py:195: UserWarning: Line Search failed\n",
      "  warnings.warn('Line Search failed')\n",
      "C:\\Users\\Nathan Ting\\anaconda3\\lib\\site-packages\\scipy\\optimize\\linesearch.py:327: LineSearchWarning: The line search algorithm did not converge\n",
      "  warn('The line search algorithm did not converge', LineSearchWarning)\n",
      "C:\\Users\\Nathan Ting\\anaconda3\\lib\\site-packages\\sklearn\\utils\\optimize.py:195: UserWarning: Line Search failed\n",
      "  warnings.warn('Line Search failed')\n",
      "C:\\Users\\Nathan Ting\\anaconda3\\lib\\site-packages\\scipy\\optimize\\linesearch.py:327: LineSearchWarning: The line search algorithm did not converge\n",
      "  warn('The line search algorithm did not converge', LineSearchWarning)\n",
      "C:\\Users\\Nathan Ting\\anaconda3\\lib\\site-packages\\sklearn\\utils\\optimize.py:195: UserWarning: Line Search failed\n",
      "  warnings.warn('Line Search failed')\n",
      "C:\\Users\\Nathan Ting\\anaconda3\\lib\\site-packages\\scipy\\optimize\\linesearch.py:327: LineSearchWarning: The line search algorithm did not converge\n",
      "  warn('The line search algorithm did not converge', LineSearchWarning)\n",
      "C:\\Users\\Nathan Ting\\anaconda3\\lib\\site-packages\\sklearn\\utils\\optimize.py:195: UserWarning: Line Search failed\n",
      "  warnings.warn('Line Search failed')\n",
      "C:\\Users\\Nathan Ting\\anaconda3\\lib\\site-packages\\scipy\\optimize\\linesearch.py:327: LineSearchWarning: The line search algorithm did not converge\n",
      "  warn('The line search algorithm did not converge', LineSearchWarning)\n",
      "C:\\Users\\Nathan Ting\\anaconda3\\lib\\site-packages\\sklearn\\utils\\optimize.py:195: UserWarning: Line Search failed\n",
      "  warnings.warn('Line Search failed')\n",
      "C:\\Users\\Nathan Ting\\anaconda3\\lib\\site-packages\\scipy\\optimize\\linesearch.py:327: LineSearchWarning: The line search algorithm did not converge\n",
      "  warn('The line search algorithm did not converge', LineSearchWarning)\n",
      "C:\\Users\\Nathan Ting\\anaconda3\\lib\\site-packages\\sklearn\\utils\\optimize.py:195: UserWarning: Line Search failed\n",
      "  warnings.warn('Line Search failed')\n",
      "C:\\Users\\Nathan Ting\\anaconda3\\lib\\site-packages\\scipy\\optimize\\linesearch.py:327: LineSearchWarning: The line search algorithm did not converge\n",
      "  warn('The line search algorithm did not converge', LineSearchWarning)\n",
      "C:\\Users\\Nathan Ting\\anaconda3\\lib\\site-packages\\sklearn\\utils\\optimize.py:195: UserWarning: Line Search failed\n",
      "  warnings.warn('Line Search failed')\n",
      "C:\\Users\\Nathan Ting\\anaconda3\\lib\\site-packages\\scipy\\optimize\\linesearch.py:327: LineSearchWarning: The line search algorithm did not converge\n",
      "  warn('The line search algorithm did not converge', LineSearchWarning)\n",
      "C:\\Users\\Nathan Ting\\anaconda3\\lib\\site-packages\\sklearn\\utils\\optimize.py:195: UserWarning: Line Search failed\n",
      "  warnings.warn('Line Search failed')\n"
     ]
    },
    {
     "name": "stderr",
     "output_type": "stream",
     "text": [
      "C:\\Users\\Nathan Ting\\anaconda3\\lib\\site-packages\\scipy\\optimize\\linesearch.py:327: LineSearchWarning: The line search algorithm did not converge\n",
      "  warn('The line search algorithm did not converge', LineSearchWarning)\n",
      "C:\\Users\\Nathan Ting\\anaconda3\\lib\\site-packages\\sklearn\\utils\\optimize.py:195: UserWarning: Line Search failed\n",
      "  warnings.warn('Line Search failed')\n",
      "C:\\Users\\Nathan Ting\\anaconda3\\lib\\site-packages\\scipy\\optimize\\linesearch.py:327: LineSearchWarning: The line search algorithm did not converge\n",
      "  warn('The line search algorithm did not converge', LineSearchWarning)\n",
      "C:\\Users\\Nathan Ting\\anaconda3\\lib\\site-packages\\sklearn\\utils\\optimize.py:195: UserWarning: Line Search failed\n",
      "  warnings.warn('Line Search failed')\n",
      "C:\\Users\\Nathan Ting\\anaconda3\\lib\\site-packages\\scipy\\optimize\\linesearch.py:327: LineSearchWarning: The line search algorithm did not converge\n",
      "  warn('The line search algorithm did not converge', LineSearchWarning)\n",
      "C:\\Users\\Nathan Ting\\anaconda3\\lib\\site-packages\\sklearn\\utils\\optimize.py:195: UserWarning: Line Search failed\n",
      "  warnings.warn('Line Search failed')\n",
      "C:\\Users\\Nathan Ting\\anaconda3\\lib\\site-packages\\scipy\\optimize\\linesearch.py:327: LineSearchWarning: The line search algorithm did not converge\n",
      "  warn('The line search algorithm did not converge', LineSearchWarning)\n",
      "C:\\Users\\Nathan Ting\\anaconda3\\lib\\site-packages\\sklearn\\utils\\optimize.py:195: UserWarning: Line Search failed\n",
      "  warnings.warn('Line Search failed')\n",
      "C:\\Users\\Nathan Ting\\anaconda3\\lib\\site-packages\\scipy\\optimize\\linesearch.py:327: LineSearchWarning: The line search algorithm did not converge\n",
      "  warn('The line search algorithm did not converge', LineSearchWarning)\n",
      "C:\\Users\\Nathan Ting\\anaconda3\\lib\\site-packages\\sklearn\\utils\\optimize.py:195: UserWarning: Line Search failed\n",
      "  warnings.warn('Line Search failed')\n",
      "C:\\Users\\Nathan Ting\\anaconda3\\lib\\site-packages\\scipy\\optimize\\linesearch.py:327: LineSearchWarning: The line search algorithm did not converge\n",
      "  warn('The line search algorithm did not converge', LineSearchWarning)\n",
      "C:\\Users\\Nathan Ting\\anaconda3\\lib\\site-packages\\sklearn\\utils\\optimize.py:195: UserWarning: Line Search failed\n",
      "  warnings.warn('Line Search failed')\n",
      "C:\\Users\\Nathan Ting\\anaconda3\\lib\\site-packages\\scipy\\optimize\\linesearch.py:327: LineSearchWarning: The line search algorithm did not converge\n",
      "  warn('The line search algorithm did not converge', LineSearchWarning)\n",
      "C:\\Users\\Nathan Ting\\anaconda3\\lib\\site-packages\\sklearn\\utils\\optimize.py:195: UserWarning: Line Search failed\n",
      "  warnings.warn('Line Search failed')\n",
      "C:\\Users\\Nathan Ting\\anaconda3\\lib\\site-packages\\scipy\\optimize\\linesearch.py:327: LineSearchWarning: The line search algorithm did not converge\n",
      "  warn('The line search algorithm did not converge', LineSearchWarning)\n",
      "C:\\Users\\Nathan Ting\\anaconda3\\lib\\site-packages\\sklearn\\utils\\optimize.py:195: UserWarning: Line Search failed\n",
      "  warnings.warn('Line Search failed')\n",
      "C:\\Users\\Nathan Ting\\anaconda3\\lib\\site-packages\\scipy\\optimize\\linesearch.py:327: LineSearchWarning: The line search algorithm did not converge\n",
      "  warn('The line search algorithm did not converge', LineSearchWarning)\n",
      "C:\\Users\\Nathan Ting\\anaconda3\\lib\\site-packages\\sklearn\\utils\\optimize.py:195: UserWarning: Line Search failed\n",
      "  warnings.warn('Line Search failed')\n",
      "C:\\Users\\Nathan Ting\\anaconda3\\lib\\site-packages\\scipy\\optimize\\linesearch.py:327: LineSearchWarning: The line search algorithm did not converge\n",
      "  warn('The line search algorithm did not converge', LineSearchWarning)\n",
      "C:\\Users\\Nathan Ting\\anaconda3\\lib\\site-packages\\sklearn\\utils\\optimize.py:195: UserWarning: Line Search failed\n",
      "  warnings.warn('Line Search failed')\n",
      "C:\\Users\\Nathan Ting\\anaconda3\\lib\\site-packages\\scipy\\optimize\\linesearch.py:327: LineSearchWarning: The line search algorithm did not converge\n",
      "  warn('The line search algorithm did not converge', LineSearchWarning)\n",
      "C:\\Users\\Nathan Ting\\anaconda3\\lib\\site-packages\\sklearn\\utils\\optimize.py:195: UserWarning: Line Search failed\n",
      "  warnings.warn('Line Search failed')\n",
      "C:\\Users\\Nathan Ting\\anaconda3\\lib\\site-packages\\scipy\\optimize\\linesearch.py:327: LineSearchWarning: The line search algorithm did not converge\n",
      "  warn('The line search algorithm did not converge', LineSearchWarning)\n",
      "C:\\Users\\Nathan Ting\\anaconda3\\lib\\site-packages\\sklearn\\utils\\optimize.py:195: UserWarning: Line Search failed\n",
      "  warnings.warn('Line Search failed')\n",
      "C:\\Users\\Nathan Ting\\anaconda3\\lib\\site-packages\\scipy\\optimize\\linesearch.py:327: LineSearchWarning: The line search algorithm did not converge\n",
      "  warn('The line search algorithm did not converge', LineSearchWarning)\n",
      "C:\\Users\\Nathan Ting\\anaconda3\\lib\\site-packages\\sklearn\\utils\\optimize.py:195: UserWarning: Line Search failed\n",
      "  warnings.warn('Line Search failed')\n",
      "C:\\Users\\Nathan Ting\\anaconda3\\lib\\site-packages\\scipy\\optimize\\linesearch.py:327: LineSearchWarning: The line search algorithm did not converge\n",
      "  warn('The line search algorithm did not converge', LineSearchWarning)\n",
      "C:\\Users\\Nathan Ting\\anaconda3\\lib\\site-packages\\sklearn\\utils\\optimize.py:195: UserWarning: Line Search failed\n",
      "  warnings.warn('Line Search failed')\n",
      "C:\\Users\\Nathan Ting\\anaconda3\\lib\\site-packages\\scipy\\optimize\\linesearch.py:327: LineSearchWarning: The line search algorithm did not converge\n",
      "  warn('The line search algorithm did not converge', LineSearchWarning)\n",
      "C:\\Users\\Nathan Ting\\anaconda3\\lib\\site-packages\\sklearn\\utils\\optimize.py:195: UserWarning: Line Search failed\n",
      "  warnings.warn('Line Search failed')\n",
      "C:\\Users\\Nathan Ting\\anaconda3\\lib\\site-packages\\scipy\\optimize\\linesearch.py:327: LineSearchWarning: The line search algorithm did not converge\n",
      "  warn('The line search algorithm did not converge', LineSearchWarning)\n",
      "C:\\Users\\Nathan Ting\\anaconda3\\lib\\site-packages\\sklearn\\utils\\optimize.py:195: UserWarning: Line Search failed\n",
      "  warnings.warn('Line Search failed')\n",
      "C:\\Users\\Nathan Ting\\anaconda3\\lib\\site-packages\\scipy\\optimize\\linesearch.py:327: LineSearchWarning: The line search algorithm did not converge\n",
      "  warn('The line search algorithm did not converge', LineSearchWarning)\n",
      "C:\\Users\\Nathan Ting\\anaconda3\\lib\\site-packages\\sklearn\\utils\\optimize.py:195: UserWarning: Line Search failed\n",
      "  warnings.warn('Line Search failed')\n",
      "C:\\Users\\Nathan Ting\\anaconda3\\lib\\site-packages\\scipy\\optimize\\linesearch.py:327: LineSearchWarning: The line search algorithm did not converge\n",
      "  warn('The line search algorithm did not converge', LineSearchWarning)\n",
      "C:\\Users\\Nathan Ting\\anaconda3\\lib\\site-packages\\sklearn\\utils\\optimize.py:195: UserWarning: Line Search failed\n",
      "  warnings.warn('Line Search failed')\n",
      "C:\\Users\\Nathan Ting\\anaconda3\\lib\\site-packages\\scipy\\optimize\\linesearch.py:327: LineSearchWarning: The line search algorithm did not converge\n",
      "  warn('The line search algorithm did not converge', LineSearchWarning)\n",
      "C:\\Users\\Nathan Ting\\anaconda3\\lib\\site-packages\\sklearn\\utils\\optimize.py:195: UserWarning: Line Search failed\n",
      "  warnings.warn('Line Search failed')\n",
      "C:\\Users\\Nathan Ting\\anaconda3\\lib\\site-packages\\scipy\\optimize\\linesearch.py:327: LineSearchWarning: The line search algorithm did not converge\n",
      "  warn('The line search algorithm did not converge', LineSearchWarning)\n",
      "C:\\Users\\Nathan Ting\\anaconda3\\lib\\site-packages\\sklearn\\utils\\optimize.py:195: UserWarning: Line Search failed\n",
      "  warnings.warn('Line Search failed')\n",
      "C:\\Users\\Nathan Ting\\anaconda3\\lib\\site-packages\\scipy\\optimize\\linesearch.py:327: LineSearchWarning: The line search algorithm did not converge\n",
      "  warn('The line search algorithm did not converge', LineSearchWarning)\n",
      "C:\\Users\\Nathan Ting\\anaconda3\\lib\\site-packages\\sklearn\\utils\\optimize.py:195: UserWarning: Line Search failed\n",
      "  warnings.warn('Line Search failed')\n",
      "C:\\Users\\Nathan Ting\\anaconda3\\lib\\site-packages\\scipy\\optimize\\linesearch.py:327: LineSearchWarning: The line search algorithm did not converge\n",
      "  warn('The line search algorithm did not converge', LineSearchWarning)\n",
      "C:\\Users\\Nathan Ting\\anaconda3\\lib\\site-packages\\sklearn\\utils\\optimize.py:195: UserWarning: Line Search failed\n",
      "  warnings.warn('Line Search failed')\n",
      "C:\\Users\\Nathan Ting\\anaconda3\\lib\\site-packages\\scipy\\optimize\\linesearch.py:327: LineSearchWarning: The line search algorithm did not converge\n",
      "  warn('The line search algorithm did not converge', LineSearchWarning)\n",
      "C:\\Users\\Nathan Ting\\anaconda3\\lib\\site-packages\\sklearn\\utils\\optimize.py:195: UserWarning: Line Search failed\n",
      "  warnings.warn('Line Search failed')\n"
     ]
    },
    {
     "name": "stderr",
     "output_type": "stream",
     "text": [
      "C:\\Users\\Nathan Ting\\anaconda3\\lib\\site-packages\\scipy\\optimize\\linesearch.py:327: LineSearchWarning: The line search algorithm did not converge\n",
      "  warn('The line search algorithm did not converge', LineSearchWarning)\n",
      "C:\\Users\\Nathan Ting\\anaconda3\\lib\\site-packages\\sklearn\\utils\\optimize.py:195: UserWarning: Line Search failed\n",
      "  warnings.warn('Line Search failed')\n",
      "C:\\Users\\Nathan Ting\\anaconda3\\lib\\site-packages\\scipy\\optimize\\linesearch.py:327: LineSearchWarning: The line search algorithm did not converge\n",
      "  warn('The line search algorithm did not converge', LineSearchWarning)\n",
      "C:\\Users\\Nathan Ting\\anaconda3\\lib\\site-packages\\sklearn\\utils\\optimize.py:195: UserWarning: Line Search failed\n",
      "  warnings.warn('Line Search failed')\n",
      "C:\\Users\\Nathan Ting\\anaconda3\\lib\\site-packages\\scipy\\optimize\\linesearch.py:327: LineSearchWarning: The line search algorithm did not converge\n",
      "  warn('The line search algorithm did not converge', LineSearchWarning)\n",
      "C:\\Users\\Nathan Ting\\anaconda3\\lib\\site-packages\\sklearn\\utils\\optimize.py:195: UserWarning: Line Search failed\n",
      "  warnings.warn('Line Search failed')\n",
      "C:\\Users\\Nathan Ting\\anaconda3\\lib\\site-packages\\scipy\\optimize\\linesearch.py:327: LineSearchWarning: The line search algorithm did not converge\n",
      "  warn('The line search algorithm did not converge', LineSearchWarning)\n",
      "C:\\Users\\Nathan Ting\\anaconda3\\lib\\site-packages\\sklearn\\utils\\optimize.py:195: UserWarning: Line Search failed\n",
      "  warnings.warn('Line Search failed')\n",
      "C:\\Users\\Nathan Ting\\anaconda3\\lib\\site-packages\\scipy\\optimize\\linesearch.py:327: LineSearchWarning: The line search algorithm did not converge\n",
      "  warn('The line search algorithm did not converge', LineSearchWarning)\n",
      "C:\\Users\\Nathan Ting\\anaconda3\\lib\\site-packages\\sklearn\\utils\\optimize.py:195: UserWarning: Line Search failed\n",
      "  warnings.warn('Line Search failed')\n",
      "C:\\Users\\Nathan Ting\\anaconda3\\lib\\site-packages\\scipy\\optimize\\linesearch.py:327: LineSearchWarning: The line search algorithm did not converge\n",
      "  warn('The line search algorithm did not converge', LineSearchWarning)\n",
      "C:\\Users\\Nathan Ting\\anaconda3\\lib\\site-packages\\sklearn\\utils\\optimize.py:195: UserWarning: Line Search failed\n",
      "  warnings.warn('Line Search failed')\n",
      "C:\\Users\\Nathan Ting\\anaconda3\\lib\\site-packages\\scipy\\optimize\\linesearch.py:327: LineSearchWarning: The line search algorithm did not converge\n",
      "  warn('The line search algorithm did not converge', LineSearchWarning)\n",
      "C:\\Users\\Nathan Ting\\anaconda3\\lib\\site-packages\\sklearn\\utils\\optimize.py:195: UserWarning: Line Search failed\n",
      "  warnings.warn('Line Search failed')\n",
      "C:\\Users\\Nathan Ting\\anaconda3\\lib\\site-packages\\scipy\\optimize\\linesearch.py:327: LineSearchWarning: The line search algorithm did not converge\n",
      "  warn('The line search algorithm did not converge', LineSearchWarning)\n",
      "C:\\Users\\Nathan Ting\\anaconda3\\lib\\site-packages\\sklearn\\utils\\optimize.py:195: UserWarning: Line Search failed\n",
      "  warnings.warn('Line Search failed')\n",
      "C:\\Users\\Nathan Ting\\anaconda3\\lib\\site-packages\\scipy\\optimize\\linesearch.py:327: LineSearchWarning: The line search algorithm did not converge\n",
      "  warn('The line search algorithm did not converge', LineSearchWarning)\n",
      "C:\\Users\\Nathan Ting\\anaconda3\\lib\\site-packages\\sklearn\\utils\\optimize.py:195: UserWarning: Line Search failed\n",
      "  warnings.warn('Line Search failed')\n",
      "C:\\Users\\Nathan Ting\\anaconda3\\lib\\site-packages\\scipy\\optimize\\linesearch.py:327: LineSearchWarning: The line search algorithm did not converge\n",
      "  warn('The line search algorithm did not converge', LineSearchWarning)\n",
      "C:\\Users\\Nathan Ting\\anaconda3\\lib\\site-packages\\sklearn\\utils\\optimize.py:195: UserWarning: Line Search failed\n",
      "  warnings.warn('Line Search failed')\n",
      "C:\\Users\\Nathan Ting\\anaconda3\\lib\\site-packages\\scipy\\optimize\\linesearch.py:327: LineSearchWarning: The line search algorithm did not converge\n",
      "  warn('The line search algorithm did not converge', LineSearchWarning)\n",
      "C:\\Users\\Nathan Ting\\anaconda3\\lib\\site-packages\\sklearn\\utils\\optimize.py:195: UserWarning: Line Search failed\n",
      "  warnings.warn('Line Search failed')\n",
      "C:\\Users\\Nathan Ting\\anaconda3\\lib\\site-packages\\scipy\\optimize\\linesearch.py:327: LineSearchWarning: The line search algorithm did not converge\n",
      "  warn('The line search algorithm did not converge', LineSearchWarning)\n",
      "C:\\Users\\Nathan Ting\\anaconda3\\lib\\site-packages\\sklearn\\utils\\optimize.py:195: UserWarning: Line Search failed\n",
      "  warnings.warn('Line Search failed')\n",
      "C:\\Users\\Nathan Ting\\anaconda3\\lib\\site-packages\\scipy\\optimize\\linesearch.py:327: LineSearchWarning: The line search algorithm did not converge\n",
      "  warn('The line search algorithm did not converge', LineSearchWarning)\n",
      "C:\\Users\\Nathan Ting\\anaconda3\\lib\\site-packages\\sklearn\\utils\\optimize.py:195: UserWarning: Line Search failed\n",
      "  warnings.warn('Line Search failed')\n",
      "C:\\Users\\Nathan Ting\\anaconda3\\lib\\site-packages\\scipy\\optimize\\linesearch.py:327: LineSearchWarning: The line search algorithm did not converge\n",
      "  warn('The line search algorithm did not converge', LineSearchWarning)\n",
      "C:\\Users\\Nathan Ting\\anaconda3\\lib\\site-packages\\sklearn\\utils\\optimize.py:195: UserWarning: Line Search failed\n",
      "  warnings.warn('Line Search failed')\n",
      "C:\\Users\\Nathan Ting\\anaconda3\\lib\\site-packages\\scipy\\optimize\\linesearch.py:327: LineSearchWarning: The line search algorithm did not converge\n",
      "  warn('The line search algorithm did not converge', LineSearchWarning)\n",
      "C:\\Users\\Nathan Ting\\anaconda3\\lib\\site-packages\\sklearn\\utils\\optimize.py:195: UserWarning: Line Search failed\n",
      "  warnings.warn('Line Search failed')\n",
      "C:\\Users\\Nathan Ting\\anaconda3\\lib\\site-packages\\scipy\\optimize\\linesearch.py:327: LineSearchWarning: The line search algorithm did not converge\n",
      "  warn('The line search algorithm did not converge', LineSearchWarning)\n",
      "C:\\Users\\Nathan Ting\\anaconda3\\lib\\site-packages\\sklearn\\utils\\optimize.py:195: UserWarning: Line Search failed\n",
      "  warnings.warn('Line Search failed')\n",
      "C:\\Users\\Nathan Ting\\anaconda3\\lib\\site-packages\\scipy\\optimize\\linesearch.py:327: LineSearchWarning: The line search algorithm did not converge\n",
      "  warn('The line search algorithm did not converge', LineSearchWarning)\n",
      "C:\\Users\\Nathan Ting\\anaconda3\\lib\\site-packages\\sklearn\\utils\\optimize.py:195: UserWarning: Line Search failed\n",
      "  warnings.warn('Line Search failed')\n",
      "C:\\Users\\Nathan Ting\\anaconda3\\lib\\site-packages\\scipy\\optimize\\linesearch.py:327: LineSearchWarning: The line search algorithm did not converge\n",
      "  warn('The line search algorithm did not converge', LineSearchWarning)\n",
      "C:\\Users\\Nathan Ting\\anaconda3\\lib\\site-packages\\sklearn\\utils\\optimize.py:195: UserWarning: Line Search failed\n",
      "  warnings.warn('Line Search failed')\n",
      "C:\\Users\\Nathan Ting\\anaconda3\\lib\\site-packages\\scipy\\optimize\\linesearch.py:327: LineSearchWarning: The line search algorithm did not converge\n",
      "  warn('The line search algorithm did not converge', LineSearchWarning)\n",
      "C:\\Users\\Nathan Ting\\anaconda3\\lib\\site-packages\\sklearn\\utils\\optimize.py:195: UserWarning: Line Search failed\n",
      "  warnings.warn('Line Search failed')\n",
      "C:\\Users\\Nathan Ting\\anaconda3\\lib\\site-packages\\scipy\\optimize\\linesearch.py:327: LineSearchWarning: The line search algorithm did not converge\n",
      "  warn('The line search algorithm did not converge', LineSearchWarning)\n",
      "C:\\Users\\Nathan Ting\\anaconda3\\lib\\site-packages\\sklearn\\utils\\optimize.py:195: UserWarning: Line Search failed\n",
      "  warnings.warn('Line Search failed')\n",
      "C:\\Users\\Nathan Ting\\anaconda3\\lib\\site-packages\\scipy\\optimize\\linesearch.py:327: LineSearchWarning: The line search algorithm did not converge\n",
      "  warn('The line search algorithm did not converge', LineSearchWarning)\n",
      "C:\\Users\\Nathan Ting\\anaconda3\\lib\\site-packages\\sklearn\\utils\\optimize.py:195: UserWarning: Line Search failed\n",
      "  warnings.warn('Line Search failed')\n",
      "C:\\Users\\Nathan Ting\\anaconda3\\lib\\site-packages\\scipy\\optimize\\linesearch.py:327: LineSearchWarning: The line search algorithm did not converge\n",
      "  warn('The line search algorithm did not converge', LineSearchWarning)\n",
      "C:\\Users\\Nathan Ting\\anaconda3\\lib\\site-packages\\sklearn\\utils\\optimize.py:195: UserWarning: Line Search failed\n",
      "  warnings.warn('Line Search failed')\n",
      "C:\\Users\\Nathan Ting\\anaconda3\\lib\\site-packages\\scipy\\optimize\\linesearch.py:327: LineSearchWarning: The line search algorithm did not converge\n",
      "  warn('The line search algorithm did not converge', LineSearchWarning)\n",
      "C:\\Users\\Nathan Ting\\anaconda3\\lib\\site-packages\\sklearn\\utils\\optimize.py:195: UserWarning: Line Search failed\n",
      "  warnings.warn('Line Search failed')\n"
     ]
    },
    {
     "name": "stderr",
     "output_type": "stream",
     "text": [
      "C:\\Users\\Nathan Ting\\anaconda3\\lib\\site-packages\\scipy\\optimize\\linesearch.py:327: LineSearchWarning: The line search algorithm did not converge\n",
      "  warn('The line search algorithm did not converge', LineSearchWarning)\n",
      "C:\\Users\\Nathan Ting\\anaconda3\\lib\\site-packages\\sklearn\\utils\\optimize.py:195: UserWarning: Line Search failed\n",
      "  warnings.warn('Line Search failed')\n",
      "C:\\Users\\Nathan Ting\\anaconda3\\lib\\site-packages\\scipy\\optimize\\linesearch.py:327: LineSearchWarning: The line search algorithm did not converge\n",
      "  warn('The line search algorithm did not converge', LineSearchWarning)\n",
      "C:\\Users\\Nathan Ting\\anaconda3\\lib\\site-packages\\sklearn\\utils\\optimize.py:195: UserWarning: Line Search failed\n",
      "  warnings.warn('Line Search failed')\n",
      "C:\\Users\\Nathan Ting\\anaconda3\\lib\\site-packages\\scipy\\optimize\\linesearch.py:327: LineSearchWarning: The line search algorithm did not converge\n",
      "  warn('The line search algorithm did not converge', LineSearchWarning)\n",
      "C:\\Users\\Nathan Ting\\anaconda3\\lib\\site-packages\\sklearn\\utils\\optimize.py:195: UserWarning: Line Search failed\n",
      "  warnings.warn('Line Search failed')\n",
      "C:\\Users\\Nathan Ting\\anaconda3\\lib\\site-packages\\scipy\\optimize\\linesearch.py:327: LineSearchWarning: The line search algorithm did not converge\n",
      "  warn('The line search algorithm did not converge', LineSearchWarning)\n",
      "C:\\Users\\Nathan Ting\\anaconda3\\lib\\site-packages\\sklearn\\utils\\optimize.py:195: UserWarning: Line Search failed\n",
      "  warnings.warn('Line Search failed')\n",
      "C:\\Users\\Nathan Ting\\anaconda3\\lib\\site-packages\\scipy\\optimize\\linesearch.py:327: LineSearchWarning: The line search algorithm did not converge\n",
      "  warn('The line search algorithm did not converge', LineSearchWarning)\n",
      "C:\\Users\\Nathan Ting\\anaconda3\\lib\\site-packages\\sklearn\\utils\\optimize.py:195: UserWarning: Line Search failed\n",
      "  warnings.warn('Line Search failed')\n",
      "C:\\Users\\Nathan Ting\\anaconda3\\lib\\site-packages\\scipy\\optimize\\linesearch.py:327: LineSearchWarning: The line search algorithm did not converge\n",
      "  warn('The line search algorithm did not converge', LineSearchWarning)\n",
      "C:\\Users\\Nathan Ting\\anaconda3\\lib\\site-packages\\sklearn\\utils\\optimize.py:195: UserWarning: Line Search failed\n",
      "  warnings.warn('Line Search failed')\n",
      "C:\\Users\\Nathan Ting\\anaconda3\\lib\\site-packages\\scipy\\optimize\\linesearch.py:327: LineSearchWarning: The line search algorithm did not converge\n",
      "  warn('The line search algorithm did not converge', LineSearchWarning)\n",
      "C:\\Users\\Nathan Ting\\anaconda3\\lib\\site-packages\\sklearn\\utils\\optimize.py:195: UserWarning: Line Search failed\n",
      "  warnings.warn('Line Search failed')\n",
      "C:\\Users\\Nathan Ting\\anaconda3\\lib\\site-packages\\scipy\\optimize\\linesearch.py:327: LineSearchWarning: The line search algorithm did not converge\n",
      "  warn('The line search algorithm did not converge', LineSearchWarning)\n",
      "C:\\Users\\Nathan Ting\\anaconda3\\lib\\site-packages\\sklearn\\utils\\optimize.py:195: UserWarning: Line Search failed\n",
      "  warnings.warn('Line Search failed')\n",
      "C:\\Users\\Nathan Ting\\anaconda3\\lib\\site-packages\\scipy\\optimize\\linesearch.py:327: LineSearchWarning: The line search algorithm did not converge\n",
      "  warn('The line search algorithm did not converge', LineSearchWarning)\n",
      "C:\\Users\\Nathan Ting\\anaconda3\\lib\\site-packages\\sklearn\\utils\\optimize.py:195: UserWarning: Line Search failed\n",
      "  warnings.warn('Line Search failed')\n",
      "C:\\Users\\Nathan Ting\\anaconda3\\lib\\site-packages\\scipy\\optimize\\linesearch.py:327: LineSearchWarning: The line search algorithm did not converge\n",
      "  warn('The line search algorithm did not converge', LineSearchWarning)\n",
      "C:\\Users\\Nathan Ting\\anaconda3\\lib\\site-packages\\sklearn\\utils\\optimize.py:195: UserWarning: Line Search failed\n",
      "  warnings.warn('Line Search failed')\n",
      "C:\\Users\\Nathan Ting\\anaconda3\\lib\\site-packages\\scipy\\optimize\\linesearch.py:327: LineSearchWarning: The line search algorithm did not converge\n",
      "  warn('The line search algorithm did not converge', LineSearchWarning)\n",
      "C:\\Users\\Nathan Ting\\anaconda3\\lib\\site-packages\\sklearn\\utils\\optimize.py:195: UserWarning: Line Search failed\n",
      "  warnings.warn('Line Search failed')\n",
      "C:\\Users\\Nathan Ting\\anaconda3\\lib\\site-packages\\scipy\\optimize\\linesearch.py:327: LineSearchWarning: The line search algorithm did not converge\n",
      "  warn('The line search algorithm did not converge', LineSearchWarning)\n",
      "C:\\Users\\Nathan Ting\\anaconda3\\lib\\site-packages\\sklearn\\utils\\optimize.py:195: UserWarning: Line Search failed\n",
      "  warnings.warn('Line Search failed')\n",
      "C:\\Users\\Nathan Ting\\anaconda3\\lib\\site-packages\\scipy\\optimize\\linesearch.py:327: LineSearchWarning: The line search algorithm did not converge\n",
      "  warn('The line search algorithm did not converge', LineSearchWarning)\n",
      "C:\\Users\\Nathan Ting\\anaconda3\\lib\\site-packages\\sklearn\\utils\\optimize.py:195: UserWarning: Line Search failed\n",
      "  warnings.warn('Line Search failed')\n",
      "C:\\Users\\Nathan Ting\\anaconda3\\lib\\site-packages\\scipy\\optimize\\linesearch.py:327: LineSearchWarning: The line search algorithm did not converge\n",
      "  warn('The line search algorithm did not converge', LineSearchWarning)\n",
      "C:\\Users\\Nathan Ting\\anaconda3\\lib\\site-packages\\sklearn\\utils\\optimize.py:195: UserWarning: Line Search failed\n",
      "  warnings.warn('Line Search failed')\n",
      "C:\\Users\\Nathan Ting\\anaconda3\\lib\\site-packages\\scipy\\optimize\\linesearch.py:327: LineSearchWarning: The line search algorithm did not converge\n",
      "  warn('The line search algorithm did not converge', LineSearchWarning)\n",
      "C:\\Users\\Nathan Ting\\anaconda3\\lib\\site-packages\\sklearn\\utils\\optimize.py:195: UserWarning: Line Search failed\n",
      "  warnings.warn('Line Search failed')\n",
      "C:\\Users\\Nathan Ting\\anaconda3\\lib\\site-packages\\scipy\\optimize\\linesearch.py:327: LineSearchWarning: The line search algorithm did not converge\n",
      "  warn('The line search algorithm did not converge', LineSearchWarning)\n",
      "C:\\Users\\Nathan Ting\\anaconda3\\lib\\site-packages\\sklearn\\utils\\optimize.py:195: UserWarning: Line Search failed\n",
      "  warnings.warn('Line Search failed')\n",
      "C:\\Users\\Nathan Ting\\anaconda3\\lib\\site-packages\\scipy\\optimize\\linesearch.py:327: LineSearchWarning: The line search algorithm did not converge\n",
      "  warn('The line search algorithm did not converge', LineSearchWarning)\n",
      "C:\\Users\\Nathan Ting\\anaconda3\\lib\\site-packages\\sklearn\\utils\\optimize.py:195: UserWarning: Line Search failed\n",
      "  warnings.warn('Line Search failed')\n",
      "C:\\Users\\Nathan Ting\\anaconda3\\lib\\site-packages\\scipy\\optimize\\linesearch.py:327: LineSearchWarning: The line search algorithm did not converge\n",
      "  warn('The line search algorithm did not converge', LineSearchWarning)\n",
      "C:\\Users\\Nathan Ting\\anaconda3\\lib\\site-packages\\sklearn\\utils\\optimize.py:195: UserWarning: Line Search failed\n",
      "  warnings.warn('Line Search failed')\n",
      "C:\\Users\\Nathan Ting\\anaconda3\\lib\\site-packages\\scipy\\optimize\\linesearch.py:327: LineSearchWarning: The line search algorithm did not converge\n",
      "  warn('The line search algorithm did not converge', LineSearchWarning)\n",
      "C:\\Users\\Nathan Ting\\anaconda3\\lib\\site-packages\\sklearn\\utils\\optimize.py:195: UserWarning: Line Search failed\n",
      "  warnings.warn('Line Search failed')\n",
      "C:\\Users\\Nathan Ting\\anaconda3\\lib\\site-packages\\scipy\\optimize\\linesearch.py:327: LineSearchWarning: The line search algorithm did not converge\n",
      "  warn('The line search algorithm did not converge', LineSearchWarning)\n",
      "C:\\Users\\Nathan Ting\\anaconda3\\lib\\site-packages\\sklearn\\utils\\optimize.py:195: UserWarning: Line Search failed\n",
      "  warnings.warn('Line Search failed')\n",
      "C:\\Users\\Nathan Ting\\anaconda3\\lib\\site-packages\\scipy\\optimize\\linesearch.py:327: LineSearchWarning: The line search algorithm did not converge\n",
      "  warn('The line search algorithm did not converge', LineSearchWarning)\n",
      "C:\\Users\\Nathan Ting\\anaconda3\\lib\\site-packages\\sklearn\\utils\\optimize.py:195: UserWarning: Line Search failed\n",
      "  warnings.warn('Line Search failed')\n",
      "C:\\Users\\Nathan Ting\\anaconda3\\lib\\site-packages\\scipy\\optimize\\linesearch.py:327: LineSearchWarning: The line search algorithm did not converge\n",
      "  warn('The line search algorithm did not converge', LineSearchWarning)\n",
      "C:\\Users\\Nathan Ting\\anaconda3\\lib\\site-packages\\sklearn\\utils\\optimize.py:195: UserWarning: Line Search failed\n",
      "  warnings.warn('Line Search failed')\n",
      "C:\\Users\\Nathan Ting\\anaconda3\\lib\\site-packages\\scipy\\optimize\\linesearch.py:327: LineSearchWarning: The line search algorithm did not converge\n",
      "  warn('The line search algorithm did not converge', LineSearchWarning)\n",
      "C:\\Users\\Nathan Ting\\anaconda3\\lib\\site-packages\\sklearn\\utils\\optimize.py:195: UserWarning: Line Search failed\n",
      "  warnings.warn('Line Search failed')\n"
     ]
    },
    {
     "name": "stderr",
     "output_type": "stream",
     "text": [
      "C:\\Users\\Nathan Ting\\anaconda3\\lib\\site-packages\\scipy\\optimize\\linesearch.py:327: LineSearchWarning: The line search algorithm did not converge\n",
      "  warn('The line search algorithm did not converge', LineSearchWarning)\n",
      "C:\\Users\\Nathan Ting\\anaconda3\\lib\\site-packages\\sklearn\\utils\\optimize.py:195: UserWarning: Line Search failed\n",
      "  warnings.warn('Line Search failed')\n",
      "C:\\Users\\Nathan Ting\\anaconda3\\lib\\site-packages\\scipy\\optimize\\linesearch.py:327: LineSearchWarning: The line search algorithm did not converge\n",
      "  warn('The line search algorithm did not converge', LineSearchWarning)\n",
      "C:\\Users\\Nathan Ting\\anaconda3\\lib\\site-packages\\sklearn\\utils\\optimize.py:195: UserWarning: Line Search failed\n",
      "  warnings.warn('Line Search failed')\n",
      "C:\\Users\\Nathan Ting\\anaconda3\\lib\\site-packages\\scipy\\optimize\\linesearch.py:327: LineSearchWarning: The line search algorithm did not converge\n",
      "  warn('The line search algorithm did not converge', LineSearchWarning)\n",
      "C:\\Users\\Nathan Ting\\anaconda3\\lib\\site-packages\\sklearn\\utils\\optimize.py:195: UserWarning: Line Search failed\n",
      "  warnings.warn('Line Search failed')\n",
      "C:\\Users\\Nathan Ting\\anaconda3\\lib\\site-packages\\scipy\\optimize\\linesearch.py:327: LineSearchWarning: The line search algorithm did not converge\n",
      "  warn('The line search algorithm did not converge', LineSearchWarning)\n",
      "C:\\Users\\Nathan Ting\\anaconda3\\lib\\site-packages\\sklearn\\utils\\optimize.py:195: UserWarning: Line Search failed\n",
      "  warnings.warn('Line Search failed')\n",
      "C:\\Users\\Nathan Ting\\anaconda3\\lib\\site-packages\\scipy\\optimize\\linesearch.py:327: LineSearchWarning: The line search algorithm did not converge\n",
      "  warn('The line search algorithm did not converge', LineSearchWarning)\n",
      "C:\\Users\\Nathan Ting\\anaconda3\\lib\\site-packages\\sklearn\\utils\\optimize.py:195: UserWarning: Line Search failed\n",
      "  warnings.warn('Line Search failed')\n",
      "C:\\Users\\Nathan Ting\\anaconda3\\lib\\site-packages\\scipy\\optimize\\linesearch.py:327: LineSearchWarning: The line search algorithm did not converge\n",
      "  warn('The line search algorithm did not converge', LineSearchWarning)\n",
      "C:\\Users\\Nathan Ting\\anaconda3\\lib\\site-packages\\sklearn\\utils\\optimize.py:195: UserWarning: Line Search failed\n",
      "  warnings.warn('Line Search failed')\n",
      "C:\\Users\\Nathan Ting\\anaconda3\\lib\\site-packages\\scipy\\optimize\\linesearch.py:327: LineSearchWarning: The line search algorithm did not converge\n",
      "  warn('The line search algorithm did not converge', LineSearchWarning)\n",
      "C:\\Users\\Nathan Ting\\anaconda3\\lib\\site-packages\\sklearn\\utils\\optimize.py:195: UserWarning: Line Search failed\n",
      "  warnings.warn('Line Search failed')\n",
      "C:\\Users\\Nathan Ting\\anaconda3\\lib\\site-packages\\scipy\\optimize\\linesearch.py:327: LineSearchWarning: The line search algorithm did not converge\n",
      "  warn('The line search algorithm did not converge', LineSearchWarning)\n",
      "C:\\Users\\Nathan Ting\\anaconda3\\lib\\site-packages\\sklearn\\utils\\optimize.py:195: UserWarning: Line Search failed\n",
      "  warnings.warn('Line Search failed')\n",
      "C:\\Users\\Nathan Ting\\anaconda3\\lib\\site-packages\\scipy\\optimize\\linesearch.py:327: LineSearchWarning: The line search algorithm did not converge\n",
      "  warn('The line search algorithm did not converge', LineSearchWarning)\n",
      "C:\\Users\\Nathan Ting\\anaconda3\\lib\\site-packages\\sklearn\\utils\\optimize.py:195: UserWarning: Line Search failed\n",
      "  warnings.warn('Line Search failed')\n",
      "C:\\Users\\Nathan Ting\\anaconda3\\lib\\site-packages\\scipy\\optimize\\linesearch.py:327: LineSearchWarning: The line search algorithm did not converge\n",
      "  warn('The line search algorithm did not converge', LineSearchWarning)\n",
      "C:\\Users\\Nathan Ting\\anaconda3\\lib\\site-packages\\sklearn\\utils\\optimize.py:195: UserWarning: Line Search failed\n",
      "  warnings.warn('Line Search failed')\n",
      "C:\\Users\\Nathan Ting\\anaconda3\\lib\\site-packages\\scipy\\optimize\\linesearch.py:327: LineSearchWarning: The line search algorithm did not converge\n",
      "  warn('The line search algorithm did not converge', LineSearchWarning)\n",
      "C:\\Users\\Nathan Ting\\anaconda3\\lib\\site-packages\\sklearn\\utils\\optimize.py:195: UserWarning: Line Search failed\n",
      "  warnings.warn('Line Search failed')\n",
      "C:\\Users\\Nathan Ting\\anaconda3\\lib\\site-packages\\scipy\\optimize\\linesearch.py:327: LineSearchWarning: The line search algorithm did not converge\n",
      "  warn('The line search algorithm did not converge', LineSearchWarning)\n",
      "C:\\Users\\Nathan Ting\\anaconda3\\lib\\site-packages\\sklearn\\utils\\optimize.py:195: UserWarning: Line Search failed\n",
      "  warnings.warn('Line Search failed')\n",
      "C:\\Users\\Nathan Ting\\anaconda3\\lib\\site-packages\\scipy\\optimize\\linesearch.py:327: LineSearchWarning: The line search algorithm did not converge\n",
      "  warn('The line search algorithm did not converge', LineSearchWarning)\n",
      "C:\\Users\\Nathan Ting\\anaconda3\\lib\\site-packages\\sklearn\\utils\\optimize.py:195: UserWarning: Line Search failed\n",
      "  warnings.warn('Line Search failed')\n",
      "C:\\Users\\Nathan Ting\\anaconda3\\lib\\site-packages\\scipy\\optimize\\linesearch.py:327: LineSearchWarning: The line search algorithm did not converge\n",
      "  warn('The line search algorithm did not converge', LineSearchWarning)\n",
      "C:\\Users\\Nathan Ting\\anaconda3\\lib\\site-packages\\sklearn\\utils\\optimize.py:195: UserWarning: Line Search failed\n",
      "  warnings.warn('Line Search failed')\n",
      "C:\\Users\\Nathan Ting\\anaconda3\\lib\\site-packages\\scipy\\optimize\\linesearch.py:327: LineSearchWarning: The line search algorithm did not converge\n",
      "  warn('The line search algorithm did not converge', LineSearchWarning)\n",
      "C:\\Users\\Nathan Ting\\anaconda3\\lib\\site-packages\\sklearn\\utils\\optimize.py:195: UserWarning: Line Search failed\n",
      "  warnings.warn('Line Search failed')\n",
      "C:\\Users\\Nathan Ting\\anaconda3\\lib\\site-packages\\scipy\\optimize\\linesearch.py:327: LineSearchWarning: The line search algorithm did not converge\n",
      "  warn('The line search algorithm did not converge', LineSearchWarning)\n",
      "C:\\Users\\Nathan Ting\\anaconda3\\lib\\site-packages\\sklearn\\utils\\optimize.py:195: UserWarning: Line Search failed\n",
      "  warnings.warn('Line Search failed')\n",
      "C:\\Users\\Nathan Ting\\anaconda3\\lib\\site-packages\\scipy\\optimize\\linesearch.py:327: LineSearchWarning: The line search algorithm did not converge\n",
      "  warn('The line search algorithm did not converge', LineSearchWarning)\n",
      "C:\\Users\\Nathan Ting\\anaconda3\\lib\\site-packages\\sklearn\\utils\\optimize.py:195: UserWarning: Line Search failed\n",
      "  warnings.warn('Line Search failed')\n",
      "C:\\Users\\Nathan Ting\\anaconda3\\lib\\site-packages\\scipy\\optimize\\linesearch.py:327: LineSearchWarning: The line search algorithm did not converge\n",
      "  warn('The line search algorithm did not converge', LineSearchWarning)\n",
      "C:\\Users\\Nathan Ting\\anaconda3\\lib\\site-packages\\sklearn\\utils\\optimize.py:195: UserWarning: Line Search failed\n",
      "  warnings.warn('Line Search failed')\n",
      "C:\\Users\\Nathan Ting\\anaconda3\\lib\\site-packages\\scipy\\optimize\\linesearch.py:327: LineSearchWarning: The line search algorithm did not converge\n",
      "  warn('The line search algorithm did not converge', LineSearchWarning)\n",
      "C:\\Users\\Nathan Ting\\anaconda3\\lib\\site-packages\\sklearn\\utils\\optimize.py:195: UserWarning: Line Search failed\n",
      "  warnings.warn('Line Search failed')\n",
      "C:\\Users\\Nathan Ting\\anaconda3\\lib\\site-packages\\scipy\\optimize\\linesearch.py:327: LineSearchWarning: The line search algorithm did not converge\n",
      "  warn('The line search algorithm did not converge', LineSearchWarning)\n",
      "C:\\Users\\Nathan Ting\\anaconda3\\lib\\site-packages\\sklearn\\utils\\optimize.py:195: UserWarning: Line Search failed\n",
      "  warnings.warn('Line Search failed')\n",
      "C:\\Users\\Nathan Ting\\anaconda3\\lib\\site-packages\\scipy\\optimize\\linesearch.py:327: LineSearchWarning: The line search algorithm did not converge\n",
      "  warn('The line search algorithm did not converge', LineSearchWarning)\n",
      "C:\\Users\\Nathan Ting\\anaconda3\\lib\\site-packages\\sklearn\\utils\\optimize.py:195: UserWarning: Line Search failed\n",
      "  warnings.warn('Line Search failed')\n",
      "C:\\Users\\Nathan Ting\\anaconda3\\lib\\site-packages\\scipy\\optimize\\linesearch.py:327: LineSearchWarning: The line search algorithm did not converge\n",
      "  warn('The line search algorithm did not converge', LineSearchWarning)\n",
      "C:\\Users\\Nathan Ting\\anaconda3\\lib\\site-packages\\sklearn\\utils\\optimize.py:195: UserWarning: Line Search failed\n",
      "  warnings.warn('Line Search failed')\n",
      "C:\\Users\\Nathan Ting\\anaconda3\\lib\\site-packages\\scipy\\optimize\\linesearch.py:327: LineSearchWarning: The line search algorithm did not converge\n",
      "  warn('The line search algorithm did not converge', LineSearchWarning)\n",
      "C:\\Users\\Nathan Ting\\anaconda3\\lib\\site-packages\\sklearn\\utils\\optimize.py:195: UserWarning: Line Search failed\n",
      "  warnings.warn('Line Search failed')\n"
     ]
    },
    {
     "name": "stderr",
     "output_type": "stream",
     "text": [
      "C:\\Users\\Nathan Ting\\anaconda3\\lib\\site-packages\\scipy\\optimize\\linesearch.py:327: LineSearchWarning: The line search algorithm did not converge\n",
      "  warn('The line search algorithm did not converge', LineSearchWarning)\n",
      "C:\\Users\\Nathan Ting\\anaconda3\\lib\\site-packages\\sklearn\\utils\\optimize.py:195: UserWarning: Line Search failed\n",
      "  warnings.warn('Line Search failed')\n",
      "C:\\Users\\Nathan Ting\\anaconda3\\lib\\site-packages\\scipy\\optimize\\linesearch.py:327: LineSearchWarning: The line search algorithm did not converge\n",
      "  warn('The line search algorithm did not converge', LineSearchWarning)\n",
      "C:\\Users\\Nathan Ting\\anaconda3\\lib\\site-packages\\sklearn\\utils\\optimize.py:195: UserWarning: Line Search failed\n",
      "  warnings.warn('Line Search failed')\n",
      "C:\\Users\\Nathan Ting\\anaconda3\\lib\\site-packages\\scipy\\optimize\\linesearch.py:327: LineSearchWarning: The line search algorithm did not converge\n",
      "  warn('The line search algorithm did not converge', LineSearchWarning)\n",
      "C:\\Users\\Nathan Ting\\anaconda3\\lib\\site-packages\\sklearn\\utils\\optimize.py:195: UserWarning: Line Search failed\n",
      "  warnings.warn('Line Search failed')\n",
      "C:\\Users\\Nathan Ting\\anaconda3\\lib\\site-packages\\scipy\\optimize\\linesearch.py:327: LineSearchWarning: The line search algorithm did not converge\n",
      "  warn('The line search algorithm did not converge', LineSearchWarning)\n",
      "C:\\Users\\Nathan Ting\\anaconda3\\lib\\site-packages\\sklearn\\utils\\optimize.py:195: UserWarning: Line Search failed\n",
      "  warnings.warn('Line Search failed')\n",
      "C:\\Users\\Nathan Ting\\anaconda3\\lib\\site-packages\\scipy\\optimize\\linesearch.py:327: LineSearchWarning: The line search algorithm did not converge\n",
      "  warn('The line search algorithm did not converge', LineSearchWarning)\n",
      "C:\\Users\\Nathan Ting\\anaconda3\\lib\\site-packages\\sklearn\\utils\\optimize.py:195: UserWarning: Line Search failed\n",
      "  warnings.warn('Line Search failed')\n",
      "C:\\Users\\Nathan Ting\\anaconda3\\lib\\site-packages\\scipy\\optimize\\linesearch.py:327: LineSearchWarning: The line search algorithm did not converge\n",
      "  warn('The line search algorithm did not converge', LineSearchWarning)\n",
      "C:\\Users\\Nathan Ting\\anaconda3\\lib\\site-packages\\sklearn\\utils\\optimize.py:195: UserWarning: Line Search failed\n",
      "  warnings.warn('Line Search failed')\n",
      "C:\\Users\\Nathan Ting\\anaconda3\\lib\\site-packages\\scipy\\optimize\\linesearch.py:327: LineSearchWarning: The line search algorithm did not converge\n",
      "  warn('The line search algorithm did not converge', LineSearchWarning)\n",
      "C:\\Users\\Nathan Ting\\anaconda3\\lib\\site-packages\\sklearn\\utils\\optimize.py:195: UserWarning: Line Search failed\n",
      "  warnings.warn('Line Search failed')\n",
      "C:\\Users\\Nathan Ting\\anaconda3\\lib\\site-packages\\scipy\\optimize\\linesearch.py:327: LineSearchWarning: The line search algorithm did not converge\n",
      "  warn('The line search algorithm did not converge', LineSearchWarning)\n",
      "C:\\Users\\Nathan Ting\\anaconda3\\lib\\site-packages\\sklearn\\utils\\optimize.py:195: UserWarning: Line Search failed\n",
      "  warnings.warn('Line Search failed')\n",
      "C:\\Users\\Nathan Ting\\anaconda3\\lib\\site-packages\\scipy\\optimize\\linesearch.py:327: LineSearchWarning: The line search algorithm did not converge\n",
      "  warn('The line search algorithm did not converge', LineSearchWarning)\n",
      "C:\\Users\\Nathan Ting\\anaconda3\\lib\\site-packages\\sklearn\\utils\\optimize.py:195: UserWarning: Line Search failed\n",
      "  warnings.warn('Line Search failed')\n",
      "C:\\Users\\Nathan Ting\\anaconda3\\lib\\site-packages\\scipy\\optimize\\linesearch.py:327: LineSearchWarning: The line search algorithm did not converge\n",
      "  warn('The line search algorithm did not converge', LineSearchWarning)\n",
      "C:\\Users\\Nathan Ting\\anaconda3\\lib\\site-packages\\sklearn\\utils\\optimize.py:195: UserWarning: Line Search failed\n",
      "  warnings.warn('Line Search failed')\n",
      "C:\\Users\\Nathan Ting\\anaconda3\\lib\\site-packages\\scipy\\optimize\\linesearch.py:327: LineSearchWarning: The line search algorithm did not converge\n",
      "  warn('The line search algorithm did not converge', LineSearchWarning)\n",
      "C:\\Users\\Nathan Ting\\anaconda3\\lib\\site-packages\\sklearn\\utils\\optimize.py:195: UserWarning: Line Search failed\n",
      "  warnings.warn('Line Search failed')\n",
      "C:\\Users\\Nathan Ting\\anaconda3\\lib\\site-packages\\scipy\\optimize\\linesearch.py:327: LineSearchWarning: The line search algorithm did not converge\n",
      "  warn('The line search algorithm did not converge', LineSearchWarning)\n",
      "C:\\Users\\Nathan Ting\\anaconda3\\lib\\site-packages\\sklearn\\utils\\optimize.py:195: UserWarning: Line Search failed\n",
      "  warnings.warn('Line Search failed')\n",
      "C:\\Users\\Nathan Ting\\anaconda3\\lib\\site-packages\\scipy\\optimize\\linesearch.py:327: LineSearchWarning: The line search algorithm did not converge\n",
      "  warn('The line search algorithm did not converge', LineSearchWarning)\n",
      "C:\\Users\\Nathan Ting\\anaconda3\\lib\\site-packages\\sklearn\\utils\\optimize.py:195: UserWarning: Line Search failed\n",
      "  warnings.warn('Line Search failed')\n",
      "C:\\Users\\Nathan Ting\\anaconda3\\lib\\site-packages\\scipy\\optimize\\linesearch.py:327: LineSearchWarning: The line search algorithm did not converge\n",
      "  warn('The line search algorithm did not converge', LineSearchWarning)\n",
      "C:\\Users\\Nathan Ting\\anaconda3\\lib\\site-packages\\sklearn\\utils\\optimize.py:195: UserWarning: Line Search failed\n",
      "  warnings.warn('Line Search failed')\n",
      "C:\\Users\\Nathan Ting\\anaconda3\\lib\\site-packages\\scipy\\optimize\\linesearch.py:327: LineSearchWarning: The line search algorithm did not converge\n",
      "  warn('The line search algorithm did not converge', LineSearchWarning)\n",
      "C:\\Users\\Nathan Ting\\anaconda3\\lib\\site-packages\\sklearn\\utils\\optimize.py:195: UserWarning: Line Search failed\n",
      "  warnings.warn('Line Search failed')\n",
      "C:\\Users\\Nathan Ting\\anaconda3\\lib\\site-packages\\scipy\\optimize\\linesearch.py:327: LineSearchWarning: The line search algorithm did not converge\n",
      "  warn('The line search algorithm did not converge', LineSearchWarning)\n",
      "C:\\Users\\Nathan Ting\\anaconda3\\lib\\site-packages\\sklearn\\utils\\optimize.py:195: UserWarning: Line Search failed\n",
      "  warnings.warn('Line Search failed')\n",
      "C:\\Users\\Nathan Ting\\anaconda3\\lib\\site-packages\\scipy\\optimize\\linesearch.py:327: LineSearchWarning: The line search algorithm did not converge\n",
      "  warn('The line search algorithm did not converge', LineSearchWarning)\n",
      "C:\\Users\\Nathan Ting\\anaconda3\\lib\\site-packages\\sklearn\\utils\\optimize.py:195: UserWarning: Line Search failed\n",
      "  warnings.warn('Line Search failed')\n",
      "C:\\Users\\Nathan Ting\\anaconda3\\lib\\site-packages\\scipy\\optimize\\linesearch.py:327: LineSearchWarning: The line search algorithm did not converge\n",
      "  warn('The line search algorithm did not converge', LineSearchWarning)\n",
      "C:\\Users\\Nathan Ting\\anaconda3\\lib\\site-packages\\sklearn\\utils\\optimize.py:195: UserWarning: Line Search failed\n",
      "  warnings.warn('Line Search failed')\n",
      "C:\\Users\\Nathan Ting\\anaconda3\\lib\\site-packages\\scipy\\optimize\\linesearch.py:327: LineSearchWarning: The line search algorithm did not converge\n",
      "  warn('The line search algorithm did not converge', LineSearchWarning)\n",
      "C:\\Users\\Nathan Ting\\anaconda3\\lib\\site-packages\\sklearn\\utils\\optimize.py:195: UserWarning: Line Search failed\n",
      "  warnings.warn('Line Search failed')\n",
      "C:\\Users\\Nathan Ting\\anaconda3\\lib\\site-packages\\scipy\\optimize\\linesearch.py:327: LineSearchWarning: The line search algorithm did not converge\n",
      "  warn('The line search algorithm did not converge', LineSearchWarning)\n",
      "C:\\Users\\Nathan Ting\\anaconda3\\lib\\site-packages\\sklearn\\utils\\optimize.py:195: UserWarning: Line Search failed\n",
      "  warnings.warn('Line Search failed')\n",
      "C:\\Users\\Nathan Ting\\anaconda3\\lib\\site-packages\\scipy\\optimize\\linesearch.py:327: LineSearchWarning: The line search algorithm did not converge\n",
      "  warn('The line search algorithm did not converge', LineSearchWarning)\n",
      "C:\\Users\\Nathan Ting\\anaconda3\\lib\\site-packages\\sklearn\\utils\\optimize.py:195: UserWarning: Line Search failed\n",
      "  warnings.warn('Line Search failed')\n",
      "C:\\Users\\Nathan Ting\\anaconda3\\lib\\site-packages\\scipy\\optimize\\linesearch.py:327: LineSearchWarning: The line search algorithm did not converge\n",
      "  warn('The line search algorithm did not converge', LineSearchWarning)\n",
      "C:\\Users\\Nathan Ting\\anaconda3\\lib\\site-packages\\sklearn\\utils\\optimize.py:195: UserWarning: Line Search failed\n",
      "  warnings.warn('Line Search failed')\n",
      "C:\\Users\\Nathan Ting\\anaconda3\\lib\\site-packages\\scipy\\optimize\\linesearch.py:437: LineSearchWarning: Rounding errors prevent the line search from converging\n",
      "  warn(msg, LineSearchWarning)\n",
      "C:\\Users\\Nathan Ting\\anaconda3\\lib\\site-packages\\scipy\\optimize\\linesearch.py:327: LineSearchWarning: The line search algorithm did not converge\n",
      "  warn('The line search algorithm did not converge', LineSearchWarning)\n",
      "C:\\Users\\Nathan Ting\\anaconda3\\lib\\site-packages\\sklearn\\utils\\optimize.py:195: UserWarning: Line Search failed\n",
      "  warnings.warn('Line Search failed')\n"
     ]
    },
    {
     "name": "stderr",
     "output_type": "stream",
     "text": [
      "C:\\Users\\Nathan Ting\\anaconda3\\lib\\site-packages\\scipy\\optimize\\linesearch.py:437: LineSearchWarning: Rounding errors prevent the line search from converging\n",
      "  warn(msg, LineSearchWarning)\n",
      "C:\\Users\\Nathan Ting\\anaconda3\\lib\\site-packages\\scipy\\optimize\\linesearch.py:327: LineSearchWarning: The line search algorithm did not converge\n",
      "  warn('The line search algorithm did not converge', LineSearchWarning)\n",
      "C:\\Users\\Nathan Ting\\anaconda3\\lib\\site-packages\\sklearn\\utils\\optimize.py:195: UserWarning: Line Search failed\n",
      "  warnings.warn('Line Search failed')\n",
      "C:\\Users\\Nathan Ting\\anaconda3\\lib\\site-packages\\scipy\\optimize\\linesearch.py:437: LineSearchWarning: Rounding errors prevent the line search from converging\n",
      "  warn(msg, LineSearchWarning)\n",
      "C:\\Users\\Nathan Ting\\anaconda3\\lib\\site-packages\\scipy\\optimize\\linesearch.py:327: LineSearchWarning: The line search algorithm did not converge\n",
      "  warn('The line search algorithm did not converge', LineSearchWarning)\n",
      "C:\\Users\\Nathan Ting\\anaconda3\\lib\\site-packages\\sklearn\\utils\\optimize.py:195: UserWarning: Line Search failed\n",
      "  warnings.warn('Line Search failed')\n",
      "C:\\Users\\Nathan Ting\\anaconda3\\lib\\site-packages\\scipy\\optimize\\linesearch.py:437: LineSearchWarning: Rounding errors prevent the line search from converging\n",
      "  warn(msg, LineSearchWarning)\n",
      "C:\\Users\\Nathan Ting\\anaconda3\\lib\\site-packages\\scipy\\optimize\\linesearch.py:327: LineSearchWarning: The line search algorithm did not converge\n",
      "  warn('The line search algorithm did not converge', LineSearchWarning)\n",
      "C:\\Users\\Nathan Ting\\anaconda3\\lib\\site-packages\\sklearn\\utils\\optimize.py:195: UserWarning: Line Search failed\n",
      "  warnings.warn('Line Search failed')\n",
      "C:\\Users\\Nathan Ting\\anaconda3\\lib\\site-packages\\scipy\\optimize\\linesearch.py:437: LineSearchWarning: Rounding errors prevent the line search from converging\n",
      "  warn(msg, LineSearchWarning)\n",
      "C:\\Users\\Nathan Ting\\anaconda3\\lib\\site-packages\\scipy\\optimize\\linesearch.py:327: LineSearchWarning: The line search algorithm did not converge\n",
      "  warn('The line search algorithm did not converge', LineSearchWarning)\n",
      "C:\\Users\\Nathan Ting\\anaconda3\\lib\\site-packages\\sklearn\\utils\\optimize.py:195: UserWarning: Line Search failed\n",
      "  warnings.warn('Line Search failed')\n",
      "C:\\Users\\Nathan Ting\\anaconda3\\lib\\site-packages\\scipy\\optimize\\linesearch.py:437: LineSearchWarning: Rounding errors prevent the line search from converging\n",
      "  warn(msg, LineSearchWarning)\n",
      "C:\\Users\\Nathan Ting\\anaconda3\\lib\\site-packages\\scipy\\optimize\\linesearch.py:327: LineSearchWarning: The line search algorithm did not converge\n",
      "  warn('The line search algorithm did not converge', LineSearchWarning)\n",
      "C:\\Users\\Nathan Ting\\anaconda3\\lib\\site-packages\\sklearn\\utils\\optimize.py:195: UserWarning: Line Search failed\n",
      "  warnings.warn('Line Search failed')\n",
      "C:\\Users\\Nathan Ting\\anaconda3\\lib\\site-packages\\scipy\\optimize\\linesearch.py:437: LineSearchWarning: Rounding errors prevent the line search from converging\n",
      "  warn(msg, LineSearchWarning)\n",
      "C:\\Users\\Nathan Ting\\anaconda3\\lib\\site-packages\\scipy\\optimize\\linesearch.py:327: LineSearchWarning: The line search algorithm did not converge\n",
      "  warn('The line search algorithm did not converge', LineSearchWarning)\n",
      "C:\\Users\\Nathan Ting\\anaconda3\\lib\\site-packages\\sklearn\\utils\\optimize.py:195: UserWarning: Line Search failed\n",
      "  warnings.warn('Line Search failed')\n",
      "C:\\Users\\Nathan Ting\\anaconda3\\lib\\site-packages\\scipy\\optimize\\linesearch.py:437: LineSearchWarning: Rounding errors prevent the line search from converging\n",
      "  warn(msg, LineSearchWarning)\n",
      "C:\\Users\\Nathan Ting\\anaconda3\\lib\\site-packages\\scipy\\optimize\\linesearch.py:327: LineSearchWarning: The line search algorithm did not converge\n",
      "  warn('The line search algorithm did not converge', LineSearchWarning)\n",
      "C:\\Users\\Nathan Ting\\anaconda3\\lib\\site-packages\\sklearn\\utils\\optimize.py:195: UserWarning: Line Search failed\n",
      "  warnings.warn('Line Search failed')\n",
      "C:\\Users\\Nathan Ting\\anaconda3\\lib\\site-packages\\scipy\\optimize\\linesearch.py:437: LineSearchWarning: Rounding errors prevent the line search from converging\n",
      "  warn(msg, LineSearchWarning)\n",
      "C:\\Users\\Nathan Ting\\anaconda3\\lib\\site-packages\\scipy\\optimize\\linesearch.py:327: LineSearchWarning: The line search algorithm did not converge\n",
      "  warn('The line search algorithm did not converge', LineSearchWarning)\n",
      "C:\\Users\\Nathan Ting\\anaconda3\\lib\\site-packages\\sklearn\\utils\\optimize.py:195: UserWarning: Line Search failed\n",
      "  warnings.warn('Line Search failed')\n",
      "C:\\Users\\Nathan Ting\\anaconda3\\lib\\site-packages\\scipy\\optimize\\linesearch.py:327: LineSearchWarning: The line search algorithm did not converge\n",
      "  warn('The line search algorithm did not converge', LineSearchWarning)\n",
      "C:\\Users\\Nathan Ting\\anaconda3\\lib\\site-packages\\sklearn\\utils\\optimize.py:195: UserWarning: Line Search failed\n",
      "  warnings.warn('Line Search failed')\n",
      "C:\\Users\\Nathan Ting\\anaconda3\\lib\\site-packages\\scipy\\optimize\\linesearch.py:327: LineSearchWarning: The line search algorithm did not converge\n",
      "  warn('The line search algorithm did not converge', LineSearchWarning)\n",
      "C:\\Users\\Nathan Ting\\anaconda3\\lib\\site-packages\\sklearn\\utils\\optimize.py:195: UserWarning: Line Search failed\n",
      "  warnings.warn('Line Search failed')\n",
      "C:\\Users\\Nathan Ting\\anaconda3\\lib\\site-packages\\scipy\\optimize\\linesearch.py:327: LineSearchWarning: The line search algorithm did not converge\n",
      "  warn('The line search algorithm did not converge', LineSearchWarning)\n",
      "C:\\Users\\Nathan Ting\\anaconda3\\lib\\site-packages\\sklearn\\utils\\optimize.py:195: UserWarning: Line Search failed\n",
      "  warnings.warn('Line Search failed')\n",
      "C:\\Users\\Nathan Ting\\anaconda3\\lib\\site-packages\\scipy\\optimize\\linesearch.py:327: LineSearchWarning: The line search algorithm did not converge\n",
      "  warn('The line search algorithm did not converge', LineSearchWarning)\n",
      "C:\\Users\\Nathan Ting\\anaconda3\\lib\\site-packages\\sklearn\\utils\\optimize.py:195: UserWarning: Line Search failed\n",
      "  warnings.warn('Line Search failed')\n",
      "C:\\Users\\Nathan Ting\\anaconda3\\lib\\site-packages\\scipy\\optimize\\linesearch.py:327: LineSearchWarning: The line search algorithm did not converge\n",
      "  warn('The line search algorithm did not converge', LineSearchWarning)\n",
      "C:\\Users\\Nathan Ting\\anaconda3\\lib\\site-packages\\sklearn\\utils\\optimize.py:195: UserWarning: Line Search failed\n",
      "  warnings.warn('Line Search failed')\n",
      "C:\\Users\\Nathan Ting\\anaconda3\\lib\\site-packages\\scipy\\optimize\\linesearch.py:327: LineSearchWarning: The line search algorithm did not converge\n",
      "  warn('The line search algorithm did not converge', LineSearchWarning)\n",
      "C:\\Users\\Nathan Ting\\anaconda3\\lib\\site-packages\\sklearn\\utils\\optimize.py:195: UserWarning: Line Search failed\n",
      "  warnings.warn('Line Search failed')\n",
      "C:\\Users\\Nathan Ting\\anaconda3\\lib\\site-packages\\scipy\\optimize\\linesearch.py:327: LineSearchWarning: The line search algorithm did not converge\n",
      "  warn('The line search algorithm did not converge', LineSearchWarning)\n",
      "C:\\Users\\Nathan Ting\\anaconda3\\lib\\site-packages\\sklearn\\utils\\optimize.py:195: UserWarning: Line Search failed\n",
      "  warnings.warn('Line Search failed')\n",
      "C:\\Users\\Nathan Ting\\anaconda3\\lib\\site-packages\\scipy\\optimize\\linesearch.py:327: LineSearchWarning: The line search algorithm did not converge\n",
      "  warn('The line search algorithm did not converge', LineSearchWarning)\n",
      "C:\\Users\\Nathan Ting\\anaconda3\\lib\\site-packages\\sklearn\\utils\\optimize.py:195: UserWarning: Line Search failed\n",
      "  warnings.warn('Line Search failed')\n",
      "C:\\Users\\Nathan Ting\\anaconda3\\lib\\site-packages\\scipy\\optimize\\linesearch.py:327: LineSearchWarning: The line search algorithm did not converge\n",
      "  warn('The line search algorithm did not converge', LineSearchWarning)\n",
      "C:\\Users\\Nathan Ting\\anaconda3\\lib\\site-packages\\sklearn\\utils\\optimize.py:195: UserWarning: Line Search failed\n",
      "  warnings.warn('Line Search failed')\n",
      "C:\\Users\\Nathan Ting\\anaconda3\\lib\\site-packages\\scipy\\optimize\\linesearch.py:327: LineSearchWarning: The line search algorithm did not converge\n",
      "  warn('The line search algorithm did not converge', LineSearchWarning)\n",
      "C:\\Users\\Nathan Ting\\anaconda3\\lib\\site-packages\\sklearn\\utils\\optimize.py:195: UserWarning: Line Search failed\n",
      "  warnings.warn('Line Search failed')\n",
      "C:\\Users\\Nathan Ting\\anaconda3\\lib\\site-packages\\scipy\\optimize\\linesearch.py:327: LineSearchWarning: The line search algorithm did not converge\n",
      "  warn('The line search algorithm did not converge', LineSearchWarning)\n",
      "C:\\Users\\Nathan Ting\\anaconda3\\lib\\site-packages\\sklearn\\utils\\optimize.py:195: UserWarning: Line Search failed\n",
      "  warnings.warn('Line Search failed')\n"
     ]
    },
    {
     "name": "stderr",
     "output_type": "stream",
     "text": [
      "C:\\Users\\Nathan Ting\\anaconda3\\lib\\site-packages\\scipy\\optimize\\linesearch.py:327: LineSearchWarning: The line search algorithm did not converge\n",
      "  warn('The line search algorithm did not converge', LineSearchWarning)\n",
      "C:\\Users\\Nathan Ting\\anaconda3\\lib\\site-packages\\sklearn\\utils\\optimize.py:195: UserWarning: Line Search failed\n",
      "  warnings.warn('Line Search failed')\n",
      "C:\\Users\\Nathan Ting\\anaconda3\\lib\\site-packages\\scipy\\optimize\\linesearch.py:327: LineSearchWarning: The line search algorithm did not converge\n",
      "  warn('The line search algorithm did not converge', LineSearchWarning)\n",
      "C:\\Users\\Nathan Ting\\anaconda3\\lib\\site-packages\\sklearn\\utils\\optimize.py:195: UserWarning: Line Search failed\n",
      "  warnings.warn('Line Search failed')\n",
      "C:\\Users\\Nathan Ting\\anaconda3\\lib\\site-packages\\scipy\\optimize\\linesearch.py:327: LineSearchWarning: The line search algorithm did not converge\n",
      "  warn('The line search algorithm did not converge', LineSearchWarning)\n",
      "C:\\Users\\Nathan Ting\\anaconda3\\lib\\site-packages\\sklearn\\utils\\optimize.py:195: UserWarning: Line Search failed\n",
      "  warnings.warn('Line Search failed')\n",
      "C:\\Users\\Nathan Ting\\anaconda3\\lib\\site-packages\\scipy\\optimize\\linesearch.py:327: LineSearchWarning: The line search algorithm did not converge\n",
      "  warn('The line search algorithm did not converge', LineSearchWarning)\n",
      "C:\\Users\\Nathan Ting\\anaconda3\\lib\\site-packages\\sklearn\\utils\\optimize.py:195: UserWarning: Line Search failed\n",
      "  warnings.warn('Line Search failed')\n",
      "C:\\Users\\Nathan Ting\\anaconda3\\lib\\site-packages\\scipy\\optimize\\linesearch.py:327: LineSearchWarning: The line search algorithm did not converge\n",
      "  warn('The line search algorithm did not converge', LineSearchWarning)\n",
      "C:\\Users\\Nathan Ting\\anaconda3\\lib\\site-packages\\sklearn\\utils\\optimize.py:195: UserWarning: Line Search failed\n",
      "  warnings.warn('Line Search failed')\n",
      "C:\\Users\\Nathan Ting\\anaconda3\\lib\\site-packages\\scipy\\optimize\\linesearch.py:327: LineSearchWarning: The line search algorithm did not converge\n",
      "  warn('The line search algorithm did not converge', LineSearchWarning)\n",
      "C:\\Users\\Nathan Ting\\anaconda3\\lib\\site-packages\\sklearn\\utils\\optimize.py:195: UserWarning: Line Search failed\n",
      "  warnings.warn('Line Search failed')\n",
      "C:\\Users\\Nathan Ting\\anaconda3\\lib\\site-packages\\scipy\\optimize\\linesearch.py:327: LineSearchWarning: The line search algorithm did not converge\n",
      "  warn('The line search algorithm did not converge', LineSearchWarning)\n",
      "C:\\Users\\Nathan Ting\\anaconda3\\lib\\site-packages\\sklearn\\utils\\optimize.py:195: UserWarning: Line Search failed\n",
      "  warnings.warn('Line Search failed')\n",
      "C:\\Users\\Nathan Ting\\anaconda3\\lib\\site-packages\\scipy\\optimize\\linesearch.py:327: LineSearchWarning: The line search algorithm did not converge\n",
      "  warn('The line search algorithm did not converge', LineSearchWarning)\n",
      "C:\\Users\\Nathan Ting\\anaconda3\\lib\\site-packages\\sklearn\\utils\\optimize.py:195: UserWarning: Line Search failed\n",
      "  warnings.warn('Line Search failed')\n",
      "C:\\Users\\Nathan Ting\\anaconda3\\lib\\site-packages\\scipy\\optimize\\linesearch.py:437: LineSearchWarning: Rounding errors prevent the line search from converging\n",
      "  warn(msg, LineSearchWarning)\n",
      "C:\\Users\\Nathan Ting\\anaconda3\\lib\\site-packages\\scipy\\optimize\\linesearch.py:327: LineSearchWarning: The line search algorithm did not converge\n",
      "  warn('The line search algorithm did not converge', LineSearchWarning)\n",
      "C:\\Users\\Nathan Ting\\anaconda3\\lib\\site-packages\\sklearn\\utils\\optimize.py:195: UserWarning: Line Search failed\n",
      "  warnings.warn('Line Search failed')\n",
      "C:\\Users\\Nathan Ting\\anaconda3\\lib\\site-packages\\scipy\\optimize\\linesearch.py:327: LineSearchWarning: The line search algorithm did not converge\n",
      "  warn('The line search algorithm did not converge', LineSearchWarning)\n",
      "C:\\Users\\Nathan Ting\\anaconda3\\lib\\site-packages\\sklearn\\utils\\optimize.py:195: UserWarning: Line Search failed\n",
      "  warnings.warn('Line Search failed')\n",
      "C:\\Users\\Nathan Ting\\anaconda3\\lib\\site-packages\\scipy\\optimize\\linesearch.py:437: LineSearchWarning: Rounding errors prevent the line search from converging\n",
      "  warn(msg, LineSearchWarning)\n",
      "C:\\Users\\Nathan Ting\\anaconda3\\lib\\site-packages\\scipy\\optimize\\linesearch.py:327: LineSearchWarning: The line search algorithm did not converge\n",
      "  warn('The line search algorithm did not converge', LineSearchWarning)\n",
      "C:\\Users\\Nathan Ting\\anaconda3\\lib\\site-packages\\sklearn\\utils\\optimize.py:195: UserWarning: Line Search failed\n",
      "  warnings.warn('Line Search failed')\n",
      "C:\\Users\\Nathan Ting\\anaconda3\\lib\\site-packages\\scipy\\optimize\\linesearch.py:327: LineSearchWarning: The line search algorithm did not converge\n",
      "  warn('The line search algorithm did not converge', LineSearchWarning)\n",
      "C:\\Users\\Nathan Ting\\anaconda3\\lib\\site-packages\\sklearn\\utils\\optimize.py:195: UserWarning: Line Search failed\n",
      "  warnings.warn('Line Search failed')\n",
      "C:\\Users\\Nathan Ting\\anaconda3\\lib\\site-packages\\scipy\\optimize\\linesearch.py:437: LineSearchWarning: Rounding errors prevent the line search from converging\n",
      "  warn(msg, LineSearchWarning)\n",
      "C:\\Users\\Nathan Ting\\anaconda3\\lib\\site-packages\\scipy\\optimize\\linesearch.py:327: LineSearchWarning: The line search algorithm did not converge\n",
      "  warn('The line search algorithm did not converge', LineSearchWarning)\n",
      "C:\\Users\\Nathan Ting\\anaconda3\\lib\\site-packages\\sklearn\\utils\\optimize.py:195: UserWarning: Line Search failed\n",
      "  warnings.warn('Line Search failed')\n",
      "C:\\Users\\Nathan Ting\\anaconda3\\lib\\site-packages\\scipy\\optimize\\linesearch.py:327: LineSearchWarning: The line search algorithm did not converge\n",
      "  warn('The line search algorithm did not converge', LineSearchWarning)\n",
      "C:\\Users\\Nathan Ting\\anaconda3\\lib\\site-packages\\sklearn\\utils\\optimize.py:195: UserWarning: Line Search failed\n",
      "  warnings.warn('Line Search failed')\n",
      "C:\\Users\\Nathan Ting\\anaconda3\\lib\\site-packages\\scipy\\optimize\\linesearch.py:437: LineSearchWarning: Rounding errors prevent the line search from converging\n",
      "  warn(msg, LineSearchWarning)\n",
      "C:\\Users\\Nathan Ting\\anaconda3\\lib\\site-packages\\scipy\\optimize\\linesearch.py:327: LineSearchWarning: The line search algorithm did not converge\n",
      "  warn('The line search algorithm did not converge', LineSearchWarning)\n",
      "C:\\Users\\Nathan Ting\\anaconda3\\lib\\site-packages\\sklearn\\utils\\optimize.py:195: UserWarning: Line Search failed\n",
      "  warnings.warn('Line Search failed')\n",
      "C:\\Users\\Nathan Ting\\anaconda3\\lib\\site-packages\\scipy\\optimize\\linesearch.py:327: LineSearchWarning: The line search algorithm did not converge\n",
      "  warn('The line search algorithm did not converge', LineSearchWarning)\n",
      "C:\\Users\\Nathan Ting\\anaconda3\\lib\\site-packages\\sklearn\\utils\\optimize.py:195: UserWarning: Line Search failed\n",
      "  warnings.warn('Line Search failed')\n",
      "C:\\Users\\Nathan Ting\\anaconda3\\lib\\site-packages\\scipy\\optimize\\linesearch.py:437: LineSearchWarning: Rounding errors prevent the line search from converging\n",
      "  warn(msg, LineSearchWarning)\n",
      "C:\\Users\\Nathan Ting\\anaconda3\\lib\\site-packages\\scipy\\optimize\\linesearch.py:327: LineSearchWarning: The line search algorithm did not converge\n",
      "  warn('The line search algorithm did not converge', LineSearchWarning)\n",
      "C:\\Users\\Nathan Ting\\anaconda3\\lib\\site-packages\\sklearn\\utils\\optimize.py:195: UserWarning: Line Search failed\n",
      "  warnings.warn('Line Search failed')\n",
      "C:\\Users\\Nathan Ting\\anaconda3\\lib\\site-packages\\scipy\\optimize\\linesearch.py:327: LineSearchWarning: The line search algorithm did not converge\n",
      "  warn('The line search algorithm did not converge', LineSearchWarning)\n",
      "C:\\Users\\Nathan Ting\\anaconda3\\lib\\site-packages\\sklearn\\utils\\optimize.py:195: UserWarning: Line Search failed\n",
      "  warnings.warn('Line Search failed')\n",
      "C:\\Users\\Nathan Ting\\anaconda3\\lib\\site-packages\\scipy\\optimize\\linesearch.py:437: LineSearchWarning: Rounding errors prevent the line search from converging\n",
      "  warn(msg, LineSearchWarning)\n",
      "C:\\Users\\Nathan Ting\\anaconda3\\lib\\site-packages\\scipy\\optimize\\linesearch.py:327: LineSearchWarning: The line search algorithm did not converge\n",
      "  warn('The line search algorithm did not converge', LineSearchWarning)\n",
      "C:\\Users\\Nathan Ting\\anaconda3\\lib\\site-packages\\sklearn\\utils\\optimize.py:195: UserWarning: Line Search failed\n",
      "  warnings.warn('Line Search failed')\n",
      "C:\\Users\\Nathan Ting\\anaconda3\\lib\\site-packages\\scipy\\optimize\\linesearch.py:327: LineSearchWarning: The line search algorithm did not converge\n",
      "  warn('The line search algorithm did not converge', LineSearchWarning)\n",
      "C:\\Users\\Nathan Ting\\anaconda3\\lib\\site-packages\\sklearn\\utils\\optimize.py:195: UserWarning: Line Search failed\n",
      "  warnings.warn('Line Search failed')\n"
     ]
    },
    {
     "name": "stderr",
     "output_type": "stream",
     "text": [
      "C:\\Users\\Nathan Ting\\anaconda3\\lib\\site-packages\\scipy\\optimize\\linesearch.py:437: LineSearchWarning: Rounding errors prevent the line search from converging\n",
      "  warn(msg, LineSearchWarning)\n",
      "C:\\Users\\Nathan Ting\\anaconda3\\lib\\site-packages\\scipy\\optimize\\linesearch.py:327: LineSearchWarning: The line search algorithm did not converge\n",
      "  warn('The line search algorithm did not converge', LineSearchWarning)\n",
      "C:\\Users\\Nathan Ting\\anaconda3\\lib\\site-packages\\sklearn\\utils\\optimize.py:195: UserWarning: Line Search failed\n",
      "  warnings.warn('Line Search failed')\n",
      "C:\\Users\\Nathan Ting\\anaconda3\\lib\\site-packages\\scipy\\optimize\\linesearch.py:327: LineSearchWarning: The line search algorithm did not converge\n",
      "  warn('The line search algorithm did not converge', LineSearchWarning)\n",
      "C:\\Users\\Nathan Ting\\anaconda3\\lib\\site-packages\\sklearn\\utils\\optimize.py:195: UserWarning: Line Search failed\n",
      "  warnings.warn('Line Search failed')\n",
      "C:\\Users\\Nathan Ting\\anaconda3\\lib\\site-packages\\scipy\\optimize\\linesearch.py:437: LineSearchWarning: Rounding errors prevent the line search from converging\n",
      "  warn(msg, LineSearchWarning)\n",
      "C:\\Users\\Nathan Ting\\anaconda3\\lib\\site-packages\\scipy\\optimize\\linesearch.py:327: LineSearchWarning: The line search algorithm did not converge\n",
      "  warn('The line search algorithm did not converge', LineSearchWarning)\n",
      "C:\\Users\\Nathan Ting\\anaconda3\\lib\\site-packages\\sklearn\\utils\\optimize.py:195: UserWarning: Line Search failed\n",
      "  warnings.warn('Line Search failed')\n",
      "C:\\Users\\Nathan Ting\\anaconda3\\lib\\site-packages\\scipy\\optimize\\linesearch.py:327: LineSearchWarning: The line search algorithm did not converge\n",
      "  warn('The line search algorithm did not converge', LineSearchWarning)\n",
      "C:\\Users\\Nathan Ting\\anaconda3\\lib\\site-packages\\sklearn\\utils\\optimize.py:195: UserWarning: Line Search failed\n",
      "  warnings.warn('Line Search failed')\n",
      "C:\\Users\\Nathan Ting\\anaconda3\\lib\\site-packages\\scipy\\optimize\\linesearch.py:437: LineSearchWarning: Rounding errors prevent the line search from converging\n",
      "  warn(msg, LineSearchWarning)\n",
      "C:\\Users\\Nathan Ting\\anaconda3\\lib\\site-packages\\scipy\\optimize\\linesearch.py:327: LineSearchWarning: The line search algorithm did not converge\n",
      "  warn('The line search algorithm did not converge', LineSearchWarning)\n",
      "C:\\Users\\Nathan Ting\\anaconda3\\lib\\site-packages\\sklearn\\utils\\optimize.py:195: UserWarning: Line Search failed\n",
      "  warnings.warn('Line Search failed')\n"
     ]
    },
    {
     "name": "stdout",
     "output_type": "stream",
     "text": [
      "LogisticRegression(C=1000, max_iter=1000, solver='newton-cg', tol=1e-06)\n"
     ]
    }
   ],
   "source": [
    "parameters = [{'max_iter':list(np.arange(1000, 10000, 1000)),\n",
    "               'C': list(np.arange(1000, 2000, 50)), \n",
    "               'tol':[1e-6,1e-5,1e-4], \n",
    "               'fit_intercept':[True, False], \n",
    "               'solver': ['newton-cg', 'lbfgs', 'liblinear', 'sag', 'saga'] \n",
    "              }] \n",
    "\n",
    "grid = GridSearchCV(lr, parameters)\n",
    "grid.fit(Xtrain, ytrain)\n",
    " \n",
    "print(grid.best_estimator_) #print how the model looks after hyper parameter tuning \n"
   ]
  },
  {
   "cell_type": "code",
   "execution_count": 27,
   "id": "28b1f094",
   "metadata": {},
   "outputs": [
    {
     "name": "stdout",
     "output_type": "stream",
     "text": [
      "Mean squared error: 0.027772798279085253\n",
      "Accuracy score: 0.9722272017209147\n",
      "              precision    recall  f1-score   support\n",
      "\n",
      "           0       0.00      0.00      0.00      2169\n",
      "           1       0.97      1.00      0.99     75929\n",
      "\n",
      "    accuracy                           0.97     78098\n",
      "   macro avg       0.49      0.50      0.49     78098\n",
      "weighted avg       0.95      0.97      0.96     78098\n",
      "\n"
     ]
    },
    {
     "name": "stderr",
     "output_type": "stream",
     "text": [
      "C:\\Users\\Nathan Ting\\anaconda3\\lib\\site-packages\\sklearn\\metrics\\_classification.py:1245: UndefinedMetricWarning: Precision and F-score are ill-defined and being set to 0.0 in labels with no predicted samples. Use `zero_division` parameter to control this behavior.\n",
      "  _warn_prf(average, modifier, msg_start, len(result))\n",
      "C:\\Users\\Nathan Ting\\anaconda3\\lib\\site-packages\\sklearn\\metrics\\_classification.py:1245: UndefinedMetricWarning: Precision and F-score are ill-defined and being set to 0.0 in labels with no predicted samples. Use `zero_division` parameter to control this behavior.\n",
      "  _warn_prf(average, modifier, msg_start, len(result))\n",
      "C:\\Users\\Nathan Ting\\anaconda3\\lib\\site-packages\\sklearn\\metrics\\_classification.py:1245: UndefinedMetricWarning: Precision and F-score are ill-defined and being set to 0.0 in labels with no predicted samples. Use `zero_division` parameter to control this behavior.\n",
      "  _warn_prf(average, modifier, msg_start, len(result))\n"
     ]
    }
   ],
   "source": [
    "#previous testing parameters = [{'max_iter':5000,\n",
    "               #'C': list(np.arange(1000, 2000, 50)), \n",
    "               #'tol':[1e-6,1e-5,1e-4], \n",
    "               #'fit_intercept':[True, False], \n",
    "               #'solver': ['newton-cg', 'lbfgs', 'liblinear', 'sag', 'saga'] \n",
    "              #}] \n",
    "from sklearn.linear_model import LogisticRegression\n",
    "from sklearn.metrics import mean_squared_error, precision_score, recall_score, f1_score, accuracy_score, classification_report\n",
    "\n",
    "lr = LogisticRegression(C=1000, max_iter=5000, solver='newton-cg', tol=1e-05)\n",
    "lr.fit(Xtrain, ytrain)\n",
    "\n",
    "ypred = lr.predict(Xtest)\n",
    "print(\"Mean squared error:\", mean_squared_error(ytest, ypred))\n",
    "print(\"Accuracy score:\", accuracy_score(ytest, ypred))\n",
    "#print(\"Precision score: \", precision_score(ytest, ypred))\n",
    "#print(\"Recall score: \", recall_score(ytest, ypred)) #balance between precision and recall\n",
    "#print(\"F1 score: \", f1_score(ytest, ypred))\n",
    "\n",
    "print(classification_report(ytest, ypred))"
   ]
  },
  {
   "cell_type": "code",
   "execution_count": 28,
   "id": "eaa407d2",
   "metadata": {},
   "outputs": [
    {
     "name": "stdout",
     "output_type": "stream",
     "text": [
      "Mean squared error: 0.027772798279085253\n",
      "Accuracy score: 0.9722272017209147\n",
      "              precision    recall  f1-score   support\n",
      "\n",
      "           0       0.00      0.00      0.00      2169\n",
      "           1       0.97      1.00      0.99     75929\n",
      "\n",
      "    accuracy                           0.97     78098\n",
      "   macro avg       0.49      0.50      0.49     78098\n",
      "weighted avg       0.95      0.97      0.96     78098\n",
      "\n"
     ]
    },
    {
     "name": "stderr",
     "output_type": "stream",
     "text": [
      "C:\\Users\\Nathan Ting\\anaconda3\\lib\\site-packages\\sklearn\\metrics\\_classification.py:1245: UndefinedMetricWarning: Precision and F-score are ill-defined and being set to 0.0 in labels with no predicted samples. Use `zero_division` parameter to control this behavior.\n",
      "  _warn_prf(average, modifier, msg_start, len(result))\n",
      "C:\\Users\\Nathan Ting\\anaconda3\\lib\\site-packages\\sklearn\\metrics\\_classification.py:1245: UndefinedMetricWarning: Precision and F-score are ill-defined and being set to 0.0 in labels with no predicted samples. Use `zero_division` parameter to control this behavior.\n",
      "  _warn_prf(average, modifier, msg_start, len(result))\n",
      "C:\\Users\\Nathan Ting\\anaconda3\\lib\\site-packages\\sklearn\\metrics\\_classification.py:1245: UndefinedMetricWarning: Precision and F-score are ill-defined and being set to 0.0 in labels with no predicted samples. Use `zero_division` parameter to control this behavior.\n",
      "  _warn_prf(average, modifier, msg_start, len(result))\n"
     ]
    }
   ],
   "source": [
    "#previous parameters parameters = [{'max_iter':list(np.arange(1000, 10000, 1000)),\n",
    "               #'C': list(np.arange(1000, 2000, 50)), \n",
    "               #'tol':[1e-6,1e-5,1e-4], \n",
    "               #'fit_intercept':[True, False], \n",
    "               #'solver': ['newton-cg', 'lbfgs', 'liblinear', 'sag', 'saga'] \n",
    "              #}] \n",
    "\n",
    "from sklearn.linear_model import LogisticRegression\n",
    "from sklearn.metrics import mean_squared_error, precision_score, recall_score, f1_score, accuracy_score, classification_report\n",
    "\n",
    "lr = LogisticRegression(C=1000, max_iter=1000, solver='newton-cg', tol=1e-06)\n",
    "lr.fit(Xtrain, ytrain)\n",
    "\n",
    "ypred = lr.predict(Xtest)\n",
    "print(\"Mean squared error:\", mean_squared_error(ytest, ypred))\n",
    "print(\"Accuracy score:\", accuracy_score(ytest, ypred))\n",
    "#print(\"Precision score: \", precision_score(ytest, ypred))\n",
    "#print(\"Recall score: \", recall_score(ytest, ypred)) #balance between precision and recall\n",
    "#print(\"F1 score: \", f1_score(ytest, ypred))\n",
    "\n",
    "print(classification_report(ytest, ypred))"
   ]
  },
  {
   "cell_type": "markdown",
   "id": "0135d72b",
   "metadata": {},
   "source": [
    "## Comparing Model Results"
   ]
  },
  {
   "cell_type": "code",
   "execution_count": 66,
   "id": "f1fe4e93",
   "metadata": {},
   "outputs": [
    {
     "data": {
      "text/html": [
       "<style  type=\"text/css\" >\n",
       "</style><table id=\"T_a3a4f_\" ><caption>MC1DropP5Mean</caption><thead>    <tr>        <th class=\"blank level0\" ></th>        <th class=\"col_heading level0 col0\" >KNN</th>        <th class=\"col_heading level0 col1\" >GNB</th>        <th class=\"col_heading level0 col2\" >RFC</th>    </tr></thead><tbody>\n",
       "                <tr>\n",
       "                        <th id=\"T_a3a4f_level0_row0\" class=\"row_heading level0 row0\" >Accuracy</th>\n",
       "                        <td id=\"T_a3a4f_row0_col0\" class=\"data row0 col0\" >0.988220</td>\n",
       "                        <td id=\"T_a3a4f_row0_col1\" class=\"data row0 col1\" >0.976350</td>\n",
       "                        <td id=\"T_a3a4f_row0_col2\" class=\"data row0 col2\" >0.987989</td>\n",
       "            </tr>\n",
       "            <tr>\n",
       "                        <th id=\"T_a3a4f_level0_row1\" class=\"row_heading level0 row1\" >Mean-squared Error</th>\n",
       "                        <td id=\"T_a3a4f_row1_col0\" class=\"data row1 col0\" >0.011780</td>\n",
       "                        <td id=\"T_a3a4f_row1_col1\" class=\"data row1 col1\" >0.023650</td>\n",
       "                        <td id=\"T_a3a4f_row1_col2\" class=\"data row1 col2\" >0.012011</td>\n",
       "            </tr>\n",
       "            <tr>\n",
       "                        <th id=\"T_a3a4f_level0_row2\" class=\"row_heading level0 row2\" >Precision</th>\n",
       "                        <td id=\"T_a3a4f_row2_col0\" class=\"data row2 col0\" >0.988996</td>\n",
       "                        <td id=\"T_a3a4f_row2_col1\" class=\"data row2 col1\" >0.976252</td>\n",
       "                        <td id=\"T_a3a4f_row2_col2\" class=\"data row2 col2\" >0.989389</td>\n",
       "            </tr>\n",
       "            <tr>\n",
       "                        <th id=\"T_a3a4f_level0_row3\" class=\"row_heading level0 row3\" >Recall</th>\n",
       "                        <td id=\"T_a3a4f_row3_col0\" class=\"data row3 col0\" >0.998999</td>\n",
       "                        <td id=\"T_a3a4f_row3_col1\" class=\"data row3 col1\" >1.000000</td>\n",
       "                        <td id=\"T_a3a4f_row3_col2\" class=\"data row3 col2\" >0.998354</td>\n",
       "            </tr>\n",
       "            <tr>\n",
       "                        <th id=\"T_a3a4f_level0_row4\" class=\"row_heading level0 row4\" >F1</th>\n",
       "                        <td id=\"T_a3a4f_row4_col0\" class=\"data row4 col0\" >0.993972</td>\n",
       "                        <td id=\"T_a3a4f_row4_col1\" class=\"data row4 col1\" >0.987983</td>\n",
       "                        <td id=\"T_a3a4f_row4_col2\" class=\"data row4 col2\" >0.993851</td>\n",
       "            </tr>\n",
       "    </tbody></table>"
      ],
      "text/plain": [
       "<pandas.io.formats.style.Styler at 0x1ed813e7ee0>"
      ]
     },
     "execution_count": 66,
     "metadata": {},
     "output_type": "execute_result"
    }
   ],
   "source": [
    "bestmodel = pd.DataFrame({'KNN' : (KNNacc, KNNmse, KNNpre, KNNrec, KNNF1),\n",
    "                          'GNB' : (GNBacc, GNBmse, GNBpre, GNBrec, GNBF1),\n",
    "                          'RFC' : (RFCacc, RFCmse, RFCpre, RFCrec, RFCF1),\n",
    "                          }, index=['Accuracy', 'Mean-squared Error', 'Precision', 'Recall', 'F1'])\n",
    "bestmodel = bestmodel.style.set_caption('MC1DropP5Mean')\n",
    "bestmodel\n"
   ]
  },
  {
   "cell_type": "markdown",
   "id": "8f13451f",
   "metadata": {},
   "source": [
    "## Splitting and Normalizing MC1DropP5Median"
   ]
  },
  {
   "cell_type": "code",
   "execution_count": 7,
   "id": "80135af0",
   "metadata": {},
   "outputs": [],
   "source": [
    "from sklearn.preprocessing import LabelEncoder\n",
    "le = LabelEncoder()\n",
    "X = MC1DropP5Median.drop('Machine Result', axis=1)\n",
    "y = le.fit_transform(MC1DropP5Median['Machine Result'])"
   ]
  },
  {
   "cell_type": "code",
   "execution_count": 8,
   "id": "b93d89c6",
   "metadata": {},
   "outputs": [],
   "source": [
    "#train test split\n",
    "from sklearn.model_selection import train_test_split\n",
    "Xtrain, Xtest, ytrain, ytest = train_test_split(X, y, random_state=1)\n",
    "\n",
    "#normalizing\n",
    "from sklearn.preprocessing import MinMaxScaler\n",
    "scaler = MinMaxScaler()\n",
    "Xtrain = scaler.fit_transform(Xtrain)\n",
    "Xtest = scaler.transform(Xtest)"
   ]
  },
  {
   "cell_type": "markdown",
   "id": "30f19d11",
   "metadata": {},
   "source": [
    "## KNN MC1DropP5Median"
   ]
  },
  {
   "cell_type": "code",
   "execution_count": 9,
   "id": "f5e99dcb",
   "metadata": {},
   "outputs": [
    {
     "name": "stdout",
     "output_type": "stream",
     "text": [
      "Before tuning KNN\n",
      "Mean squared error: 0.0\n",
      "Accuracy score: 1.0\n",
      "Precision score:  0.0\n",
      "Recall score:  0.0\n",
      "F1 score:  0.0\n",
      "              precision    recall  f1-score   support\n",
      "\n",
      "           0       1.00      1.00      1.00     78098\n",
      "\n",
      "    accuracy                           1.00     78098\n",
      "   macro avg       1.00      1.00      1.00     78098\n",
      "weighted avg       1.00      1.00      1.00     78098\n",
      "\n"
     ]
    },
    {
     "name": "stderr",
     "output_type": "stream",
     "text": [
      "C:\\Users\\Nathan Ting\\anaconda3\\lib\\site-packages\\sklearn\\metrics\\_classification.py:1245: UndefinedMetricWarning: Precision is ill-defined and being set to 0.0 due to no predicted samples. Use `zero_division` parameter to control this behavior.\n",
      "  _warn_prf(average, modifier, msg_start, len(result))\n",
      "C:\\Users\\Nathan Ting\\anaconda3\\lib\\site-packages\\sklearn\\metrics\\_classification.py:1245: UndefinedMetricWarning: Recall is ill-defined and being set to 0.0 due to no true samples. Use `zero_division` parameter to control this behavior.\n",
      "  _warn_prf(average, modifier, msg_start, len(result))\n",
      "C:\\Users\\Nathan Ting\\anaconda3\\lib\\site-packages\\sklearn\\metrics\\_classification.py:1492: UndefinedMetricWarning: F-score is ill-defined and being set to 0.0 due to no true nor predicted samples. Use `zero_division` parameter to control this behavior.\n",
      "  _warn_prf(\n"
     ]
    }
   ],
   "source": [
    "from sklearn.neighbors import KNeighborsClassifier\n",
    "from sklearn.metrics import mean_squared_error, precision_score, recall_score, f1_score, accuracy_score, classification_report\n",
    "knn = KNeighborsClassifier()\n",
    "knn.fit(Xtrain, ytrain)\n",
    "\n",
    "ypred = knn.predict(Xtest)\n",
    "print(\"Before tuning KNN\")\n",
    "print(\"Mean squared error:\", mean_squared_error(ytest, ypred))\n",
    "print(\"Accuracy score:\", accuracy_score(ytest, ypred))\n",
    "print(\"Precision score: \", precision_score(ytest, ypred))\n",
    "print(\"Recall score: \", recall_score(ytest, ypred)) #balance between precision and recall\n",
    "print(\"F1 score: \", f1_score(ytest, ypred))\n",
    "\n",
    "print(classification_report(ytest, ypred))\n",
    "\n"
   ]
  },
  {
   "cell_type": "code",
   "execution_count": 10,
   "id": "49b19b0b",
   "metadata": {},
   "outputs": [
    {
     "name": "stdout",
     "output_type": "stream",
     "text": [
      "KNeighborsClassifier(n_neighbors=1)\n"
     ]
    }
   ],
   "source": [
    "parameters = [{'weights': ['uniform', 'distance'],'n_neighbors': list(np.arange(1, 100, 1))}] \n",
    "\n",
    "grid = GridSearchCV(knn, parameters)\n",
    "grid.fit(Xtrain, ytrain)\n",
    " \n",
    "print(grid.best_estimator_) #print how the model looks after hyper parameter tuning \n"
   ]
  },
  {
   "cell_type": "code",
   "execution_count": 13,
   "id": "d9d70cd7",
   "metadata": {},
   "outputs": [
    {
     "name": "stdout",
     "output_type": "stream",
     "text": [
      "After tuning KNN\n",
      "Mean squared error: 0.0\n",
      "Accuracy score: 1.0\n",
      "Precision score:  0.0\n",
      "Recall score:  0.0\n",
      "F1 score:  0.0\n",
      "              precision    recall  f1-score   support\n",
      "\n",
      "           0       1.00      1.00      1.00     78098\n",
      "\n",
      "    accuracy                           1.00     78098\n",
      "   macro avg       1.00      1.00      1.00     78098\n",
      "weighted avg       1.00      1.00      1.00     78098\n",
      "\n"
     ]
    },
    {
     "name": "stderr",
     "output_type": "stream",
     "text": [
      "C:\\Users\\Nathan Ting\\anaconda3\\lib\\site-packages\\sklearn\\metrics\\_classification.py:1245: UndefinedMetricWarning: Precision is ill-defined and being set to 0.0 due to no predicted samples. Use `zero_division` parameter to control this behavior.\n",
      "  _warn_prf(average, modifier, msg_start, len(result))\n",
      "C:\\Users\\Nathan Ting\\anaconda3\\lib\\site-packages\\sklearn\\metrics\\_classification.py:1245: UndefinedMetricWarning: Recall is ill-defined and being set to 0.0 due to no true samples. Use `zero_division` parameter to control this behavior.\n",
      "  _warn_prf(average, modifier, msg_start, len(result))\n",
      "C:\\Users\\Nathan Ting\\anaconda3\\lib\\site-packages\\sklearn\\metrics\\_classification.py:1492: UndefinedMetricWarning: F-score is ill-defined and being set to 0.0 due to no true nor predicted samples. Use `zero_division` parameter to control this behavior.\n",
      "  _warn_prf(\n"
     ]
    }
   ],
   "source": [
    "from sklearn.neighbors import KNeighborsClassifier\n",
    "from sklearn.metrics import mean_squared_error, precision_score, recall_score, f1_score, accuracy_score, classification_report\n",
    "knn = KNeighborsClassifier(n_neighbors=1)\n",
    "knn.fit(Xtrain, ytrain)\n",
    "\n",
    "ypred = knn.predict(Xtest)\n",
    "print(\"After tuning KNN\")\n",
    "print(\"Mean squared error:\", mean_squared_error(ytest, ypred))\n",
    "print(\"Accuracy score:\", accuracy_score(ytest, ypred))\n",
    "print(\"Precision score: \", precision_score(ytest, ypred))\n",
    "print(\"Recall score: \", recall_score(ytest, ypred)) #balance between precision and recall\n",
    "print(\"F1 score: \", f1_score(ytest, ypred))\n",
    "\n",
    "print( classification_report(ytest, ypred))\n"
   ]
  },
  {
   "cell_type": "markdown",
   "id": "e54015b8",
   "metadata": {},
   "source": [
    "## GaussianNB MC1DropP5Median"
   ]
  },
  {
   "cell_type": "code",
   "execution_count": 14,
   "id": "6cdf3d67",
   "metadata": {},
   "outputs": [
    {
     "name": "stdout",
     "output_type": "stream",
     "text": [
      "Before tuning GaussianNB\n",
      "Mean squared error: 0.0\n",
      "Accuracy score: 1.0\n",
      "Precision score:  0.0\n",
      "Recall score:  0.0\n",
      "F1 score:  0.0\n",
      "              precision    recall  f1-score   support\n",
      "\n",
      "           0       1.00      1.00      1.00     78098\n",
      "\n",
      "    accuracy                           1.00     78098\n",
      "   macro avg       1.00      1.00      1.00     78098\n",
      "weighted avg       1.00      1.00      1.00     78098\n",
      "\n"
     ]
    },
    {
     "name": "stderr",
     "output_type": "stream",
     "text": [
      "C:\\Users\\Nathan Ting\\anaconda3\\lib\\site-packages\\sklearn\\metrics\\_classification.py:1245: UndefinedMetricWarning: Precision is ill-defined and being set to 0.0 due to no predicted samples. Use `zero_division` parameter to control this behavior.\n",
      "  _warn_prf(average, modifier, msg_start, len(result))\n",
      "C:\\Users\\Nathan Ting\\anaconda3\\lib\\site-packages\\sklearn\\metrics\\_classification.py:1245: UndefinedMetricWarning: Recall is ill-defined and being set to 0.0 due to no true samples. Use `zero_division` parameter to control this behavior.\n",
      "  _warn_prf(average, modifier, msg_start, len(result))\n",
      "C:\\Users\\Nathan Ting\\anaconda3\\lib\\site-packages\\sklearn\\metrics\\_classification.py:1492: UndefinedMetricWarning: F-score is ill-defined and being set to 0.0 due to no true nor predicted samples. Use `zero_division` parameter to control this behavior.\n",
      "  _warn_prf(\n"
     ]
    }
   ],
   "source": [
    "from sklearn.naive_bayes import GaussianNB \n",
    "from sklearn.metrics import mean_squared_error, precision_score, recall_score, f1_score, accuracy_score, classification_report\n",
    "\n",
    "gnb = GaussianNB()\n",
    "gnb.fit(Xtrain, ytrain)\n",
    "\n",
    "ypred = gnb.predict(Xtest)\n",
    "print(\"Before tuning GaussianNB\")\n",
    "print(\"Mean squared error:\", mean_squared_error(ytest, ypred))\n",
    "print(\"Accuracy score:\", accuracy_score(ytest, ypred))\n",
    "print(\"Precision score: \", precision_score(ytest, ypred))\n",
    "print(\"Recall score: \", recall_score(ytest, ypred)) #balance between precision and recall\n",
    "print(\"F1 score: \", f1_score(ytest, ypred))\n",
    "\n",
    "print(classification_report(ytest, ypred))"
   ]
  },
  {
   "cell_type": "code",
   "execution_count": 15,
   "id": "ac71a99c",
   "metadata": {},
   "outputs": [
    {
     "name": "stdout",
     "output_type": "stream",
     "text": [
      "GaussianNB(var_smoothing=1.0)\n"
     ]
    }
   ],
   "source": [
    "parameters = [{'var_smoothing': np.logspace(0,-9, num=100) \n",
    "              }] \n",
    "\n",
    "grid = GridSearchCV(gnb, parameters)\n",
    "grid.fit(Xtrain, ytrain)\n",
    " \n",
    "print(grid.best_estimator_) #print how the model looks after hyper parameter tuning "
   ]
  },
  {
   "cell_type": "code",
   "execution_count": 16,
   "id": "b48b8538",
   "metadata": {},
   "outputs": [
    {
     "name": "stdout",
     "output_type": "stream",
     "text": [
      "After tuning GaussianNB\n",
      "Mean squared error: 0.0\n",
      "Accuracy score: 1.0\n",
      "Precision score:  0.0\n",
      "Recall score:  0.0\n",
      "F1 score:  0.0\n",
      "              precision    recall  f1-score   support\n",
      "\n",
      "           0       1.00      1.00      1.00     78098\n",
      "\n",
      "    accuracy                           1.00     78098\n",
      "   macro avg       1.00      1.00      1.00     78098\n",
      "weighted avg       1.00      1.00      1.00     78098\n",
      "\n"
     ]
    },
    {
     "name": "stderr",
     "output_type": "stream",
     "text": [
      "C:\\Users\\Nathan Ting\\anaconda3\\lib\\site-packages\\sklearn\\metrics\\_classification.py:1245: UndefinedMetricWarning: Precision is ill-defined and being set to 0.0 due to no predicted samples. Use `zero_division` parameter to control this behavior.\n",
      "  _warn_prf(average, modifier, msg_start, len(result))\n",
      "C:\\Users\\Nathan Ting\\anaconda3\\lib\\site-packages\\sklearn\\metrics\\_classification.py:1245: UndefinedMetricWarning: Recall is ill-defined and being set to 0.0 due to no true samples. Use `zero_division` parameter to control this behavior.\n",
      "  _warn_prf(average, modifier, msg_start, len(result))\n",
      "C:\\Users\\Nathan Ting\\anaconda3\\lib\\site-packages\\sklearn\\metrics\\_classification.py:1492: UndefinedMetricWarning: F-score is ill-defined and being set to 0.0 due to no true nor predicted samples. Use `zero_division` parameter to control this behavior.\n",
      "  _warn_prf(\n"
     ]
    }
   ],
   "source": [
    "from sklearn.naive_bayes import GaussianNB \n",
    "from sklearn.metrics import mean_squared_error, precision_score, recall_score, f1_score, accuracy_score, classification_report\n",
    "\n",
    "gnb = GaussianNB(var_smoothing=1.0)\n",
    "gnb.fit(Xtrain, ytrain)\n",
    "\n",
    "ypred = gnb.predict(Xtest)\n",
    "print(\"After tuning GaussianNB\")\n",
    "print(\"Mean squared error:\", mean_squared_error(ytest, ypred))\n",
    "print(\"Accuracy score:\", accuracy_score(ytest, ypred))\n",
    "print(\"Precision score: \", precision_score(ytest, ypred))\n",
    "print(\"Recall score: \", recall_score(ytest, ypred)) #balance between precision and recall\n",
    "print(\"F1 score: \", f1_score(ytest, ypred))\n",
    "\n",
    "print(classification_report(ytest, ypred))"
   ]
  },
  {
   "cell_type": "markdown",
   "id": "66a1f813",
   "metadata": {},
   "source": [
    "## RandomForestClassifier MC1DropP5Median"
   ]
  },
  {
   "cell_type": "code",
   "execution_count": 9,
   "id": "c8edecee",
   "metadata": {},
   "outputs": [
    {
     "name": "stdout",
     "output_type": "stream",
     "text": [
      "Before tuning RandomForestClassifier\n",
      "Mean squared error: 0.0\n",
      "Accuracy score: 1.0\n",
      "Precision score:  0.0\n",
      "Recall score:  0.0\n",
      "F1 score:  0.0\n",
      "              precision    recall  f1-score   support\n",
      "\n",
      "           0       1.00      1.00      1.00     78098\n",
      "\n",
      "    accuracy                           1.00     78098\n",
      "   macro avg       1.00      1.00      1.00     78098\n",
      "weighted avg       1.00      1.00      1.00     78098\n",
      "\n"
     ]
    },
    {
     "name": "stderr",
     "output_type": "stream",
     "text": [
      "C:\\Users\\Nathan Ting\\anaconda3\\lib\\site-packages\\sklearn\\metrics\\_classification.py:1245: UndefinedMetricWarning: Precision is ill-defined and being set to 0.0 due to no predicted samples. Use `zero_division` parameter to control this behavior.\n",
      "  _warn_prf(average, modifier, msg_start, len(result))\n",
      "C:\\Users\\Nathan Ting\\anaconda3\\lib\\site-packages\\sklearn\\metrics\\_classification.py:1245: UndefinedMetricWarning: Recall is ill-defined and being set to 0.0 due to no true samples. Use `zero_division` parameter to control this behavior.\n",
      "  _warn_prf(average, modifier, msg_start, len(result))\n",
      "C:\\Users\\Nathan Ting\\anaconda3\\lib\\site-packages\\sklearn\\metrics\\_classification.py:1492: UndefinedMetricWarning: F-score is ill-defined and being set to 0.0 due to no true nor predicted samples. Use `zero_division` parameter to control this behavior.\n",
      "  _warn_prf(\n"
     ]
    }
   ],
   "source": [
    "from sklearn.ensemble import RandomForestClassifier\n",
    "from sklearn.metrics import mean_squared_error, precision_score, recall_score, f1_score, accuracy_score, classification_report\n",
    "\n",
    "\n",
    "rfc=RandomForestClassifier()\n",
    "rfc.fit(Xtrain, ytrain)\n",
    "\n",
    "\n",
    "\n",
    "ypred = rfc.predict(Xtest)\n",
    "print(\"Before tuning RandomForestClassifier\")\n",
    "print(\"Mean squared error:\", mean_squared_error(ytest, ypred))\n",
    "print(\"Accuracy score:\", accuracy_score(ytest, ypred))\n",
    "print(\"Precision score: \", precision_score(ytest, ypred))\n",
    "print(\"Recall score: \", recall_score(ytest, ypred)) #balance between precision and recall\n",
    "print(\"F1 score: \", f1_score(ytest, ypred))\n",
    "\n",
    "print(classification_report(ytest, ypred))"
   ]
  },
  {
   "cell_type": "code",
   "execution_count": 10,
   "id": "ba5ec0ac",
   "metadata": {},
   "outputs": [
    {
     "name": "stdout",
     "output_type": "stream",
     "text": [
      "RandomForestClassifier(n_estimators=1)\n"
     ]
    }
   ],
   "source": [
    "parameters = [{'n_estimators':list(np.arange(1, 100, 1))\n",
    "              }] \n",
    "\n",
    "grid = GridSearchCV(rfc, parameters)\n",
    "grid.fit(Xtrain, ytrain)\n",
    " \n",
    "print(grid.best_estimator_) #print how the model looks after hyper parameter tuning "
   ]
  },
  {
   "cell_type": "code",
   "execution_count": 11,
   "id": "b94c23e9",
   "metadata": {},
   "outputs": [
    {
     "name": "stdout",
     "output_type": "stream",
     "text": [
      "After tuning RandomForestClassifier\n",
      "Mean squared error: 0.0\n",
      "Accuracy score: 1.0\n",
      "Precision score:  0.0\n",
      "Recall score:  0.0\n",
      "F1 score:  0.0\n",
      "              precision    recall  f1-score   support\n",
      "\n",
      "           0       1.00      1.00      1.00     78098\n",
      "\n",
      "    accuracy                           1.00     78098\n",
      "   macro avg       1.00      1.00      1.00     78098\n",
      "weighted avg       1.00      1.00      1.00     78098\n",
      "\n"
     ]
    },
    {
     "name": "stderr",
     "output_type": "stream",
     "text": [
      "C:\\Users\\Nathan Ting\\anaconda3\\lib\\site-packages\\sklearn\\metrics\\_classification.py:1245: UndefinedMetricWarning: Precision is ill-defined and being set to 0.0 due to no predicted samples. Use `zero_division` parameter to control this behavior.\n",
      "  _warn_prf(average, modifier, msg_start, len(result))\n",
      "C:\\Users\\Nathan Ting\\anaconda3\\lib\\site-packages\\sklearn\\metrics\\_classification.py:1245: UndefinedMetricWarning: Recall is ill-defined and being set to 0.0 due to no true samples. Use `zero_division` parameter to control this behavior.\n",
      "  _warn_prf(average, modifier, msg_start, len(result))\n",
      "C:\\Users\\Nathan Ting\\anaconda3\\lib\\site-packages\\sklearn\\metrics\\_classification.py:1492: UndefinedMetricWarning: F-score is ill-defined and being set to 0.0 due to no true nor predicted samples. Use `zero_division` parameter to control this behavior.\n",
      "  _warn_prf(\n"
     ]
    }
   ],
   "source": [
    "from sklearn.ensemble import RandomForestClassifier\n",
    "from sklearn.metrics import mean_squared_error, precision_score, recall_score, f1_score, accuracy_score, classification_report\n",
    "\n",
    "rfc=RandomForestClassifier(n_estimators=1)\n",
    "rfc.fit(Xtrain, ytrain)\n",
    "\n",
    "ypred = rfc.predict(Xtest)\n",
    "print(\"After tuning RandomForestClassifier\")\n",
    "print(\"Mean squared error:\", mean_squared_error(ytest, ypred))\n",
    "print(\"Accuracy score:\", accuracy_score(ytest, ypred))\n",
    "print(\"Precision score: \", precision_score(ytest, ypred))\n",
    "print(\"Recall score: \", recall_score(ytest, ypred)) #balance between precision and recall\n",
    "print(\"F1 score: \", f1_score(ytest, ypred))\n",
    "\n",
    "print(classification_report(ytest, ypred))"
   ]
  },
  {
   "cell_type": "markdown",
   "id": "2bbd2617",
   "metadata": {},
   "source": [
    "## Splitting and Normalizing MC1DropP5Zero"
   ]
  },
  {
   "cell_type": "code",
   "execution_count": 9,
   "id": "ce5980c6",
   "metadata": {},
   "outputs": [],
   "source": [
    "from sklearn.preprocessing import LabelEncoder\n",
    "le = LabelEncoder()\n",
    "X = MC1DropP5Zero.drop('Machine Result', axis=1)\n",
    "y = le.fit_transform(MC1DropP5Zero['Machine Result'])"
   ]
  },
  {
   "cell_type": "code",
   "execution_count": 10,
   "id": "4fd1baa4",
   "metadata": {},
   "outputs": [],
   "source": [
    "#train test split\n",
    "from sklearn.model_selection import train_test_split\n",
    "Xtrain, Xtest, ytrain, ytest = train_test_split(X, y,random_state=1)\n",
    "\n",
    "#normalizing\n",
    "from sklearn.preprocessing import MinMaxScaler\n",
    "scaler = MinMaxScaler()\n",
    "Xtrain = scaler.fit_transform(Xtrain)\n",
    "Xtest = scaler.transform(Xtest)"
   ]
  },
  {
   "cell_type": "markdown",
   "id": "c531796f",
   "metadata": {},
   "source": [
    "## KNN MC1DropP5Zero"
   ]
  },
  {
   "cell_type": "code",
   "execution_count": 34,
   "id": "12cf65e5",
   "metadata": {},
   "outputs": [
    {
     "name": "stdout",
     "output_type": "stream",
     "text": [
      "Before tuning KNN\n",
      "Mean squared error: 0.011869702169069631\n",
      "Accuracy score: 0.9881302978309303\n",
      "Precision score:  0.9893136743215031\n",
      "Recall score:  0.9985776185647117\n",
      "F1 score:  0.9939240605889794\n",
      "              precision    recall  f1-score   support\n",
      "\n",
      "           0       0.93      0.62      0.74      2169\n",
      "           1       0.99      1.00      0.99     75929\n",
      "\n",
      "    accuracy                           0.99     78098\n",
      "   macro avg       0.96      0.81      0.87     78098\n",
      "weighted avg       0.99      0.99      0.99     78098\n",
      "\n"
     ]
    }
   ],
   "source": [
    "from sklearn.neighbors import KNeighborsClassifier\n",
    "from sklearn.metrics import mean_squared_error, precision_score, recall_score, f1_score, accuracy_score, classification_report\n",
    "knn = KNeighborsClassifier()\n",
    "knn.fit(Xtrain, ytrain)\n",
    "\n",
    "ypred = knn.predict(Xtest)\n",
    "print(\"Before tuning KNN\")\n",
    "print(\"Mean squared error:\", mean_squared_error(ytest, ypred))\n",
    "print(\"Accuracy score:\", accuracy_score(ytest, ypred))\n",
    "print(\"Precision score: \", precision_score(ytest, ypred))\n",
    "print(\"Recall score: \", recall_score(ytest, ypred)) #balance between precision and recall\n",
    "print(\"F1 score: \", f1_score(ytest, ypred))\n",
    "\n",
    "print(classification_report(ytest, ypred))\n",
    "\n"
   ]
  },
  {
   "cell_type": "code",
   "execution_count": 35,
   "id": "96cae061",
   "metadata": {},
   "outputs": [
    {
     "name": "stdout",
     "output_type": "stream",
     "text": [
      "KNeighborsClassifier(n_neighbors=16, weights='distance')\n"
     ]
    }
   ],
   "source": [
    "parameters = [{'weights': ['uniform', 'distance'],'n_neighbors': list(np.arange(1, 100, 1))}] \n",
    "\n",
    "grid = GridSearchCV(knn, parameters)\n",
    "grid.fit(Xtrain, ytrain)\n",
    " \n",
    "print(grid.best_estimator_) #print how the model looks after hyper parameter tuning \n"
   ]
  },
  {
   "cell_type": "code",
   "execution_count": 52,
   "id": "7b67be92",
   "metadata": {},
   "outputs": [
    {
     "name": "stdout",
     "output_type": "stream",
     "text": [
      "After tuning KNN\n",
      "Mean squared error: 0.011613613664882583\n",
      "Accuracy score: 0.9883863863351174\n",
      "Precision score:  0.9891122933291608\n",
      "Recall score:  0.9990517457098078\n",
      "F1 score:  0.9940571743075984\n",
      "              precision    recall  f1-score   support\n",
      "\n",
      "           0       0.95      0.62      0.75      2169\n",
      "           1       0.99      1.00      0.99     75929\n",
      "\n",
      "    accuracy                           0.99     78098\n",
      "   macro avg       0.97      0.81      0.87     78098\n",
      "weighted avg       0.99      0.99      0.99     78098\n",
      "\n"
     ]
    }
   ],
   "source": [
    "from sklearn.neighbors import KNeighborsClassifier\n",
    "from sklearn.metrics import mean_squared_error, precision_score, recall_score, f1_score, accuracy_score, classification_report\n",
    "knn = KNeighborsClassifier(n_neighbors=16, weights='distance')\n",
    "knn.fit(Xtrain, ytrain)\n",
    "\n",
    "ypred = knn.predict(Xtest)\n",
    "print(\"After tuning KNN\")\n",
    "KNNmse=mean_squared_error(ytest, ypred)\n",
    "print(\"Mean squared error:\", KNNmse)\n",
    "KNNacc=accuracy_score(ytest, ypred)\n",
    "print(\"Accuracy score:\", KNNacc)\n",
    "KNNpre=precision_score(ytest, ypred)\n",
    "print(\"Precision score: \", KNNpre)\n",
    "KNNrec=recall_score(ytest, ypred)\n",
    "print(\"Recall score: \", KNNrec) #balance between precision and recall\n",
    "KNNF1=f1_score(ytest, ypred)\n",
    "print(\"F1 score: \", KNNF1)\n",
    "\n",
    "print( classification_report(ytest, ypred))\n",
    "\n"
   ]
  },
  {
   "cell_type": "markdown",
   "id": "1ff045bf",
   "metadata": {},
   "source": [
    "## GaussianNB MC1DropP5Zero"
   ]
  },
  {
   "cell_type": "code",
   "execution_count": 37,
   "id": "c1b0f14c",
   "metadata": {},
   "outputs": [
    {
     "name": "stdout",
     "output_type": "stream",
     "text": [
      "Before tuning GaussianNB\n",
      "Mean squared error: 0.03833644907680094\n",
      "Accuracy score: 0.9616635509231991\n",
      "Precision score:  0.983378179552775\n",
      "Recall score:  0.9770838546536896\n",
      "F1 score:  0.9802209127183363\n",
      "              precision    recall  f1-score   support\n",
      "\n",
      "           0       0.34      0.42      0.38      2169\n",
      "           1       0.98      0.98      0.98     75929\n",
      "\n",
      "    accuracy                           0.96     78098\n",
      "   macro avg       0.66      0.70      0.68     78098\n",
      "weighted avg       0.97      0.96      0.96     78098\n",
      "\n"
     ]
    }
   ],
   "source": [
    "from sklearn.naive_bayes import GaussianNB \n",
    "from sklearn.metrics import mean_squared_error, precision_score, recall_score, f1_score, accuracy_score, classification_report\n",
    "\n",
    "gnb = GaussianNB()\n",
    "gnb.fit(Xtrain, ytrain)\n",
    "\n",
    "ypred = gnb.predict(Xtest)\n",
    "print(\"Before tuning GaussianNB\")\n",
    "print(\"Mean squared error:\", mean_squared_error(ytest, ypred))\n",
    "print(\"Accuracy score:\", accuracy_score(ytest, ypred))\n",
    "print(\"Precision score: \", precision_score(ytest, ypred))\n",
    "print(\"Recall score: \", recall_score(ytest, ypred)) #balance between precision and recall\n",
    "print(\"F1 score: \", f1_score(ytest, ypred))\n",
    "\n",
    "print(classification_report(ytest, ypred))"
   ]
  },
  {
   "cell_type": "code",
   "execution_count": 38,
   "id": "2126086b",
   "metadata": {},
   "outputs": [
    {
     "name": "stdout",
     "output_type": "stream",
     "text": [
      "GaussianNB(var_smoothing=0.1873817422860384)\n"
     ]
    }
   ],
   "source": [
    "parameters = [{'var_smoothing': np.logspace(0,-9, num=100) \n",
    "              }] \n",
    "\n",
    "grid = GridSearchCV(gnb, parameters)\n",
    "grid.fit(Xtrain, ytrain)\n",
    " \n",
    "print(grid.best_estimator_) #print how the model looks after hyper parameter tuning "
   ]
  },
  {
   "cell_type": "code",
   "execution_count": 11,
   "id": "12199c6b",
   "metadata": {},
   "outputs": [
    {
     "name": "stdout",
     "output_type": "stream",
     "text": [
      "After tuning GaussianNB\n",
      "Mean squared error: 0.023316858306230634\n",
      "Accuracy score: 0.9766831416937694\n",
      "Precision score:  0.976603297918864\n",
      "Recall score:  0.9999736596030502\n",
      "F1 score:  0.988150317227916\n",
      "              precision    recall  f1-score   support\n",
      "\n",
      "           0       0.99      0.16      0.28      2169\n",
      "           1       0.98      1.00      0.99     75929\n",
      "\n",
      "    accuracy                           0.98     78098\n",
      "   macro avg       0.99      0.58      0.63     78098\n",
      "weighted avg       0.98      0.98      0.97     78098\n",
      "\n"
     ]
    }
   ],
   "source": [
    "from sklearn.naive_bayes import GaussianNB \n",
    "from sklearn.metrics import mean_squared_error, precision_score, recall_score, f1_score, accuracy_score, classification_report\n",
    "\n",
    "gnb = GaussianNB(var_smoothing=0.1873817422860384)\n",
    "gnb.fit(Xtrain, ytrain)\n",
    "\n",
    "ypred = gnb.predict(Xtest)\n",
    "print(\"After tuning GaussianNB\")\n",
    "GNBmse=mean_squared_error(ytest, ypred)\n",
    "print(\"Mean squared error:\", GNBmse)\n",
    "GNBacc=accuracy_score(ytest, ypred)\n",
    "print(\"Accuracy score:\", GNBacc)\n",
    "GNBpre=precision_score(ytest, ypred)\n",
    "print(\"Precision score: \", GNBpre)\n",
    "GNBrec=recall_score(ytest, ypred)\n",
    "print(\"Recall score: \", GNBrec) #balance between precision and recall\n",
    "GNBF1=f1_score(ytest, ypred)\n",
    "print(\"F1 score: \", GNBF1)\n",
    "\n",
    "print( classification_report(ytest, ypred))"
   ]
  },
  {
   "cell_type": "markdown",
   "id": "8a836b67",
   "metadata": {},
   "source": [
    "## RandomForestClassifier MC1DropP5Zero"
   ]
  },
  {
   "cell_type": "code",
   "execution_count": 40,
   "id": "5ff67813",
   "metadata": {},
   "outputs": [
    {
     "name": "stdout",
     "output_type": "stream",
     "text": [
      "Before tuning RandomForestClassifier\n",
      "Mean squared error: 0.011882506594278983\n",
      "Accuracy score: 0.988117493405721\n",
      "Precision score:  0.9895818374087758\n",
      "Recall score:  0.9982878741982641\n",
      "F1 score:  0.9939157914060555\n",
      "              precision    recall  f1-score   support\n",
      "\n",
      "           0       0.91      0.63      0.75      2169\n",
      "           1       0.99      1.00      0.99     75929\n",
      "\n",
      "    accuracy                           0.99     78098\n",
      "   macro avg       0.95      0.82      0.87     78098\n",
      "weighted avg       0.99      0.99      0.99     78098\n",
      "\n"
     ]
    }
   ],
   "source": [
    "from sklearn.ensemble import RandomForestClassifier\n",
    "from sklearn.metrics import mean_squared_error, precision_score, recall_score, f1_score, accuracy_score, classification_report\n",
    "\n",
    "\n",
    "rfc=RandomForestClassifier()\n",
    "rfc.fit(Xtrain, ytrain)\n",
    "\n",
    "\n",
    "ypred = rfc.predict(Xtest)\n",
    "print(\"Before tuning RandomForestClassifier\")\n",
    "print(\"Mean squared error:\", mean_squared_error(ytest, ypred))\n",
    "print(\"Accuracy score:\", accuracy_score(ytest, ypred))\n",
    "print(\"Precision score: \", precision_score(ytest, ypred))\n",
    "print(\"Recall score: \", recall_score(ytest, ypred)) #balance between precision and recall\n",
    "print(\"F1 score: \", f1_score(ytest, ypred))\n",
    "\n",
    "print(classification_report(ytest, ypred))"
   ]
  },
  {
   "cell_type": "code",
   "execution_count": 41,
   "id": "fdeb9212",
   "metadata": {},
   "outputs": [
    {
     "name": "stdout",
     "output_type": "stream",
     "text": [
      "RandomForestClassifier(n_estimators=99)\n"
     ]
    }
   ],
   "source": [
    "parameters = [{'n_estimators':list(np.arange(1, 100, 1))\n",
    "              }] \n",
    "\n",
    "grid = GridSearchCV(rfc, parameters)\n",
    "grid.fit(Xtrain, ytrain)\n",
    " \n",
    "print(grid.best_estimator_) #print how the model looks after hyper parameter tuning "
   ]
  },
  {
   "cell_type": "code",
   "execution_count": 54,
   "id": "3764bd5e",
   "metadata": {},
   "outputs": [
    {
     "name": "stdout",
     "output_type": "stream",
     "text": [
      "After tuning RandomForestClassifier\n",
      "Mean squared error: 0.011869702169069631\n",
      "Accuracy score: 0.9881302978309303\n",
      "Precision score:  0.9895308461478213\n",
      "Recall score:  0.9983537251906386\n",
      "F1 score:  0.9939227062641361\n",
      "              precision    recall  f1-score   support\n",
      "\n",
      "           0       0.92      0.63      0.75      2169\n",
      "           1       0.99      1.00      0.99     75929\n",
      "\n",
      "    accuracy                           0.99     78098\n",
      "   macro avg       0.95      0.81      0.87     78098\n",
      "weighted avg       0.99      0.99      0.99     78098\n",
      "\n"
     ]
    }
   ],
   "source": [
    "from sklearn.ensemble import RandomForestClassifier\n",
    "from sklearn.metrics import mean_squared_error, precision_score, recall_score, f1_score, accuracy_score, classification_report\n",
    "\n",
    "\n",
    "rfc=RandomForestClassifier(n_estimators=99)\n",
    "rfc.fit(Xtrain, ytrain)\n",
    "\n",
    "\n",
    "ypred = rfc.predict(Xtest)\n",
    "print(\"After tuning RandomForestClassifier\")\n",
    "RFCmse=mean_squared_error(ytest, ypred)\n",
    "print(\"Mean squared error:\", RFCmse)\n",
    "RFCacc=accuracy_score(ytest, ypred)\n",
    "print(\"Accuracy score:\", RFCacc)\n",
    "RFCpre=precision_score(ytest, ypred)\n",
    "print(\"Precision score: \", RFCpre)\n",
    "RFCrec=recall_score(ytest, ypred)\n",
    "print(\"Recall score: \", RFCrec) #balance between precision and recall\n",
    "RFCF1=f1_score(ytest, ypred)\n",
    "print(\"F1 score: \", RFCF1)\n",
    "\n",
    "print( classification_report(ytest, ypred))"
   ]
  },
  {
   "cell_type": "markdown",
   "id": "377c5243",
   "metadata": {},
   "source": [
    "## Comparing Model Results"
   ]
  },
  {
   "cell_type": "code",
   "execution_count": 56,
   "id": "9b4f827f",
   "metadata": {},
   "outputs": [
    {
     "data": {
      "text/html": [
       "<style  type=\"text/css\" >\n",
       "</style><table id=\"T_98214_\" ><caption>MC1DropP5Zero</caption><thead>    <tr>        <th class=\"blank level0\" ></th>        <th class=\"col_heading level0 col0\" >KNN</th>        <th class=\"col_heading level0 col1\" >GNB</th>        <th class=\"col_heading level0 col2\" >RFC</th>    </tr></thead><tbody>\n",
       "                <tr>\n",
       "                        <th id=\"T_98214_level0_row0\" class=\"row_heading level0 row0\" >Accuracy</th>\n",
       "                        <td id=\"T_98214_row0_col0\" class=\"data row0 col0\" >0.988386</td>\n",
       "                        <td id=\"T_98214_row0_col1\" class=\"data row0 col1\" >0.976734</td>\n",
       "                        <td id=\"T_98214_row0_col2\" class=\"data row0 col2\" >0.988130</td>\n",
       "            </tr>\n",
       "            <tr>\n",
       "                        <th id=\"T_98214_level0_row1\" class=\"row_heading level0 row1\" >Mean-squared Error</th>\n",
       "                        <td id=\"T_98214_row1_col0\" class=\"data row1 col0\" >0.011614</td>\n",
       "                        <td id=\"T_98214_row1_col1\" class=\"data row1 col1\" >0.023266</td>\n",
       "                        <td id=\"T_98214_row1_col2\" class=\"data row1 col2\" >0.011870</td>\n",
       "            </tr>\n",
       "            <tr>\n",
       "                        <th id=\"T_98214_level0_row2\" class=\"row_heading level0 row2\" >Precision</th>\n",
       "                        <td id=\"T_98214_row2_col0\" class=\"data row2 col0\" >0.989112</td>\n",
       "                        <td id=\"T_98214_row2_col1\" class=\"data row2 col1\" >0.976654</td>\n",
       "                        <td id=\"T_98214_row2_col2\" class=\"data row2 col2\" >0.989531</td>\n",
       "            </tr>\n",
       "            <tr>\n",
       "                        <th id=\"T_98214_level0_row3\" class=\"row_heading level0 row3\" >Recall</th>\n",
       "                        <td id=\"T_98214_row3_col0\" class=\"data row3 col0\" >0.999052</td>\n",
       "                        <td id=\"T_98214_row3_col1\" class=\"data row3 col1\" >0.999974</td>\n",
       "                        <td id=\"T_98214_row3_col2\" class=\"data row3 col2\" >0.998354</td>\n",
       "            </tr>\n",
       "            <tr>\n",
       "                        <th id=\"T_98214_level0_row4\" class=\"row_heading level0 row4\" >F1</th>\n",
       "                        <td id=\"T_98214_row4_col0\" class=\"data row4 col0\" >0.994057</td>\n",
       "                        <td id=\"T_98214_row4_col1\" class=\"data row4 col1\" >0.988176</td>\n",
       "                        <td id=\"T_98214_row4_col2\" class=\"data row4 col2\" >0.993923</td>\n",
       "            </tr>\n",
       "    </tbody></table>"
      ],
      "text/plain": [
       "<pandas.io.formats.style.Styler at 0x1ed81409c10>"
      ]
     },
     "execution_count": 56,
     "metadata": {},
     "output_type": "execute_result"
    }
   ],
   "source": [
    "bestmodel = pd.DataFrame({'KNN' : (KNNacc, KNNmse, KNNpre, KNNrec, KNNF1),\n",
    "                          'GNB' : (GNBacc, GNBmse, GNBpre, GNBrec, GNBF1),\n",
    "                          'RFC' : (RFCacc, RFCmse, RFCpre, RFCrec, RFCF1),\n",
    "                          }, index=['Accuracy', 'Mean-squared Error', 'Precision', 'Recall', 'F1'])\n",
    "bestmodel = bestmodel.style.set_caption('MC1DropP5Zero')\n",
    "bestmodel\n"
   ]
  },
  {
   "cell_type": "markdown",
   "id": "cc5103fc",
   "metadata": {},
   "source": [
    "## For MC1 with POINT 5"
   ]
  },
  {
   "cell_type": "code",
   "execution_count": 16,
   "id": "ed614c33",
   "metadata": {},
   "outputs": [
    {
     "data": {
      "text/html": [
       "<div>\n",
       "<style scoped>\n",
       "    .dataframe tbody tr th:only-of-type {\n",
       "        vertical-align: middle;\n",
       "    }\n",
       "\n",
       "    .dataframe tbody tr th {\n",
       "        vertical-align: top;\n",
       "    }\n",
       "\n",
       "    .dataframe thead th {\n",
       "        text-align: right;\n",
       "    }\n",
       "</style>\n",
       "<table border=\"1\" class=\"dataframe\">\n",
       "  <thead>\n",
       "    <tr style=\"text-align: right;\">\n",
       "      <th></th>\n",
       "      <th>Machine Result</th>\n",
       "      <th>(um)Point1</th>\n",
       "      <th>(um)Point2</th>\n",
       "      <th>(um)Point3</th>\n",
       "      <th>(um)Point4</th>\n",
       "      <th>(um)Point5</th>\n",
       "    </tr>\n",
       "  </thead>\n",
       "  <tbody>\n",
       "    <tr>\n",
       "      <th>0</th>\n",
       "      <td>1</td>\n",
       "      <td>-1978.5</td>\n",
       "      <td>-1959.5</td>\n",
       "      <td>-1697.5</td>\n",
       "      <td>-1632.0</td>\n",
       "      <td>NaN</td>\n",
       "    </tr>\n",
       "    <tr>\n",
       "      <th>1</th>\n",
       "      <td>1</td>\n",
       "      <td>-1870.0</td>\n",
       "      <td>-1940.6</td>\n",
       "      <td>-1720.1</td>\n",
       "      <td>-1622.5</td>\n",
       "      <td>NaN</td>\n",
       "    </tr>\n",
       "    <tr>\n",
       "      <th>2</th>\n",
       "      <td>1</td>\n",
       "      <td>-1858.8</td>\n",
       "      <td>-1823.7</td>\n",
       "      <td>-1656.3</td>\n",
       "      <td>-1635.4</td>\n",
       "      <td>NaN</td>\n",
       "    </tr>\n",
       "    <tr>\n",
       "      <th>3</th>\n",
       "      <td>1</td>\n",
       "      <td>-2199.4</td>\n",
       "      <td>-1955.0</td>\n",
       "      <td>-1658.9</td>\n",
       "      <td>-1694.4</td>\n",
       "      <td>NaN</td>\n",
       "    </tr>\n",
       "    <tr>\n",
       "      <th>4</th>\n",
       "      <td>1</td>\n",
       "      <td>-1875.9</td>\n",
       "      <td>-1765.4</td>\n",
       "      <td>-1654.6</td>\n",
       "      <td>-1665.2</td>\n",
       "      <td>NaN</td>\n",
       "    </tr>\n",
       "  </tbody>\n",
       "</table>\n",
       "</div>"
      ],
      "text/plain": [
       "   Machine Result  (um)Point1  (um)Point2  (um)Point3  (um)Point4  (um)Point5\n",
       "0               1     -1978.5     -1959.5     -1697.5     -1632.0         NaN\n",
       "1               1     -1870.0     -1940.6     -1720.1     -1622.5         NaN\n",
       "2               1     -1858.8     -1823.7     -1656.3     -1635.4         NaN\n",
       "3               1     -2199.4     -1955.0     -1658.9     -1694.4         NaN\n",
       "4               1     -1875.9     -1765.4     -1654.6     -1665.2         NaN"
      ]
     },
     "execution_count": 16,
     "metadata": {},
     "output_type": "execute_result"
    }
   ],
   "source": [
    "from sklearn.preprocessing import LabelEncoder\n",
    "le = LabelEncoder()\n",
    "#dropping unwanted columns \n",
    "MC1 = MC1csv.drop(columns=['Part', 'IC 2D','Lot','Date','Time','Machine','Server Result'], axis=1)\n",
    "\n",
    "#label encoding 'OK' and 'NG'\n",
    "MC1['Machine Result']=le.fit_transform(MC1['Machine Result'])\n",
    "\n",
    "MC1.head()"
   ]
  },
  {
   "cell_type": "code",
   "execution_count": 17,
   "id": "55e8141d",
   "metadata": {},
   "outputs": [],
   "source": [
    "#detecting outliers\n",
    "#filling up missing values with -mean, -median, -zero\n",
    "Q1MC1 = MC1.quantile(0.25)\n",
    "Q3MC1 = MC1.quantile(0.75)\n",
    "IQR1 = Q3MC1-Q1MC1\n",
    "\n",
    "MC1mean = MC1.mean()\n",
    "MC1median = MC1.median()\n",
    "\n",
    "MC1[(MC1<(Q1MC1 - 1.5 * IQR1))|(MC1>(Q3MC1 + 1.5 * IQR1))]=np.nan\n",
    "MC1Mean = MC1.fillna(MC1mean) \n",
    "MC1Median = MC1.fillna(MC1median)\n",
    "MC1Zero = MC1.fillna(0)\n"
   ]
  },
  {
   "cell_type": "code",
   "execution_count": 21,
   "id": "28a3f545",
   "metadata": {},
   "outputs": [
    {
     "data": {
      "image/png": "[encoded data removed]",
      "text/plain": [
       "<Figure size 432x288 with 1 Axes>"
      ]
     },
     "metadata": {
      "needs_background": "light"
     },
     "output_type": "display_data"
    }
   ],
   "source": [
    "sns.boxplot(data=MC1Mean)\n",
    "plt.show()"
   ]
  },
  {
   "cell_type": "code",
   "execution_count": 22,
   "id": "32028ce6",
   "metadata": {},
   "outputs": [
    {
     "data": {
      "image/png": "[encoded data removed]",
      "text/plain": [
       "<Figure size 432x288 with 1 Axes>"
      ]
     },
     "metadata": {
      "needs_background": "light"
     },
     "output_type": "display_data"
    }
   ],
   "source": [
    "sns.boxplot(data=MC1Median)\n",
    "plt.show()"
   ]
  },
  {
   "cell_type": "code",
   "execution_count": 23,
   "id": "93592436",
   "metadata": {},
   "outputs": [
    {
     "data": {
      "image/png": "[encoded data removed]",
      "text/plain": [
       "<Figure size 432x288 with 1 Axes>"
      ]
     },
     "metadata": {
      "needs_background": "light"
     },
     "output_type": "display_data"
    }
   ],
   "source": [
    "sns.boxplot(data=MC1Zero)\n",
    "plt.show()"
   ]
  },
  {
   "cell_type": "markdown",
   "id": "9e173f59",
   "metadata": {},
   "source": [
    "## Splitting and Normalizing MC1Mean"
   ]
  },
  {
   "cell_type": "code",
   "execution_count": 14,
   "id": "6b52a3fb",
   "metadata": {},
   "outputs": [],
   "source": [
    "from sklearn.preprocessing import LabelEncoder\n",
    "le = LabelEncoder()\n",
    "X = MC1Mean.drop('Machine Result', axis=1)\n",
    "y = le.fit_transform(MC1Mean['Machine Result'])"
   ]
  },
  {
   "cell_type": "code",
   "execution_count": 15,
   "id": "2e28b7a0",
   "metadata": {},
   "outputs": [],
   "source": [
    "#train test split\n",
    "from sklearn.model_selection import train_test_split\n",
    "Xtrain, Xtest, ytrain, ytest = train_test_split(X, y,random_state=1)\n",
    "\n",
    "#normalizing\n",
    "from sklearn.preprocessing import MinMaxScaler\n",
    "scaler = MinMaxScaler()\n",
    "Xtrain = scaler.fit_transform(Xtrain)\n",
    "Xtest = scaler.transform(Xtest)"
   ]
  },
  {
   "cell_type": "markdown",
   "id": "71694c88",
   "metadata": {},
   "source": [
    "## KNN MC1Mean"
   ]
  },
  {
   "cell_type": "code",
   "execution_count": 64,
   "id": "58a27c58",
   "metadata": {
    "scrolled": true
   },
   "outputs": [
    {
     "name": "stdout",
     "output_type": "stream",
     "text": [
      "Before tuning KNN\n",
      "Mean squared error: 0.009078337473430818\n",
      "Accuracy score: 0.9909216625265692\n",
      "Precision score:  0.9920842601072877\n",
      "Recall score:  0.9986302993586114\n",
      "F1 score:  0.9953465171076209\n",
      "              precision    recall  f1-score   support\n",
      "\n",
      "           0       0.94      0.72      0.82      2169\n",
      "           1       0.99      1.00      1.00     75929\n",
      "\n",
      "    accuracy                           0.99     78098\n",
      "   macro avg       0.96      0.86      0.91     78098\n",
      "weighted avg       0.99      0.99      0.99     78098\n",
      "\n"
     ]
    }
   ],
   "source": [
    "from sklearn.neighbors import KNeighborsClassifier\n",
    "from sklearn.metrics import mean_squared_error, precision_score, recall_score, f1_score, accuracy_score, classification_report\n",
    "knn = KNeighborsClassifier()\n",
    "knn.fit(Xtrain, ytrain)\n",
    "\n",
    "ypred = knn.predict(Xtest)\n",
    "print(\"Before tuning KNN\")\n",
    "print(\"Mean squared error:\", mean_squared_error(ytest, ypred))\n",
    "print(\"Accuracy score:\", accuracy_score(ytest, ypred))\n",
    "print(\"Precision score: \", precision_score(ytest, ypred))\n",
    "print(\"Recall score: \", recall_score(ytest, ypred)) #balance between precision and recall\n",
    "print(\"F1 score: \", f1_score(ytest, ypred))\n",
    "\n",
    "print(classification_report(ytest, ypred))"
   ]
  },
  {
   "cell_type": "code",
   "execution_count": 132,
   "id": "e8ae693a",
   "metadata": {},
   "outputs": [],
   "source": [
    "parameters = [{'weights': ['uniform', 'distance'],'n_neighbors': list(np.arange(1, 100, 1))}] \n",
    "\n",
    "grid = GridSearchCV(knn, parameters)\n",
    "grid.fit(Xtrain, ytrain)\n",
    " \n",
    "print(grid.best_estimator_) #print how the model looks after hyper parameter tuning "
   ]
  },
  {
   "cell_type": "code",
   "execution_count": 29,
   "id": "438051ca",
   "metadata": {},
   "outputs": [
    {
     "name": "stdout",
     "output_type": "stream",
     "text": [
      "After tuning KNN\n",
      "Mean squared error: 0.01268918538246818\n",
      "Accuracy score: 0.9873108146175318\n",
      "Precision score:  0.9888833798700452\n",
      "Recall score:  0.9981693424119902\n",
      "F1 score:  0.9935046634026126\n",
      "              precision    recall  f1-score   support\n",
      "\n",
      "           0       0.90      0.61      0.73      2169\n",
      "           1       0.99      1.00      0.99     75929\n",
      "\n",
      "    accuracy                           0.99     78098\n",
      "   macro avg       0.95      0.80      0.86     78098\n",
      "weighted avg       0.99      0.99      0.99     78098\n",
      "\n"
     ]
    }
   ],
   "source": [
    "from sklearn.neighbors import KNeighborsClassifier\n",
    "from sklearn.metrics import mean_squared_error, precision_score, recall_score, f1_score, accuracy_score, classification_report\n",
    "knn = KNeighborsClassifier(n_neighbors=10, weights='distance')\n",
    "knn.fit(Xtrain, ytrain)\n",
    "\n",
    "ypred = knn.predict(Xtest)\n",
    "print(\"After tuning KNN\")\n",
    "KNNmse=mean_squared_error(ytest, ypred)\n",
    "print(\"Mean squared error:\", KNNmse)\n",
    "KNNacc=accuracy_score(ytest, ypred)\n",
    "print(\"Accuracy score:\", KNNacc)\n",
    "KNNpre=precision_score(ytest, ypred)\n",
    "print(\"Precision score: \", KNNpre)\n",
    "KNNrec=recall_score(ytest, ypred)\n",
    "print(\"Recall score: \", KNNrec) #balance between precision and recall\n",
    "KNNF1=f1_score(ytest, ypred)\n",
    "print(\"F1 score: \", KNNF1)\n",
    "\n",
    "print(classification_report(ytest, ypred))"
   ]
  },
  {
   "cell_type": "markdown",
   "id": "863327c8",
   "metadata": {},
   "source": [
    "## GaussianNB MC1Mean"
   ]
  },
  {
   "cell_type": "code",
   "execution_count": 66,
   "id": "64aa91d8",
   "metadata": {
    "scrolled": true
   },
   "outputs": [
    {
     "name": "stdout",
     "output_type": "stream",
     "text": [
      "Before tuning GaussianNB\n",
      "Mean squared error: 0.1143179082690978\n",
      "Accuracy score: 0.8856820917309022\n",
      "Precision score:  0.9815850380230869\n",
      "Recall score:  0.8992874922625084\n",
      "F1 score:  0.93863580128117\n",
      "              precision    recall  f1-score   support\n",
      "\n",
      "           0       0.10      0.41      0.17      2169\n",
      "           1       0.98      0.90      0.94     75929\n",
      "\n",
      "    accuracy                           0.89     78098\n",
      "   macro avg       0.54      0.65      0.55     78098\n",
      "weighted avg       0.96      0.89      0.92     78098\n",
      "\n"
     ]
    }
   ],
   "source": [
    "from sklearn.naive_bayes import GaussianNB \n",
    "from sklearn.metrics import mean_squared_error, precision_score, recall_score, f1_score, accuracy_score, classification_report\n",
    "\n",
    "gnb = GaussianNB()\n",
    "gnb.fit(Xtrain, ytrain)\n",
    "\n",
    "ypred = gnb.predict(Xtest)\n",
    "print(\"Before tuning GaussianNB\")\n",
    "print(\"Mean squared error:\", mean_squared_error(ytest, ypred))\n",
    "print(\"Accuracy score:\", accuracy_score(ytest, ypred))\n",
    "print(\"Precision score: \", precision_score(ytest, ypred))\n",
    "print(\"Recall score: \", recall_score(ytest, ypred)) #balance between precision and recall\n",
    "print(\"F1 score: \", f1_score(ytest, ypred))\n",
    "\n",
    "print(classification_report(ytest, ypred))"
   ]
  },
  {
   "cell_type": "code",
   "execution_count": null,
   "id": "4525d3bc",
   "metadata": {},
   "outputs": [],
   "source": [
    "parameters = [{'var_smoothing': np.logspace(0,-9, num=100) \n",
    "              }] \n",
    "\n",
    "grid = GridSearchCV(gnb, parameters)\n",
    "grid.fit(Xtrain, ytrain)\n",
    " \n",
    "print(grid.best_estimator_) #print how the model looks after hyper parameter tuning "
   ]
  },
  {
   "cell_type": "code",
   "execution_count": 30,
   "id": "c0e0daaa",
   "metadata": {},
   "outputs": [
    {
     "name": "stdout",
     "output_type": "stream",
     "text": [
      "After tuning GaussianNB\n",
      "Mean squared error: 0.024674127378421982\n",
      "Accuracy score: 0.975325872621578\n",
      "Precision score:  0.9753102278858259\n",
      "Recall score:  0.9999341490076256\n",
      "F1 score:  0.9874687042757274\n",
      "              precision    recall  f1-score   support\n",
      "\n",
      "           0       0.98      0.11      0.20      2169\n",
      "           1       0.98      1.00      0.99     75929\n",
      "\n",
      "    accuracy                           0.98     78098\n",
      "   macro avg       0.98      0.56      0.60     78098\n",
      "weighted avg       0.98      0.98      0.97     78098\n",
      "\n"
     ]
    }
   ],
   "source": [
    "from sklearn.naive_bayes import GaussianNB \n",
    "from sklearn.metrics import mean_squared_error, precision_score, recall_score, f1_score, accuracy_score, classification_report\n",
    "\n",
    "gnb = GaussianNB(var_smoothing=1.0)\n",
    "gnb.fit(Xtrain, ytrain)\n",
    "\n",
    "ypred = gnb.predict(Xtest)\n",
    "print(\"After tuning GaussianNB\")\n",
    "GNBmse=mean_squared_error(ytest, ypred)\n",
    "print(\"Mean squared error:\", GNBmse )\n",
    "GNBacc=accuracy_score(ytest, ypred)\n",
    "print(\"Accuracy score:\", GNBacc)\n",
    "GNBpre=precision_score(ytest, ypred)\n",
    "print(\"Precision score: \", GNBpre )\n",
    "GNBrec=recall_score(ytest, ypred)\n",
    "print(\"Recall score: \", GNBrec) #balance between precision and recall\n",
    "GNBF1=f1_score(ytest, ypred)\n",
    "print(\"F1 score: \", GNBF1)\n",
    "\n",
    "print(classification_report(ytest, ypred))"
   ]
  },
  {
   "cell_type": "markdown",
   "id": "28281899",
   "metadata": {},
   "source": [
    "## RandomForestClassifier MC1Mean"
   ]
  },
  {
   "cell_type": "code",
   "execution_count": 68,
   "id": "c58cf5d3",
   "metadata": {},
   "outputs": [
    {
     "name": "stdout",
     "output_type": "stream",
     "text": [
      "Before tuning RandomForestClassifier\n",
      "Mean squared error: 0.009155164024686932\n",
      "Accuracy score: 0.990844835975313\n",
      "Precision score:  0.9923542195805295\n",
      "Recall score:  0.9982747039997892\n",
      "F1 score:  0.9953056575033976\n",
      "              precision    recall  f1-score   support\n",
      "\n",
      "           0       0.92      0.73      0.82      2169\n",
      "           1       0.99      1.00      1.00     75929\n",
      "\n",
      "    accuracy                           0.99     78098\n",
      "   macro avg       0.96      0.86      0.91     78098\n",
      "weighted avg       0.99      0.99      0.99     78098\n",
      "\n"
     ]
    }
   ],
   "source": [
    "from sklearn.ensemble import RandomForestClassifier\n",
    "from sklearn.metrics import mean_squared_error, precision_score, recall_score, f1_score, accuracy_score, classification_report\n",
    "\n",
    "\n",
    "rfc=RandomForestClassifier()\n",
    "rfc.fit(Xtrain, ytrain)\n",
    "\n",
    "\n",
    "ypred = rfc.predict(Xtest)\n",
    "print(\"Before tuning RandomForestClassifier\")\n",
    "print(\"Mean squared error:\", mean_squared_error(ytest, ypred))\n",
    "print(\"Accuracy score:\", accuracy_score(ytest, ypred))\n",
    "print(\"Precision score: \", precision_score(ytest, ypred))\n",
    "print(\"Recall score: \", recall_score(ytest, ypred)) #balance between precision and recall\n",
    "print(\"F1 score: \", f1_score(ytest, ypred))\n",
    "\n",
    "print(classification_report(ytest, ypred))"
   ]
  },
  {
   "cell_type": "code",
   "execution_count": null,
   "id": "23c84173",
   "metadata": {},
   "outputs": [],
   "source": [
    "parameters = [{'n_estimators':list(np.arange(1, 100, 1))\n",
    "              }] \n",
    "\n",
    "grid = GridSearchCV(rfc, parameters)\n",
    "grid.fit(Xtrain, ytrain)\n",
    " \n",
    "print(grid.best_estimator_) #print how the model looks after hyper parameter tuning "
   ]
  },
  {
   "cell_type": "code",
   "execution_count": 31,
   "id": "45ea1579",
   "metadata": {},
   "outputs": [
    {
     "name": "stdout",
     "output_type": "stream",
     "text": [
      "After tuning RandomForestClassifier\n",
      "Mean squared error: 0.011741657916976107\n",
      "Accuracy score: 0.9882583420830239\n",
      "Precision score:  0.9899926839464883\n",
      "Recall score:  0.9980113000302915\n",
      "F1 score:  0.9939858204403402\n",
      "              precision    recall  f1-score   support\n",
      "\n",
      "           0       0.90      0.65      0.75      2169\n",
      "           1       0.99      1.00      0.99     75929\n",
      "\n",
      "    accuracy                           0.99     78098\n",
      "   macro avg       0.95      0.82      0.87     78098\n",
      "weighted avg       0.99      0.99      0.99     78098\n",
      "\n"
     ]
    }
   ],
   "source": [
    "from sklearn.ensemble import RandomForestClassifier\n",
    "from sklearn.metrics import mean_squared_error, precision_score, recall_score, f1_score, accuracy_score, classification_report\n",
    "\n",
    "\n",
    "rfc=RandomForestClassifier(n_estimators=67)\n",
    "rfc.fit(Xtrain, ytrain)\n",
    "\n",
    "\n",
    "ypred = rfc.predict(Xtest)\n",
    "print(\"After tuning RandomForestClassifier\")\n",
    "RFCmse=mean_squared_error(ytest, ypred)\n",
    "print(\"Mean squared error:\", RFCmse)\n",
    "RFCacc=accuracy_score(ytest, ypred)\n",
    "print(\"Accuracy score:\", RFCacc)\n",
    "RFCpre=precision_score(ytest, ypred)\n",
    "print(\"Precision score: \", RFCpre)\n",
    "RFCrec=recall_score(ytest, ypred)\n",
    "print(\"Recall score: \", RFCrec) #balance between precision and recall\n",
    "RFCF1=f1_score(ytest, ypred)\n",
    "print(\"F1 score: \", RFCF1)\n",
    "\n",
    "print(classification_report(ytest, ypred))"
   ]
  },
  {
   "cell_type": "markdown",
   "id": "b4fa5a2d",
   "metadata": {},
   "source": [
    "## Comparing Model Results"
   ]
  },
  {
   "cell_type": "code",
   "execution_count": 32,
   "id": "bb3220b7",
   "metadata": {},
   "outputs": [
    {
     "data": {
      "text/html": [
       "<style  type=\"text/css\" >\n",
       "</style><table id=\"T_855f5_\" ><caption>MC1Mean</caption><thead>    <tr>        <th class=\"blank level0\" ></th>        <th class=\"col_heading level0 col0\" >KNN</th>        <th class=\"col_heading level0 col1\" >GNB</th>        <th class=\"col_heading level0 col2\" >RFC</th>    </tr></thead><tbody>\n",
       "                <tr>\n",
       "                        <th id=\"T_855f5_level0_row0\" class=\"row_heading level0 row0\" >Accuracy</th>\n",
       "                        <td id=\"T_855f5_row0_col0\" class=\"data row0 col0\" >0.987311</td>\n",
       "                        <td id=\"T_855f5_row0_col1\" class=\"data row0 col1\" >0.975326</td>\n",
       "                        <td id=\"T_855f5_row0_col2\" class=\"data row0 col2\" >0.988258</td>\n",
       "            </tr>\n",
       "            <tr>\n",
       "                        <th id=\"T_855f5_level0_row1\" class=\"row_heading level0 row1\" >Mean-squared Error</th>\n",
       "                        <td id=\"T_855f5_row1_col0\" class=\"data row1 col0\" >0.012689</td>\n",
       "                        <td id=\"T_855f5_row1_col1\" class=\"data row1 col1\" >0.024674</td>\n",
       "                        <td id=\"T_855f5_row1_col2\" class=\"data row1 col2\" >0.011742</td>\n",
       "            </tr>\n",
       "            <tr>\n",
       "                        <th id=\"T_855f5_level0_row2\" class=\"row_heading level0 row2\" >Precision</th>\n",
       "                        <td id=\"T_855f5_row2_col0\" class=\"data row2 col0\" >0.988883</td>\n",
       "                        <td id=\"T_855f5_row2_col1\" class=\"data row2 col1\" >0.975310</td>\n",
       "                        <td id=\"T_855f5_row2_col2\" class=\"data row2 col2\" >0.989993</td>\n",
       "            </tr>\n",
       "            <tr>\n",
       "                        <th id=\"T_855f5_level0_row3\" class=\"row_heading level0 row3\" >Recall</th>\n",
       "                        <td id=\"T_855f5_row3_col0\" class=\"data row3 col0\" >0.998169</td>\n",
       "                        <td id=\"T_855f5_row3_col1\" class=\"data row3 col1\" >0.999934</td>\n",
       "                        <td id=\"T_855f5_row3_col2\" class=\"data row3 col2\" >0.998011</td>\n",
       "            </tr>\n",
       "            <tr>\n",
       "                        <th id=\"T_855f5_level0_row4\" class=\"row_heading level0 row4\" >F1</th>\n",
       "                        <td id=\"T_855f5_row4_col0\" class=\"data row4 col0\" >0.993505</td>\n",
       "                        <td id=\"T_855f5_row4_col1\" class=\"data row4 col1\" >0.987469</td>\n",
       "                        <td id=\"T_855f5_row4_col2\" class=\"data row4 col2\" >0.993986</td>\n",
       "            </tr>\n",
       "    </tbody></table>"
      ],
      "text/plain": [
       "<pandas.io.formats.style.Styler at 0x25f128d7460>"
      ]
     },
     "execution_count": 32,
     "metadata": {},
     "output_type": "execute_result"
    }
   ],
   "source": [
    "bestmodel = pd.DataFrame({'KNN' : (KNNacc, KNNmse, KNNpre, KNNrec, KNNF1),\n",
    "                          'GNB' : (GNBacc, GNBmse, GNBpre, GNBrec, GNBF1),\n",
    "                          'RFC' : (RFCacc, RFCmse, RFCpre, RFCrec, RFCF1)\n",
    "                          }, index=['Accuracy', 'Mean-squared Error', 'Precision', 'Recall', 'F1'])\n",
    "bestmodel = bestmodel.style.set_caption('MC1Mean')\n",
    "bestmodel\n"
   ]
  },
  {
   "cell_type": "markdown",
   "id": "718a88cb",
   "metadata": {},
   "source": [
    "## Splitting and Normalizing MC1Median"
   ]
  },
  {
   "cell_type": "code",
   "execution_count": null,
   "id": "2947f0fb",
   "metadata": {},
   "outputs": [],
   "source": [
    "from sklearn.preprocessing import LabelEncoder\n",
    "le = LabelEncoder()\n",
    "X = MC1Median.drop('Machine Result', axis=1)\n",
    "y = le.fit_transform(MC1Median['Machine Result'])"
   ]
  },
  {
   "cell_type": "code",
   "execution_count": null,
   "id": "e61f2d0c",
   "metadata": {},
   "outputs": [],
   "source": [
    "#train test split\n",
    "from sklearn.model_selection import train_test_split\n",
    "Xtrain, Xtest, ytrain, ytest = train_test_split(X, y,random_state=1)\n",
    "\n",
    "#normalizing\n",
    "from sklearn.preprocessing import MinMaxScaler\n",
    "scaler = MinMaxScaler()\n",
    "Xtrain = scaler.fit_transform(Xtrain)\n",
    "Xtest = scaler.transform(Xtest)"
   ]
  },
  {
   "cell_type": "markdown",
   "id": "fd9fc12d",
   "metadata": {},
   "source": [
    "## KNN MC1Median"
   ]
  },
  {
   "cell_type": "code",
   "execution_count": null,
   "id": "4bbb527f",
   "metadata": {},
   "outputs": [],
   "source": [
    "from sklearn.neighbors import KNeighborsClassifier\n",
    "from sklearn.metrics import mean_squared_error, precision_score, recall_score, f1_score, accuracy_score, classification_report\n",
    "knn = KNeighborsClassifier()\n",
    "knn.fit(Xtrain, ytrain)\n",
    "\n",
    "ypred = knn.predict(Xtest)\n",
    "print(\"Before tuning KNN\")\n",
    "print(\"Mean squared error:\", mean_squared_error(ytest, ypred))\n",
    "print(\"Accuracy score:\", accuracy_score(ytest, ypred))\n",
    "print(\"Precision score: \", precision_score(ytest, ypred))\n",
    "print(\"Recall score: \", recall_score(ytest, ypred)) #balance between precision and recall\n",
    "print(\"F1 score: \", f1_score(ytest, ypred))\n",
    "\n",
    "print(classification_report(ytest, ypred))"
   ]
  },
  {
   "cell_type": "code",
   "execution_count": null,
   "id": "ac7b752b",
   "metadata": {},
   "outputs": [],
   "source": [
    "parameters = [{'weights': ['uniform', 'distance'],'n_neighbors': list(np.arange(1, 100, 1))}] \n",
    "\n",
    "grid = GridSearchCV(knn, parameters)\n",
    "grid.fit(Xtrain, ytrain)\n",
    " \n",
    "print(grid.best_estimator_) #print how the model looks after hyper parameter tuning"
   ]
  },
  {
   "cell_type": "code",
   "execution_count": null,
   "id": "51285e9f",
   "metadata": {},
   "outputs": [],
   "source": [
    "from sklearn.neighbors import KNeighborsClassifier\n",
    "from sklearn.metrics import mean_squared_error, precision_score, recall_score, f1_score, accuracy_score, classification_report\n",
    "knn = KNeighborsClassifier(n_neighbors=1)\n",
    "knn.fit(Xtrain, ytrain)\n",
    "\n",
    "ypred = knn.predict(Xtest)\n",
    "print(\"After tuning KNN\")\n",
    "print(\"Mean squared error:\", mean_squared_error(ytest, ypred))\n",
    "print(\"Accuracy score:\", accuracy_score(ytest, ypred))\n",
    "print(\"Precision score: \", precision_score(ytest, ypred))\n",
    "print(\"Recall score: \", recall_score(ytest, ypred)) #balance between precision and recall\n",
    "print(\"F1 score: \", f1_score(ytest, ypred))\n",
    "\n",
    "print(classification_report(ytest, ypred))"
   ]
  },
  {
   "cell_type": "markdown",
   "id": "81b42a75",
   "metadata": {},
   "source": [
    "## GaussianNB MC1Median"
   ]
  },
  {
   "cell_type": "code",
   "execution_count": null,
   "id": "afcd964e",
   "metadata": {},
   "outputs": [],
   "source": [
    "from sklearn.naive_bayes import GaussianNB \n",
    "from sklearn.metrics import mean_squared_error, precision_score, recall_score, f1_score, accuracy_score, classification_report\n",
    "\n",
    "gnb = GaussianNB()\n",
    "gnb.fit(Xtrain, ytrain)\n",
    "\n",
    "ypred = gnb.predict(Xtest)\n",
    "print(\"Before tuning GaussianNB\")\n",
    "print(\"Mean squared error:\", mean_squared_error(ytest, ypred))\n",
    "print(\"Accuracy score:\", accuracy_score(ytest, ypred))\n",
    "print(\"Precision score: \", precision_score(ytest, ypred))\n",
    "print(\"Recall score: \", recall_score(ytest, ypred)) #balance between precision and recall\n",
    "print(\"F1 score: \", f1_score(ytest, ypred))\n",
    "\n",
    "print(classification_report(ytest, ypred))"
   ]
  },
  {
   "cell_type": "code",
   "execution_count": null,
   "id": "1e10e6d9",
   "metadata": {},
   "outputs": [],
   "source": [
    "parameters = [{'var_smoothing': np.logspace(0,-9, num=100) \n",
    "              }] \n",
    "\n",
    "grid = GridSearchCV(gnb, parameters)\n",
    "grid.fit(Xtrain, ytrain)\n",
    " \n",
    "print(grid.best_estimator_) #print how the model looks after hyper parameter tuning "
   ]
  },
  {
   "cell_type": "code",
   "execution_count": null,
   "id": "64b49ab8",
   "metadata": {},
   "outputs": [],
   "source": [
    "from sklearn.naive_bayes import GaussianNB \n",
    "from sklearn.metrics import mean_squared_error, precision_score, recall_score, f1_score, accuracy_score, classification_report\n",
    "\n",
    "gnb = GaussianNB(var_smoothing=1.0)\n",
    "gnb.fit(Xtrain, ytrain)\n",
    "\n",
    "ypred = gnb.predict(Xtest)\n",
    "print(\"After tuning GaussianNB\")\n",
    "print(\"Mean squared error:\", mean_squared_error(ytest, ypred))\n",
    "print(\"Accuracy score:\", accuracy_score(ytest, ypred))\n",
    "print(\"Precision score: \", precision_score(ytest, ypred))\n",
    "print(\"Recall score: \", recall_score(ytest, ypred)) #balance between precision and recall\n",
    "print(\"F1 score: \", f1_score(ytest, ypred))\n",
    "\n",
    "print(classification_report(ytest, ypred))"
   ]
  },
  {
   "cell_type": "markdown",
   "id": "6a2ea9ba",
   "metadata": {},
   "source": [
    "## RandomForestClassifier MC1Median"
   ]
  },
  {
   "cell_type": "code",
   "execution_count": null,
   "id": "23fcffa6",
   "metadata": {},
   "outputs": [],
   "source": [
    "from sklearn.ensemble import RandomForestClassifier\n",
    "from sklearn.metrics import mean_squared_error, precision_score, recall_score, f1_score, accuracy_score, classification_report\n",
    "\n",
    "\n",
    "rfc=RandomForestClassifier()\n",
    "rfc.fit(Xtrain, ytrain)\n",
    "\n",
    "\n",
    "\n",
    "ypred = rfc.predict(Xtest)\n",
    "print(\"Before tuning RandomForestClassifier\")\n",
    "print(\"Mean squared error:\", mean_squared_error(ytest, ypred))\n",
    "print(\"Accuracy score:\", accuracy_score(ytest, ypred))\n",
    "print(\"Precision score: \", precision_score(ytest, ypred))\n",
    "print(\"Recall score: \", recall_score(ytest, ypred)) #balance between precision and recall\n",
    "print(\"F1 score: \", f1_score(ytest, ypred))\n",
    "\n",
    "print(classification_report(ytest, ypred))"
   ]
  },
  {
   "cell_type": "code",
   "execution_count": null,
   "id": "9f73bcb0",
   "metadata": {},
   "outputs": [],
   "source": [
    "parameters = [{'n_estimators':list(np.arange(1, 100, 1))\n",
    "              }] \n",
    "\n",
    "grid = GridSearchCV(rfc, parameters)\n",
    "grid.fit(Xtrain, ytrain)\n",
    " \n",
    "print(grid.best_estimator_) #print how the model looks after hyper parameter tuning "
   ]
  },
  {
   "cell_type": "code",
   "execution_count": null,
   "id": "5407edf0",
   "metadata": {},
   "outputs": [],
   "source": [
    "from sklearn.ensemble import RandomForestClassifier\n",
    "from sklearn.metrics import mean_squared_error, precision_score, recall_score, f1_score, accuracy_score, classification_report\n",
    "\n",
    "\n",
    "rfc=RandomForestClassifier(n_estimators=1)\n",
    "rfc.fit(Xtrain, ytrain)\n",
    "\n",
    "\n",
    "\n",
    "ypred = rfc.predict(Xtest)\n",
    "print(\"After tuning RandomForestClassifier\")\n",
    "print(\"Mean squared error:\", mean_squared_error(ytest, ypred))\n",
    "print(\"Accuracy score:\", accuracy_score(ytest, ypred))\n",
    "print(\"Precision score: \", precision_score(ytest, ypred))\n",
    "print(\"Recall score: \", recall_score(ytest, ypred)) #balance between precision and recall\n",
    "print(\"F1 score: \", f1_score(ytest, ypred))\n",
    "\n",
    "print(classification_report(ytest, ypred))"
   ]
  },
  {
   "cell_type": "markdown",
   "id": "4f2d7f91",
   "metadata": {},
   "source": [
    "## Splitting and Normalizing MC1Zero"
   ]
  },
  {
   "cell_type": "code",
   "execution_count": 19,
   "id": "45df7871",
   "metadata": {},
   "outputs": [],
   "source": [
    "from sklearn.preprocessing import LabelEncoder\n",
    "le = LabelEncoder()\n",
    "X = MC1Zero.drop('Machine Result', axis=1)\n",
    "y = le.fit_transform(MC1Zero['Machine Result'])"
   ]
  },
  {
   "cell_type": "code",
   "execution_count": 34,
   "id": "2eb7f18f",
   "metadata": {},
   "outputs": [],
   "source": [
    "#train test split\n",
    "from sklearn.model_selection import train_test_split\n",
    "Xtrain, Xtest, ytrain, ytest = train_test_split(X, y,random_state=1)\n",
    "\n",
    "#normalizing\n",
    "from sklearn.preprocessing import MinMaxScaler\n",
    "scaler = MinMaxScaler()\n",
    "Xtrain = scaler.fit_transform(Xtrain)\n",
    "Xtest = scaler.transform(Xtest)"
   ]
  },
  {
   "cell_type": "markdown",
   "id": "32c59e8a",
   "metadata": {},
   "source": [
    "## KNN MC1Zero"
   ]
  },
  {
   "cell_type": "code",
   "execution_count": null,
   "id": "9174aef3",
   "metadata": {},
   "outputs": [],
   "source": [
    "from sklearn.neighbors import KNeighborsClassifier\n",
    "from sklearn.metrics import mean_squared_error, precision_score, recall_score, f1_score, accuracy_score, classification_report\n",
    "knn = KNeighborsClassifier()\n",
    "knn.fit(Xtrain, ytrain)\n",
    "\n",
    "ypred = knn.predict(Xtest)\n",
    "print(\"Before tuning KNN\")\n",
    "print(\"Mean squared error:\", mean_squared_error(ytest, ypred))\n",
    "print(\"Accuracy score:\", accuracy_score(ytest, ypred))\n",
    "print(\"Precision score: \", precision_score(ytest, ypred))\n",
    "print(\"Recall score: \", recall_score(ytest, ypred)) #balance between precision and recall\n",
    "print(\"F1 score: \", f1_score(ytest, ypred))\n",
    "\n",
    "print(classification_report(ytest, ypred))"
   ]
  },
  {
   "cell_type": "code",
   "execution_count": null,
   "id": "7d2abcaa",
   "metadata": {},
   "outputs": [],
   "source": [
    "parameters = [{'weights': ['uniform', 'distance'],'n_neighbors': list(np.arange(1, 100, 1))}] \n",
    "\n",
    "grid = GridSearchCV(knn, parameters)\n",
    "grid.fit(Xtrain, ytrain)\n",
    " \n",
    "print(grid.best_estimator_) #print how the model looks after hyper parameter tuning "
   ]
  },
  {
   "cell_type": "code",
   "execution_count": 35,
   "id": "59752e37",
   "metadata": {},
   "outputs": [
    {
     "name": "stdout",
     "output_type": "stream",
     "text": [
      "After tuning KNN\n",
      "Mean squared error: 0.012817229634561705\n",
      "Accuracy score: 0.9871827703654383\n",
      "Precision score:  0.9889329713927751\n",
      "Recall score:  0.9979849596333417\n",
      "F1 score:  0.9934383460174497\n",
      "              precision    recall  f1-score   support\n",
      "\n",
      "           0       0.90      0.61      0.73      2169\n",
      "           1       0.99      1.00      0.99     75929\n",
      "\n",
      "    accuracy                           0.99     78098\n",
      "   macro avg       0.94      0.80      0.86     78098\n",
      "weighted avg       0.99      0.99      0.99     78098\n",
      "\n"
     ]
    }
   ],
   "source": [
    "from sklearn.neighbors import KNeighborsClassifier\n",
    "from sklearn.metrics import mean_squared_error, precision_score, recall_score, f1_score, accuracy_score, classification_report\n",
    "knn = KNeighborsClassifier(n_neighbors=9, weights='distance')\n",
    "knn.fit(Xtrain, ytrain)\n",
    "\n",
    "ypred = knn.predict(Xtest)\n",
    "print(\"After tuning KNN\")\n",
    "KNNmse=mean_squared_error(ytest, ypred)\n",
    "print(\"Mean squared error:\", KNNmse)\n",
    "KNNacc=accuracy_score(ytest, ypred)\n",
    "print(\"Accuracy score:\", KNNacc)\n",
    "KNNpre=precision_score(ytest, ypred)\n",
    "print(\"Precision score: \", KNNpre)\n",
    "KNNrec=recall_score(ytest, ypred)\n",
    "print(\"Recall score: \", KNNrec) #balance between precision and recall\n",
    "KNNF1=f1_score(ytest, ypred)\n",
    "print(\"F1 score: \", KNNF1)\n",
    "\n",
    "print(classification_report(ytest, ypred))"
   ]
  },
  {
   "cell_type": "markdown",
   "id": "b5a181bc",
   "metadata": {},
   "source": [
    "## GaussianNB MC1Zero"
   ]
  },
  {
   "cell_type": "code",
   "execution_count": null,
   "id": "ba002d91",
   "metadata": {},
   "outputs": [],
   "source": [
    "from sklearn.naive_bayes import GaussianNB \n",
    "from sklearn.metrics import mean_squared_error, precision_score, recall_score, f1_score, accuracy_score, classification_report\n",
    "\n",
    "gnb = GaussianNB()\n",
    "gnb.fit(Xtrain, ytrain)\n",
    "\n",
    "ypred = gnb.predict(Xtest)\n",
    "print(\"Before tuning GaussianNB\")\n",
    "print(\"Mean squared error:\", mean_squared_error(ytest, ypred))\n",
    "print(\"Accuracy score:\", accuracy_score(ytest, ypred))\n",
    "print(\"Precision score: \", precision_score(ytest, ypred))\n",
    "print(\"Recall score: \", recall_score(ytest, ypred)) #balance between precision and recall\n",
    "print(\"F1 score: \", f1_score(ytest, ypred))\n",
    "\n",
    "print(classification_report(ytest, ypred))"
   ]
  },
  {
   "cell_type": "code",
   "execution_count": null,
   "id": "0875aca8",
   "metadata": {},
   "outputs": [],
   "source": [
    "parameters = [{'var_smoothing': np.logspace(0,-9, num=100) \n",
    "              }] \n",
    "\n",
    "grid = GridSearchCV(gnb, parameters)\n",
    "grid.fit(Xtrain, ytrain)\n",
    " \n",
    "print(grid.best_estimator_) #print how the model looks after hyper parameter tuning "
   ]
  },
  {
   "cell_type": "code",
   "execution_count": 36,
   "id": "e7b28860",
   "metadata": {},
   "outputs": [
    {
     "name": "stdout",
     "output_type": "stream",
     "text": [
      "After tuning GaussianNB\n",
      "Mean squared error: 0.024635714102793926\n",
      "Accuracy score: 0.975364285897206\n",
      "Precision score:  0.9754821963223295\n",
      "Recall score:  0.9997892768244018\n",
      "F1 score:  0.9874861788617887\n",
      "              precision    recall  f1-score   support\n",
      "\n",
      "           0       0.94      0.12      0.21      2169\n",
      "           1       0.98      1.00      0.99     75929\n",
      "\n",
      "    accuracy                           0.98     78098\n",
      "   macro avg       0.96      0.56      0.60     78098\n",
      "weighted avg       0.97      0.98      0.97     78098\n",
      "\n"
     ]
    }
   ],
   "source": [
    "from sklearn.naive_bayes import GaussianNB \n",
    "from sklearn.metrics import mean_squared_error, precision_score, recall_score, f1_score, accuracy_score, classification_report\n",
    "\n",
    "gnb = GaussianNB(var_smoothing=0.657933224657568)\n",
    "gnb.fit(Xtrain, ytrain)\n",
    "\n",
    "ypred = gnb.predict(Xtest)\n",
    "print(\"After tuning GaussianNB\")\n",
    "GNBmse=mean_squared_error(ytest, ypred)\n",
    "print(\"Mean squared error:\", GNBmse )\n",
    "GNBacc=accuracy_score(ytest, ypred)\n",
    "print(\"Accuracy score:\", GNBacc)\n",
    "GNBpre=precision_score(ytest, ypred)\n",
    "print(\"Precision score: \", GNBpre )\n",
    "GNBrec=recall_score(ytest, ypred)\n",
    "print(\"Recall score: \", GNBrec) #balance between precision and recall\n",
    "GNBF1=f1_score(ytest, ypred)\n",
    "print(\"F1 score: \", GNBF1)\n",
    "\n",
    "print(classification_report(ytest, ypred))"
   ]
  },
  {
   "cell_type": "markdown",
   "id": "a801679a",
   "metadata": {},
   "source": [
    "## RandomForestClassifier MC1Zero"
   ]
  },
  {
   "cell_type": "code",
   "execution_count": null,
   "id": "7f5d994c",
   "metadata": {},
   "outputs": [],
   "source": [
    "from sklearn.ensemble import RandomForestClassifier\n",
    "from sklearn.metrics import mean_squared_error, precision_score, recall_score, f1_score, accuracy_score, classification_report\n",
    "\n",
    "\n",
    "rfc=RandomForestClassifier()\n",
    "rfc.fit(Xtrain, ytrain)\n",
    "\n",
    "\n",
    "ypred = rfc.predict(Xtest)\n",
    "print(\"Before tuning RandomForestClassifier\")\n",
    "print(\"Mean squared error:\", mean_squared_error(ytest, ypred))\n",
    "print(\"Accuracy score:\", accuracy_score(ytest, ypred))\n",
    "print(\"Precision score: \", precision_score(ytest, ypred))\n",
    "print(\"Recall score: \", recall_score(ytest, ypred)) #balance between precision and recall\n",
    "print(\"F1 score: \", f1_score(ytest, ypred))\n",
    "\n",
    "print(classification_report(ytest, ypred))"
   ]
  },
  {
   "cell_type": "code",
   "execution_count": null,
   "id": "2c2e0e34",
   "metadata": {},
   "outputs": [],
   "source": [
    "parameters = [{'n_estimators':list(np.arange(1, 100, 1))\n",
    "              }] \n",
    "\n",
    "grid = GridSearchCV(rfc, parameters)\n",
    "grid.fit(Xtrain, ytrain)\n",
    " \n",
    "print(grid.best_estimator_) #print how the model looks after hyper parameter tuning "
   ]
  },
  {
   "cell_type": "code",
   "execution_count": 37,
   "id": "bef92924",
   "metadata": {},
   "outputs": [
    {
     "name": "stdout",
     "output_type": "stream",
     "text": [
      "After tuning RandomForestClassifier\n",
      "Mean squared error: 0.011703244641348049\n",
      "Accuracy score: 0.9882967553586519\n",
      "Precision score:  0.9900827094194661\n",
      "Recall score:  0.9979586192363918\n",
      "F1 score:  0.9940050635568206\n",
      "              precision    recall  f1-score   support\n",
      "\n",
      "           0       0.90      0.65      0.76      2169\n",
      "           1       0.99      1.00      0.99     75929\n",
      "\n",
      "    accuracy                           0.99     78098\n",
      "   macro avg       0.95      0.82      0.87     78098\n",
      "weighted avg       0.99      0.99      0.99     78098\n",
      "\n"
     ]
    }
   ],
   "source": [
    "from sklearn.ensemble import RandomForestClassifier\n",
    "from sklearn.metrics import mean_squared_error, precision_score, recall_score, f1_score, accuracy_score, classification_report\n",
    "\n",
    "\n",
    "rfc=RandomForestClassifier(n_estimators=51)\n",
    "rfc.fit(Xtrain, ytrain)\n",
    "\n",
    "\n",
    "ypred = rfc.predict(Xtest)\n",
    "print(\"After tuning RandomForestClassifier\")\n",
    "RFCmse=mean_squared_error(ytest, ypred)\n",
    "print(\"Mean squared error:\", RFCmse)\n",
    "RFCacc=accuracy_score(ytest, ypred)\n",
    "print(\"Accuracy score:\", RFCacc)\n",
    "RFCpre=precision_score(ytest, ypred)\n",
    "print(\"Precision score: \", RFCpre)\n",
    "RFCrec=recall_score(ytest, ypred)\n",
    "print(\"Recall score: \", RFCrec) #balance between precision and recall\n",
    "RFCF1=f1_score(ytest, ypred)\n",
    "print(\"F1 score: \", RFCF1)\n",
    "\n",
    "print(classification_report(ytest, ypred))"
   ]
  },
  {
   "cell_type": "markdown",
   "id": "d881c694",
   "metadata": {},
   "source": [
    "## Comparing Model Results"
   ]
  },
  {
   "cell_type": "code",
   "execution_count": 38,
   "id": "5212e5bf",
   "metadata": {},
   "outputs": [
    {
     "data": {
      "text/html": [
       "<style  type=\"text/css\" >\n",
       "</style><table id=\"T_255b0_\" ><caption>MC1Zero</caption><thead>    <tr>        <th class=\"blank level0\" ></th>        <th class=\"col_heading level0 col0\" >KNN</th>        <th class=\"col_heading level0 col1\" >GNB</th>        <th class=\"col_heading level0 col2\" >RFC</th>    </tr></thead><tbody>\n",
       "                <tr>\n",
       "                        <th id=\"T_255b0_level0_row0\" class=\"row_heading level0 row0\" >Accuracy</th>\n",
       "                        <td id=\"T_255b0_row0_col0\" class=\"data row0 col0\" >0.987183</td>\n",
       "                        <td id=\"T_255b0_row0_col1\" class=\"data row0 col1\" >0.975364</td>\n",
       "                        <td id=\"T_255b0_row0_col2\" class=\"data row0 col2\" >0.988297</td>\n",
       "            </tr>\n",
       "            <tr>\n",
       "                        <th id=\"T_255b0_level0_row1\" class=\"row_heading level0 row1\" >Mean-squared Error</th>\n",
       "                        <td id=\"T_255b0_row1_col0\" class=\"data row1 col0\" >0.012817</td>\n",
       "                        <td id=\"T_255b0_row1_col1\" class=\"data row1 col1\" >0.024636</td>\n",
       "                        <td id=\"T_255b0_row1_col2\" class=\"data row1 col2\" >0.011703</td>\n",
       "            </tr>\n",
       "            <tr>\n",
       "                        <th id=\"T_255b0_level0_row2\" class=\"row_heading level0 row2\" >Precision</th>\n",
       "                        <td id=\"T_255b0_row2_col0\" class=\"data row2 col0\" >0.988933</td>\n",
       "                        <td id=\"T_255b0_row2_col1\" class=\"data row2 col1\" >0.975482</td>\n",
       "                        <td id=\"T_255b0_row2_col2\" class=\"data row2 col2\" >0.990083</td>\n",
       "            </tr>\n",
       "            <tr>\n",
       "                        <th id=\"T_255b0_level0_row3\" class=\"row_heading level0 row3\" >Recall</th>\n",
       "                        <td id=\"T_255b0_row3_col0\" class=\"data row3 col0\" >0.997985</td>\n",
       "                        <td id=\"T_255b0_row3_col1\" class=\"data row3 col1\" >0.999789</td>\n",
       "                        <td id=\"T_255b0_row3_col2\" class=\"data row3 col2\" >0.997959</td>\n",
       "            </tr>\n",
       "            <tr>\n",
       "                        <th id=\"T_255b0_level0_row4\" class=\"row_heading level0 row4\" >F1</th>\n",
       "                        <td id=\"T_255b0_row4_col0\" class=\"data row4 col0\" >0.993438</td>\n",
       "                        <td id=\"T_255b0_row4_col1\" class=\"data row4 col1\" >0.987486</td>\n",
       "                        <td id=\"T_255b0_row4_col2\" class=\"data row4 col2\" >0.994005</td>\n",
       "            </tr>\n",
       "    </tbody></table>"
      ],
      "text/plain": [
       "<pandas.io.formats.style.Styler at 0x25f1024f8e0>"
      ]
     },
     "execution_count": 38,
     "metadata": {},
     "output_type": "execute_result"
    }
   ],
   "source": [
    "bestmodel = pd.DataFrame({'KNN' : (KNNacc, KNNmse, KNNpre, KNNrec, KNNF1),\n",
    "                          'GNB' : (GNBacc, GNBmse, GNBpre, GNBrec, GNBF1),\n",
    "                          'RFC' : (RFCacc, RFCmse, RFCpre, RFCrec, RFCF1)\n",
    "                          }, index=['Accuracy', 'Mean-squared Error', 'Precision', 'Recall', 'F1'])\n",
    "bestmodel = bestmodel.style.set_caption('MC1Zero')\n",
    "bestmodel\n"
   ]
  },
  {
   "cell_type": "markdown",
   "id": "3c3690b2",
   "metadata": {},
   "source": [
    "## Supporting Dataset MC2"
   ]
  },
  {
   "cell_type": "markdown",
   "id": "bc35955d",
   "metadata": {},
   "source": [
    "## For MC2 without POINT 5 (Support)"
   ]
  },
  {
   "cell_type": "code",
   "execution_count": 90,
   "id": "e5eb9506",
   "metadata": {},
   "outputs": [],
   "source": [
    "from sklearn.preprocessing import LabelEncoder\n",
    "le = LabelEncoder()\n",
    "#dropping unwanted columns\n",
    "MC2 = MC2csv.drop(columns=['Part', 'IC 2D','Lot','Date','Time','Machine','Server Result'], axis=1)\n",
    "#label encoding 'OK' and 'NG'\n",
    "MC2['Machine Result']=le.fit_transform(MC2['Machine Result'])"
   ]
  },
  {
   "cell_type": "code",
   "execution_count": 92,
   "id": "9e62c438",
   "metadata": {},
   "outputs": [
    {
     "data": {
      "text/html": [
       "<div>\n",
       "<style scoped>\n",
       "    .dataframe tbody tr th:only-of-type {\n",
       "        vertical-align: middle;\n",
       "    }\n",
       "\n",
       "    .dataframe tbody tr th {\n",
       "        vertical-align: top;\n",
       "    }\n",
       "\n",
       "    .dataframe thead th {\n",
       "        text-align: right;\n",
       "    }\n",
       "</style>\n",
       "<table border=\"1\" class=\"dataframe\">\n",
       "  <thead>\n",
       "    <tr style=\"text-align: right;\">\n",
       "      <th></th>\n",
       "      <th>Machine Result</th>\n",
       "      <th>(um)Point1</th>\n",
       "      <th>(um)Point2</th>\n",
       "      <th>(um)Point3</th>\n",
       "      <th>(um)Point4</th>\n",
       "    </tr>\n",
       "  </thead>\n",
       "  <tbody>\n",
       "    <tr>\n",
       "      <th>0</th>\n",
       "      <td>1</td>\n",
       "      <td>14.7</td>\n",
       "      <td>9.9</td>\n",
       "      <td>118.7</td>\n",
       "      <td>66.3</td>\n",
       "    </tr>\n",
       "    <tr>\n",
       "      <th>1</th>\n",
       "      <td>0</td>\n",
       "      <td>12.4</td>\n",
       "      <td>5.9</td>\n",
       "      <td>14.2</td>\n",
       "      <td>279.9</td>\n",
       "    </tr>\n",
       "    <tr>\n",
       "      <th>2</th>\n",
       "      <td>1</td>\n",
       "      <td>36.4</td>\n",
       "      <td>16.5</td>\n",
       "      <td>-39.5</td>\n",
       "      <td>40.3</td>\n",
       "    </tr>\n",
       "    <tr>\n",
       "      <th>3</th>\n",
       "      <td>1</td>\n",
       "      <td>7.9</td>\n",
       "      <td>2.9</td>\n",
       "      <td>51.0</td>\n",
       "      <td>27.9</td>\n",
       "    </tr>\n",
       "    <tr>\n",
       "      <th>4</th>\n",
       "      <td>0</td>\n",
       "      <td>-3.8</td>\n",
       "      <td>-0.2</td>\n",
       "      <td>30.0</td>\n",
       "      <td>200.7</td>\n",
       "    </tr>\n",
       "  </tbody>\n",
       "</table>\n",
       "</div>"
      ],
      "text/plain": [
       "   Machine Result  (um)Point1  (um)Point2  (um)Point3  (um)Point4\n",
       "0               1        14.7         9.9       118.7        66.3\n",
       "1               0        12.4         5.9        14.2       279.9\n",
       "2               1        36.4        16.5       -39.5        40.3\n",
       "3               1         7.9         2.9        51.0        27.9\n",
       "4               0        -3.8        -0.2        30.0       200.7"
      ]
     },
     "execution_count": 92,
     "metadata": {},
     "output_type": "execute_result"
    }
   ],
   "source": [
    "#drop Point5\n",
    "MC2DropP5 = MC2.drop('(um)Point5', axis=1)\n",
    "MC2DropP5.head()"
   ]
  },
  {
   "cell_type": "code",
   "execution_count": 93,
   "id": "3a1dd321",
   "metadata": {},
   "outputs": [
    {
     "name": "stderr",
     "output_type": "stream",
     "text": [
      "<ipython-input-93-e8e23675457e>:8: FutureWarning: Automatic reindexing on DataFrame vs Series comparisons is deprecated and will raise ValueError in a future version.  Do `left, right = left.align(right, axis=1, copy=False)` before e.g. `left == right`\n",
      "  MC2DropP5[(MC2DropP5<(Q1MC2 - 1.5 * IQR2))|(MC2DropP5>(Q3MC2 + 1.5 * IQR2))]=np.nan\n",
      "<ipython-input-93-e8e23675457e>:8: FutureWarning: Automatic reindexing on DataFrame vs Series comparisons is deprecated and will raise ValueError in a future version.  Do `left, right = left.align(right, axis=1, copy=False)` before e.g. `left == right`\n",
      "  MC2DropP5[(MC2DropP5<(Q1MC2 - 1.5 * IQR2))|(MC2DropP5>(Q3MC2 + 1.5 * IQR2))]=np.nan\n"
     ]
    }
   ],
   "source": [
    "#detecting outliers\n",
    "#filling up missing values with -mean, -median, -zero\n",
    "Q1MC2 = MC2.quantile(0.25)\n",
    "Q3MC2 = MC2.quantile(0.75)\n",
    "IQR2 = Q3MC2-Q1MC2\n",
    "\n",
    "MC2mean = MC2.mean()\n",
    "MC2median = MC2.median()\n",
    "\n",
    "MC2DropP5[(MC2DropP5<(Q1MC2 - 1.5 * IQR2))|(MC2DropP5>(Q3MC2 + 1.5 * IQR2))]=np.nan\n",
    "MC2DropP5Mean = MC2DropP5.fillna(MC2mean) \n",
    "MC2DropP5Median = MC2DropP5.fillna(MC2median)\n",
    "MC2DropP5Zero = MC2DropP5.fillna(0) \n"
   ]
  },
  {
   "cell_type": "code",
   "execution_count": 72,
   "id": "a2793a9d",
   "metadata": {},
   "outputs": [
    {
     "data": {
      "image/png": "[encoded data removed]",
      "text/plain": [
       "<Figure size 432x288 with 1 Axes>"
      ]
     },
     "metadata": {
      "needs_background": "light"
     },
     "output_type": "display_data"
    }
   ],
   "source": [
    "sns.boxplot(data=MC2DropP5Mean)\n",
    "plt.show()"
   ]
  },
  {
   "cell_type": "code",
   "execution_count": 73,
   "id": "bd829231",
   "metadata": {},
   "outputs": [
    {
     "data": {
      "image/png": "[encoded data removed]",
      "text/plain": [
       "<Figure size 432x288 with 1 Axes>"
      ]
     },
     "metadata": {
      "needs_background": "light"
     },
     "output_type": "display_data"
    }
   ],
   "source": [
    "sns.boxplot(data=MC2DropP5Median)\n",
    "plt.show()"
   ]
  },
  {
   "cell_type": "code",
   "execution_count": 74,
   "id": "05addaa7",
   "metadata": {},
   "outputs": [
    {
     "data": {
      "image/png": "[encoded data removed]",
      "text/plain": [
       "<Figure size 432x288 with 1 Axes>"
      ]
     },
     "metadata": {
      "needs_background": "light"
     },
     "output_type": "display_data"
    }
   ],
   "source": [
    "sns.boxplot(data=MC2DropP5Zero)\n",
    "plt.show()"
   ]
  },
  {
   "cell_type": "markdown",
   "id": "beb730c3",
   "metadata": {},
   "source": [
    "## Splitting and Normalizing MC2DropP5Mean"
   ]
  },
  {
   "cell_type": "code",
   "execution_count": 97,
   "id": "e4021f4b",
   "metadata": {},
   "outputs": [],
   "source": [
    "from sklearn.preprocessing import LabelEncoder\n",
    "le = LabelEncoder()\n",
    "X = MC2DropP5Mean.drop('Machine Result', axis=1)\n",
    "y = le.fit_transform(MC2DropP5Mean['Machine Result'])"
   ]
  },
  {
   "cell_type": "code",
   "execution_count": 98,
   "id": "5aa4bd1a",
   "metadata": {},
   "outputs": [],
   "source": [
    "#train test split\n",
    "from sklearn.model_selection import train_test_split\n",
    "Xtrain, Xtest, ytrain, ytest = train_test_split(X, y,random_state=1)\n",
    "\n",
    "#normalizing\n",
    "from sklearn.preprocessing import MinMaxScaler\n",
    "scaler = MinMaxScaler()\n",
    "Xtrain = scaler.fit_transform(Xtrain)\n",
    "Xtest = scaler.transform(Xtest)\n"
   ]
  },
  {
   "cell_type": "markdown",
   "id": "08f90479",
   "metadata": {},
   "source": [
    "## KNN MC2DropP5Mean"
   ]
  },
  {
   "cell_type": "code",
   "execution_count": 77,
   "id": "d1b8c836",
   "metadata": {
    "scrolled": true
   },
   "outputs": [
    {
     "name": "stdout",
     "output_type": "stream",
     "text": [
      "Before tuning KNN\n",
      "Mean squared error: 0.044603306312631645\n",
      "Accuracy score: 0.9553966936873683\n",
      "Precision score:  0.9579020368325071\n",
      "Recall score:  0.9971124538794717\n",
      "F1 score:  0.9771140368114233\n",
      "              precision    recall  f1-score   support\n",
      "\n",
      "           0       0.54      0.07      0.13      3531\n",
      "           1       0.96      1.00      0.98     74804\n",
      "\n",
      "    accuracy                           0.96     78335\n",
      "   macro avg       0.75      0.53      0.55     78335\n",
      "weighted avg       0.94      0.96      0.94     78335\n",
      "\n"
     ]
    }
   ],
   "source": [
    "from sklearn.neighbors import KNeighborsClassifier\n",
    "from sklearn.metrics import mean_squared_error, precision_score, recall_score, f1_score, accuracy_score, classification_report\n",
    "knn = KNeighborsClassifier()\n",
    "knn.fit(Xtrain, ytrain)\n",
    "\n",
    "ypred = knn.predict(Xtest)\n",
    "print(\"Before tuning KNN\")\n",
    "print(\"Mean squared error:\", mean_squared_error(ytest, ypred))\n",
    "print(\"Accuracy score:\", accuracy_score(ytest, ypred))\n",
    "print(\"Precision score: \", precision_score(ytest, ypred))\n",
    "print(\"Recall score: \", recall_score(ytest, ypred)) #balance between precision and recall\n",
    "print(\"F1 score: \", f1_score(ytest, ypred))\n",
    "\n",
    "print(classification_report(ytest, ypred))"
   ]
  },
  {
   "cell_type": "code",
   "execution_count": 99,
   "id": "5fc95806",
   "metadata": {},
   "outputs": [
    {
     "name": "stdout",
     "output_type": "stream",
     "text": [
      "After tuning KNN\n",
      "Mean squared error: 0.04502457394523521\n",
      "Accuracy score: 0.9549754260547648\n",
      "Precision score:  0.9580018762931644\n",
      "Recall score:  0.9965376183091813\n",
      "F1 score:  0.9768898615488445\n",
      "              precision    recall  f1-score   support\n",
      "\n",
      "           0       0.50      0.07      0.13      3531\n",
      "           1       0.96      1.00      0.98     74804\n",
      "\n",
      "    accuracy                           0.95     78335\n",
      "   macro avg       0.73      0.54      0.55     78335\n",
      "weighted avg       0.94      0.95      0.94     78335\n",
      "\n"
     ]
    }
   ],
   "source": [
    "from sklearn.neighbors import KNeighborsClassifier\n",
    "from sklearn.metrics import mean_squared_error, precision_score, recall_score, f1_score, accuracy_score, classification_report\n",
    "knn = KNeighborsClassifier(n_neighbors=16, weights='distance')\n",
    "knn.fit(Xtrain, ytrain)\n",
    "\n",
    "ypred = knn.predict(Xtest)\n",
    "print(\"After tuning KNN\")\n",
    "KNNmse=mean_squared_error(ytest, ypred)\n",
    "print(\"Mean squared error:\", KNNmse)\n",
    "KNNacc=accuracy_score(ytest, ypred)\n",
    "print(\"Accuracy score:\", KNNacc)\n",
    "KNNpre=precision_score(ytest, ypred)\n",
    "print(\"Precision score: \", KNNpre)\n",
    "KNNrec=recall_score(ytest, ypred)\n",
    "print(\"Recall score: \", KNNrec) #balance between precision and recall\n",
    "KNNF1=f1_score(ytest, ypred)\n",
    "print(\"F1 score: \", KNNF1)\n",
    "\n",
    "print( classification_report(ytest, ypred))\n"
   ]
  },
  {
   "cell_type": "markdown",
   "id": "17a6fbf4",
   "metadata": {},
   "source": [
    "## GaussianNB MC2DropP5Mean"
   ]
  },
  {
   "cell_type": "code",
   "execution_count": 79,
   "id": "01f3ce56",
   "metadata": {},
   "outputs": [
    {
     "name": "stdout",
     "output_type": "stream",
     "text": [
      "Before tuning GaussianNB\n",
      "Mean squared error: 0.2102253143550137\n",
      "Accuracy score: 0.7897746856449863\n",
      "Precision score:  0.9897575391228424\n",
      "Recall score:  0.7880059889845463\n",
      "F1 score:  0.8774337600476333\n",
      "              precision    recall  f1-score   support\n",
      "\n",
      "           0       0.16      0.83      0.26      3531\n",
      "           1       0.99      0.79      0.88     74804\n",
      "\n",
      "    accuracy                           0.79     78335\n",
      "   macro avg       0.57      0.81      0.57     78335\n",
      "weighted avg       0.95      0.79      0.85     78335\n",
      "\n"
     ]
    }
   ],
   "source": [
    "from sklearn.naive_bayes import GaussianNB \n",
    "from sklearn.metrics import mean_squared_error, precision_score, recall_score, f1_score, accuracy_score, classification_report\n",
    "\n",
    "gnb = GaussianNB()\n",
    "gnb.fit(Xtrain, ytrain)\n",
    "\n",
    "ypred = gnb.predict(Xtest)\n",
    "print(\"Before tuning GaussianNB\")\n",
    "print(\"Mean squared error:\", mean_squared_error(ytest, ypred))\n",
    "print(\"Accuracy score:\", accuracy_score(ytest, ypred))\n",
    "print(\"Precision score: \", precision_score(ytest, ypred))\n",
    "print(\"Recall score: \", recall_score(ytest, ypred)) #balance between precision and recall\n",
    "print(\"F1 score: \", f1_score(ytest, ypred))\n",
    "\n",
    "print(classification_report(ytest, ypred))"
   ]
  },
  {
   "cell_type": "code",
   "execution_count": 100,
   "id": "3be24052",
   "metadata": {},
   "outputs": [
    {
     "name": "stdout",
     "output_type": "stream",
     "text": [
      "Mean squared error: 0.05240314035871577\n",
      "Accuracy score: 0.9475968596412843\n",
      "Precision score:  0.9546734922247804\n",
      "Recall score:  0.9922330356665419\n",
      "F1 score:  0.9730909662997949\n",
      "              precision    recall  f1-score   support\n",
      "\n",
      "           0       0.01      0.00      0.00      3531\n",
      "           1       0.95      0.99      0.97     74804\n",
      "\n",
      "    accuracy                           0.95     78335\n",
      "   macro avg       0.48      0.50      0.49     78335\n",
      "weighted avg       0.91      0.95      0.93     78335\n",
      "\n"
     ]
    }
   ],
   "source": [
    "from sklearn.naive_bayes import GaussianNB \n",
    "from sklearn.metrics import mean_squared_error, precision_score, recall_score, f1_score, accuracy_score, classification_report\n",
    "\n",
    "gnb = GaussianNB(var_smoothing=0.3511191734215131)\n",
    "gnb.fit(Xtrain, ytrain)\n",
    "\n",
    "ypred = gnb.predict(Xtest)\n",
    "GNBmse=mean_squared_error(ytest, ypred)\n",
    "print(\"Mean squared error:\", GNBmse)\n",
    "GNBacc=accuracy_score(ytest, ypred)\n",
    "print(\"Accuracy score:\", GNBacc)\n",
    "GNBpre=precision_score(ytest, ypred)\n",
    "print(\"Precision score: \", GNBpre)\n",
    "GNBrec=recall_score(ytest, ypred)\n",
    "print(\"Recall score: \", GNBrec) #balance between precision and recall\n",
    "GNBF1=f1_score(ytest, ypred)\n",
    "print(\"F1 score: \", GNBF1)\n",
    "\n",
    "print( classification_report(ytest, ypred))"
   ]
  },
  {
   "cell_type": "markdown",
   "id": "d6aca4e4",
   "metadata": {},
   "source": [
    "## RandomForestClassifier MC2DropP5Mean"
   ]
  },
  {
   "cell_type": "code",
   "execution_count": 81,
   "id": "925b6fe0",
   "metadata": {},
   "outputs": [
    {
     "name": "stdout",
     "output_type": "stream",
     "text": [
      "Before tuning RandomForestClassifier\n",
      "Mean squared error: 0.04473096317099636\n",
      "Accuracy score: 0.9552690368290037\n",
      "Precision score:  0.9579672164842505\n",
      "Recall score:  0.9968985615742474\n",
      "F1 score:  0.9770452282375138\n",
      "              precision    recall  f1-score   support\n",
      "\n",
      "           0       0.53      0.07      0.13      3531\n",
      "           1       0.96      1.00      0.98     74804\n",
      "\n",
      "    accuracy                           0.96     78335\n",
      "   macro avg       0.74      0.54      0.55     78335\n",
      "weighted avg       0.94      0.96      0.94     78335\n",
      "\n"
     ]
    }
   ],
   "source": [
    "from sklearn.ensemble import RandomForestClassifier\n",
    "from sklearn.metrics import mean_squared_error, precision_score, recall_score, f1_score, accuracy_score, classification_report\n",
    "\n",
    "\n",
    "rfc=RandomForestClassifier()\n",
    "rfc.fit(Xtrain, ytrain)\n",
    "\n",
    "\n",
    "ypred = rfc.predict(Xtest)\n",
    "print(\"Before tuning RandomForestClassifier\")\n",
    "print(\"Mean squared error:\", mean_squared_error(ytest, ypred))\n",
    "print(\"Accuracy score:\", accuracy_score(ytest, ypred))\n",
    "print(\"Precision score: \", precision_score(ytest, ypred))\n",
    "print(\"Recall score: \", recall_score(ytest, ypred)) #balance between precision and recall\n",
    "print(\"F1 score: \", f1_score(ytest, ypred))\n",
    "\n",
    "print(classification_report(ytest, ypred))"
   ]
  },
  {
   "cell_type": "code",
   "execution_count": 101,
   "id": "c9db929e",
   "metadata": {},
   "outputs": [
    {
     "name": "stdout",
     "output_type": "stream",
     "text": [
      "After tuning RandomForestClassifier\n",
      "Mean squared error: 0.04487138571519755\n",
      "Accuracy score: 0.9551286142848024\n",
      "Precision score:  0.9578789163358896\n",
      "Recall score:  0.9968450884979413\n",
      "F1 score:  0.9769736195635798\n",
      "              precision    recall  f1-score   support\n",
      "\n",
      "           0       0.52      0.07      0.13      3531\n",
      "           1       0.96      1.00      0.98     74804\n",
      "\n",
      "    accuracy                           0.96     78335\n",
      "   macro avg       0.74      0.53      0.55     78335\n",
      "weighted avg       0.94      0.96      0.94     78335\n",
      "\n"
     ]
    }
   ],
   "source": [
    "from sklearn.ensemble import RandomForestClassifier\n",
    "from sklearn.metrics import mean_squared_error, precision_score, recall_score, f1_score, accuracy_score, classification_report\n",
    "\n",
    "\n",
    "rfc=RandomForestClassifier(n_estimators=75)\n",
    "rfc.fit(Xtrain, ytrain)\n",
    "\n",
    "\n",
    "ypred = rfc.predict(Xtest)\n",
    "print(\"After tuning RandomForestClassifier\")\n",
    "RFCmse=mean_squared_error(ytest, ypred)\n",
    "print(\"Mean squared error:\", RFCmse)\n",
    "RFCacc=accuracy_score(ytest, ypred)\n",
    "print(\"Accuracy score:\", RFCacc)\n",
    "RFCpre=precision_score(ytest, ypred)\n",
    "print(\"Precision score: \", RFCpre)\n",
    "RFCrec=recall_score(ytest, ypred)\n",
    "print(\"Recall score: \", RFCrec) #balance between precision and recall\n",
    "RFCF1=f1_score(ytest, ypred)\n",
    "print(\"F1 score: \", RFCF1)\n",
    "\n",
    "print( classification_report(ytest, ypred))"
   ]
  },
  {
   "cell_type": "markdown",
   "id": "16ebc97f",
   "metadata": {},
   "source": [
    "## Comparing Model Results"
   ]
  },
  {
   "cell_type": "code",
   "execution_count": 103,
   "id": "1624f48c",
   "metadata": {},
   "outputs": [
    {
     "data": {
      "text/html": [
       "<style  type=\"text/css\" >\n",
       "</style><table id=\"T_2ea92_\" ><caption>MC2DropP5Mean</caption><thead>    <tr>        <th class=\"blank level0\" ></th>        <th class=\"col_heading level0 col0\" >KNN</th>        <th class=\"col_heading level0 col1\" >GNB</th>        <th class=\"col_heading level0 col2\" >RFC</th>    </tr></thead><tbody>\n",
       "                <tr>\n",
       "                        <th id=\"T_2ea92_level0_row0\" class=\"row_heading level0 row0\" >Accuracy</th>\n",
       "                        <td id=\"T_2ea92_row0_col0\" class=\"data row0 col0\" >0.954975</td>\n",
       "                        <td id=\"T_2ea92_row0_col1\" class=\"data row0 col1\" >0.947597</td>\n",
       "                        <td id=\"T_2ea92_row0_col2\" class=\"data row0 col2\" >0.955129</td>\n",
       "            </tr>\n",
       "            <tr>\n",
       "                        <th id=\"T_2ea92_level0_row1\" class=\"row_heading level0 row1\" >Mean-squared Error</th>\n",
       "                        <td id=\"T_2ea92_row1_col0\" class=\"data row1 col0\" >0.045025</td>\n",
       "                        <td id=\"T_2ea92_row1_col1\" class=\"data row1 col1\" >0.052403</td>\n",
       "                        <td id=\"T_2ea92_row1_col2\" class=\"data row1 col2\" >0.044871</td>\n",
       "            </tr>\n",
       "            <tr>\n",
       "                        <th id=\"T_2ea92_level0_row2\" class=\"row_heading level0 row2\" >Precision</th>\n",
       "                        <td id=\"T_2ea92_row2_col0\" class=\"data row2 col0\" >0.958002</td>\n",
       "                        <td id=\"T_2ea92_row2_col1\" class=\"data row2 col1\" >0.954673</td>\n",
       "                        <td id=\"T_2ea92_row2_col2\" class=\"data row2 col2\" >0.957879</td>\n",
       "            </tr>\n",
       "            <tr>\n",
       "                        <th id=\"T_2ea92_level0_row3\" class=\"row_heading level0 row3\" >Recall</th>\n",
       "                        <td id=\"T_2ea92_row3_col0\" class=\"data row3 col0\" >0.996538</td>\n",
       "                        <td id=\"T_2ea92_row3_col1\" class=\"data row3 col1\" >0.992233</td>\n",
       "                        <td id=\"T_2ea92_row3_col2\" class=\"data row3 col2\" >0.996845</td>\n",
       "            </tr>\n",
       "            <tr>\n",
       "                        <th id=\"T_2ea92_level0_row4\" class=\"row_heading level0 row4\" >F1</th>\n",
       "                        <td id=\"T_2ea92_row4_col0\" class=\"data row4 col0\" >0.976890</td>\n",
       "                        <td id=\"T_2ea92_row4_col1\" class=\"data row4 col1\" >0.973091</td>\n",
       "                        <td id=\"T_2ea92_row4_col2\" class=\"data row4 col2\" >0.976974</td>\n",
       "            </tr>\n",
       "    </tbody></table>"
      ],
      "text/plain": [
       "<pandas.io.formats.style.Styler at 0x1ed83e0d4c0>"
      ]
     },
     "execution_count": 103,
     "metadata": {},
     "output_type": "execute_result"
    }
   ],
   "source": [
    "bestmodel = pd.DataFrame({'KNN' : (KNNacc, KNNmse, KNNpre, KNNrec, KNNF1),\n",
    "                          'GNB' : (GNBacc, GNBmse, GNBpre, GNBrec, GNBF1),\n",
    "                          'RFC' : (RFCacc, RFCmse, RFCpre, RFCrec, RFCF1)\n",
    "                          }, index=['Accuracy', 'Mean-squared Error', 'Precision', 'Recall', 'F1'])\n",
    "bestmodel = bestmodel.style.set_caption('MC2DropP5Mean')\n",
    "bestmodel\n"
   ]
  },
  {
   "cell_type": "markdown",
   "id": "0810d424",
   "metadata": {},
   "source": [
    "## Splitting and Normalizing MC2DropP5Median"
   ]
  },
  {
   "cell_type": "code",
   "execution_count": 56,
   "id": "25fc1a94",
   "metadata": {},
   "outputs": [],
   "source": [
    "from sklearn.preprocessing import LabelEncoder\n",
    "le = LabelEncoder()\n",
    "X = MC2DropP5Median.drop('Machine Result', axis=1)\n",
    "y = le.fit_transform(MC2DropP5Median['Machine Result'])"
   ]
  },
  {
   "cell_type": "code",
   "execution_count": 57,
   "id": "606e64ce",
   "metadata": {},
   "outputs": [],
   "source": [
    "#train test split\n",
    "from sklearn.model_selection import train_test_split\n",
    "Xtrain, Xtest, ytrain, ytest = train_test_split(X, y, random_state=1)\n",
    "\n",
    "#normalizing\n",
    "from sklearn.preprocessing import MinMaxScaler\n",
    "scaler = MinMaxScaler()\n",
    "Xtrain = scaler.fit_transform(Xtrain)\n",
    "Xtest = scaler.transform(Xtest)"
   ]
  },
  {
   "cell_type": "markdown",
   "id": "5cbdbe01",
   "metadata": {},
   "source": [
    "## KNN MC2DropP5Median"
   ]
  },
  {
   "cell_type": "code",
   "execution_count": 58,
   "id": "6286c183",
   "metadata": {},
   "outputs": [
    {
     "name": "stdout",
     "output_type": "stream",
     "text": [
      "Before tuning KNN\n",
      "Mean squared error: 0.0\n",
      "Accuracy score: 1.0\n",
      "Precision score:  0.0\n",
      "Recall score:  0.0\n",
      "F1 score:  0.0\n",
      "              precision    recall  f1-score   support\n",
      "\n",
      "           0       1.00      1.00      1.00     78335\n",
      "\n",
      "    accuracy                           1.00     78335\n",
      "   macro avg       1.00      1.00      1.00     78335\n",
      "weighted avg       1.00      1.00      1.00     78335\n",
      "\n"
     ]
    },
    {
     "name": "stderr",
     "output_type": "stream",
     "text": [
      "C:\\Users\\Nathan Ting\\anaconda3\\lib\\site-packages\\sklearn\\metrics\\_classification.py:1245: UndefinedMetricWarning: Precision is ill-defined and being set to 0.0 due to no predicted samples. Use `zero_division` parameter to control this behavior.\n",
      "  _warn_prf(average, modifier, msg_start, len(result))\n",
      "C:\\Users\\Nathan Ting\\anaconda3\\lib\\site-packages\\sklearn\\metrics\\_classification.py:1245: UndefinedMetricWarning: Recall is ill-defined and being set to 0.0 due to no true samples. Use `zero_division` parameter to control this behavior.\n",
      "  _warn_prf(average, modifier, msg_start, len(result))\n",
      "C:\\Users\\Nathan Ting\\anaconda3\\lib\\site-packages\\sklearn\\metrics\\_classification.py:1492: UndefinedMetricWarning: F-score is ill-defined and being set to 0.0 due to no true nor predicted samples. Use `zero_division` parameter to control this behavior.\n",
      "  _warn_prf(\n"
     ]
    }
   ],
   "source": [
    "from sklearn.neighbors import KNeighborsClassifier\n",
    "from sklearn.metrics import mean_squared_error, precision_score, recall_score, f1_score, accuracy_score, classification_report\n",
    "knn = KNeighborsClassifier()\n",
    "knn.fit(Xtrain, ytrain)\n",
    "\n",
    "ypred = knn.predict(Xtest)\n",
    "print(\"Before tuning KNN\")\n",
    "print(\"Mean squared error:\", mean_squared_error(ytest, ypred))\n",
    "print(\"Accuracy score:\", accuracy_score(ytest, ypred))\n",
    "print(\"Precision score: \", precision_score(ytest, ypred))\n",
    "print(\"Recall score: \", recall_score(ytest, ypred)) #balance between precision and recall\n",
    "print(\"F1 score: \", f1_score(ytest, ypred))\n",
    "\n",
    "print(classification_report(ytest, ypred))\n",
    "\n"
   ]
  },
  {
   "cell_type": "code",
   "execution_count": 13,
   "id": "af484274",
   "metadata": {},
   "outputs": [
    {
     "name": "stdout",
     "output_type": "stream",
     "text": [
      "After tuning KNN\n",
      "Mean squared error: 0.0\n",
      "Accuracy score: 1.0\n",
      "Precision score:  0.0\n",
      "Recall score:  0.0\n",
      "F1 score:  0.0\n",
      "              precision    recall  f1-score   support\n",
      "\n",
      "           0       1.00      1.00      1.00     78098\n",
      "\n",
      "    accuracy                           1.00     78098\n",
      "   macro avg       1.00      1.00      1.00     78098\n",
      "weighted avg       1.00      1.00      1.00     78098\n",
      "\n"
     ]
    },
    {
     "name": "stderr",
     "output_type": "stream",
     "text": [
      "C:\\Users\\Nathan Ting\\anaconda3\\lib\\site-packages\\sklearn\\metrics\\_classification.py:1245: UndefinedMetricWarning: Precision is ill-defined and being set to 0.0 due to no predicted samples. Use `zero_division` parameter to control this behavior.\n",
      "  _warn_prf(average, modifier, msg_start, len(result))\n",
      "C:\\Users\\Nathan Ting\\anaconda3\\lib\\site-packages\\sklearn\\metrics\\_classification.py:1245: UndefinedMetricWarning: Recall is ill-defined and being set to 0.0 due to no true samples. Use `zero_division` parameter to control this behavior.\n",
      "  _warn_prf(average, modifier, msg_start, len(result))\n",
      "C:\\Users\\Nathan Ting\\anaconda3\\lib\\site-packages\\sklearn\\metrics\\_classification.py:1492: UndefinedMetricWarning: F-score is ill-defined and being set to 0.0 due to no true nor predicted samples. Use `zero_division` parameter to control this behavior.\n",
      "  _warn_prf(\n"
     ]
    }
   ],
   "source": [
    "from sklearn.neighbors import KNeighborsClassifier\n",
    "from sklearn.metrics import mean_squared_error, precision_score, recall_score, f1_score, accuracy_score, classification_report\n",
    "knn = KNeighborsClassifier(n_neighbors=1)\n",
    "knn.fit(Xtrain, ytrain)\n",
    "\n",
    "ypred = knn.predict(Xtest)\n",
    "print(\"After tuning KNN\")\n",
    "print(\"Mean squared error:\", mean_squared_error(ytest, ypred))\n",
    "print(\"Accuracy score:\", accuracy_score(ytest, ypred))\n",
    "print(\"Precision score: \", precision_score(ytest, ypred))\n",
    "print(\"Recall score: \", recall_score(ytest, ypred)) #balance between precision and recall\n",
    "print(\"F1 score: \", f1_score(ytest, ypred))\n",
    "\n",
    "print( classification_report(ytest, ypred))\n"
   ]
  },
  {
   "cell_type": "markdown",
   "id": "0fedec03",
   "metadata": {},
   "source": [
    "## GaussianNB MC2DropP5Median"
   ]
  },
  {
   "cell_type": "code",
   "execution_count": 14,
   "id": "a805e252",
   "metadata": {},
   "outputs": [
    {
     "name": "stdout",
     "output_type": "stream",
     "text": [
      "Before tuning GaussianNB\n",
      "Mean squared error: 0.0\n",
      "Accuracy score: 1.0\n",
      "Precision score:  0.0\n",
      "Recall score:  0.0\n",
      "F1 score:  0.0\n",
      "              precision    recall  f1-score   support\n",
      "\n",
      "           0       1.00      1.00      1.00     78098\n",
      "\n",
      "    accuracy                           1.00     78098\n",
      "   macro avg       1.00      1.00      1.00     78098\n",
      "weighted avg       1.00      1.00      1.00     78098\n",
      "\n"
     ]
    },
    {
     "name": "stderr",
     "output_type": "stream",
     "text": [
      "C:\\Users\\Nathan Ting\\anaconda3\\lib\\site-packages\\sklearn\\metrics\\_classification.py:1245: UndefinedMetricWarning: Precision is ill-defined and being set to 0.0 due to no predicted samples. Use `zero_division` parameter to control this behavior.\n",
      "  _warn_prf(average, modifier, msg_start, len(result))\n",
      "C:\\Users\\Nathan Ting\\anaconda3\\lib\\site-packages\\sklearn\\metrics\\_classification.py:1245: UndefinedMetricWarning: Recall is ill-defined and being set to 0.0 due to no true samples. Use `zero_division` parameter to control this behavior.\n",
      "  _warn_prf(average, modifier, msg_start, len(result))\n",
      "C:\\Users\\Nathan Ting\\anaconda3\\lib\\site-packages\\sklearn\\metrics\\_classification.py:1492: UndefinedMetricWarning: F-score is ill-defined and being set to 0.0 due to no true nor predicted samples. Use `zero_division` parameter to control this behavior.\n",
      "  _warn_prf(\n"
     ]
    }
   ],
   "source": [
    "from sklearn.naive_bayes import GaussianNB \n",
    "from sklearn.metrics import mean_squared_error, precision_score, recall_score, f1_score, accuracy_score, classification_report\n",
    "\n",
    "gnb = GaussianNB()\n",
    "gnb.fit(Xtrain, ytrain)\n",
    "\n",
    "ypred = gnb.predict(Xtest)\n",
    "print(\"Before tuning GaussianNB\")\n",
    "print(\"Mean squared error:\", mean_squared_error(ytest, ypred))\n",
    "print(\"Accuracy score:\", accuracy_score(ytest, ypred))\n",
    "print(\"Precision score: \", precision_score(ytest, ypred))\n",
    "print(\"Recall score: \", recall_score(ytest, ypred)) #balance between precision and recall\n",
    "print(\"F1 score: \", f1_score(ytest, ypred))\n",
    "\n",
    "print(classification_report(ytest, ypred))"
   ]
  },
  {
   "cell_type": "code",
   "execution_count": 16,
   "id": "ef6d7f31",
   "metadata": {},
   "outputs": [
    {
     "name": "stdout",
     "output_type": "stream",
     "text": [
      "After tuning GaussianNB\n",
      "Mean squared error: 0.0\n",
      "Accuracy score: 1.0\n",
      "Precision score:  0.0\n",
      "Recall score:  0.0\n",
      "F1 score:  0.0\n",
      "              precision    recall  f1-score   support\n",
      "\n",
      "           0       1.00      1.00      1.00     78098\n",
      "\n",
      "    accuracy                           1.00     78098\n",
      "   macro avg       1.00      1.00      1.00     78098\n",
      "weighted avg       1.00      1.00      1.00     78098\n",
      "\n"
     ]
    },
    {
     "name": "stderr",
     "output_type": "stream",
     "text": [
      "C:\\Users\\Nathan Ting\\anaconda3\\lib\\site-packages\\sklearn\\metrics\\_classification.py:1245: UndefinedMetricWarning: Precision is ill-defined and being set to 0.0 due to no predicted samples. Use `zero_division` parameter to control this behavior.\n",
      "  _warn_prf(average, modifier, msg_start, len(result))\n",
      "C:\\Users\\Nathan Ting\\anaconda3\\lib\\site-packages\\sklearn\\metrics\\_classification.py:1245: UndefinedMetricWarning: Recall is ill-defined and being set to 0.0 due to no true samples. Use `zero_division` parameter to control this behavior.\n",
      "  _warn_prf(average, modifier, msg_start, len(result))\n",
      "C:\\Users\\Nathan Ting\\anaconda3\\lib\\site-packages\\sklearn\\metrics\\_classification.py:1492: UndefinedMetricWarning: F-score is ill-defined and being set to 0.0 due to no true nor predicted samples. Use `zero_division` parameter to control this behavior.\n",
      "  _warn_prf(\n"
     ]
    }
   ],
   "source": [
    "from sklearn.naive_bayes import GaussianNB \n",
    "from sklearn.metrics import mean_squared_error, precision_score, recall_score, f1_score, accuracy_score, classification_report\n",
    "\n",
    "gnb = GaussianNB(var_smoothing=1.0)\n",
    "gnb.fit(Xtrain, ytrain)\n",
    "\n",
    "ypred = gnb.predict(Xtest)\n",
    "print(\"After tuning GaussianNB\")\n",
    "print(\"Mean squared error:\", mean_squared_error(ytest, ypred))\n",
    "print(\"Accuracy score:\", accuracy_score(ytest, ypred))\n",
    "print(\"Precision score: \", precision_score(ytest, ypred))\n",
    "print(\"Recall score: \", recall_score(ytest, ypred)) #balance between precision and recall\n",
    "print(\"F1 score: \", f1_score(ytest, ypred))\n",
    "\n",
    "print(classification_report(ytest, ypred))"
   ]
  },
  {
   "cell_type": "markdown",
   "id": "64fcb10c",
   "metadata": {},
   "source": [
    "## RandomForestClassifier MC2DropP5Median"
   ]
  },
  {
   "cell_type": "code",
   "execution_count": 9,
   "id": "8c4dcd29",
   "metadata": {},
   "outputs": [
    {
     "name": "stdout",
     "output_type": "stream",
     "text": [
      "Before tuning RandomForestClassifier\n",
      "Mean squared error: 0.0\n",
      "Accuracy score: 1.0\n",
      "Precision score:  0.0\n",
      "Recall score:  0.0\n",
      "F1 score:  0.0\n",
      "              precision    recall  f1-score   support\n",
      "\n",
      "           0       1.00      1.00      1.00     78098\n",
      "\n",
      "    accuracy                           1.00     78098\n",
      "   macro avg       1.00      1.00      1.00     78098\n",
      "weighted avg       1.00      1.00      1.00     78098\n",
      "\n"
     ]
    },
    {
     "name": "stderr",
     "output_type": "stream",
     "text": [
      "C:\\Users\\Nathan Ting\\anaconda3\\lib\\site-packages\\sklearn\\metrics\\_classification.py:1245: UndefinedMetricWarning: Precision is ill-defined and being set to 0.0 due to no predicted samples. Use `zero_division` parameter to control this behavior.\n",
      "  _warn_prf(average, modifier, msg_start, len(result))\n",
      "C:\\Users\\Nathan Ting\\anaconda3\\lib\\site-packages\\sklearn\\metrics\\_classification.py:1245: UndefinedMetricWarning: Recall is ill-defined and being set to 0.0 due to no true samples. Use `zero_division` parameter to control this behavior.\n",
      "  _warn_prf(average, modifier, msg_start, len(result))\n",
      "C:\\Users\\Nathan Ting\\anaconda3\\lib\\site-packages\\sklearn\\metrics\\_classification.py:1492: UndefinedMetricWarning: F-score is ill-defined and being set to 0.0 due to no true nor predicted samples. Use `zero_division` parameter to control this behavior.\n",
      "  _warn_prf(\n"
     ]
    }
   ],
   "source": [
    "from sklearn.ensemble import RandomForestClassifier\n",
    "from sklearn.metrics import mean_squared_error, precision_score, recall_score, f1_score, accuracy_score, classification_report\n",
    "\n",
    "rfc=RandomForestClassifier()\n",
    "rfc.fit(Xtrain, ytrain)\n",
    "\n",
    "ypred = rfc.predict(Xtest)\n",
    "print(\"Before tuning RandomForestClassifier\")\n",
    "print(\"Mean squared error:\", mean_squared_error(ytest, ypred))\n",
    "print(\"Accuracy score:\", accuracy_score(ytest, ypred))\n",
    "print(\"Precision score: \", precision_score(ytest, ypred))\n",
    "print(\"Recall score: \", recall_score(ytest, ypred)) #balance between precision and recall\n",
    "print(\"F1 score: \", f1_score(ytest, ypred))\n",
    "\n",
    "print(classification_report(ytest, ypred))"
   ]
  },
  {
   "cell_type": "code",
   "execution_count": 11,
   "id": "522a0908",
   "metadata": {},
   "outputs": [
    {
     "name": "stdout",
     "output_type": "stream",
     "text": [
      "After tuning RandomForestClassifier\n",
      "Mean squared error: 0.0\n",
      "Accuracy score: 1.0\n",
      "Precision score:  0.0\n",
      "Recall score:  0.0\n",
      "F1 score:  0.0\n",
      "              precision    recall  f1-score   support\n",
      "\n",
      "           0       1.00      1.00      1.00     78098\n",
      "\n",
      "    accuracy                           1.00     78098\n",
      "   macro avg       1.00      1.00      1.00     78098\n",
      "weighted avg       1.00      1.00      1.00     78098\n",
      "\n"
     ]
    },
    {
     "name": "stderr",
     "output_type": "stream",
     "text": [
      "C:\\Users\\Nathan Ting\\anaconda3\\lib\\site-packages\\sklearn\\metrics\\_classification.py:1245: UndefinedMetricWarning: Precision is ill-defined and being set to 0.0 due to no predicted samples. Use `zero_division` parameter to control this behavior.\n",
      "  _warn_prf(average, modifier, msg_start, len(result))\n",
      "C:\\Users\\Nathan Ting\\anaconda3\\lib\\site-packages\\sklearn\\metrics\\_classification.py:1245: UndefinedMetricWarning: Recall is ill-defined and being set to 0.0 due to no true samples. Use `zero_division` parameter to control this behavior.\n",
      "  _warn_prf(average, modifier, msg_start, len(result))\n",
      "C:\\Users\\Nathan Ting\\anaconda3\\lib\\site-packages\\sklearn\\metrics\\_classification.py:1492: UndefinedMetricWarning: F-score is ill-defined and being set to 0.0 due to no true nor predicted samples. Use `zero_division` parameter to control this behavior.\n",
      "  _warn_prf(\n"
     ]
    }
   ],
   "source": [
    "from sklearn.ensemble import RandomForestClassifier\n",
    "from sklearn.metrics import mean_squared_error, precision_score, recall_score, f1_score, accuracy_score, classification_report\n",
    "\n",
    "\n",
    "rfc=RandomForestClassifier(n_estimators=1)\n",
    "rfc.fit(Xtrain, ytrain)\n",
    "\n",
    "\n",
    "ypred = rfc.predict(Xtest)\n",
    "print(\"After tuning RandomForestClassifier\")\n",
    "print(\"Mean squared error:\", mean_squared_error(ytest, ypred))\n",
    "print(\"Accuracy score:\", accuracy_score(ytest, ypred))\n",
    "print(\"Precision score: \", precision_score(ytest, ypred))\n",
    "print(\"Recall score: \", recall_score(ytest, ypred)) #balance between precision and recall\n",
    "print(\"F1 score: \", f1_score(ytest, ypred))\n",
    "\n",
    "print(classification_report(ytest, ypred))"
   ]
  },
  {
   "cell_type": "markdown",
   "id": "bb7daafd",
   "metadata": {},
   "source": [
    "## Splitting and Normalizing MC2DropP5Zero"
   ]
  },
  {
   "cell_type": "code",
   "execution_count": 104,
   "id": "66a40f2e",
   "metadata": {},
   "outputs": [],
   "source": [
    "from sklearn.preprocessing import LabelEncoder\n",
    "le = LabelEncoder()\n",
    "X = MC2DropP5Zero.drop('Machine Result', axis=1)\n",
    "y = le.fit_transform(MC2DropP5Zero['Machine Result'])"
   ]
  },
  {
   "cell_type": "code",
   "execution_count": 105,
   "id": "481d7852",
   "metadata": {},
   "outputs": [],
   "source": [
    "#train test split\n",
    "from sklearn.model_selection import train_test_split\n",
    "Xtrain, Xtest, ytrain, ytest = train_test_split(X, y,random_state=1)\n",
    "\n",
    "#normalizing\n",
    "from sklearn.preprocessing import MinMaxScaler\n",
    "scaler = MinMaxScaler()\n",
    "Xtrain = scaler.fit_transform(Xtrain)\n",
    "Xtest = scaler.transform(Xtest)"
   ]
  },
  {
   "cell_type": "markdown",
   "id": "270b766a",
   "metadata": {},
   "source": [
    "## KNN MC2DropP5Zero"
   ]
  },
  {
   "cell_type": "code",
   "execution_count": 82,
   "id": "0aeb942b",
   "metadata": {},
   "outputs": [
    {
     "name": "stdout",
     "output_type": "stream",
     "text": [
      "Before tuning KNN\n",
      "Mean squared error: 0.16426884534371608\n",
      "Accuracy score: 0.8357311546562839\n",
      "Precision score:  0.9893186702060422\n",
      "Recall score:  0.8370140634190685\n",
      "F1 score:  0.9068157460243895\n",
      "              precision    recall  f1-score   support\n",
      "\n",
      "           0       0.19      0.81      0.31      3531\n",
      "           1       0.99      0.84      0.91     74804\n",
      "\n",
      "    accuracy                           0.84     78335\n",
      "   macro avg       0.59      0.82      0.61     78335\n",
      "weighted avg       0.95      0.84      0.88     78335\n",
      "\n"
     ]
    }
   ],
   "source": [
    "from sklearn.neighbors import KNeighborsClassifier\n",
    "from sklearn.metrics import mean_squared_error, precision_score, recall_score, f1_score, accuracy_score, classification_report\n",
    "knn = KNeighborsClassifier()\n",
    "knn.fit(Xtrain, ytrain)\n",
    "\n",
    "ypred = knn.predict(Xtest)\n",
    "print(\"Before tuning KNN\")\n",
    "print(\"Mean squared error:\", mean_squared_error(ytest, ypred))\n",
    "print(\"Accuracy score:\", accuracy_score(ytest, ypred))\n",
    "print(\"Precision score: \", precision_score(ytest, ypred))\n",
    "print(\"Recall score: \", recall_score(ytest, ypred)) #balance between precision and recall\n",
    "print(\"F1 score: \", f1_score(ytest, ypred))\n",
    "\n",
    "print(classification_report(ytest, ypred))\n",
    "\n"
   ]
  },
  {
   "cell_type": "code",
   "execution_count": 77,
   "id": "d8552834",
   "metadata": {},
   "outputs": [
    {
     "name": "stdout",
     "output_type": "stream",
     "text": [
      "After tuning KNN\n",
      "Mean squared error: 0.04462883768430459\n",
      "Accuracy score: 0.9553711623156954\n",
      "Precision score:  0.9582069603660104\n",
      "Recall score:  0.9967381423453291\n",
      "F1 score:  0.9770928343030876\n",
      "              precision    recall  f1-score   support\n",
      "\n",
      "           0       0.53      0.08      0.14      3531\n",
      "           1       0.96      1.00      0.98     74804\n",
      "\n",
      "    accuracy                           0.96     78335\n",
      "   macro avg       0.75      0.54      0.56     78335\n",
      "weighted avg       0.94      0.96      0.94     78335\n",
      "\n"
     ]
    }
   ],
   "source": [
    "from sklearn.neighbors import KNeighborsClassifier\n",
    "from sklearn.metrics import mean_squared_error, precision_score, recall_score, f1_score, accuracy_score, classification_report\n",
    "knn = KNeighborsClassifier(n_neighbors=16, weights='distance')\n",
    "knn.fit(Xtrain, ytrain)\n",
    "\n",
    "ypred = knn.predict(Xtest)\n",
    "print(\"After tuning KNN\")\n",
    "KNNmse=mean_squared_error(ytest, ypred)\n",
    "print(\"Mean squared error:\", KNNmse)\n",
    "KNNacc=accuracy_score(ytest, ypred)\n",
    "print(\"Accuracy score:\", KNNacc)\n",
    "KNNpre=precision_score(ytest, ypred)\n",
    "print(\"Precision score: \", KNNpre)\n",
    "KNNrec=recall_score(ytest, ypred)\n",
    "print(\"Recall score: \", KNNrec) #balance between precision and recall\n",
    "KNNF1=f1_score(ytest, ypred)\n",
    "print(\"F1 score: \", KNNF1)\n",
    "\n",
    "print( classification_report(ytest, ypred))\n"
   ]
  },
  {
   "cell_type": "markdown",
   "id": "3caf121f",
   "metadata": {},
   "source": [
    "## GaussianNB MC2DropP5Zero"
   ]
  },
  {
   "cell_type": "code",
   "execution_count": 84,
   "id": "fec51c4e",
   "metadata": {},
   "outputs": [
    {
     "name": "stdout",
     "output_type": "stream",
     "text": [
      "Before tuning GaussianNB\n",
      "Mean squared error: 0.2102253143550137\n",
      "Accuracy score: 0.7897746856449863\n",
      "Precision score:  0.9897575391228424\n",
      "Recall score:  0.7880059889845463\n",
      "F1 score:  0.8774337600476333\n",
      "              precision    recall  f1-score   support\n",
      "\n",
      "           0       0.16      0.83      0.26      3531\n",
      "           1       0.99      0.79      0.88     74804\n",
      "\n",
      "    accuracy                           0.79     78335\n",
      "   macro avg       0.57      0.81      0.57     78335\n",
      "weighted avg       0.95      0.79      0.85     78335\n",
      "\n"
     ]
    }
   ],
   "source": [
    "from sklearn.naive_bayes import GaussianNB \n",
    "from sklearn.metrics import mean_squared_error, precision_score, recall_score, f1_score, accuracy_score, classification_report\n",
    "\n",
    "gnb = GaussianNB()\n",
    "gnb.fit(Xtrain, ytrain)\n",
    "\n",
    "ypred = gnb.predict(Xtest)\n",
    "print(\"Before tuning GaussianNB\")\n",
    "print(\"Mean squared error:\", mean_squared_error(ytest, ypred))\n",
    "print(\"Accuracy score:\", accuracy_score(ytest, ypred))\n",
    "print(\"Precision score: \", precision_score(ytest, ypred))\n",
    "print(\"Recall score: \", recall_score(ytest, ypred)) #balance between precision and recall\n",
    "print(\"F1 score: \", f1_score(ytest, ypred))\n",
    "\n",
    "print(classification_report(ytest, ypred))"
   ]
  },
  {
   "cell_type": "code",
   "execution_count": 78,
   "id": "b41728b2",
   "metadata": {},
   "outputs": [
    {
     "name": "stdout",
     "output_type": "stream",
     "text": [
      "Mean squared error: 0.17176230292972489\n",
      "Accuracy score: 0.8282376970702751\n",
      "Precision score:  0.9866419177256358\n",
      "Recall score:  0.8313860221378536\n",
      "F1 score:  0.9023847007697497\n",
      "              precision    recall  f1-score   support\n",
      "\n",
      "           0       0.18      0.76      0.29      3531\n",
      "           1       0.99      0.83      0.90     74804\n",
      "\n",
      "    accuracy                           0.83     78335\n",
      "   macro avg       0.58      0.80      0.59     78335\n",
      "weighted avg       0.95      0.83      0.87     78335\n",
      "\n"
     ]
    }
   ],
   "source": [
    "from sklearn.naive_bayes import GaussianNB \n",
    "from sklearn.metrics import mean_squared_error, precision_score, recall_score, f1_score, accuracy_score, classification_report\n",
    "\n",
    "gnb = GaussianNB(var_smoothing=0.1873817422860384)\n",
    "gnb.fit(Xtrain, ytrain)\n",
    "\n",
    "ypred = gnb.predict(Xtest)\n",
    "GNBmse=mean_squared_error(ytest, ypred)\n",
    "print(\"Mean squared error:\", GNBmse)\n",
    "GNBacc=accuracy_score(ytest, ypred)\n",
    "print(\"Accuracy score:\", GNBacc)\n",
    "GNBpre=precision_score(ytest, ypred)\n",
    "print(\"Precision score: \", GNBpre)\n",
    "GNBrec=recall_score(ytest, ypred)\n",
    "print(\"Recall score: \", GNBrec) #balance between precision and recall\n",
    "GNBF1=f1_score(ytest, ypred)\n",
    "print(\"F1 score: \", GNBF1)\n",
    "\n",
    "print( classification_report(ytest, ypred))"
   ]
  },
  {
   "cell_type": "markdown",
   "id": "748997cd",
   "metadata": {},
   "source": [
    "## RandomForestClassifier MC2DropP5Zero"
   ]
  },
  {
   "cell_type": "code",
   "execution_count": 86,
   "id": "e4b47c51",
   "metadata": {},
   "outputs": [
    {
     "name": "stdout",
     "output_type": "stream",
     "text": [
      "Before tuning RandomForestClassifier\n",
      "Mean squared error: 0.044820322971851664\n",
      "Accuracy score: 0.9551796770281483\n",
      "Precision score:  0.9579399031358795\n",
      "Recall score:  0.9968317202288648\n",
      "F1 score:  0.9769989190605654\n",
      "              precision    recall  f1-score   support\n",
      "\n",
      "           0       0.52      0.07      0.13      3531\n",
      "           1       0.96      1.00      0.98     74804\n",
      "\n",
      "    accuracy                           0.96     78335\n",
      "   macro avg       0.74      0.53      0.55     78335\n",
      "weighted avg       0.94      0.96      0.94     78335\n",
      "\n"
     ]
    }
   ],
   "source": [
    "from sklearn.ensemble import RandomForestClassifier\n",
    "from sklearn.metrics import mean_squared_error, precision_score, recall_score, f1_score, accuracy_score, classification_report\n",
    "\n",
    "\n",
    "rfc=RandomForestClassifier()\n",
    "rfc.fit(Xtrain, ytrain)\n",
    "\n",
    "\n",
    "ypred = rfc.predict(Xtest)\n",
    "print(\"Before tuning RandomForestClassifier\")\n",
    "print(\"Mean squared error:\", mean_squared_error(ytest, ypred))\n",
    "print(\"Accuracy score:\", accuracy_score(ytest, ypred))\n",
    "print(\"Precision score: \", precision_score(ytest, ypred))\n",
    "print(\"Recall score: \", recall_score(ytest, ypred)) #balance between precision and recall\n",
    "print(\"F1 score: \", f1_score(ytest, ypred))\n",
    "\n",
    "print(classification_report(ytest, ypred))"
   ]
  },
  {
   "cell_type": "code",
   "execution_count": 79,
   "id": "3e99ee25",
   "metadata": {},
   "outputs": [
    {
     "name": "stdout",
     "output_type": "stream",
     "text": [
      "After tuning RandomForestClassifier\n",
      "Mean squared error: 0.044756494542669306\n",
      "Accuracy score: 0.9552435054573307\n",
      "Precision score:  0.9579896708548524\n",
      "Recall score:  0.9968450884979413\n",
      "F1 score:  0.9770312233854378\n",
      "              precision    recall  f1-score   support\n",
      "\n",
      "           0       0.53      0.07      0.13      3531\n",
      "           1       0.96      1.00      0.98     74804\n",
      "\n",
      "    accuracy                           0.96     78335\n",
      "   macro avg       0.74      0.54      0.55     78335\n",
      "weighted avg       0.94      0.96      0.94     78335\n",
      "\n"
     ]
    }
   ],
   "source": [
    "from sklearn.ensemble import RandomForestClassifier\n",
    "from sklearn.metrics import mean_squared_error, precision_score, recall_score, f1_score, accuracy_score, classification_report\n",
    "\n",
    "\n",
    "rfc=RandomForestClassifier(n_estimators=99)\n",
    "rfc.fit(Xtrain, ytrain)\n",
    "\n",
    "\n",
    "ypred = rfc.predict(Xtest)\n",
    "print(\"After tuning RandomForestClassifier\")\n",
    "RFCmse=mean_squared_error(ytest, ypred)\n",
    "print(\"Mean squared error:\", RFCmse)\n",
    "RFCacc=accuracy_score(ytest, ypred)\n",
    "print(\"Accuracy score:\", RFCacc)\n",
    "RFCpre=precision_score(ytest, ypred)\n",
    "print(\"Precision score: \", RFCpre)\n",
    "RFCrec=recall_score(ytest, ypred)\n",
    "print(\"Recall score: \", RFCrec) #balance between precision and recall\n",
    "RFCF1=f1_score(ytest, ypred)\n",
    "print(\"F1 score: \", RFCF1)\n",
    "\n",
    "print( classification_report(ytest, ypred))"
   ]
  },
  {
   "cell_type": "markdown",
   "id": "9c00fb24",
   "metadata": {},
   "source": [
    "## Comparing Model Results"
   ]
  },
  {
   "cell_type": "code",
   "execution_count": 80,
   "id": "4e224930",
   "metadata": {},
   "outputs": [
    {
     "data": {
      "text/html": [
       "<style  type=\"text/css\" >\n",
       "</style><table id=\"T_f46a7_\" ><caption>MC2DropP5Zero</caption><thead>    <tr>        <th class=\"blank level0\" ></th>        <th class=\"col_heading level0 col0\" >KNN</th>        <th class=\"col_heading level0 col1\" >GNB</th>        <th class=\"col_heading level0 col2\" >RFC</th>    </tr></thead><tbody>\n",
       "                <tr>\n",
       "                        <th id=\"T_f46a7_level0_row0\" class=\"row_heading level0 row0\" >Accuracy</th>\n",
       "                        <td id=\"T_f46a7_row0_col0\" class=\"data row0 col0\" >0.955371</td>\n",
       "                        <td id=\"T_f46a7_row0_col1\" class=\"data row0 col1\" >0.828238</td>\n",
       "                        <td id=\"T_f46a7_row0_col2\" class=\"data row0 col2\" >0.955244</td>\n",
       "            </tr>\n",
       "            <tr>\n",
       "                        <th id=\"T_f46a7_level0_row1\" class=\"row_heading level0 row1\" >Mean-squared Error</th>\n",
       "                        <td id=\"T_f46a7_row1_col0\" class=\"data row1 col0\" >0.044629</td>\n",
       "                        <td id=\"T_f46a7_row1_col1\" class=\"data row1 col1\" >0.171762</td>\n",
       "                        <td id=\"T_f46a7_row1_col2\" class=\"data row1 col2\" >0.044756</td>\n",
       "            </tr>\n",
       "            <tr>\n",
       "                        <th id=\"T_f46a7_level0_row2\" class=\"row_heading level0 row2\" >Precision</th>\n",
       "                        <td id=\"T_f46a7_row2_col0\" class=\"data row2 col0\" >0.958207</td>\n",
       "                        <td id=\"T_f46a7_row2_col1\" class=\"data row2 col1\" >0.986642</td>\n",
       "                        <td id=\"T_f46a7_row2_col2\" class=\"data row2 col2\" >0.957990</td>\n",
       "            </tr>\n",
       "            <tr>\n",
       "                        <th id=\"T_f46a7_level0_row3\" class=\"row_heading level0 row3\" >Recall</th>\n",
       "                        <td id=\"T_f46a7_row3_col0\" class=\"data row3 col0\" >0.996738</td>\n",
       "                        <td id=\"T_f46a7_row3_col1\" class=\"data row3 col1\" >0.831386</td>\n",
       "                        <td id=\"T_f46a7_row3_col2\" class=\"data row3 col2\" >0.996845</td>\n",
       "            </tr>\n",
       "            <tr>\n",
       "                        <th id=\"T_f46a7_level0_row4\" class=\"row_heading level0 row4\" >F1</th>\n",
       "                        <td id=\"T_f46a7_row4_col0\" class=\"data row4 col0\" >0.977093</td>\n",
       "                        <td id=\"T_f46a7_row4_col1\" class=\"data row4 col1\" >0.902385</td>\n",
       "                        <td id=\"T_f46a7_row4_col2\" class=\"data row4 col2\" >0.977031</td>\n",
       "            </tr>\n",
       "    </tbody></table>"
      ],
      "text/plain": [
       "<pandas.io.formats.style.Styler at 0x1ed83e1af70>"
      ]
     },
     "execution_count": 80,
     "metadata": {},
     "output_type": "execute_result"
    }
   ],
   "source": [
    "bestmodel = pd.DataFrame({'KNN' : (KNNacc, KNNmse, KNNpre, KNNrec, KNNF1),\n",
    "                          'GNB' : (GNBacc, GNBmse, GNBpre, GNBrec, GNBF1),\n",
    "                          'RFC' : (RFCacc, RFCmse, RFCpre, RFCrec, RFCF1),\n",
    "                          }, index=['Accuracy', 'Mean-squared Error', 'Precision', 'Recall', 'F1'])\n",
    "bestmodel = bestmodel.style.set_caption('MC2DropP5Zero')\n",
    "bestmodel\n"
   ]
  },
  {
   "cell_type": "markdown",
   "id": "893e1688",
   "metadata": {},
   "source": [
    "## For MC2 with POINT 5 (Support)"
   ]
  },
  {
   "cell_type": "code",
   "execution_count": 21,
   "id": "9eac1d31",
   "metadata": {},
   "outputs": [
    {
     "data": {
      "text/html": [
       "<div>\n",
       "<style scoped>\n",
       "    .dataframe tbody tr th:only-of-type {\n",
       "        vertical-align: middle;\n",
       "    }\n",
       "\n",
       "    .dataframe tbody tr th {\n",
       "        vertical-align: top;\n",
       "    }\n",
       "\n",
       "    .dataframe thead th {\n",
       "        text-align: right;\n",
       "    }\n",
       "</style>\n",
       "<table border=\"1\" class=\"dataframe\">\n",
       "  <thead>\n",
       "    <tr style=\"text-align: right;\">\n",
       "      <th></th>\n",
       "      <th>Machine Result</th>\n",
       "      <th>(um)Point1</th>\n",
       "      <th>(um)Point2</th>\n",
       "      <th>(um)Point3</th>\n",
       "      <th>(um)Point4</th>\n",
       "      <th>(um)Point5</th>\n",
       "    </tr>\n",
       "  </thead>\n",
       "  <tbody>\n",
       "    <tr>\n",
       "      <th>0</th>\n",
       "      <td>1</td>\n",
       "      <td>14.7</td>\n",
       "      <td>9.9</td>\n",
       "      <td>118.7</td>\n",
       "      <td>66.3</td>\n",
       "      <td>88.1</td>\n",
       "    </tr>\n",
       "    <tr>\n",
       "      <th>1</th>\n",
       "      <td>0</td>\n",
       "      <td>12.4</td>\n",
       "      <td>5.9</td>\n",
       "      <td>14.2</td>\n",
       "      <td>279.9</td>\n",
       "      <td>288.6</td>\n",
       "    </tr>\n",
       "    <tr>\n",
       "      <th>2</th>\n",
       "      <td>1</td>\n",
       "      <td>36.4</td>\n",
       "      <td>16.5</td>\n",
       "      <td>-39.5</td>\n",
       "      <td>40.3</td>\n",
       "      <td>74.8</td>\n",
       "    </tr>\n",
       "    <tr>\n",
       "      <th>3</th>\n",
       "      <td>1</td>\n",
       "      <td>7.9</td>\n",
       "      <td>2.9</td>\n",
       "      <td>51.0</td>\n",
       "      <td>27.9</td>\n",
       "      <td>-15.5</td>\n",
       "    </tr>\n",
       "    <tr>\n",
       "      <th>4</th>\n",
       "      <td>0</td>\n",
       "      <td>-3.8</td>\n",
       "      <td>-0.2</td>\n",
       "      <td>30.0</td>\n",
       "      <td>200.7</td>\n",
       "      <td>203.3</td>\n",
       "    </tr>\n",
       "  </tbody>\n",
       "</table>\n",
       "</div>"
      ],
      "text/plain": [
       "   Machine Result  (um)Point1  (um)Point2  (um)Point3  (um)Point4  (um)Point5\n",
       "0               1        14.7         9.9       118.7        66.3        88.1\n",
       "1               0        12.4         5.9        14.2       279.9       288.6\n",
       "2               1        36.4        16.5       -39.5        40.3        74.8\n",
       "3               1         7.9         2.9        51.0        27.9       -15.5\n",
       "4               0        -3.8        -0.2        30.0       200.7       203.3"
      ]
     },
     "execution_count": 21,
     "metadata": {},
     "output_type": "execute_result"
    }
   ],
   "source": [
    "from sklearn.preprocessing import LabelEncoder\n",
    "le = LabelEncoder()\n",
    "#dropping unwanted columns\n",
    "MC2 = MC2csv.drop(columns=['Part', 'IC 2D','Lot','Date','Time','Machine','Server Result'], axis=1)\n",
    "#label encoding 'OK' and 'NG'\n",
    "MC2['Machine Result']=le.fit_transform(MC2['Machine Result'])\n",
    "\n",
    "MC2.head()"
   ]
  },
  {
   "cell_type": "code",
   "execution_count": 22,
   "id": "f535d65c",
   "metadata": {},
   "outputs": [],
   "source": [
    "#detecting outliers\n",
    "#filling up missing values with -mean, -median, -zero\n",
    "Q1MC2 = MC2.quantile(0.25)\n",
    "Q3MC2 = MC2.quantile(0.75)\n",
    "IQR2 = Q3MC2-Q1MC2\n",
    "\n",
    "MC2mean = MC2.mean()\n",
    "MC2median = MC2.median()\n",
    "\n",
    "MC2[(MC2<(Q1MC2 - 1.5 * IQR2))|(MC2>(Q3MC2 + 1.5 * IQR2))]=np.nan\n",
    "\n",
    "MC2Mean = MC2.fillna(MC2mean) \n",
    "MC2Median = MC2.fillna(MC2median)\n",
    "MC2Zero = MC2.fillna(0)\n"
   ]
  },
  {
   "cell_type": "code",
   "execution_count": 112,
   "id": "496f6a86",
   "metadata": {},
   "outputs": [
    {
     "data": {
      "image/png": "[encoded data removed]",
      "text/plain": [
       "<Figure size 432x288 with 1 Axes>"
      ]
     },
     "metadata": {
      "needs_background": "light"
     },
     "output_type": "display_data"
    }
   ],
   "source": [
    "sns.boxplot(data=MC2Mean)\n",
    "plt.show()"
   ]
  },
  {
   "cell_type": "code",
   "execution_count": 113,
   "id": "4261ab68",
   "metadata": {},
   "outputs": [
    {
     "data": {
      "image/png": "[encoded data removed]",
      "text/plain": [
       "<Figure size 432x288 with 1 Axes>"
      ]
     },
     "metadata": {
      "needs_background": "light"
     },
     "output_type": "display_data"
    }
   ],
   "source": [
    "sns.boxplot(data=MC2Median)\n",
    "plt.show()"
   ]
  },
  {
   "cell_type": "code",
   "execution_count": 114,
   "id": "57d5c740",
   "metadata": {},
   "outputs": [
    {
     "data": {
      "image/png": "[encoded data removed]",
      "text/plain": [
       "<Figure size 432x288 with 1 Axes>"
      ]
     },
     "metadata": {
      "needs_background": "light"
     },
     "output_type": "display_data"
    }
   ],
   "source": [
    "sns.boxplot(data=MC2Zero)\n",
    "plt.show()"
   ]
  },
  {
   "cell_type": "markdown",
   "id": "7061b39c",
   "metadata": {},
   "source": [
    "## Splitting and Normalizing MC2Mean"
   ]
  },
  {
   "cell_type": "code",
   "execution_count": 115,
   "id": "de4811be",
   "metadata": {},
   "outputs": [],
   "source": [
    "from sklearn.preprocessing import LabelEncoder\n",
    "le = LabelEncoder()\n",
    "X = MC2Mean.drop('Machine Result', axis=1)\n",
    "y = le.fit_transform(MC2Mean['Machine Result'])"
   ]
  },
  {
   "cell_type": "code",
   "execution_count": 116,
   "id": "9d62d4e7",
   "metadata": {},
   "outputs": [],
   "source": [
    "#train test split\n",
    "from sklearn.model_selection import train_test_split\n",
    "Xtrain, Xtest, ytrain, ytest = train_test_split(X, y,random_state=1)\n",
    "\n",
    "#normalizing\n",
    "from sklearn.preprocessing import MinMaxScaler\n",
    "scaler = MinMaxScaler()\n",
    "Xtrain = scaler.fit_transform(Xtrain)\n",
    "Xtest = scaler.transform(Xtest)\n"
   ]
  },
  {
   "cell_type": "markdown",
   "id": "e4f4cdb4",
   "metadata": {},
   "source": [
    "## KNN MC2Mean"
   ]
  },
  {
   "cell_type": "code",
   "execution_count": 88,
   "id": "760ee931",
   "metadata": {
    "scrolled": true
   },
   "outputs": [
    {
     "name": "stdout",
     "output_type": "stream",
     "text": [
      "Before tuning KNN\n",
      "Mean squared error: 0.019965532648241528\n",
      "Accuracy score: 0.9800344673517585\n",
      "Precision score:  0.9819562527967151\n",
      "Recall score:  0.9974199240682317\n",
      "F1 score:  0.9896276842677703\n",
      "              precision    recall  f1-score   support\n",
      "\n",
      "           0       0.92      0.61      0.73      3531\n",
      "           1       0.98      1.00      0.99     74804\n",
      "\n",
      "    accuracy                           0.98     78335\n",
      "   macro avg       0.95      0.80      0.86     78335\n",
      "weighted avg       0.98      0.98      0.98     78335\n",
      "\n"
     ]
    }
   ],
   "source": [
    "from sklearn.neighbors import KNeighborsClassifier\n",
    "from sklearn.metrics import mean_squared_error, precision_score, recall_score, f1_score, accuracy_score, classification_report\n",
    "knn = KNeighborsClassifier()\n",
    "knn.fit(Xtrain, ytrain)\n",
    "\n",
    "ypred = knn.predict(Xtest)\n",
    "print(\"Before tuning KNN\")\n",
    "print(\"Mean squared error:\", mean_squared_error(ytest, ypred))\n",
    "print(\"Accuracy score:\", accuracy_score(ytest, ypred))\n",
    "print(\"Precision score: \", precision_score(ytest, ypred))\n",
    "print(\"Recall score: \", recall_score(ytest, ypred)) #balance between precision and recall\n",
    "print(\"F1 score: \", f1_score(ytest, ypred))\n",
    "\n",
    "print(classification_report(ytest, ypred))"
   ]
  },
  {
   "cell_type": "code",
   "execution_count": 117,
   "id": "aac0b094",
   "metadata": {},
   "outputs": [
    {
     "name": "stdout",
     "output_type": "stream",
     "text": [
      "After tuning KNN\n",
      "Mean squared error: 0.04401608476415395\n",
      "Accuracy score: 0.955983915235846\n",
      "Precision score:  0.9620066300631928\n",
      "Recall score:  0.9931287096946687\n",
      "F1 score:  0.9773199673744309\n",
      "              precision    recall  f1-score   support\n",
      "\n",
      "           0       0.54      0.17      0.26      3531\n",
      "           1       0.96      0.99      0.98     74804\n",
      "\n",
      "    accuracy                           0.96     78335\n",
      "   macro avg       0.75      0.58      0.62     78335\n",
      "weighted avg       0.94      0.96      0.94     78335\n",
      "\n"
     ]
    }
   ],
   "source": [
    "from sklearn.neighbors import KNeighborsClassifier\n",
    "from sklearn.metrics import mean_squared_error, precision_score, recall_score, f1_score, accuracy_score, classification_report\n",
    "knn = KNeighborsClassifier(n_neighbors=10, weights='distance')\n",
    "knn.fit(Xtrain, ytrain)\n",
    "\n",
    "ypred = knn.predict(Xtest)\n",
    "print(\"After tuning KNN\")\n",
    "KNNmse=mean_squared_error(ytest, ypred)\n",
    "print(\"Mean squared error:\", KNNmse)\n",
    "KNNacc=accuracy_score(ytest, ypred)\n",
    "print(\"Accuracy score:\", KNNacc)\n",
    "KNNpre=precision_score(ytest, ypred)\n",
    "print(\"Precision score: \", KNNpre)\n",
    "KNNrec=recall_score(ytest, ypred)\n",
    "print(\"Recall score: \", KNNrec) #balance between precision and recall\n",
    "KNNF1=f1_score(ytest, ypred)\n",
    "print(\"F1 score: \", KNNF1)\n",
    "\n",
    "print(classification_report(ytest, ypred))"
   ]
  },
  {
   "cell_type": "markdown",
   "id": "d5bc3b67",
   "metadata": {},
   "source": [
    "## GaussianNB MC2Mean"
   ]
  },
  {
   "cell_type": "code",
   "execution_count": 90,
   "id": "d0bba303",
   "metadata": {},
   "outputs": [
    {
     "name": "stdout",
     "output_type": "stream",
     "text": [
      "Before tuning GaussianNB\n",
      "Mean squared error: 0.14149486181145082\n",
      "Accuracy score: 0.8585051381885492\n",
      "Precision score:  0.9829467939972715\n",
      "Recall score:  0.8668654082669376\n",
      "F1 score:  0.9212638697486752\n",
      "              precision    recall  f1-score   support\n",
      "\n",
      "           0       0.19      0.68      0.30      3531\n",
      "           1       0.98      0.87      0.92     74804\n",
      "\n",
      "    accuracy                           0.86     78335\n",
      "   macro avg       0.59      0.77      0.61     78335\n",
      "weighted avg       0.95      0.86      0.89     78335\n",
      "\n"
     ]
    }
   ],
   "source": [
    "from sklearn.naive_bayes import GaussianNB \n",
    "from sklearn.metrics import mean_squared_error, precision_score, recall_score, f1_score, accuracy_score, classification_report\n",
    "\n",
    "gnb = GaussianNB()\n",
    "gnb.fit(Xtrain, ytrain)\n",
    "\n",
    "ypred = gnb.predict(Xtest)\n",
    "print(\"Before tuning GaussianNB\")\n",
    "print(\"Mean squared error:\", mean_squared_error(ytest, ypred))\n",
    "print(\"Accuracy score:\", accuracy_score(ytest, ypred))\n",
    "print(\"Precision score: \", precision_score(ytest, ypred))\n",
    "print(\"Recall score: \", recall_score(ytest, ypred)) #balance between precision and recall\n",
    "print(\"F1 score: \", f1_score(ytest, ypred))\n",
    "\n",
    "print(classification_report(ytest, ypred))"
   ]
  },
  {
   "cell_type": "code",
   "execution_count": 118,
   "id": "6359422b",
   "metadata": {},
   "outputs": [
    {
     "name": "stdout",
     "output_type": "stream",
     "text": [
      "After tuning GaussianNB\n",
      "Mean squared error: 0.0450756366885811\n",
      "Accuracy score: 0.9549243633114189\n",
      "Precision score:  0.9549243633114189\n",
      "Recall score:  1.0\n",
      "F1 score:  0.976942516276063\n",
      "              precision    recall  f1-score   support\n",
      "\n",
      "           0       0.00      0.00      0.00      3531\n",
      "           1       0.95      1.00      0.98     74804\n",
      "\n",
      "    accuracy                           0.95     78335\n",
      "   macro avg       0.48      0.50      0.49     78335\n",
      "weighted avg       0.91      0.95      0.93     78335\n",
      "\n"
     ]
    },
    {
     "name": "stderr",
     "output_type": "stream",
     "text": [
      "C:\\Users\\Nathan Ting\\anaconda3\\lib\\site-packages\\sklearn\\metrics\\_classification.py:1245: UndefinedMetricWarning: Precision and F-score are ill-defined and being set to 0.0 in labels with no predicted samples. Use `zero_division` parameter to control this behavior.\n",
      "  _warn_prf(average, modifier, msg_start, len(result))\n",
      "C:\\Users\\Nathan Ting\\anaconda3\\lib\\site-packages\\sklearn\\metrics\\_classification.py:1245: UndefinedMetricWarning: Precision and F-score are ill-defined and being set to 0.0 in labels with no predicted samples. Use `zero_division` parameter to control this behavior.\n",
      "  _warn_prf(average, modifier, msg_start, len(result))\n",
      "C:\\Users\\Nathan Ting\\anaconda3\\lib\\site-packages\\sklearn\\metrics\\_classification.py:1245: UndefinedMetricWarning: Precision and F-score are ill-defined and being set to 0.0 in labels with no predicted samples. Use `zero_division` parameter to control this behavior.\n",
      "  _warn_prf(average, modifier, msg_start, len(result))\n"
     ]
    }
   ],
   "source": [
    "from sklearn.naive_bayes import GaussianNB \n",
    "from sklearn.metrics import mean_squared_error, precision_score, recall_score, f1_score, accuracy_score, classification_report\n",
    "\n",
    "gnb = GaussianNB(var_smoothing=1.0)\n",
    "gnb.fit(Xtrain, ytrain)\n",
    "\n",
    "ypred = gnb.predict(Xtest)\n",
    "print(\"After tuning GaussianNB\")\n",
    "GNBmse=mean_squared_error(ytest, ypred)\n",
    "print(\"Mean squared error:\", GNBmse )\n",
    "GNBacc=accuracy_score(ytest, ypred)\n",
    "print(\"Accuracy score:\", GNBacc)\n",
    "GNBpre=precision_score(ytest, ypred)\n",
    "print(\"Precision score: \", GNBpre )\n",
    "GNBrec=recall_score(ytest, ypred)\n",
    "print(\"Recall score: \", GNBrec) #balance between precision and recall\n",
    "GNBF1=f1_score(ytest, ypred)\n",
    "print(\"F1 score: \", GNBF1)\n",
    "\n",
    "print(classification_report(ytest, ypred))"
   ]
  },
  {
   "cell_type": "markdown",
   "id": "58369596",
   "metadata": {},
   "source": [
    "## RandomForestClassifier MC2Mean"
   ]
  },
  {
   "cell_type": "code",
   "execution_count": 92,
   "id": "06575954",
   "metadata": {},
   "outputs": [
    {
     "name": "stdout",
     "output_type": "stream",
     "text": [
      "Before tuning RandomForestClassifier\n",
      "Mean squared error: 0.01941660815727325\n",
      "Accuracy score: 0.9805833918427268\n",
      "Precision score:  0.9822201750345463\n",
      "Recall score:  0.9977273942569916\n",
      "F1 score:  0.9899130573185047\n",
      "              precision    recall  f1-score   support\n",
      "\n",
      "           0       0.93      0.62      0.74      3531\n",
      "           1       0.98      1.00      0.99     74804\n",
      "\n",
      "    accuracy                           0.98     78335\n",
      "   macro avg       0.95      0.81      0.87     78335\n",
      "weighted avg       0.98      0.98      0.98     78335\n",
      "\n"
     ]
    }
   ],
   "source": [
    "from sklearn.ensemble import RandomForestClassifier\n",
    "from sklearn.metrics import mean_squared_error, precision_score, recall_score, f1_score, accuracy_score, classification_report\n",
    "\n",
    "\n",
    "rfc=RandomForestClassifier()\n",
    "rfc.fit(Xtrain, ytrain)\n",
    "\n",
    "\n",
    "ypred = rfc.predict(Xtest)\n",
    "print(\"Before tuning RandomForestClassifier\")\n",
    "print(\"Mean squared error:\", mean_squared_error(ytest, ypred))\n",
    "print(\"Accuracy score:\", accuracy_score(ytest, ypred))\n",
    "print(\"Precision score: \", precision_score(ytest, ypred))\n",
    "print(\"Recall score: \", recall_score(ytest, ypred)) #balance between precision and recall\n",
    "print(\"F1 score: \", f1_score(ytest, ypred))\n",
    "\n",
    "print(classification_report(ytest, ypred))"
   ]
  },
  {
   "cell_type": "code",
   "execution_count": 119,
   "id": "05c51c1d",
   "metadata": {},
   "outputs": [
    {
     "name": "stdout",
     "output_type": "stream",
     "text": [
      "After tuning RandomForestClassifier\n",
      "Mean squared error: 0.04308418969809153\n",
      "Accuracy score: 0.9569158103019084\n",
      "Precision score:  0.9615886678815607\n",
      "Recall score:  0.9946125875621624\n",
      "F1 score:  0.9778218784704652\n",
      "              precision    recall  f1-score   support\n",
      "\n",
      "           0       0.58      0.16      0.25      3531\n",
      "           1       0.96      0.99      0.98     74804\n",
      "\n",
      "    accuracy                           0.96     78335\n",
      "   macro avg       0.77      0.58      0.61     78335\n",
      "weighted avg       0.94      0.96      0.94     78335\n",
      "\n"
     ]
    }
   ],
   "source": [
    "from sklearn.ensemble import RandomForestClassifier\n",
    "from sklearn.metrics import mean_squared_error, precision_score, recall_score, f1_score, accuracy_score, classification_report\n",
    "\n",
    "\n",
    "rfc=RandomForestClassifier(n_estimators=67)\n",
    "rfc.fit(Xtrain, ytrain)\n",
    "\n",
    "\n",
    "ypred = rfc.predict(Xtest)\n",
    "print(\"After tuning RandomForestClassifier\")\n",
    "RFCmse=mean_squared_error(ytest, ypred)\n",
    "print(\"Mean squared error:\", RFCmse)\n",
    "RFCacc=accuracy_score(ytest, ypred)\n",
    "print(\"Accuracy score:\", RFCacc)\n",
    "RFCpre=precision_score(ytest, ypred)\n",
    "print(\"Precision score: \", RFCpre)\n",
    "RFCrec=recall_score(ytest, ypred)\n",
    "print(\"Recall score: \", RFCrec) #balance between precision and recall\n",
    "RFCF1=f1_score(ytest, ypred)\n",
    "print(\"F1 score: \", RFCF1)\n",
    "\n",
    "print(classification_report(ytest, ypred))"
   ]
  },
  {
   "cell_type": "markdown",
   "id": "8099afc9",
   "metadata": {},
   "source": [
    "## Comparing Model Results"
   ]
  },
  {
   "cell_type": "code",
   "execution_count": 121,
   "id": "406b61d9",
   "metadata": {},
   "outputs": [
    {
     "data": {
      "text/html": [
       "<style  type=\"text/css\" >\n",
       "</style><table id=\"T_b17ba_\" ><caption>MC2Mean</caption><thead>    <tr>        <th class=\"blank level0\" ></th>        <th class=\"col_heading level0 col0\" >KNN</th>        <th class=\"col_heading level0 col1\" >GNB</th>        <th class=\"col_heading level0 col2\" >RFC</th>    </tr></thead><tbody>\n",
       "                <tr>\n",
       "                        <th id=\"T_b17ba_level0_row0\" class=\"row_heading level0 row0\" >Accuracy</th>\n",
       "                        <td id=\"T_b17ba_row0_col0\" class=\"data row0 col0\" >0.955984</td>\n",
       "                        <td id=\"T_b17ba_row0_col1\" class=\"data row0 col1\" >0.954924</td>\n",
       "                        <td id=\"T_b17ba_row0_col2\" class=\"data row0 col2\" >0.956916</td>\n",
       "            </tr>\n",
       "            <tr>\n",
       "                        <th id=\"T_b17ba_level0_row1\" class=\"row_heading level0 row1\" >Mean-squared Error</th>\n",
       "                        <td id=\"T_b17ba_row1_col0\" class=\"data row1 col0\" >0.044016</td>\n",
       "                        <td id=\"T_b17ba_row1_col1\" class=\"data row1 col1\" >0.045076</td>\n",
       "                        <td id=\"T_b17ba_row1_col2\" class=\"data row1 col2\" >0.043084</td>\n",
       "            </tr>\n",
       "            <tr>\n",
       "                        <th id=\"T_b17ba_level0_row2\" class=\"row_heading level0 row2\" >Precision</th>\n",
       "                        <td id=\"T_b17ba_row2_col0\" class=\"data row2 col0\" >0.962007</td>\n",
       "                        <td id=\"T_b17ba_row2_col1\" class=\"data row2 col1\" >0.954924</td>\n",
       "                        <td id=\"T_b17ba_row2_col2\" class=\"data row2 col2\" >0.961589</td>\n",
       "            </tr>\n",
       "            <tr>\n",
       "                        <th id=\"T_b17ba_level0_row3\" class=\"row_heading level0 row3\" >Recall</th>\n",
       "                        <td id=\"T_b17ba_row3_col0\" class=\"data row3 col0\" >0.993129</td>\n",
       "                        <td id=\"T_b17ba_row3_col1\" class=\"data row3 col1\" >1.000000</td>\n",
       "                        <td id=\"T_b17ba_row3_col2\" class=\"data row3 col2\" >0.994613</td>\n",
       "            </tr>\n",
       "            <tr>\n",
       "                        <th id=\"T_b17ba_level0_row4\" class=\"row_heading level0 row4\" >F1</th>\n",
       "                        <td id=\"T_b17ba_row4_col0\" class=\"data row4 col0\" >0.977320</td>\n",
       "                        <td id=\"T_b17ba_row4_col1\" class=\"data row4 col1\" >0.976943</td>\n",
       "                        <td id=\"T_b17ba_row4_col2\" class=\"data row4 col2\" >0.977822</td>\n",
       "            </tr>\n",
       "    </tbody></table>"
      ],
      "text/plain": [
       "<pandas.io.formats.style.Styler at 0x1ed8be0b490>"
      ]
     },
     "execution_count": 121,
     "metadata": {},
     "output_type": "execute_result"
    }
   ],
   "source": [
    "bestmodel = pd.DataFrame({'KNN' : (KNNacc, KNNmse, KNNpre, KNNrec, KNNF1),\n",
    "                          'GNB' : (GNBacc, GNBmse, GNBpre, GNBrec, GNBF1),\n",
    "                          'RFC' : (RFCacc, RFCmse, RFCpre, RFCrec, RFCF1)\n",
    "                          }, index=['Accuracy', 'Mean-squared Error', 'Precision', 'Recall', 'F1'])\n",
    "bestmodel = bestmodel.style.set_caption('MC2Mean')\n",
    "bestmodel\n"
   ]
  },
  {
   "cell_type": "markdown",
   "id": "86b4d623",
   "metadata": {},
   "source": [
    "## Splitting and Normalizing MC2Median"
   ]
  },
  {
   "cell_type": "code",
   "execution_count": 123,
   "id": "b278bde5",
   "metadata": {},
   "outputs": [],
   "source": [
    "from sklearn.preprocessing import LabelEncoder\n",
    "le = LabelEncoder()\n",
    "X = MC2Median.drop('Machine Result', axis=1)\n",
    "y = le.fit_transform(MC2Median['Machine Result'])"
   ]
  },
  {
   "cell_type": "code",
   "execution_count": 124,
   "id": "d6611c01",
   "metadata": {},
   "outputs": [],
   "source": [
    "#train test split\n",
    "from sklearn.model_selection import train_test_split\n",
    "Xtrain, Xtest, ytrain, ytest = train_test_split(X, y,random_state=1)\n",
    "\n",
    "#normalizing\n",
    "from sklearn.preprocessing import MinMaxScaler\n",
    "scaler = MinMaxScaler()\n",
    "Xtrain = scaler.fit_transform(Xtrain)\n",
    "Xtest = scaler.transform(Xtest)"
   ]
  },
  {
   "cell_type": "markdown",
   "id": "9aa76d55",
   "metadata": {},
   "source": [
    "## KNN MC2Median"
   ]
  },
  {
   "cell_type": "code",
   "execution_count": 125,
   "id": "af2fcf48",
   "metadata": {},
   "outputs": [
    {
     "name": "stdout",
     "output_type": "stream",
     "text": [
      "Before tuning KNN\n",
      "Mean squared error: 0.0\n",
      "Accuracy score: 1.0\n",
      "Precision score:  0.0\n",
      "Recall score:  0.0\n",
      "F1 score:  0.0\n",
      "              precision    recall  f1-score   support\n",
      "\n",
      "           0       1.00      1.00      1.00     78335\n",
      "\n",
      "    accuracy                           1.00     78335\n",
      "   macro avg       1.00      1.00      1.00     78335\n",
      "weighted avg       1.00      1.00      1.00     78335\n",
      "\n"
     ]
    },
    {
     "name": "stderr",
     "output_type": "stream",
     "text": [
      "C:\\Users\\Nathan Ting\\anaconda3\\lib\\site-packages\\sklearn\\metrics\\_classification.py:1245: UndefinedMetricWarning: Precision is ill-defined and being set to 0.0 due to no predicted samples. Use `zero_division` parameter to control this behavior.\n",
      "  _warn_prf(average, modifier, msg_start, len(result))\n",
      "C:\\Users\\Nathan Ting\\anaconda3\\lib\\site-packages\\sklearn\\metrics\\_classification.py:1245: UndefinedMetricWarning: Recall is ill-defined and being set to 0.0 due to no true samples. Use `zero_division` parameter to control this behavior.\n",
      "  _warn_prf(average, modifier, msg_start, len(result))\n",
      "C:\\Users\\Nathan Ting\\anaconda3\\lib\\site-packages\\sklearn\\metrics\\_classification.py:1492: UndefinedMetricWarning: F-score is ill-defined and being set to 0.0 due to no true nor predicted samples. Use `zero_division` parameter to control this behavior.\n",
      "  _warn_prf(\n"
     ]
    }
   ],
   "source": [
    "from sklearn.neighbors import KNeighborsClassifier\n",
    "from sklearn.metrics import mean_squared_error, precision_score, recall_score, f1_score, accuracy_score, classification_report\n",
    "knn = KNeighborsClassifier()\n",
    "knn.fit(Xtrain, ytrain)\n",
    "\n",
    "ypred = knn.predict(Xtest)\n",
    "print(\"Before tuning KNN\")\n",
    "print(\"Mean squared error:\", mean_squared_error(ytest, ypred))\n",
    "print(\"Accuracy score:\", accuracy_score(ytest, ypred))\n",
    "print(\"Precision score: \", precision_score(ytest, ypred))\n",
    "print(\"Recall score: \", recall_score(ytest, ypred)) #balance between precision and recall\n",
    "print(\"F1 score: \", f1_score(ytest, ypred))\n",
    "\n",
    "print(classification_report(ytest, ypred))"
   ]
  },
  {
   "cell_type": "code",
   "execution_count": 126,
   "id": "28f559ef",
   "metadata": {},
   "outputs": [
    {
     "name": "stdout",
     "output_type": "stream",
     "text": [
      "After tuning KNN\n",
      "Mean squared error: 0.0\n",
      "Accuracy score: 1.0\n",
      "Precision score:  0.0\n",
      "Recall score:  0.0\n",
      "F1 score:  0.0\n",
      "              precision    recall  f1-score   support\n",
      "\n",
      "           0       1.00      1.00      1.00     78335\n",
      "\n",
      "    accuracy                           1.00     78335\n",
      "   macro avg       1.00      1.00      1.00     78335\n",
      "weighted avg       1.00      1.00      1.00     78335\n",
      "\n"
     ]
    },
    {
     "name": "stderr",
     "output_type": "stream",
     "text": [
      "C:\\Users\\Nathan Ting\\anaconda3\\lib\\site-packages\\sklearn\\metrics\\_classification.py:1245: UndefinedMetricWarning: Precision is ill-defined and being set to 0.0 due to no predicted samples. Use `zero_division` parameter to control this behavior.\n",
      "  _warn_prf(average, modifier, msg_start, len(result))\n",
      "C:\\Users\\Nathan Ting\\anaconda3\\lib\\site-packages\\sklearn\\metrics\\_classification.py:1245: UndefinedMetricWarning: Recall is ill-defined and being set to 0.0 due to no true samples. Use `zero_division` parameter to control this behavior.\n",
      "  _warn_prf(average, modifier, msg_start, len(result))\n",
      "C:\\Users\\Nathan Ting\\anaconda3\\lib\\site-packages\\sklearn\\metrics\\_classification.py:1492: UndefinedMetricWarning: F-score is ill-defined and being set to 0.0 due to no true nor predicted samples. Use `zero_division` parameter to control this behavior.\n",
      "  _warn_prf(\n"
     ]
    }
   ],
   "source": [
    "from sklearn.neighbors import KNeighborsClassifier\n",
    "from sklearn.metrics import mean_squared_error, precision_score, recall_score, f1_score, accuracy_score, classification_report\n",
    "knn = KNeighborsClassifier(n_neighbors=1)\n",
    "knn.fit(Xtrain, ytrain)\n",
    "\n",
    "ypred = knn.predict(Xtest)\n",
    "print(\"After tuning KNN\")\n",
    "print(\"Mean squared error:\", mean_squared_error(ytest, ypred))\n",
    "print(\"Accuracy score:\", accuracy_score(ytest, ypred))\n",
    "print(\"Precision score: \", precision_score(ytest, ypred))\n",
    "print(\"Recall score: \", recall_score(ytest, ypred)) #balance between precision and recall\n",
    "print(\"F1 score: \", f1_score(ytest, ypred))\n",
    "\n",
    "print(classification_report(ytest, ypred))"
   ]
  },
  {
   "cell_type": "markdown",
   "id": "96d9b509",
   "metadata": {},
   "source": [
    "## GaussianNB MC2Median"
   ]
  },
  {
   "cell_type": "code",
   "execution_count": 127,
   "id": "8e086544",
   "metadata": {},
   "outputs": [
    {
     "name": "stdout",
     "output_type": "stream",
     "text": [
      "Before tuning GaussianNB\n",
      "Mean squared error: 0.0\n",
      "Accuracy score: 1.0\n",
      "Precision score:  0.0\n"
     ]
    },
    {
     "name": "stderr",
     "output_type": "stream",
     "text": [
      "C:\\Users\\Nathan Ting\\anaconda3\\lib\\site-packages\\sklearn\\metrics\\_classification.py:1245: UndefinedMetricWarning: Precision is ill-defined and being set to 0.0 due to no predicted samples. Use `zero_division` parameter to control this behavior.\n",
      "  _warn_prf(average, modifier, msg_start, len(result))\n",
      "C:\\Users\\Nathan Ting\\anaconda3\\lib\\site-packages\\sklearn\\metrics\\_classification.py:1245: UndefinedMetricWarning: Recall is ill-defined and being set to 0.0 due to no true samples. Use `zero_division` parameter to control this behavior.\n",
      "  _warn_prf(average, modifier, msg_start, len(result))\n"
     ]
    },
    {
     "name": "stdout",
     "output_type": "stream",
     "text": [
      "Recall score:  0.0\n",
      "F1 score:  0.0\n",
      "              precision    recall  f1-score   support\n",
      "\n",
      "           0       1.00      1.00      1.00     78335\n",
      "\n",
      "    accuracy                           1.00     78335\n",
      "   macro avg       1.00      1.00      1.00     78335\n",
      "weighted avg       1.00      1.00      1.00     78335\n",
      "\n"
     ]
    },
    {
     "name": "stderr",
     "output_type": "stream",
     "text": [
      "C:\\Users\\Nathan Ting\\anaconda3\\lib\\site-packages\\sklearn\\metrics\\_classification.py:1492: UndefinedMetricWarning: F-score is ill-defined and being set to 0.0 due to no true nor predicted samples. Use `zero_division` parameter to control this behavior.\n",
      "  _warn_prf(\n"
     ]
    }
   ],
   "source": [
    "from sklearn.naive_bayes import GaussianNB \n",
    "from sklearn.metrics import mean_squared_error, precision_score, recall_score, f1_score, accuracy_score, classification_report\n",
    "\n",
    "gnb = GaussianNB()\n",
    "gnb.fit(Xtrain, ytrain)\n",
    "\n",
    "ypred = gnb.predict(Xtest)\n",
    "print(\"Before tuning GaussianNB\")\n",
    "print(\"Mean squared error:\", mean_squared_error(ytest, ypred))\n",
    "print(\"Accuracy score:\", accuracy_score(ytest, ypred))\n",
    "print(\"Precision score: \", precision_score(ytest, ypred))\n",
    "print(\"Recall score: \", recall_score(ytest, ypred)) #balance between precision and recall\n",
    "print(\"F1 score: \", f1_score(ytest, ypred))\n",
    "\n",
    "print(classification_report(ytest, ypred))"
   ]
  },
  {
   "cell_type": "code",
   "execution_count": 128,
   "id": "a4f0bda1",
   "metadata": {},
   "outputs": [
    {
     "name": "stdout",
     "output_type": "stream",
     "text": [
      "After tuning GaussianNB\n",
      "Mean squared error: 0.0\n",
      "Accuracy score: 1.0\n",
      "Precision score:  0.0\n"
     ]
    },
    {
     "name": "stderr",
     "output_type": "stream",
     "text": [
      "C:\\Users\\Nathan Ting\\anaconda3\\lib\\site-packages\\sklearn\\metrics\\_classification.py:1245: UndefinedMetricWarning: Precision is ill-defined and being set to 0.0 due to no predicted samples. Use `zero_division` parameter to control this behavior.\n",
      "  _warn_prf(average, modifier, msg_start, len(result))\n",
      "C:\\Users\\Nathan Ting\\anaconda3\\lib\\site-packages\\sklearn\\metrics\\_classification.py:1245: UndefinedMetricWarning: Recall is ill-defined and being set to 0.0 due to no true samples. Use `zero_division` parameter to control this behavior.\n",
      "  _warn_prf(average, modifier, msg_start, len(result))\n",
      "C:\\Users\\Nathan Ting\\anaconda3\\lib\\site-packages\\sklearn\\metrics\\_classification.py:1492: UndefinedMetricWarning: F-score is ill-defined and being set to 0.0 due to no true nor predicted samples. Use `zero_division` parameter to control this behavior.\n",
      "  _warn_prf(\n"
     ]
    },
    {
     "name": "stdout",
     "output_type": "stream",
     "text": [
      "Recall score:  0.0\n",
      "F1 score:  0.0\n",
      "              precision    recall  f1-score   support\n",
      "\n",
      "           0       1.00      1.00      1.00     78335\n",
      "\n",
      "    accuracy                           1.00     78335\n",
      "   macro avg       1.00      1.00      1.00     78335\n",
      "weighted avg       1.00      1.00      1.00     78335\n",
      "\n"
     ]
    }
   ],
   "source": [
    "from sklearn.naive_bayes import GaussianNB \n",
    "from sklearn.metrics import mean_squared_error, precision_score, recall_score, f1_score, accuracy_score, classification_report\n",
    "\n",
    "gnb = GaussianNB(var_smoothing=1.0)\n",
    "gnb.fit(Xtrain, ytrain)\n",
    "\n",
    "ypred = gnb.predict(Xtest)\n",
    "print(\"After tuning GaussianNB\")\n",
    "print(\"Mean squared error:\", mean_squared_error(ytest, ypred))\n",
    "print(\"Accuracy score:\", accuracy_score(ytest, ypred))\n",
    "print(\"Precision score: \", precision_score(ytest, ypred))\n",
    "print(\"Recall score: \", recall_score(ytest, ypred)) #balance between precision and recall\n",
    "print(\"F1 score: \", f1_score(ytest, ypred))\n",
    "\n",
    "print(classification_report(ytest, ypred))"
   ]
  },
  {
   "cell_type": "markdown",
   "id": "6d605e6c",
   "metadata": {},
   "source": [
    "## RandomForestClassifier MC2Median"
   ]
  },
  {
   "cell_type": "code",
   "execution_count": 129,
   "id": "a365de40",
   "metadata": {},
   "outputs": [
    {
     "name": "stdout",
     "output_type": "stream",
     "text": [
      "Before tuning RandomForestClassifier\n",
      "Mean squared error: 0.0\n",
      "Accuracy score: 1.0\n",
      "Precision score:  0.0\n",
      "Recall score:  0.0\n",
      "F1 score:  0.0\n",
      "              precision    recall  f1-score   support\n",
      "\n",
      "           0       1.00      1.00      1.00     78335\n",
      "\n",
      "    accuracy                           1.00     78335\n",
      "   macro avg       1.00      1.00      1.00     78335\n",
      "weighted avg       1.00      1.00      1.00     78335\n",
      "\n"
     ]
    },
    {
     "name": "stderr",
     "output_type": "stream",
     "text": [
      "C:\\Users\\Nathan Ting\\anaconda3\\lib\\site-packages\\sklearn\\metrics\\_classification.py:1245: UndefinedMetricWarning: Precision is ill-defined and being set to 0.0 due to no predicted samples. Use `zero_division` parameter to control this behavior.\n",
      "  _warn_prf(average, modifier, msg_start, len(result))\n",
      "C:\\Users\\Nathan Ting\\anaconda3\\lib\\site-packages\\sklearn\\metrics\\_classification.py:1245: UndefinedMetricWarning: Recall is ill-defined and being set to 0.0 due to no true samples. Use `zero_division` parameter to control this behavior.\n",
      "  _warn_prf(average, modifier, msg_start, len(result))\n",
      "C:\\Users\\Nathan Ting\\anaconda3\\lib\\site-packages\\sklearn\\metrics\\_classification.py:1492: UndefinedMetricWarning: F-score is ill-defined and being set to 0.0 due to no true nor predicted samples. Use `zero_division` parameter to control this behavior.\n",
      "  _warn_prf(\n"
     ]
    }
   ],
   "source": [
    "from sklearn.ensemble import RandomForestClassifier\n",
    "from sklearn.metrics import mean_squared_error, precision_score, recall_score, f1_score, accuracy_score, classification_report\n",
    "\n",
    "\n",
    "rfc=RandomForestClassifier()\n",
    "rfc.fit(Xtrain, ytrain)\n",
    "\n",
    "\n",
    "ypred = rfc.predict(Xtest)\n",
    "print(\"Before tuning RandomForestClassifier\")\n",
    "print(\"Mean squared error:\", mean_squared_error(ytest, ypred))\n",
    "print(\"Accuracy score:\", accuracy_score(ytest, ypred))\n",
    "print(\"Precision score: \", precision_score(ytest, ypred))\n",
    "print(\"Recall score: \", recall_score(ytest, ypred)) #balance between precision and recall\n",
    "print(\"F1 score: \", f1_score(ytest, ypred))\n",
    "\n",
    "print(classification_report(ytest, ypred))"
   ]
  },
  {
   "cell_type": "code",
   "execution_count": 130,
   "id": "946f3fe3",
   "metadata": {},
   "outputs": [
    {
     "name": "stdout",
     "output_type": "stream",
     "text": [
      "After tuning RandomForestClassifier\n",
      "Mean squared error: 0.0\n",
      "Accuracy score: 1.0\n",
      "Precision score:  0.0\n",
      "Recall score:  0.0\n"
     ]
    },
    {
     "name": "stderr",
     "output_type": "stream",
     "text": [
      "C:\\Users\\Nathan Ting\\anaconda3\\lib\\site-packages\\sklearn\\metrics\\_classification.py:1245: UndefinedMetricWarning: Precision is ill-defined and being set to 0.0 due to no predicted samples. Use `zero_division` parameter to control this behavior.\n",
      "  _warn_prf(average, modifier, msg_start, len(result))\n",
      "C:\\Users\\Nathan Ting\\anaconda3\\lib\\site-packages\\sklearn\\metrics\\_classification.py:1245: UndefinedMetricWarning: Recall is ill-defined and being set to 0.0 due to no true samples. Use `zero_division` parameter to control this behavior.\n",
      "  _warn_prf(average, modifier, msg_start, len(result))\n",
      "C:\\Users\\Nathan Ting\\anaconda3\\lib\\site-packages\\sklearn\\metrics\\_classification.py:1492: UndefinedMetricWarning: F-score is ill-defined and being set to 0.0 due to no true nor predicted samples. Use `zero_division` parameter to control this behavior.\n",
      "  _warn_prf(\n"
     ]
    },
    {
     "name": "stdout",
     "output_type": "stream",
     "text": [
      "F1 score:  0.0\n",
      "              precision    recall  f1-score   support\n",
      "\n",
      "           0       1.00      1.00      1.00     78335\n",
      "\n",
      "    accuracy                           1.00     78335\n",
      "   macro avg       1.00      1.00      1.00     78335\n",
      "weighted avg       1.00      1.00      1.00     78335\n",
      "\n"
     ]
    }
   ],
   "source": [
    "from sklearn.ensemble import RandomForestClassifier\n",
    "from sklearn.metrics import mean_squared_error, precision_score, recall_score, f1_score, accuracy_score, classification_report\n",
    "\n",
    "\n",
    "rfc=RandomForestClassifier(n_estimators=1)\n",
    "rfc.fit(Xtrain, ytrain)\n",
    "\n",
    "\n",
    "ypred = rfc.predict(Xtest)\n",
    "print(\"After tuning RandomForestClassifier\")\n",
    "print(\"Mean squared error:\", mean_squared_error(ytest, ypred))\n",
    "print(\"Accuracy score:\", accuracy_score(ytest, ypred))\n",
    "print(\"Precision score: \", precision_score(ytest, ypred))\n",
    "print(\"Recall score: \", recall_score(ytest, ypred)) #balance between precision and recall\n",
    "print(\"F1 score: \", f1_score(ytest, ypred))\n",
    "\n",
    "print(classification_report(ytest, ypred))"
   ]
  },
  {
   "cell_type": "markdown",
   "id": "306c9b35",
   "metadata": {},
   "source": [
    "## Splitting and Normalizing MC2Zero"
   ]
  },
  {
   "cell_type": "code",
   "execution_count": 23,
   "id": "807056ca",
   "metadata": {},
   "outputs": [],
   "source": [
    "from sklearn.preprocessing import LabelEncoder\n",
    "le = LabelEncoder()\n",
    "X = MC2Zero.drop('Machine Result', axis=1)\n",
    "y = le.fit_transform(MC2Zero['Machine Result'])"
   ]
  },
  {
   "cell_type": "code",
   "execution_count": 24,
   "id": "69bd6366",
   "metadata": {},
   "outputs": [],
   "source": [
    "#train test split\n",
    "from sklearn.model_selection import train_test_split\n",
    "Xtrain, Xtest, ytrain, ytest = train_test_split(X, y,random_state=1)\n",
    "\n",
    "#normalizing\n",
    "from sklearn.preprocessing import MinMaxScaler\n",
    "scaler = MinMaxScaler()\n",
    "Xtrain = scaler.fit_transform(Xtrain)\n",
    "Xtest = scaler.transform(Xtest)"
   ]
  },
  {
   "cell_type": "markdown",
   "id": "7190884d",
   "metadata": {},
   "source": [
    "## KNN MC2Zero"
   ]
  },
  {
   "cell_type": "code",
   "execution_count": null,
   "id": "a61ddac5",
   "metadata": {},
   "outputs": [],
   "source": [
    "from sklearn.neighbors import KNeighborsClassifier\n",
    "from sklearn.metrics import mean_squared_error, precision_score, recall_score, f1_score, accuracy_score, classification_report\n",
    "knn = KNeighborsClassifier()\n",
    "knn.fit(Xtrain, ytrain)\n",
    "\n",
    "ypred = knn.predict(Xtest)\n",
    "print(\"Before tuning KNN\")\n",
    "print(\"Mean squared error:\", mean_squared_error(ytest, ypred))\n",
    "print(\"Accuracy score:\", accuracy_score(ytest, ypred))\n",
    "print(\"Precision score: \", precision_score(ytest, ypred))\n",
    "print(\"Recall score: \", recall_score(ytest, ypred)) #balance between precision and recall\n",
    "print(\"F1 score: \", f1_score(ytest, ypred))\n",
    "\n",
    "print(classification_report(ytest, ypred))"
   ]
  },
  {
   "cell_type": "code",
   "execution_count": 25,
   "id": "86c9d303",
   "metadata": {},
   "outputs": [
    {
     "name": "stdout",
     "output_type": "stream",
     "text": [
      "After tuning KNN\n",
      "Mean squared error: 0.043786302419097464\n",
      "Accuracy score: 0.9562136975809026\n",
      "Precision score:  0.9621351428349434\n",
      "Recall score:  0.9932356558472809\n",
      "F1 score:  0.9774380698038494\n",
      "              precision    recall  f1-score   support\n",
      "\n",
      "           0       0.55      0.17      0.26      3531\n",
      "           1       0.96      0.99      0.98     74804\n",
      "\n",
      "    accuracy                           0.96     78335\n",
      "   macro avg       0.75      0.58      0.62     78335\n",
      "weighted avg       0.94      0.96      0.95     78335\n",
      "\n"
     ]
    }
   ],
   "source": [
    "from sklearn.neighbors import KNeighborsClassifier\n",
    "from sklearn.metrics import mean_squared_error, precision_score, recall_score, f1_score, accuracy_score, classification_report\n",
    "knn = KNeighborsClassifier(n_neighbors=9, weights='distance')\n",
    "knn.fit(Xtrain, ytrain)\n",
    "\n",
    "ypred = knn.predict(Xtest)\n",
    "print(\"After tuning KNN\")\n",
    "KNNmse=mean_squared_error(ytest, ypred)\n",
    "print(\"Mean squared error:\", KNNmse)\n",
    "KNNacc=accuracy_score(ytest, ypred)\n",
    "print(\"Accuracy score:\", KNNacc)\n",
    "KNNpre=precision_score(ytest, ypred)\n",
    "print(\"Precision score: \", KNNpre)\n",
    "KNNrec=recall_score(ytest, ypred)\n",
    "print(\"Recall score: \", KNNrec) #balance between precision and recall\n",
    "KNNF1=f1_score(ytest, ypred)\n",
    "print(\"F1 score: \", KNNF1)\n",
    "\n",
    "print(classification_report(ytest, ypred))"
   ]
  },
  {
   "cell_type": "markdown",
   "id": "63bc6f11",
   "metadata": {},
   "source": [
    "## GaussianNB MC2Zero"
   ]
  },
  {
   "cell_type": "code",
   "execution_count": null,
   "id": "389911e0",
   "metadata": {},
   "outputs": [],
   "source": [
    "from sklearn.naive_bayes import GaussianNB \n",
    "from sklearn.metrics import mean_squared_error, precision_score, recall_score, f1_score, accuracy_score, classification_report\n",
    "\n",
    "gnb = GaussianNB()\n",
    "gnb.fit(Xtrain, ytrain)\n",
    "\n",
    "ypred = gnb.predict(Xtest)\n",
    "print(\"Before tuning GaussianNB\")\n",
    "print(\"Mean squared error:\", mean_squared_error(ytest, ypred))\n",
    "print(\"Accuracy score:\", accuracy_score(ytest, ypred))\n",
    "print(\"Precision score: \", precision_score(ytest, ypred))\n",
    "print(\"Recall score: \", recall_score(ytest, ypred)) #balance between precision and recall\n",
    "print(\"F1 score: \", f1_score(ytest, ypred))\n",
    "\n",
    "print(classification_report(ytest, ypred))"
   ]
  },
  {
   "cell_type": "code",
   "execution_count": 26,
   "id": "eb797e05",
   "metadata": {},
   "outputs": [
    {
     "name": "stdout",
     "output_type": "stream",
     "text": [
      "After tuning GaussianNB\n",
      "Mean squared error: 0.16486883257803026\n",
      "Accuracy score: 0.8351311674219698\n",
      "Precision score:  0.9854267651811066\n",
      "Recall score:  0.8397679268488316\n",
      "F1 score:  0.9067852271004901\n",
      "              precision    recall  f1-score   support\n",
      "\n",
      "           0       0.18      0.74      0.29      3531\n",
      "           1       0.99      0.84      0.91     74804\n",
      "\n",
      "    accuracy                           0.84     78335\n",
      "   macro avg       0.58      0.79      0.60     78335\n",
      "weighted avg       0.95      0.84      0.88     78335\n",
      "\n"
     ]
    }
   ],
   "source": [
    "from sklearn.naive_bayes import GaussianNB \n",
    "from sklearn.metrics import mean_squared_error, precision_score, recall_score, f1_score, accuracy_score, classification_report\n",
    "\n",
    "gnb = GaussianNB(var_smoothing=0.657933224657568)\n",
    "gnb.fit(Xtrain, ytrain)\n",
    "\n",
    "ypred = gnb.predict(Xtest)\n",
    "print(\"After tuning GaussianNB\")\n",
    "GNBmse=mean_squared_error(ytest, ypred)\n",
    "print(\"Mean squared error:\", GNBmse )\n",
    "GNBacc=accuracy_score(ytest, ypred)\n",
    "print(\"Accuracy score:\", GNBacc)\n",
    "GNBpre=precision_score(ytest, ypred)\n",
    "print(\"Precision score: \", GNBpre )\n",
    "GNBrec=recall_score(ytest, ypred)\n",
    "print(\"Recall score: \", GNBrec) #balance between precision and recall\n",
    "GNBF1=f1_score(ytest, ypred)\n",
    "print(\"F1 score: \", GNBF1)\n",
    "\n",
    "print(classification_report(ytest, ypred))"
   ]
  },
  {
   "cell_type": "markdown",
   "id": "35a15cf7",
   "metadata": {},
   "source": [
    "## RandomForestClassifier MC2Zero"
   ]
  },
  {
   "cell_type": "code",
   "execution_count": null,
   "id": "b1270ee8",
   "metadata": {},
   "outputs": [],
   "source": [
    "from sklearn.ensemble import RandomForestClassifier\n",
    "from sklearn.metrics import mean_squared_error, precision_score, recall_score, f1_score, accuracy_score, classification_report\n",
    "\n",
    "\n",
    "rfc=RandomForestClassifier()\n",
    "rfc.fit(Xtrain, ytrain)\n",
    "\n",
    "\n",
    "ypred = rfc.predict(Xtest)\n",
    "print(\"Before tuning RandomForestClassifier\")\n",
    "print(\"Mean squared error:\", mean_squared_error(ytest, ypred))\n",
    "print(\"Accuracy score:\", accuracy_score(ytest, ypred))\n",
    "print(\"Precision score: \", precision_score(ytest, ypred))\n",
    "print(\"Recall score: \", recall_score(ytest, ypred)) #balance between precision and recall\n",
    "print(\"F1 score: \", f1_score(ytest, ypred))\n",
    "\n",
    "print(classification_report(ytest, ypred))"
   ]
  },
  {
   "cell_type": "code",
   "execution_count": 27,
   "id": "aa862e78",
   "metadata": {},
   "outputs": [
    {
     "name": "stdout",
     "output_type": "stream",
     "text": [
      "After tuning RandomForestClassifier\n",
      "Mean squared error: 0.04302036126890917\n",
      "Accuracy score: 0.9569796387310908\n",
      "Precision score:  0.9614837976122798\n",
      "Recall score:  0.9947997433292337\n",
      "F1 score:  0.9778580814717477\n",
      "              precision    recall  f1-score   support\n",
      "\n",
      "           0       0.59      0.16      0.25      3531\n",
      "           1       0.96      0.99      0.98     74804\n",
      "\n",
      "    accuracy                           0.96     78335\n",
      "   macro avg       0.77      0.58      0.61     78335\n",
      "weighted avg       0.94      0.96      0.94     78335\n",
      "\n"
     ]
    }
   ],
   "source": [
    "from sklearn.ensemble import RandomForestClassifier\n",
    "from sklearn.metrics import mean_squared_error, precision_score, recall_score, f1_score, accuracy_score, classification_report\n",
    "\n",
    "\n",
    "rfc=RandomForestClassifier(n_estimators=51)\n",
    "rfc.fit(Xtrain, ytrain)\n",
    "\n",
    "\n",
    "ypred = rfc.predict(Xtest)\n",
    "print(\"After tuning RandomForestClassifier\")\n",
    "RFCmse=mean_squared_error(ytest, ypred)\n",
    "print(\"Mean squared error:\", RFCmse)\n",
    "RFCacc=accuracy_score(ytest, ypred)\n",
    "print(\"Accuracy score:\", RFCacc)\n",
    "RFCpre=precision_score(ytest, ypred)\n",
    "print(\"Precision score: \", RFCpre)\n",
    "RFCrec=recall_score(ytest, ypred)\n",
    "print(\"Recall score: \", RFCrec) #balance between precision and recall\n",
    "RFCF1=f1_score(ytest, ypred)\n",
    "print(\"F1 score: \", RFCF1)\n",
    "\n",
    "print(classification_report(ytest, ypred))"
   ]
  },
  {
   "cell_type": "markdown",
   "id": "c54140e5",
   "metadata": {},
   "source": [
    "## Comparing Model Results"
   ]
  },
  {
   "cell_type": "code",
   "execution_count": 28,
   "id": "b4e2371b",
   "metadata": {},
   "outputs": [
    {
     "data": {
      "text/html": [
       "<style  type=\"text/css\" >\n",
       "</style><table id=\"T_8dde8_\" ><caption>MC2Zero</caption><thead>    <tr>        <th class=\"blank level0\" ></th>        <th class=\"col_heading level0 col0\" >KNN</th>        <th class=\"col_heading level0 col1\" >GNB</th>        <th class=\"col_heading level0 col2\" >RFC</th>    </tr></thead><tbody>\n",
       "                <tr>\n",
       "                        <th id=\"T_8dde8_level0_row0\" class=\"row_heading level0 row0\" >Accuracy</th>\n",
       "                        <td id=\"T_8dde8_row0_col0\" class=\"data row0 col0\" >0.956214</td>\n",
       "                        <td id=\"T_8dde8_row0_col1\" class=\"data row0 col1\" >0.835131</td>\n",
       "                        <td id=\"T_8dde8_row0_col2\" class=\"data row0 col2\" >0.956980</td>\n",
       "            </tr>\n",
       "            <tr>\n",
       "                        <th id=\"T_8dde8_level0_row1\" class=\"row_heading level0 row1\" >Mean-squared Error</th>\n",
       "                        <td id=\"T_8dde8_row1_col0\" class=\"data row1 col0\" >0.043786</td>\n",
       "                        <td id=\"T_8dde8_row1_col1\" class=\"data row1 col1\" >0.164869</td>\n",
       "                        <td id=\"T_8dde8_row1_col2\" class=\"data row1 col2\" >0.043020</td>\n",
       "            </tr>\n",
       "            <tr>\n",
       "                        <th id=\"T_8dde8_level0_row2\" class=\"row_heading level0 row2\" >Precision</th>\n",
       "                        <td id=\"T_8dde8_row2_col0\" class=\"data row2 col0\" >0.962135</td>\n",
       "                        <td id=\"T_8dde8_row2_col1\" class=\"data row2 col1\" >0.985427</td>\n",
       "                        <td id=\"T_8dde8_row2_col2\" class=\"data row2 col2\" >0.961484</td>\n",
       "            </tr>\n",
       "            <tr>\n",
       "                        <th id=\"T_8dde8_level0_row3\" class=\"row_heading level0 row3\" >Recall</th>\n",
       "                        <td id=\"T_8dde8_row3_col0\" class=\"data row3 col0\" >0.993236</td>\n",
       "                        <td id=\"T_8dde8_row3_col1\" class=\"data row3 col1\" >0.839768</td>\n",
       "                        <td id=\"T_8dde8_row3_col2\" class=\"data row3 col2\" >0.994800</td>\n",
       "            </tr>\n",
       "            <tr>\n",
       "                        <th id=\"T_8dde8_level0_row4\" class=\"row_heading level0 row4\" >F1</th>\n",
       "                        <td id=\"T_8dde8_row4_col0\" class=\"data row4 col0\" >0.977438</td>\n",
       "                        <td id=\"T_8dde8_row4_col1\" class=\"data row4 col1\" >0.906785</td>\n",
       "                        <td id=\"T_8dde8_row4_col2\" class=\"data row4 col2\" >0.977858</td>\n",
       "            </tr>\n",
       "    </tbody></table>"
      ],
      "text/plain": [
       "<pandas.io.formats.style.Styler at 0x1d9e0458d60>"
      ]
     },
     "execution_count": 28,
     "metadata": {},
     "output_type": "execute_result"
    }
   ],
   "source": [
    "bestmodel = pd.DataFrame({'KNN' : (KNNacc, KNNmse, KNNpre, KNNrec, KNNF1),\n",
    "                          'GNB' : (GNBacc, GNBmse, GNBpre, GNBrec, GNBF1),\n",
    "                          'RFC' : (RFCacc, RFCmse, RFCpre, RFCrec, RFCF1)\n",
    "                          }, index=['Accuracy', 'Mean-squared Error', 'Precision', 'Recall', 'F1'])\n",
    "bestmodel = bestmodel.style.set_caption('MC2Zero')\n",
    "bestmodel\n"
   ]
  },
  {
   "cell_type": "markdown",
   "id": "a829efea",
   "metadata": {},
   "source": [
    "## Deployment "
   ]
  },
  {
   "cell_type": "markdown",
   "id": "d7aed06b",
   "metadata": {},
   "source": [
    "## Checking The Model to be Deployed"
   ]
  },
  {
   "cell_type": "code",
   "execution_count": 21,
   "id": "88f48875",
   "metadata": {},
   "outputs": [],
   "source": [
    "from sklearn.preprocessing import LabelEncoder\n",
    "le = LabelEncoder()\n",
    "X = MC1Zero.drop('Machine Result', axis=1)\n",
    "y = le.fit_transform(MC1Zero['Machine Result'])"
   ]
  },
  {
   "cell_type": "code",
   "execution_count": 22,
   "id": "35357569",
   "metadata": {},
   "outputs": [],
   "source": [
    "from sklearn.model_selection import train_test_split\n",
    "Xtrain, Xtest, ytrain, ytest = train_test_split(X, y,random_state=1)\n"
   ]
  },
  {
   "cell_type": "code",
   "execution_count": 23,
   "id": "1c201fa2",
   "metadata": {},
   "outputs": [
    {
     "name": "stdout",
     "output_type": "stream",
     "text": [
      "Tuned RandomForestClassifier\n",
      "Mean squared error: 0.011882506594278983\n",
      "Accuracy score: 0.988117493405721\n",
      "Precision score:  0.9901577633419164\n",
      "Recall score:  0.9976952152668941\n",
      "F1 score:  0.9939121992180324\n",
      "              precision    recall  f1-score   support\n",
      "\n",
      "           0       0.89      0.65      0.75      2169\n",
      "           1       0.99      1.00      0.99     75929\n",
      "\n",
      "    accuracy                           0.99     78098\n",
      "   macro avg       0.94      0.83      0.87     78098\n",
      "weighted avg       0.99      0.99      0.99     78098\n",
      "\n"
     ]
    }
   ],
   "source": [
    "from sklearn.ensemble import RandomForestClassifier\n",
    "from sklearn.metrics import mean_squared_error, precision_score, recall_score, f1_score, accuracy_score, classification_report\n",
    "\n",
    "\n",
    "deployed=RandomForestClassifier(n_estimators=51)\n",
    "deployed.fit(Xtrain, ytrain)\n",
    "\n",
    "\n",
    "ypred = deployed.predict(Xtest)\n",
    "print(\"Tuned RandomForestClassifier\")\n",
    "RFCmse=mean_squared_error(ytest, ypred)\n",
    "print(\"Mean squared error:\", RFCmse)\n",
    "RFCacc=accuracy_score(ytest, ypred)\n",
    "print(\"Accuracy score:\", RFCacc)\n",
    "RFCpre=precision_score(ytest, ypred)\n",
    "print(\"Precision score: \", RFCpre)\n",
    "RFCrec=recall_score(ytest, ypred)\n",
    "print(\"Recall score: \", RFCrec) #balance between precision and recall\n",
    "RFCF1=f1_score(ytest, ypred)\n",
    "print(\"F1 score: \", RFCF1)\n",
    "\n",
    "print(classification_report(ytest, ypred))"
   ]
  },
  {
   "cell_type": "markdown",
   "id": "9da0a571",
   "metadata": {},
   "source": [
    "## Process of Storing, Loading and Using The Model"
   ]
  },
  {
   "cell_type": "code",
   "execution_count": 27,
   "id": "32f18bf4",
   "metadata": {},
   "outputs": [],
   "source": [
    "from sklearn.preprocessing import LabelEncoder\n",
    "le = LabelEncoder()\n",
    "X = MC1Zero.drop('Machine Result', axis=1)\n",
    "y = le.fit_transform(MC1Zero['Machine Result'])\n",
    "\n",
    "from sklearn.model_selection import train_test_split\n",
    "import pickle\n",
    "Xtrain, Xtest, ytrain, ytest = train_test_split(X, y,random_state=1)\n",
    "\n",
    "#best model\n",
    "from sklearn.ensemble import RandomForestClassifier\n",
    "rfc = RandomForestClassifier(n_estimators=51)\n",
    "rfc.fit(Xtrain, ytrain)\n",
    "\n",
    "# save the model to disk\n",
    "filename = '(rfc)deployed_model.sav'\n",
    "pickle.dump(rfc, open(filename, 'wb'))"
   ]
  },
  {
   "cell_type": "code",
   "execution_count": 28,
   "id": "217bc74c",
   "metadata": {},
   "outputs": [],
   "source": [
    "# load the model from disk\n",
    "deployed = pickle.load(open(filename, 'rb'))"
   ]
  },
  {
   "cell_type": "code",
   "execution_count": 29,
   "id": "097716b2",
   "metadata": {},
   "outputs": [],
   "source": [
    "def prediction (P1, P2, P3, P4, P5):\n",
    "    if (P1==''):\n",
    "        P1=0\n",
    "    if (P2==''):\n",
    "        P2=0\n",
    "    if (P3==''):\n",
    "        P3=0\n",
    "    if (P4==''):\n",
    "        P4=0\n",
    "    if (P5==''):\n",
    "        P5=0   \n",
    "        \n",
    "    prediction = deployed.predict([[P1,P2,P3,P4,P5]])\n",
    "    \n",
    "    if (prediction==[0]):\n",
    "        predicted='NG'\n",
    "    else:\n",
    "        predicted='OK'\n",
    "    \n",
    "    return predicted\n",
    "        "
   ]
  },
  {
   "cell_type": "code",
   "execution_count": 30,
   "id": "221ee8f8",
   "metadata": {},
   "outputs": [],
   "source": [
    "def main():\n",
    "    \n",
    "    P1=input(\"Enter value of Point 1(um): \" )\n",
    "    P2=input(\"Enter value of Point 2(um): \" )\n",
    "    P3=input(\"Enter value of Point 3(um): \" )\n",
    "    P4=input(\"Enter value of Point 4(um): \" )\n",
    "    P5=input(\"Enter value of Point 5(um): \" )\n",
    "    \n",
    "    result=prediction(P1,P2,P3,P4,P5)\n",
    "    print(\"Predicted Machine Result: \" , result)\n",
    "    return\n"
   ]
  },
  {
   "cell_type": "code",
   "execution_count": 33,
   "id": "941ca081",
   "metadata": {},
   "outputs": [
    {
     "name": "stdout",
     "output_type": "stream",
     "text": [
      "Enter value of Point 1(um): -1706.9\n",
      "Enter value of Point 2(um): -1605.4\n",
      "Enter value of Point 3(um): -1580.9\n",
      "Enter value of Point 4(um): -1620.8\n",
      "Enter value of Point 5(um): \n",
      "Predicted Machine Result:  NG\n"
     ]
    }
   ],
   "source": [
    "main()"
   ]
  },
  {
   "cell_type": "code",
   "execution_count": null,
   "id": "ecd72cc8",
   "metadata": {},
   "outputs": [],
   "source": []
  }
 ],
 "metadata": {
  "kernelspec": {
   "display_name": "Python 3",
   "language": "python",
   "name": "python3"
  },
  "language_info": {
   "codemirror_mode": {
    "name": "ipython",
    "version": 3
   },
   "file_extension": ".py",
   "mimetype": "text/x-python",
   "name": "python",
   "nbconvert_exporter": "python",
   "pygments_lexer": "ipython3",
   "version": "3.8.8"
  }
 },
 "nbformat": 4,
 "nbformat_minor": 5
}
